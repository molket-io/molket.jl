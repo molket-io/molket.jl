{
 "cells": [
  {
   "cell_type": "markdown",
   "metadata": {},
   "source": [
    "#### Notes, \n",
    "\n",
    "This is to test the library of quantum simulations and to have the tensor multiplication library to execute Jordan Wigner transformation. "
   ]
  },
  {
   "cell_type": "code",
   "execution_count": 2,
   "metadata": {},
   "outputs": [],
   "source": [
    "using Plots\n",
    "using LinearAlgebra\n",
    "using SparseArrays\n",
    "using Printf\n",
    "using TensorOperations\n",
    "using Tensorial "
   ]
  },
  {
   "cell_type": "code",
   "execution_count": 4,
   "metadata": {},
   "outputs": [
    {
     "name": "stdout",
     "output_type": "stream",
     "text": [
      "Load quantum gates constructor\n"
     ]
    },
    {
     "name": "stdout",
     "output_type": "stream",
     "text": [
      "Load quantum gates constructor\n",
      "Load quantum gates constructor\n"
     ]
    }
   ],
   "source": [
    "include(\"quantum_gates.jl\")\n",
    "using ..quantum_gates: Qgate\n",
    "include(\"quantum_circuit.jl\")\n",
    "using ..quantum_circuit: qc_initialize\n",
    "include(\"conventions.jl\")\n",
    "using ..conventions: conventions\n"
   ]
  },
  {
   "cell_type": "code",
   "execution_count": null,
   "metadata": {},
   "outputs": [],
   "source": [
    "include(\"QTensor.jl\")\n",
    "using ..QTensor: Qgate_T2D"
   ]
  },
  {
   "cell_type": "code",
   "execution_count": null,
   "metadata": {},
   "outputs": [],
   "source": [
    "\n",
    "show(stdout, \"text/plain\", Qgate.CCX(3,2,1))"
   ]
  },
  {
   "cell_type": "code",
   "execution_count": null,
   "metadata": {},
   "outputs": [],
   "source": [
    "versioninfo()"
   ]
  },
  {
   "cell_type": "code",
   "execution_count": null,
   "metadata": {},
   "outputs": [],
   "source": [
    "show(stdout, \"text/plain\", one(Tensor{Tuple{3,3}}))"
   ]
  },
  {
   "cell_type": "code",
   "execution_count": null,
   "metadata": {},
   "outputs": [],
   "source": [
    "N = 100\n",
    "A = randn(N,N);\n",
    "B = randn(N,N);\n",
    "As = sparse(A);\n",
    "Bs = sparse(B);"
   ]
  },
  {
   "cell_type": "code",
   "execution_count": null,
   "metadata": {},
   "outputs": [],
   "source": [
    "gate_construct=1\n",
    "@time kron(As, Bs)\n",
    "@time kron(A, B)\n",
    "#kron(gate, gate_construct)"
   ]
  },
  {
   "cell_type": "code",
   "execution_count": null,
   "metadata": {},
   "outputs": [],
   "source": [
    "gate = Qgate.H\n",
    "L = Qgate_T2D(gate, 1, 2)\n"
   ]
  },
  {
   "cell_type": "code",
   "execution_count": null,
   "metadata": {},
   "outputs": [],
   "source": [
    "show(stdout, \"text/plain\", L)"
   ]
  },
  {
   "cell_type": "code",
   "execution_count": null,
   "metadata": {},
   "outputs": [],
   "source": [
    "for i in 0:3\n",
    "    println(i)\n",
    "end"
   ]
  },
  {
   "cell_type": "code",
   "execution_count": 28,
   "metadata": {},
   "outputs": [
    {
     "data": {
      "text/plain": [
       "4×4 Matrix{Float64}:\n",
       " 1.0  0.0   1.0   0.0\n",
       " 0.0  1.0   0.0   1.0\n",
       " 1.0  0.0  -1.0  -0.0\n",
       " 0.0  1.0  -0.0  -1.0"
      ]
     },
     "metadata": {},
     "output_type": "display_data"
    }
   ],
   "source": [
    "gate_construct"
   ]
  },
  {
   "cell_type": "code",
   "execution_count": 22,
   "metadata": {},
   "outputs": [
    {
     "data": {
      "text/plain": [
       "1"
      ]
     },
     "metadata": {},
     "output_type": "display_data"
    }
   ],
   "source": [
    "nqubits_convention"
   ]
  },
  {
   "cell_type": "code",
   "execution_count": 5,
   "metadata": {},
   "outputs": [],
   "source": [
    "gate = Qgate.H\n",
    "gate_construct = 1\n",
    "II = Matrix(I, 2, 2)\n",
    "for i in 0:1\n",
    "if i == 1\n",
    "gate_construct = kron(gate, gate_construct)\n",
    "else\n",
    "gate_construct = kron(II, gate_construct)\n",
    "end\n",
    "end"
   ]
  },
  {
   "cell_type": "code",
   "execution_count": 6,
   "metadata": {},
   "outputs": [
    {
     "data": {
      "text/plain": [
       "4×4 Matrix{Float64}:\n",
       " 1.0  0.0   1.0   0.0\n",
       " 0.0  1.0   0.0   1.0\n",
       " 1.0  0.0  -1.0  -0.0\n",
       " 0.0  1.0  -0.0  -1.0"
      ]
     },
     "metadata": {},
     "output_type": "display_data"
    }
   ],
   "source": [
    "gate_construct"
   ]
  },
  {
   "cell_type": "code",
   "execution_count": 7,
   "metadata": {},
   "outputs": [
    {
     "data": {
      "text/plain": [
       "2×2 Matrix{Float64}:\n",
       " 1.0   1.0\n",
       " 1.0  -1.0"
      ]
     },
     "metadata": {},
     "output_type": "display_data"
    }
   ],
   "source": [
    "gate = Qgate.H\n"
   ]
  },
  {
   "cell_type": "code",
   "execution_count": 35,
   "metadata": {},
   "outputs": [
    {
     "name": "stdout",
     "output_type": "stream",
     "text": [
      "[1.0 0.0 1.0 0.0 0.0 0.0 0.0 0.0; 0.0 1.0 0.0 1.0 0.0 0.0 0.0 0.0; 1.0 0.0 -1.0 -0.0 0.0 0.0 -0.0 -0.0; 0.0 1.0 -0.0 -1.0 0.0 0.0 -0.0 -0.0; 0.0 0.0 0.0 0.0 1.0 0.0 1.0 0.0; 0.0 0.0 0.0 0.0 0.0 1.0 0.0 1.0; 0.0 0.0 -0.0 -0.0 1.0 0.0 -1.0 -0.0; 0.0 0.0 -0.0 -0.0 0.0 1.0 -0.0 -1.0]\n"
     ]
    }
   ],
   "source": [
    "println(Qgate_T2D(gate, 1, 3))"
   ]
  },
  {
   "cell_type": "code",
   "execution_count": 21,
   "metadata": {},
   "outputs": [
    {
     "data": {
      "text/plain": [
       "print_statevector (generic function with 2 methods)"
      ]
     },
     "metadata": {},
     "output_type": "display_data"
    }
   ],
   "source": [
    "\n",
    "# function to print a quantum register and quantum states in latex format \n",
    "function print_statevector(\n",
    "    state_vector::Union{Vector{Float64}, Vector{Int64}, Vector{ComplexF64}},\n",
    "    q_states::Array{Int64,2})\n",
    "    # print a quantum register and quantum states in latex format \n",
    "    # qc::qc_initstruct: quantum register\n",
    "    # return: print a quantum register and quantum states in latex format \n",
    "\n",
    "    # combine statevector and quantum states in one table \n",
    "    # state_vector::Vector{ComplexF64}: statevector of the quantum register\n",
    "    # q_states::Array{Int64,2}: quantum states of the quantum register\n",
    "    # return: print a quantum register and quantum states in latex format\n",
    "    qtab = [q_states convert(Array{Int64}, state_vector)]\n",
    "    println(\"The quantum register and quantum states in latex format are: \")\n",
    "    show(stdout, \"text/plain\", qtab)\n",
    "end # end print_latex"
   ]
  },
  {
   "cell_type": "code",
   "execution_count": 37,
   "metadata": {},
   "outputs": [
    {
     "ename": "ErrorException",
     "evalue": "syntax: \"//\" is not a unary operator",
     "output_type": "error",
     "traceback": [
      "syntax: \"//\" is not a unary operator\n",
      "\n",
      "Stacktrace:\n",
      " [1] top-level scope\n",
      "   @ ~/Documents/TSprime/master_work/MolKet/showcases/molket_pkg/quantum_simulator_tensor_v2.ipynb:1"
     ]
    }
   ],
   "source": [
    "https://lewisla.gitbook.io/learning-quantum/quantum-circuits/multi-qubit-gates"
   ]
  },
  {
   "cell_type": "code",
   "execution_count": 38,
   "metadata": {},
   "outputs": [
    {
     "name": "stdout",
     "output_type": "stream",
     "text": [
      "4×2 Matrix{Float64}:\n",
      " 0.0  0.0\n",
      " 0.0  1.0\n",
      " 1.0  0.0\n",
      " 1.0  1.0                  \n",
      "4-element Vector{Float64}:\n",
      " 0.0\n",
      " 0.0\n",
      " 0.0\n",
      " 0.04×3 Matrix{Float64}:\n",
      " 0.0  0.0  0.0\n",
      " 0.0  0.0  1.0\n",
      " 0.0  1.0  0.0\n",
      " 0.0  1.0  1.0"
     ]
    }
   ],
   "source": [
    "qreg,qtab,nbas,n_dim,q_order = quantum_circuit.init_register(2)\n",
    "show(stdout, \"text/plain\", qtab)\n",
    "println(\"                  \")\n",
    "show(stdout, \"text/plain\", qreg)\n",
    "qtab2 = [state_vector convert(Array{Int64,2}, q_states)]\n",
    "show(stdout, \"text/plain\", qtab2)"
   ]
  },
  {
   "cell_type": "code",
   "execution_count": 9,
   "metadata": {},
   "outputs": [
    {
     "name": "stdout",
     "output_type": "stream",
     "text": [
      "4-element Vector{Int64}:\n",
      " 1\n",
      " 0\n",
      " 0\n",
      " 0"
     ]
    },
    {
     "ename": "UndefVarError",
     "evalue": "UndefVarError: `q0` not defined",
     "output_type": "error",
     "traceback": [
      "UndefVarError: `q0` not defined\n",
      "\n",
      "Stacktrace:\n",
      " [1] top-level scope\n",
      "   @ ~/Documents/TSprime/master_work/MolKet/showcases/molket_pkg/quantum_simulator_tensor_v2.ipynb:15"
     ]
    }
   ],
   "source": [
    "## test\n",
    "# qubits in the quantum register with state |0> or |1>\n",
    "# initialize state |0> \n",
    "q0_0 = [1; 0];\n",
    "q1_0 = [1; 0];\n",
    "\n",
    "# initialize state |1>\n",
    "q0_1 = [0; 1];\n",
    "q1_1 = [0; 1];\n",
    "\n",
    "\n",
    "II = Matrix(I, 2, 2)\n",
    "qq = kron(q0_0, q1_0)\n",
    "show(stdout, \"text/plain\", qq)\n",
    "s1 = q0*q1'\n",
    "show(stdout, \"text/plain\", s1)\n",
    "show(stdout, \"text/plain\", II)\n",
    "\n",
    "s2 = kron(s1, II)\n",
    "show(stdout, \"text/plain\", s2)\n",
    "\n",
    "s3 = q0_1*q1_1' \n",
    "show(stdout, \"text/plain\", s3)\n",
    "s = kron(q0_0*q1_0',II) + kron(q0_1*q1_1',Qgate.X) "
   ]
  },
  {
   "cell_type": "code",
   "execution_count": 17,
   "metadata": {},
   "outputs": [
    {
     "name": "stdout",
     "output_type": "stream",
     "text": [
      "2-element Vector{Int64}:\n",
      " 1\n",
      " 0"
     ]
    }
   ],
   "source": [
    "show(stdout, \"text/plain\", q1)"
   ]
  },
  {
   "cell_type": "code",
   "execution_count": 10,
   "metadata": {},
   "outputs": [
    {
     "data": {
      "text/plain": [
       "2×2 Matrix{Int64}:\n",
       " 0  0\n",
       " 0  1"
      ]
     },
     "metadata": {},
     "output_type": "display_data"
    }
   ],
   "source": [
    "UX = [0 1; 1 0]\n",
    "\n",
    "nqubits = 2\n",
    "qubit_control_1 = 0\n",
    "#qubit_control_2 = 1\n",
    "qubit_target = 1\n",
    "II = Matrix(I, 2, 2) # indentity matrix\n",
    "# initiate the matrix out of the loop\n",
    "\n",
    "# build the density matrix of the quantum register for state |00>\n",
    "q0 = [1; 0]\n",
    "q1 = [1; 0]\n",
    "q1_1 = [0;1]\n",
    "q1_0 = [1;0]\n",
    "rho_00 = q1_0*q1_0'\n",
    "rho_11 = q1_1*q1_1'\n",
    "\n"
   ]
  },
  {
   "cell_type": "code",
   "execution_count": 11,
   "metadata": {},
   "outputs": [
    {
     "ename": "UndefVarError",
     "evalue": "UndefVarError: `U2D` not defined",
     "output_type": "error",
     "traceback": [
      "UndefVarError: `U2D` not defined\n",
      "\n",
      "Stacktrace:\n",
      " [1] top-level scope\n",
      "   @ ~/Documents/TSprime/master_work/MolKet/showcases/molket_pkg/quantum_simulator_tensor_v2.ipynb:3"
     ]
    }
   ],
   "source": [
    "U2D_term = zeros(4,4)\n",
    "U2D_term = kron(rho_00, II)\n",
    "U2D_term = kron(rho_11, U2D)"
   ]
  },
  {
   "cell_type": "code",
   "execution_count": 12,
   "metadata": {},
   "outputs": [],
   "source": [
    "U2D = zeros(4,4)\n",
    "\n",
    "for iq in 0:nqubits-1\n",
    "    U2D_term = zeros(4,4)\n",
    "    if iq == qubit_control_1\n",
    "      U2D_term = kron(rho_00, II)\n",
    "    elseif iq == qubit_target\n",
    "      U2D_term = kron(rho_11, UX)\n",
    "    else\n",
    "      U2D_term = kron(II, II)\n",
    "    end\n",
    "    U2D = U2D + U2D_term\n",
    "  end"
   ]
  },
  {
   "cell_type": "code",
   "execution_count": 13,
   "metadata": {},
   "outputs": [
    {
     "data": {
      "text/plain": [
       "4×4 Matrix{Float64}:\n",
       " 1.0  0.0  0.0  0.0\n",
       " 0.0  1.0  0.0  0.0\n",
       " 0.0  0.0  0.0  1.0\n",
       " 0.0  0.0  1.0  0.0"
      ]
     },
     "metadata": {},
     "output_type": "display_data"
    }
   ],
   "source": [
    "U2D"
   ]
  },
  {
   "cell_type": "code",
   "execution_count": 14,
   "metadata": {},
   "outputs": [],
   "source": [
    "U2D = zeros(4,4)\n",
    "\n",
    "for iq in 0:nqubits-1\n",
    "    U2D_term = zeros(4,4)\n",
    "    if iq == qubit_control_1\n",
    "      U2D_term = kron(II,rho_00)\n",
    "    elseif iq == qubit_target\n",
    "      U2D_term = kron(UX, rho_11 )\n",
    "    else\n",
    "      U2D_term = kron(II, II)\n",
    "    end\n",
    "    U2D = U2D + U2D_term\n",
    "  end"
   ]
  },
  {
   "cell_type": "code",
   "execution_count": 15,
   "metadata": {},
   "outputs": [
    {
     "data": {
      "text/plain": [
       "4×4 Matrix{Float64}:\n",
       " 1.0  0.0  0.0  0.0\n",
       " 0.0  0.0  0.0  1.0\n",
       " 0.0  0.0  1.0  0.0\n",
       " 0.0  1.0  0.0  0.0"
      ]
     },
     "metadata": {},
     "output_type": "display_data"
    }
   ],
   "source": [
    "U2D"
   ]
  },
  {
   "cell_type": "code",
   "execution_count": 17,
   "metadata": {},
   "outputs": [
    {
     "data": {
      "text/plain": [
       "8×8 Matrix{Float64}:\n",
       " 0.0  0.0  0.0  0.0  0.0  0.0  0.0  0.0\n",
       " 0.0  0.0  0.0  0.0  0.0  0.0  0.0  0.0\n",
       " 0.0  0.0  0.0  0.0  0.0  0.0  0.0  0.0\n",
       " 0.0  0.0  0.0  0.0  0.0  0.0  0.0  0.0\n",
       " 0.0  0.0  0.0  0.0  0.0  0.0  0.0  0.0\n",
       " 0.0  0.0  0.0  0.0  0.0  0.0  0.0  0.0\n",
       " 0.0  0.0  0.0  0.0  0.0  0.0  0.0  0.0\n",
       " 0.0  0.0  0.0  0.0  0.0  0.0  0.0  0.0"
      ]
     },
     "metadata": {},
     "output_type": "display_data"
    }
   ],
   "source": [
    "UX = [0 1; 1 0]\n",
    "\n",
    "nqubits = 3\n",
    "qubit_control_1 = 0\n",
    "qubit_control_2 = 1\n",
    "qubit_target = 1\n",
    "II = Matrix(I, 2, 2) # indentity matrix\n",
    "# initiate the matrix out of the loop\n",
    "\n",
    "# build the density matrix of the quantum register for state |00>\n",
    "q0_0 = [1; 0]\n",
    "q0_1 = [0; 1]\n",
    "rho_00 = q0_0*q0_0'\n",
    "rho_11 = q0_1*q0_1'\n",
    "\n",
    "U2D_term = zeros(2^nqubits,2^nqubits)\n"
   ]
  },
  {
   "cell_type": "code",
   "execution_count": null,
   "metadata": {},
   "outputs": [],
   "source": [
    "nqubits = 3\n",
    "qubit_control_0 = 0\n",
    "qubit_control_1 = 1\n",
    "qubit_target = 2\n",
    "II = Matrix(I, 2, 2) # indentity matrix\n",
    "# initiate the matrix out of the loop\n",
    "\n",
    "# build the density matrix of the quantum register for state |00>\n",
    "q0_0 = [1; 0]\n",
    "q0_1 = [0; 1]\n",
    "q1_0 = [1; 0]\n",
    "q1_1 = [0; 1]\n",
    "q2_0 = [1; 0]\n",
    "q2_1 = [0; 1]\n",
    "rho_00 = q0_0*q0_0'\n",
    "rho_11 = q0_1*q0_1'\n",
    "\n",
    "U2D = zeros(8,8)\n",
    "for iq in 0:nqubits-1\n",
    "    U2D_term = zeros(8,8)\n",
    "    if iq == qubit_control_0\n",
    "      # multiply using tensors the rest of qubits \n",
    "      tab = []\n",
    "      \n",
    "      \n",
    "    elseif iq == qubit_control_1\n",
    "        U2D_term = kron(rho_00,II)\n",
    "    elseif iq == qubit_target\n",
    "      U2D_term = kron(UX, rho_11 )\n",
    "    else\n",
    "      U2D_term = kron(II, II)\n",
    "    end\n",
    "    U2D = U2D + U2D_term\n",
    "  end"
   ]
  },
  {
   "cell_type": "code",
   "execution_count": 18,
   "metadata": {},
   "outputs": [
    {
     "data": {
      "text/plain": [
       "8×8 Matrix{Int64}:\n",
       " 1  0  0  0  0  0  0  0\n",
       " 0  1  0  0  0  0  0  0\n",
       " 0  0  1  0  0  0  0  0\n",
       " 0  0  0  1  0  0  0  0\n",
       " 0  0  0  0  0  0  0  0\n",
       " 0  0  0  0  0  0  0  0\n",
       " 0  0  0  0  0  0  0  0\n",
       " 0  0  0  0  0  0  0  0"
      ]
     },
     "metadata": {},
     "output_type": "display_data"
    }
   ],
   "source": [
    "kron(rho_00,II,II)"
   ]
  },
  {
   "cell_type": "code",
   "execution_count": null,
   "metadata": {},
   "outputs": [],
   "source": []
  }
 ],
 "metadata": {
  "kernelspec": {
   "display_name": "Julia 1.9.1",
   "language": "julia",
   "name": "julia-1.9"
  },
  "language_info": {
   "file_extension": ".jl",
   "mimetype": "application/julia",
   "name": "julia",
   "version": "1.9.1"
  },
  "orig_nbformat": 4
 },
 "nbformat": 4,
 "nbformat_minor": 2
}
