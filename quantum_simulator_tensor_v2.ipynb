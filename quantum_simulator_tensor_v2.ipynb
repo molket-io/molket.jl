{
 "cells": [
  {
   "cell_type": "markdown",
   "metadata": {},
   "source": [
    "#### Notes, \n",
    "\n",
    "This is to test the library of quantum simulations and to have the tensor multiplication library to execute Jordan Wigner transformation. "
   ]
  },
  {
   "cell_type": "code",
   "execution_count": 1,
   "metadata": {},
   "outputs": [],
   "source": [
    "using Plots\n",
    "using LinearAlgebra\n",
    "using SparseArrays\n",
    "using Printf"
   ]
  },
  {
   "cell_type": "code",
   "execution_count": 3,
   "metadata": {},
   "outputs": [
    {
     "name": "stdout",
     "output_type": "stream",
     "text": [
      "Load quantum gates constructor\n"
     ]
    },
    {
     "name": "stderr",
     "output_type": "stream",
     "text": [
      "WARNING: replacing module quantum_gates.\n"
     ]
    },
    {
     "data": {
      "text/plain": [
       "Main.quantum_gates"
      ]
     },
     "metadata": {},
     "output_type": "display_data"
    }
   ],
   "source": [
    "include(\"quantum_gates.jl\")"
   ]
  },
  {
   "cell_type": "code",
   "execution_count": 4,
   "metadata": {},
   "outputs": [],
   "source": [
    "using ..quantum_gates: Qgate"
   ]
  },
  {
   "cell_type": "code",
   "execution_count": 5,
   "metadata": {},
   "outputs": [
    {
     "name": "stdout",
     "output_type": "stream",
     "text": [
      "Quantum Simulator v2\n"
     ]
    },
    {
     "name": "stdout",
     "output_type": "stream",
     "text": [
      "8×8 Matrix{Float64}:\n",
      " 1.0  0.0  0.0  0.0  0.0  0.0  0.0  0.0\n",
      " 0.0  1.0  0.0  0.0  0.0  0.0  0.0  0.0\n",
      " 0.0  0.0  1.0  0.0  0.0  0.0  0.0  0.0\n",
      " 0.0  0.0  0.0  1.0  0.0  0.0  0.0  0.0\n",
      " 0.0  0.0  0.0  0.0  1.0  0.0  0.0  0.0\n",
      " 0.0  0.0  0.0  0.0  0.0  0.0  0.0  1.0\n",
      " 0.0  0.0  0.0  0.0  0.0  0.0  1.0  0.0\n",
      " 0.0  0.0  0.0  0.0  0.0  1.0  0.0  0.08×8 Matrix{Float64}:\n",
      " 1.0  0.0  0.0  0.0  0.0  0.0  0.0  0.0\n",
      " 0.0  1.0  0.0  0.0  0.0  0.0  0.0  0.0\n",
      " 0.0  0.0  1.0  0.0  0.0  0.0  0.0  0.0\n",
      " 0.0  0.0  0.0  1.0  0.0  0.0  0.0  0.0\n",
      " 0.0  0.0  0.0  0.0  1.0  0.0  0.0  0.0\n",
      " 0.0  0.0  0.0  0.0  0.0  1.0  0.0  0.0\n",
      " 0.0  0.0  0.0  0.0  0.0  0.0  0.0  1.0\n",
      " 0.0  0.0  0.0  0.0  0.0  0.0  1.0  0.0"
     ]
    }
   ],
   "source": [
    "println(\"Quantum Simulator v2\")\n",
    "#Ctest = Qgate.II\n",
    "show(stdout, \"text/plain\", Qgate.CSWAP)\n",
    "show(stdout, \"text/plain\", Qgate.CCX)\n"
   ]
  },
  {
   "cell_type": "code",
   "execution_count": 6,
   "metadata": {},
   "outputs": [
    {
     "name": "stdout",
     "output_type": "stream",
     "text": [
      "4×4 Matrix{ComplexF64}:\n"
     ]
    },
    {
     "name": "stdout",
     "output_type": "stream",
     "text": [
      " 1.0+0.0im  0.0+0.0im        0.0+0.0im                0.0+0.0im\n",
      " 0.0+0.0im  1.0+0.0im        0.0+0.0im                0.0+0.0im\n",
      " 0.0+0.0im  0.0+0.0im    0.99875+0.0im         -0.0497295-0.00498959im\n",
      " 0.0+0.0im  0.0+0.0im  0.0489829+0.00992933im    0.954143+0.295151im"
     ]
    }
   ],
   "source": [
    "qc = \n",
    "show(stdout, \"text/plain\", Qgate.CU3(0.1,0.2,0.1) )"
   ]
  },
  {
   "cell_type": "code",
   "execution_count": 8,
   "metadata": {},
   "outputs": [
    {
     "data": {
      "text/plain": [
       "2×2 Matrix{Float64}:\n",
       " 0.707107   0.707107\n",
       " 0.707107  -0.707107"
      ]
     },
     "metadata": {},
     "output_type": "display_data"
    }
   ],
   "source": [
    "# test the custom gate \n",
    "qc = Qgate.CG([1 1; 1 -1]/sqrt(2))"
   ]
  },
  {
   "cell_type": "code",
   "execution_count": 9,
   "metadata": {},
   "outputs": [
    {
     "name": "stdout",
     "output_type": "stream",
     "text": [
      "2×2 Matrix{ComplexF64}:\n",
      "   0.99875+0.0im         -0.0477469-0.0147699im\n",
      " 0.0489829+0.00992933im    0.876486+0.478826im"
     ]
    }
   ],
   "source": [
    "show(stdout, \"text/plain\", Qgate.U3(0.1, 0.2, 0.3))"
   ]
  },
  {
   "cell_type": "code",
   "execution_count": 6,
   "metadata": {},
   "outputs": [
    {
     "name": "stdout",
     "output_type": "stream",
     "text": [
      "Load quantum gates constructor\n"
     ]
    },
    {
     "name": "stderr",
     "output_type": "stream",
     "text": [
      "WARNING: replacing module quantum_circuit.\n"
     ]
    }
   ],
   "source": [
    "include(\"quantum_circuit.jl\")\n",
    "using ..quantum_circuit: qc_initialize"
   ]
  },
  {
   "cell_type": "code",
   "execution_count": 8,
   "metadata": {},
   "outputs": [
    {
     "data": {
      "text/plain": [
       "Main.quantum_circuit.qc_initstruct(3, \"big-endian\", 2, 8, [0.0, 0.0, 0.0, 0.0, 0.0, 0.0, 0.0, 0.0], [0.0 0.0 0.0; 0.0 0.0 1.0; … ; 1.0 1.0 0.0; 1.0 1.0 1.0])"
      ]
     },
     "metadata": {},
     "output_type": "display_data"
    }
   ],
   "source": [
    "## test \n",
    "qc = qc_initialize(3,\"big-endian\")\n"
   ]
  },
  {
   "cell_type": "code",
   "execution_count": 12,
   "metadata": {},
   "outputs": [
    {
     "name": "stdout",
     "output_type": "stream",
     "text": [
      "Julia Version 1.9.1\n",
      "Commit 147bdf428cd (2023-06-07 08:27 UTC)\n",
      "Platform Info:\n",
      "  OS: macOS (arm64-apple-darwin22.4.0)\n",
      "  CPU: 8 × Apple M1 Pro\n",
      "  WORD_SIZE: 64\n",
      "  LIBM: libopenlibm\n",
      "  LLVM: libLLVM-14.0.6 (ORCJIT, apple-m1)\n",
      "  Threads: 1 on 6 virtual cores\n",
      "Environment:\n",
      "  JULIA_NUM_THREADS = \n"
     ]
    }
   ],
   "source": [
    "versioninfo()"
   ]
  },
  {
   "cell_type": "code",
   "execution_count": null,
   "metadata": {},
   "outputs": [],
   "source": []
  }
 ],
 "metadata": {
  "kernelspec": {
   "display_name": "Julia 1.9.1",
   "language": "julia",
   "name": "julia-1.9"
  },
  "language_info": {
   "file_extension": ".jl",
   "mimetype": "application/julia",
   "name": "julia",
   "version": "1.9.1"
  },
  "orig_nbformat": 4
 },
 "nbformat": 4,
 "nbformat_minor": 2
}
