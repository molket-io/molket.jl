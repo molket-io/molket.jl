{
 "cells": [
  {
   "cell_type": "markdown",
   "metadata": {},
   "source": [
    "#### Notes, \n",
    "\n",
    "This is to test the library of quantum simulations and to have the tensor multiplication library to execute Jordan Wigner transformation. "
   ]
  },
  {
   "cell_type": "code",
   "execution_count": 1,
   "metadata": {},
   "outputs": [],
   "source": [
    "using Plots\n",
    "using LinearAlgebra\n",
    "using SparseArrays\n",
    "using Printf"
   ]
  },
  {
   "cell_type": "code",
   "execution_count": 12,
   "metadata": {},
   "outputs": [
    {
     "name": "stdout",
     "output_type": "stream",
     "text": [
      "Load quantum gates constructor\n"
     ]
    },
    {
     "name": "stderr",
     "output_type": "stream",
     "text": [
      "WARNING: replacing module quantum_gates.\n"
     ]
    },
    {
     "data": {
      "text/plain": [
       "Main.quantum_gates"
      ]
     },
     "metadata": {},
     "output_type": "display_data"
    }
   ],
   "source": [
    "include(\"quantum_gates.jl\")"
   ]
  },
  {
   "cell_type": "code",
   "execution_count": 13,
   "metadata": {},
   "outputs": [
    {
     "name": "stderr",
     "output_type": "stream",
     "text": [
      "WARNING: ignoring conflicting import of quantum_gates.Qgate into Main\n"
     ]
    }
   ],
   "source": [
    "using ..quantum_gates: Qgate"
   ]
  },
  {
   "cell_type": "code",
   "execution_count": 14,
   "metadata": {},
   "outputs": [
    {
     "name": "stdout",
     "output_type": "stream",
     "text": [
      "8×8 "
     ]
    },
    {
     "name": "stdout",
     "output_type": "stream",
     "text": [
      "Matrix{Int64}:\n",
      " 1  0  0  0  0  0  0  0\n",
      " 0  1  0  0  0  0  0  0\n",
      " 0  0  1  0  0  0  0  0\n",
      " 0  0  0  0  0  0  0  1\n",
      " 0  0  0  0  1  0  0  0\n",
      " 0  0  0  0  0  1  0  0\n",
      " 0  0  0  0  0  0  1  0\n",
      " 0  0  0  1  0  0  0  0"
     ]
    }
   ],
   "source": [
    "\n",
    "show(stdout, \"text/plain\", Qgate.CCX(3,2,1))"
   ]
  },
  {
   "cell_type": "code",
   "execution_count": null,
   "metadata": {},
   "outputs": [],
   "source": [
    "include(\"quantum_circuit.jl\")\n",
    "using ..quantum_circuit: qc_initialize"
   ]
  },
  {
   "cell_type": "code",
   "execution_count": null,
   "metadata": {},
   "outputs": [],
   "source": [
    "norm([1,2,3])"
   ]
  },
  {
   "cell_type": "code",
   "execution_count": null,
   "metadata": {},
   "outputs": [],
   "source": [
    "versioninfo()"
   ]
  },
  {
   "cell_type": "code",
   "execution_count": null,
   "metadata": {},
   "outputs": [],
   "source": [
    "\n",
    "function rotation_gate(theta::Float64,pauli_gate::String)\n",
    "    # rotation_gate(theta, pauli_axis)\n",
    "    # theta::Float64: angle of rotation around the pauli_axis\n",
    "    # pauli_axis::String: pauli axis of rotation\n",
    "    # return: rotation gate\n",
    "    # Define the rotation gate\n",
    "    if pauli_gate == \"x\"\n",
    "        Rx = U_gate(theta,-pi/2,pi/2)\n",
    "        return Rx\n",
    "    elseif pauli_gate == \"y\"\n",
    "        Ry = U_gate(theta,0.0,0.0)\n",
    "        return Ry\n",
    "    elseif pauli_gate == \"z\"\n",
    "        Rz = U_gate(0.0,0.0,theta)\n",
    "        return Rz\n",
    "    else\n",
    "        error(\"The pauli gate is not defined\")\n",
    "    end\n",
    "end # end rotation_gate"
   ]
  },
  {
   "cell_type": "code",
   "execution_count": null,
   "metadata": {},
   "outputs": [],
   "source": [
    "println(rotation_gate(0.1,\"x\"))"
   ]
  },
  {
   "cell_type": "code",
   "execution_count": null,
   "metadata": {},
   "outputs": [],
   "source": [
    "include(\"conventions.jl\")\n",
    "using ..conventions: conventions\n",
    "\n",
    "println(conventions)"
   ]
  }
 ],
 "metadata": {
  "kernelspec": {
   "display_name": "Julia 1.9.1",
   "language": "julia",
   "name": "julia-1.9"
  },
  "language_info": {
   "file_extension": ".jl",
   "mimetype": "application/julia",
   "name": "julia",
   "version": "1.9.1"
  },
  "orig_nbformat": 4
 },
 "nbformat": 4,
 "nbformat_minor": 2
}
