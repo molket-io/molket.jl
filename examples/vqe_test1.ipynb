{
 "cells": [
  {
   "cell_type": "markdown",
   "metadata": {},
   "source": [
    "The following MIT license only applies to the code, and not to the text and images.\n",
    "\n",
    "# MIT License\n",
    "\n",
    "Copyright (c) 2024 Taha Selim, Alain Chancé, MolKet\n",
    "\n",
    "Permission is hereby granted, free of charge, to any person obtaining a copy\n",
    "of this software and associated documentation files (the \"Software\"), to deal\n",
    "in the Software without restriction, including without limitation the rights\n",
    "to use, copy, modify, merge, publish, distribute, sublicense, and/or sell\n",
    "copies of the Software, and to permit persons to whom the Software is\n",
    "furnished to do so, subject to the following conditions:\n",
    "\n",
    "The above copyright notice and this permission notice shall be included in all\n",
    "copies or substantial portions of the Software.\n",
    "\n",
    "THE SOFTWARE IS PROVIDED \"AS IS\", WITHOUT WARRANTY OF ANY KIND, EXPRESS OR\n",
    "IMPLIED, INCLUDING BUT NOT LIMITED TO THE WARRANTIES OF MERCHANTABILITY,\n",
    "FITNESS FOR A PARTICULAR PURPOSE AND NONINFRINGEMENT. IN NO EVENT SHALL THE\n",
    "AUTHORS OR COPYRIGHT HOLDERS BE LIABLE FOR ANY CLAIM, DAMAGES OR OTHER\n",
    "LIABILITY, WHETHER IN AN ACTION OF CONTRACT, TORT OR OTHERWISE, ARISING FROM,\n",
    "OUT OF OR IN CONNECTION WITH THE SOFTWARE OR THE USE OR OTHER DEALINGS IN THE\n",
    "SOFTWARE."
   ]
  },
  {
   "cell_type": "markdown",
   "metadata": {},
   "source": [
    "## A quick example of the use of the MolKet package"
   ]
  },
  {
   "cell_type": "code",
   "execution_count": 1,
   "metadata": {},
   "outputs": [
    {
     "name": "stdout",
     "output_type": "stream",
     "text": [
      "Load quantum gates constructor\n"
     ]
    },
    {
     "name": "stdout",
     "output_type": "stream",
     "text": [
      "Load Tensor module: QTensor.jl\n",
      "Load quantum gates constructor\n",
      "Load quantum_circuit constructor\n"
     ]
    },
    {
     "name": "stdout",
     "output_type": "stream",
     "text": [
      "Load quantum_circuit constructor\n",
      "Load quantum gates constructor\n",
      "Load Tensor module: QTensor.jl\n",
      "Load quantum gates constructor\n"
     ]
    },
    {
     "name": "stdout",
     "output_type": "stream",
     "text": [
      "Load quantum_circuit constructor\n",
      "Load quantum gates constructor\n"
     ]
    },
    {
     "name": "stdout",
     "output_type": "stream",
     "text": [
      "Load Tensor module: QTensor.jl\n",
      "Load quantum gates constructor\n"
     ]
    },
    {
     "name": "stdout",
     "output_type": "stream",
     "text": [
      "Load quantum_circuit constructor\n",
      "Load quantum gates constructor\n",
      "Load Tensor module: QTensor.jl\n",
      "Load quantum gates constructor\n"
     ]
    },
    {
     "name": "stdout",
     "output_type": "stream",
     "text": [
      "Load quantum_circuit constructor\n"
     ]
    }
   ],
   "source": [
    "include(\"../molket.jl\")"
   ]
  },
  {
   "cell_type": "markdown",
   "metadata": {},
   "source": [
    " We can intialize a quantum register with a given number of qubits, also with a specific convention:\n",
    "big-endian or little-endian.\n"
   ]
  },
  {
   "cell_type": "code",
   "execution_count": 2,
   "metadata": {},
   "outputs": [
    {
     "data": {
      "text/plain": [
       "2.0 + 0.0im"
      ]
     },
     "metadata": {},
     "output_type": "display_data"
    }
   ],
   "source": [
    "qc = qc_init(1)\n",
    "psi_0 = qc.state_vector\n",
    "\n",
    "# First, we define ansatz Ry(theta)\n",
    "# At theta = 0, Ry = I  \n",
    "q.Ry(0)\n",
    "\n",
    "# expectation value of H = Z\n",
    "psi = q.Ry(0)*psi_0\n",
    "H_value = psi'*q.Z*psi\n",
    "H_value = 2*H_value"
   ]
  },
  {
   "cell_type": "code",
   "execution_count": 3,
   "metadata": {},
   "outputs": [
    {
     "name": "stdout",
     "output_type": "stream",
     "text": [
      "Expectation value of H = Z is 2.0 + 0.0im\n",
      "Expectation value of H = Z is 2.0 + 0.0im\n",
      "Expectation value H at theta=0 is 3.0 + 0.0im\n",
      "Expectation value of H = Z is -2.0 + 0.0im\n",
      "Expectation value of H2 is -1.7938038903913487e-16 + 0.0im\n",
      "Expectation value H at theta=pi is -1.0 + 0.0im\n"
     ]
    }
   ],
   "source": [
    "# Find the expectation value of the second term at theta = 0\n",
    "psi_00 = q.Ry(0)*psi_0\n",
    "\n",
    "Z_value = psi_00'*q.Z*psi_00\n",
    "Z_value = Z_value*2\n",
    "H1_value = Z_value\n",
    "# print z_value \n",
    "print(\"Expectation value of H = Z is \", Z_value, \"\\n\")\n",
    "psi = q.Ry(-pi/2)*psi_00\n",
    "# the expectation value is all the time taken by Z or in the computational basis\n",
    "H2_value = psi'*q.Z*psi\n",
    "print(\"Expectation value of H = Z is \", H_value, \"\\n\")\n",
    "# the third term \n",
    "I = q.II\n",
    "H3_value = psi_00'*I*psi_00\n",
    "\n",
    "# total value\n",
    "H_value = H1_value + H2_value + H3_value\n",
    "print(\"Expectation value H at theta=0 is \", H_value, \"\\n\")\n",
    "\n",
    "\n",
    "# repeate the same at theta = pi\n",
    "psi = q.Ry(pi)*psi_0\n",
    "H1_value = psi'*q.Z*psi\n",
    "H1_value = 2*H1_value\n",
    "print(\"Expectation value of H = Z is \", H1_value, \"\\n\")\n",
    "psi_2 = q.Ry(-pi/2)*q.Ry(pi)*psi_0\n",
    "H2_value = psi_2'*q.Z*psi_2\n",
    "print(\"Expectation value of H2 is \", H2_value, \"\\n\")\n",
    "H3_value = 1\n",
    "H_value = H1_value + H2_value + H3_value\n",
    "print(\"Expectation value H at theta=pi is \", H_value, \"\\n\")"
   ]
  },
  {
   "cell_type": "markdown",
   "metadata": {},
   "source": [
    "## VQE example\n",
    "Our Hamiltonian is:\n",
    "\n",
    "H = 2\\*Z + X + I\n",
    "\n",
    "So the individual terms are:\n",
    "- H_1 = 2*Z\n",
    "- H_2 = X\n",
    "- H_3 = I\n",
    "\n"
   ]
  },
  {
   "cell_type": "code",
   "execution_count": 4,
   "metadata": {},
   "outputs": [
    {
     "name": "stdout",
     "output_type": "stream",
     "text": [
      "Initial state is "
     ]
    },
    {
     "name": "stdout",
     "output_type": "stream",
     "text": [
      "[1.0 0.0]\n",
      "State after applying the ansatz is ComplexF64[-0.7071067811865475 - 0.0im 0.7071067811865476 - 0.0im]\n"
     ]
    },
    {
     "name": "stdout",
     "output_type": "stream",
     "text": [
      "Expectation value of H1 is -3.5876077807826975e-16 + 0.0im\n",
      "Expectation value of H2 is 1.0 + 0.0im\n",
      "Expectation value of H3 is 1.0 + 0.0im\n"
     ]
    }
   ],
   "source": [
    "# Declare the initial state \n",
    "qc = qc_init(1)\n",
    "psi_0 = qc.state_vector\n",
    "print(\"Initial state is \", psi_0', \"\\n\")\n",
    "\n",
    "# Assume a value of theta = pi/4\n",
    "theta = 1.5 * pi\n",
    "ansatz = q.Ry(theta)\n",
    "\n",
    "psi_1 = ansatz*psi_0\n",
    "#psi_1 = [sqrt(0.3);sqrt(0.7)]\n",
    "print(\"State after applying the ansatz is \", psi_1', \"\\n\")\n",
    "# FIrst term, we have only the ansatz\n",
    "H1_term = psi_1'*q.Z*psi_1\n",
    "H1_term = 2*H1_term\n",
    "print(\"Expectation value of H1 is \", H1_term, \"\\n\")\n",
    "# Second term, we have to apply the ansatz to the initial state and replace \n",
    "# X by Ry(-pi/2)\n",
    "psi_2 = q.Ry(pi/2)*ansatz*psi_0\n",
    "H2_term = psi_2'*(q.Z)*psi_2\n",
    "print(\"Expectation value of H2 is \", H2_term, \"\\n\")\n",
    "# Third term, we have to apply the ansatz to the initial state \n",
    "H3_term = psi_1'*q.II*psi_1\n",
    "print(\"Expectation value of H3 is \", H3_term, \"\\n\")"
   ]
  },
  {
   "cell_type": "code",
   "execution_count": 6,
   "metadata": {},
   "outputs": [
    {
     "name": "stdout",
     "output_type": "stream",
     "text": [
      "Energy estimate is 1.9999999999999996 + 0.0im\n"
     ]
    }
   ],
   "source": [
    "energy = H1_term + H2_term + H3_term\n",
    "print(\"Energy estimate is \", energy, \"\\n\")"
   ]
  },
  {
   "cell_type": "markdown",
   "metadata": {},
   "source": [
    "We replace the gate X by $R_y(-\\pi/2)$ and add it next to our ansatz $R_y(\\theta)$ and then find the expectation value of the Hamiltonian term at the computational basis state so we compute $<\\psi(\\theta)|Z|\\psi(\\theta)>$."
   ]
  },
  {
   "cell_type": "code",
   "execution_count": 32,
   "metadata": {},
   "outputs": [
    {
     "data": {
      "text/plain": [
       "energy_estimate (generic function with 1 method)"
      ]
     },
     "metadata": {},
     "output_type": "display_data"
    }
   ],
   "source": [
    "# create a function that loops over thetas and returns the energy estimate\n",
    "function energy_estimate(th)\n",
    "    ansatz = q.Ry(th)\n",
    "    # First term\n",
    "    psi_1 = ansatz*psi_0\n",
    "    H1_term = psi_1'*q.Z*psi_1\n",
    "    H1_term = 2*H1_term\n",
    "    # Second term\n",
    "    psi_2 = q.Ry(-pi/2)*ansatz*psi_0\n",
    "    H2_term = psi_2'*(q.Z)*psi_2\n",
    "    # Third term\n",
    "    H3_term = psi_1'*q.II*psi_1\n",
    "    energy = H1_term + H2_term + H3_term\n",
    "    return energy, H1_term, H2_term, H3_term\n",
    "end"
   ]
  },
  {
   "cell_type": "code",
   "execution_count": 33,
   "metadata": {},
   "outputs": [
    {
     "name": "stdout",
     "output_type": "stream",
     "text": [
      "Energy estimate is ("
     ]
    },
    {
     "name": "stdout",
     "output_type": "stream",
     "text": [
      "-1.0 + 0.0im, -2.0 + 0.0im, -1.7938038903913487e-16 + 0.0im, 1.0 + 0.0im)\n"
     ]
    }
   ],
   "source": [
    "# test the function\n",
    "th = pi\n",
    "energy = energy_estimate(th)\n",
    "print(\"Energy estimate is \", energy, \"\\n\")"
   ]
  },
  {
   "cell_type": "code",
   "execution_count": 38,
   "metadata": {},
   "outputs": [
    {
     "data": {
      "image/png": "[encoded data removed]",
      "image/svg+xml": [
       "<?xml version=\"1.0\" encoding=\"utf-8\"?>\n",
       "<svg xmlns=\"http://www.w3.org/2000/svg\" xmlns:xlink=\"http://www.w3.org/1999/xlink\" width=\"600\" height=\"400\" viewBox=\"0 0 2400 1600\">\n",
       "<defs>\n",
       "  <clipPath id=\"clip640\">\n",
       "    <rect x=\"0\" y=\"0\" width=\"2400\" height=\"1600\"/>\n",
       "  </clipPath>\n",
       "</defs>\n",
       "<path clip-path=\"url(#clip640)\" d=\"M0 1600 L2400 1600 L2400 0 L0 0  Z\" fill=\"#ffffff\" fill-rule=\"evenodd\" fill-opacity=\"1\"/>\n",
       "<defs>\n",
       "  <clipPath id=\"clip641\">\n",
       "    <rect x=\"480\" y=\"0\" width=\"1681\" height=\"1600\"/>\n",
       "  </clipPath>\n",
       "</defs>\n",
       "<path clip-path=\"url(#clip640)\" d=\"M210.746 1423.18 L2352.76 1423.18 L2352.76 47.2441 L210.746 47.2441  Z\" fill=\"#ffffff\" fill-rule=\"evenodd\" fill-opacity=\"1\"/>\n",
       "<defs>\n",
       "  <clipPath id=\"clip642\">\n",
       "    <rect x=\"210\" y=\"47\" width=\"2143\" height=\"1377\"/>\n",
       "  </clipPath>\n",
       "</defs>\n",
       "<polyline clip-path=\"url(#clip642)\" style=\"stroke:#000000; stroke-linecap:round; stroke-linejoin:round; stroke-width:2; stroke-opacity:0.1; fill:none\" points=\"271.369,1423.18 271.369,47.2441 \"/>\n",
       "<polyline clip-path=\"url(#clip642)\" style=\"stroke:#000000; stroke-linecap:round; stroke-linejoin:round; stroke-width:2; stroke-opacity:0.1; fill:none\" points=\"592.983,1423.18 592.983,47.2441 \"/>\n",
       "<polyline clip-path=\"url(#clip642)\" style=\"stroke:#000000; stroke-linecap:round; stroke-linejoin:round; stroke-width:2; stroke-opacity:0.1; fill:none\" points=\"914.598,1423.18 914.598,47.2441 \"/>\n",
       "<polyline clip-path=\"url(#clip642)\" style=\"stroke:#000000; stroke-linecap:round; stroke-linejoin:round; stroke-width:2; stroke-opacity:0.1; fill:none\" points=\"1236.21,1423.18 1236.21,47.2441 \"/>\n",
       "<polyline clip-path=\"url(#clip642)\" style=\"stroke:#000000; stroke-linecap:round; stroke-linejoin:round; stroke-width:2; stroke-opacity:0.1; fill:none\" points=\"1557.83,1423.18 1557.83,47.2441 \"/>\n",
       "<polyline clip-path=\"url(#clip642)\" style=\"stroke:#000000; stroke-linecap:round; stroke-linejoin:round; stroke-width:2; stroke-opacity:0.1; fill:none\" points=\"1879.44,1423.18 1879.44,47.2441 \"/>\n",
       "<polyline clip-path=\"url(#clip642)\" style=\"stroke:#000000; stroke-linecap:round; stroke-linejoin:round; stroke-width:2; stroke-opacity:0.1; fill:none\" points=\"2201.06,1423.18 2201.06,47.2441 \"/>\n",
       "<polyline clip-path=\"url(#clip640)\" style=\"stroke:#000000; stroke-linecap:round; stroke-linejoin:round; stroke-width:4; stroke-opacity:1; fill:none\" points=\"210.746,1423.18 2352.76,1423.18 \"/>\n",
       "<polyline clip-path=\"url(#clip640)\" style=\"stroke:#000000; stroke-linecap:round; stroke-linejoin:round; stroke-width:4; stroke-opacity:1; fill:none\" points=\"271.369,1423.18 271.369,1404.28 \"/>\n",
       "<polyline clip-path=\"url(#clip640)\" style=\"stroke:#000000; stroke-linecap:round; stroke-linejoin:round; stroke-width:4; stroke-opacity:1; fill:none\" points=\"592.983,1423.18 592.983,1404.28 \"/>\n",
       "<polyline clip-path=\"url(#clip640)\" style=\"stroke:#000000; stroke-linecap:round; stroke-linejoin:round; stroke-width:4; stroke-opacity:1; fill:none\" points=\"914.598,1423.18 914.598,1404.28 \"/>\n",
       "<polyline clip-path=\"url(#clip640)\" style=\"stroke:#000000; stroke-linecap:round; stroke-linejoin:round; stroke-width:4; stroke-opacity:1; fill:none\" points=\"1236.21,1423.18 1236.21,1404.28 \"/>\n",
       "<polyline clip-path=\"url(#clip640)\" style=\"stroke:#000000; stroke-linecap:round; stroke-linejoin:round; stroke-width:4; stroke-opacity:1; fill:none\" points=\"1557.83,1423.18 1557.83,1404.28 \"/>\n",
       "<polyline clip-path=\"url(#clip640)\" style=\"stroke:#000000; stroke-linecap:round; stroke-linejoin:round; stroke-width:4; stroke-opacity:1; fill:none\" points=\"1879.44,1423.18 1879.44,1404.28 \"/>\n",
       "<polyline clip-path=\"url(#clip640)\" style=\"stroke:#000000; stroke-linecap:round; stroke-linejoin:round; stroke-width:4; stroke-opacity:1; fill:none\" points=\"2201.06,1423.18 2201.06,1404.28 \"/>\n",
       "<path clip-path=\"url(#clip640)\" d=\"M271.369 1454.1 Q267.758 1454.1 265.929 1457.66 Q264.124 1461.2 264.124 1468.33 Q264.124 1475.44 265.929 1479.01 Q267.758 1482.55 271.369 1482.55 Q275.003 1482.55 276.809 1479.01 Q278.637 1475.44 278.637 1468.33 Q278.637 1461.2 276.809 1457.66 Q275.003 1454.1 271.369 1454.1 M271.369 1450.39 Q277.179 1450.39 280.235 1455 Q283.313 1459.58 283.313 1468.33 Q283.313 1477.06 280.235 1481.67 Q277.179 1486.25 271.369 1486.25 Q265.559 1486.25 262.48 1481.67 Q259.424 1477.06 259.424 1468.33 Q259.424 1459.58 262.48 1455 Q265.559 1450.39 271.369 1450.39 Z\" fill=\"#000000\" fill-rule=\"nonzero\" fill-opacity=\"1\" /><path clip-path=\"url(#clip640)\" d=\"M583.365 1481.64 L591.004 1481.64 L591.004 1455.28 L582.694 1456.95 L582.694 1452.69 L590.958 1451.02 L595.634 1451.02 L595.634 1481.64 L603.273 1481.64 L603.273 1485.58 L583.365 1485.58 L583.365 1481.64 Z\" fill=\"#000000\" fill-rule=\"nonzero\" fill-opacity=\"1\" /><path clip-path=\"url(#clip640)\" d=\"M909.251 1481.64 L925.57 1481.64 L925.57 1485.58 L903.626 1485.58 L903.626 1481.64 Q906.288 1478.89 910.871 1474.26 Q915.478 1469.61 916.658 1468.27 Q918.904 1465.74 919.783 1464.01 Q920.686 1462.25 920.686 1460.56 Q920.686 1457.8 918.742 1456.07 Q916.82 1454.33 913.718 1454.33 Q911.519 1454.33 909.066 1455.09 Q906.635 1455.86 903.857 1457.41 L903.857 1452.69 Q906.681 1451.55 909.135 1450.97 Q911.589 1450.39 913.626 1450.39 Q918.996 1450.39 922.191 1453.08 Q925.385 1455.77 925.385 1460.26 Q925.385 1462.39 924.575 1464.31 Q923.788 1466.2 921.681 1468.8 Q921.103 1469.47 918.001 1472.69 Q914.899 1475.88 909.251 1481.64 Z\" fill=\"#000000\" fill-rule=\"nonzero\" fill-opacity=\"1\" /><path clip-path=\"url(#clip640)\" d=\"M1240.46 1466.95 Q1243.82 1467.66 1245.69 1469.93 Q1247.59 1472.2 1247.59 1475.53 Q1247.59 1480.65 1244.07 1483.45 Q1240.55 1486.25 1234.07 1486.25 Q1231.9 1486.25 1229.58 1485.81 Q1227.29 1485.39 1224.84 1484.54 L1224.84 1480.02 Q1226.78 1481.16 1229.09 1481.74 Q1231.41 1482.32 1233.93 1482.32 Q1238.33 1482.32 1240.62 1480.58 Q1242.94 1478.84 1242.94 1475.53 Q1242.94 1472.48 1240.78 1470.77 Q1238.65 1469.03 1234.84 1469.03 L1230.81 1469.03 L1230.81 1465.19 L1235.02 1465.19 Q1238.47 1465.19 1240.3 1463.82 Q1242.13 1462.43 1242.13 1459.84 Q1242.13 1457.18 1240.23 1455.77 Q1238.35 1454.33 1234.84 1454.33 Q1232.91 1454.33 1230.72 1454.75 Q1228.52 1455.16 1225.88 1456.04 L1225.88 1451.88 Q1228.54 1451.14 1230.85 1450.77 Q1233.19 1450.39 1235.25 1450.39 Q1240.58 1450.39 1243.68 1452.83 Q1246.78 1455.23 1246.78 1459.35 Q1246.78 1462.22 1245.14 1464.21 Q1243.49 1466.18 1240.46 1466.95 Z\" fill=\"#000000\" fill-rule=\"nonzero\" fill-opacity=\"1\" /><path clip-path=\"url(#clip640)\" d=\"M1560.84 1455.09 L1549.03 1473.54 L1560.84 1473.54 L1560.84 1455.09 M1559.61 1451.02 L1565.49 1451.02 L1565.49 1473.54 L1570.42 1473.54 L1570.42 1477.43 L1565.49 1477.43 L1565.49 1485.58 L1560.84 1485.58 L1560.84 1477.43 L1545.23 1477.43 L1545.23 1472.92 L1559.61 1451.02 Z\" fill=\"#000000\" fill-rule=\"nonzero\" fill-opacity=\"1\" /><path clip-path=\"url(#clip640)\" d=\"M1869.72 1451.02 L1888.08 1451.02 L1888.08 1454.96 L1874 1454.96 L1874 1463.43 Q1875.02 1463.08 1876.04 1462.92 Q1877.06 1462.73 1878.08 1462.73 Q1883.86 1462.73 1887.24 1465.9 Q1890.62 1469.08 1890.62 1474.49 Q1890.62 1480.07 1887.15 1483.17 Q1883.68 1486.25 1877.36 1486.25 Q1875.18 1486.25 1872.91 1485.88 Q1870.67 1485.51 1868.26 1484.77 L1868.26 1480.07 Q1870.34 1481.2 1872.57 1481.76 Q1874.79 1482.32 1877.27 1482.32 Q1881.27 1482.32 1883.61 1480.21 Q1885.95 1478.1 1885.95 1474.49 Q1885.95 1470.88 1883.61 1468.77 Q1881.27 1466.67 1877.27 1466.67 Q1875.39 1466.67 1873.52 1467.08 Q1871.66 1467.5 1869.72 1468.38 L1869.72 1451.02 Z\" fill=\"#000000\" fill-rule=\"nonzero\" fill-opacity=\"1\" /><path clip-path=\"url(#clip640)\" d=\"M2201.46 1466.44 Q2198.31 1466.44 2196.46 1468.59 Q2194.63 1470.74 2194.63 1474.49 Q2194.63 1478.22 2196.46 1480.39 Q2198.31 1482.55 2201.46 1482.55 Q2204.61 1482.55 2206.44 1480.39 Q2208.29 1478.22 2208.29 1474.49 Q2208.29 1470.74 2206.44 1468.59 Q2204.61 1466.44 2201.46 1466.44 M2210.74 1451.78 L2210.74 1456.04 Q2208.98 1455.21 2207.18 1454.77 Q2205.4 1454.33 2203.64 1454.33 Q2199.01 1454.33 2196.55 1457.45 Q2194.12 1460.58 2193.78 1466.9 Q2195.14 1464.89 2197.2 1463.82 Q2199.26 1462.73 2201.74 1462.73 Q2206.95 1462.73 2209.96 1465.9 Q2212.99 1469.05 2212.99 1474.49 Q2212.99 1479.82 2209.84 1483.03 Q2206.69 1486.25 2201.46 1486.25 Q2195.47 1486.25 2192.29 1481.67 Q2189.12 1477.06 2189.12 1468.33 Q2189.12 1460.14 2193.01 1455.28 Q2196.9 1450.39 2203.45 1450.39 Q2205.21 1450.39 2206.99 1450.74 Q2208.8 1451.09 2210.74 1451.78 Z\" fill=\"#000000\" fill-rule=\"nonzero\" fill-opacity=\"1\" /><path clip-path=\"url(#clip640)\" d=\"M1291.87 1545.45 L1271.6 1545.45 Q1272.08 1554.96 1274.27 1559 Q1277.01 1563.97 1281.75 1563.97 Q1286.53 1563.97 1289.17 1558.97 Q1291.49 1554.58 1291.87 1545.45 M1291.78 1540.03 Q1290.89 1531 1289.17 1527.81 Q1286.43 1522.78 1281.75 1522.78 Q1276.88 1522.78 1274.3 1527.75 Q1272.27 1531.76 1271.66 1540.03 L1291.78 1540.03 M1281.75 1518.01 Q1289.39 1518.01 1293.75 1524.76 Q1298.11 1531.47 1298.11 1543.38 Q1298.11 1555.25 1293.75 1562 Q1289.39 1568.78 1281.75 1568.78 Q1274.08 1568.78 1269.75 1562 Q1265.39 1555.25 1265.39 1543.38 Q1265.39 1531.47 1269.75 1524.76 Q1274.08 1518.01 1281.75 1518.01 Z\" fill=\"#000000\" fill-rule=\"nonzero\" fill-opacity=\"1\" /><polyline clip-path=\"url(#clip642)\" style=\"stroke:#000000; stroke-linecap:round; stroke-linejoin:round; stroke-width:2; stroke-opacity:0.1; fill:none\" points=\"210.746,1384.57 2352.76,1384.57 \"/>\n",
       "<polyline clip-path=\"url(#clip642)\" style=\"stroke:#000000; stroke-linecap:round; stroke-linejoin:round; stroke-width:2; stroke-opacity:0.1; fill:none\" points=\"210.746,1059.97 2352.76,1059.97 \"/>\n",
       "<polyline clip-path=\"url(#clip642)\" style=\"stroke:#000000; stroke-linecap:round; stroke-linejoin:round; stroke-width:2; stroke-opacity:0.1; fill:none\" points=\"210.746,735.375 2352.76,735.375 \"/>\n",
       "<polyline clip-path=\"url(#clip642)\" style=\"stroke:#000000; stroke-linecap:round; stroke-linejoin:round; stroke-width:2; stroke-opacity:0.1; fill:none\" points=\"210.746,410.781 2352.76,410.781 \"/>\n",
       "<polyline clip-path=\"url(#clip642)\" style=\"stroke:#000000; stroke-linecap:round; stroke-linejoin:round; stroke-width:2; stroke-opacity:0.1; fill:none\" points=\"210.746,86.1857 2352.76,86.1857 \"/>\n",
       "<polyline clip-path=\"url(#clip640)\" style=\"stroke:#000000; stroke-linecap:round; stroke-linejoin:round; stroke-width:4; stroke-opacity:1; fill:none\" points=\"210.746,1423.18 210.746,47.2441 \"/>\n",
       "<polyline clip-path=\"url(#clip640)\" style=\"stroke:#000000; stroke-linecap:round; stroke-linejoin:round; stroke-width:4; stroke-opacity:1; fill:none\" points=\"210.746,1384.57 229.644,1384.57 \"/>\n",
       "<polyline clip-path=\"url(#clip640)\" style=\"stroke:#000000; stroke-linecap:round; stroke-linejoin:round; stroke-width:4; stroke-opacity:1; fill:none\" points=\"210.746,1059.97 229.644,1059.97 \"/>\n",
       "<polyline clip-path=\"url(#clip640)\" style=\"stroke:#000000; stroke-linecap:round; stroke-linejoin:round; stroke-width:4; stroke-opacity:1; fill:none\" points=\"210.746,735.375 229.644,735.375 \"/>\n",
       "<polyline clip-path=\"url(#clip640)\" style=\"stroke:#000000; stroke-linecap:round; stroke-linejoin:round; stroke-width:4; stroke-opacity:1; fill:none\" points=\"210.746,410.781 229.644,410.781 \"/>\n",
       "<polyline clip-path=\"url(#clip640)\" style=\"stroke:#000000; stroke-linecap:round; stroke-linejoin:round; stroke-width:4; stroke-opacity:1; fill:none\" points=\"210.746,86.1857 229.644,86.1857 \"/>\n",
       "<path clip-path=\"url(#clip640)\" d=\"M114.631 1385.02 L144.306 1385.02 L144.306 1388.95 L114.631 1388.95 L114.631 1385.02 Z\" fill=\"#000000\" fill-rule=\"nonzero\" fill-opacity=\"1\" /><path clip-path=\"url(#clip640)\" d=\"M158.427 1397.91 L174.746 1397.91 L174.746 1401.85 L152.802 1401.85 L152.802 1397.91 Q155.464 1395.16 160.047 1390.53 Q164.653 1385.87 165.834 1384.53 Q168.079 1382.01 168.959 1380.27 Q169.862 1378.51 169.862 1376.82 Q169.862 1374.07 167.917 1372.33 Q165.996 1370.6 162.894 1370.6 Q160.695 1370.6 158.241 1371.36 Q155.811 1372.12 153.033 1373.67 L153.033 1368.95 Q155.857 1367.82 158.311 1367.24 Q160.765 1366.66 162.802 1366.66 Q168.172 1366.66 171.366 1369.35 Q174.561 1372.03 174.561 1376.52 Q174.561 1378.65 173.751 1380.57 Q172.964 1382.47 170.857 1385.06 Q170.278 1385.73 167.177 1388.95 Q164.075 1392.15 158.427 1397.91 Z\" fill=\"#000000\" fill-rule=\"nonzero\" fill-opacity=\"1\" /><path clip-path=\"url(#clip640)\" d=\"M114.26 1060.42 L143.936 1060.42 L143.936 1064.36 L114.26 1064.36 L114.26 1060.42 Z\" fill=\"#000000\" fill-rule=\"nonzero\" fill-opacity=\"1\" /><path clip-path=\"url(#clip640)\" d=\"M154.839 1073.32 L162.477 1073.32 L162.477 1046.95 L154.167 1048.62 L154.167 1044.36 L162.431 1042.69 L167.107 1042.69 L167.107 1073.32 L174.746 1073.32 L174.746 1077.25 L154.839 1077.25 L154.839 1073.32 Z\" fill=\"#000000\" fill-rule=\"nonzero\" fill-opacity=\"1\" /><path clip-path=\"url(#clip640)\" d=\"M162.802 721.174 Q159.19 721.174 157.362 724.739 Q155.556 728.281 155.556 735.41 Q155.556 742.517 157.362 746.081 Q159.19 749.623 162.802 749.623 Q166.436 749.623 168.241 746.081 Q170.07 742.517 170.07 735.41 Q170.07 728.281 168.241 724.739 Q166.436 721.174 162.802 721.174 M162.802 717.47 Q168.612 717.47 171.667 722.077 Q174.746 726.66 174.746 735.41 Q174.746 744.137 171.667 748.743 Q168.612 753.327 162.802 753.327 Q156.991 753.327 153.913 748.743 Q150.857 744.137 150.857 735.41 Q150.857 726.66 153.913 722.077 Q156.991 717.47 162.802 717.47 Z\" fill=\"#000000\" fill-rule=\"nonzero\" fill-opacity=\"1\" /><path clip-path=\"url(#clip640)\" d=\"M154.839 424.125 L162.477 424.125 L162.477 397.76 L154.167 399.426 L154.167 395.167 L162.431 393.501 L167.107 393.501 L167.107 424.125 L174.746 424.125 L174.746 428.061 L154.839 428.061 L154.839 424.125 Z\" fill=\"#000000\" fill-rule=\"nonzero\" fill-opacity=\"1\" /><path clip-path=\"url(#clip640)\" d=\"M158.427 99.5305 L174.746 99.5305 L174.746 103.466 L152.802 103.466 L152.802 99.5305 Q155.464 96.7759 160.047 92.1463 Q164.653 87.4935 165.834 86.151 Q168.079 83.6278 168.959 81.8917 Q169.862 80.1325 169.862 78.4427 Q169.862 75.688 167.917 73.9519 Q165.996 72.2158 162.894 72.2158 Q160.695 72.2158 158.241 72.9797 Q155.811 73.7436 153.033 75.2945 L153.033 70.5723 Q155.857 69.4381 158.311 68.8594 Q160.765 68.2807 162.802 68.2807 Q168.172 68.2807 171.366 70.9658 Q174.561 73.651 174.561 78.1417 Q174.561 80.2714 173.751 82.1926 Q172.964 84.0908 170.857 86.6834 Q170.278 87.3546 167.177 90.5722 Q164.075 93.7667 158.427 99.5305 Z\" fill=\"#000000\" fill-rule=\"nonzero\" fill-opacity=\"1\" /><path clip-path=\"url(#clip640)\" d=\"M16.4842 922.236 L16.4842 892.19 L21.895 892.19 L21.895 915.807 L35.9632 915.807 L35.9632 893.177 L41.3741 893.177 L41.3741 915.807 L58.5933 915.807 L58.5933 891.617 L64.0042 891.617 L64.0042 922.236 L16.4842 922.236 Z\" fill=\"#000000\" fill-rule=\"nonzero\" fill-opacity=\"1\" /><path clip-path=\"url(#clip640)\" d=\"M42.4881 851.673 L64.0042 851.673 L64.0042 857.529 L42.679 857.529 Q37.6183 857.529 35.1038 859.502 Q32.5894 861.476 32.5894 865.422 Q32.5894 870.165 35.6131 872.902 Q38.6368 875.639 43.8567 875.639 L64.0042 875.639 L64.0042 881.528 L28.3562 881.528 L28.3562 875.639 L33.8944 875.639 Q30.6797 873.539 29.0883 870.706 Q27.4968 867.841 27.4968 864.118 Q27.4968 857.975 31.3163 854.824 Q35.1038 851.673 42.4881 851.673 Z\" fill=\"#000000\" fill-rule=\"nonzero\" fill-opacity=\"1\" /><path clip-path=\"url(#clip640)\" d=\"M44.7161 809.5 L47.5806 809.5 L47.5806 836.427 Q53.6281 836.045 56.8109 832.798 Q59.9619 829.52 59.9619 823.695 Q59.9619 820.321 59.1344 817.17 Q58.3069 813.988 56.6518 810.868 L62.1899 810.868 Q63.5267 814.019 64.227 817.33 Q64.9272 820.64 64.9272 824.045 Q64.9272 832.575 59.9619 837.573 Q54.9967 842.538 46.5303 842.538 Q37.7774 842.538 32.6531 837.827 Q27.4968 833.085 27.4968 825.064 Q27.4968 817.871 32.1438 813.701 Q36.7589 809.5 44.7161 809.5 M42.9973 815.356 Q38.1912 815.42 35.3266 818.062 Q32.4621 820.672 32.4621 825 Q32.4621 829.902 35.2312 832.862 Q38.0002 835.79 43.0292 836.236 L42.9973 815.356 Z\" fill=\"#000000\" fill-rule=\"nonzero\" fill-opacity=\"1\" /><path clip-path=\"url(#clip640)\" d=\"M33.8307 779.231 Q33.2578 780.218 33.0032 781.395 Q32.7167 782.541 32.7167 783.941 Q32.7167 788.907 35.9632 791.58 Q39.1779 794.222 45.2253 794.222 L64.0042 794.222 L64.0042 800.11 L28.3562 800.11 L28.3562 794.222 L33.8944 794.222 Q30.6479 792.376 29.0883 789.416 Q27.4968 786.456 27.4968 782.223 Q27.4968 781.618 27.5923 780.886 Q27.656 780.154 27.8151 779.263 L33.8307 779.231 Z\" fill=\"#000000\" fill-rule=\"nonzero\" fill-opacity=\"1\" /><path clip-path=\"url(#clip640)\" d=\"M45.7664 750.776 Q39.4007 750.776 35.8996 753.418 Q32.3984 756.028 32.3984 760.77 Q32.3984 765.481 35.8996 768.123 Q39.4007 770.733 45.7664 770.733 Q52.1003 770.733 55.6014 768.123 Q59.1026 765.481 59.1026 760.77 Q59.1026 756.028 55.6014 753.418 Q52.1003 750.776 45.7664 750.776 M59.58 744.92 Q68.683 744.92 73.1071 748.962 Q77.5631 753.004 77.5631 761.343 Q77.5631 764.431 77.0857 767.168 Q76.6401 769.905 75.6852 772.483 L69.9879 772.483 Q71.3884 769.905 72.0568 767.391 Q72.7252 764.876 72.7252 762.266 Q72.7252 756.505 69.7015 753.641 Q66.7096 750.776 60.6303 750.776 L57.7339 750.776 Q60.885 752.59 62.4446 755.423 Q64.0042 758.256 64.0042 762.203 Q64.0042 768.759 59.0071 772.77 Q54.01 776.78 45.7664 776.78 Q37.491 776.78 32.4939 772.77 Q27.4968 768.759 27.4968 762.203 Q27.4968 758.256 29.0564 755.423 Q30.616 752.59 33.7671 750.776 L28.3562 750.776 L28.3562 744.92 L59.58 744.92 Z\" fill=\"#000000\" fill-rule=\"nonzero\" fill-opacity=\"1\" /><path clip-path=\"url(#clip640)\" d=\"M67.3143 718.025 Q73.68 720.507 75.6216 722.862 Q77.5631 725.218 77.5631 729.165 L77.5631 733.843 L72.6615 733.843 L72.6615 730.406 Q72.6615 727.987 71.5157 726.65 Q70.3699 725.313 66.1048 723.69 L63.4312 722.64 L28.3562 737.058 L28.3562 730.851 L56.238 719.711 L28.3562 708.571 L28.3562 702.365 L67.3143 718.025 Z\" fill=\"#000000\" fill-rule=\"nonzero\" fill-opacity=\"1\" /><path clip-path=\"url(#clip640)\" d=\"M16.4842 663.152 L16.4842 657.741 L70.0516 674.292 L70.0516 679.703 L16.4842 663.152 Z\" fill=\"#000000\" fill-rule=\"nonzero\" fill-opacity=\"1\" /><path clip-path=\"url(#clip640)\" d=\"M16.4842 651.344 L16.4842 621.298 L21.895 621.298 L21.895 644.914 L35.9632 644.914 L35.9632 622.284 L41.3741 622.284 L41.3741 644.914 L58.5933 644.914 L58.5933 620.725 L64.0042 620.725 L64.0042 651.344 L16.4842 651.344 Z\" fill=\"#000000\" fill-rule=\"nonzero\" fill-opacity=\"1\" /><path clip-path=\"url(#clip640)\" d=\"M74.8259 583.326 L79.3773 583.326 L79.3773 617.192 L74.8259 617.192 L74.8259 583.326 Z\" fill=\"#000000\" fill-rule=\"nonzero\" fill-opacity=\"1\" /><path clip-path=\"url(#clip640)\" d=\"M42.4881 548.188 L64.0042 548.188 L64.0042 554.044 L42.679 554.044 Q37.6183 554.044 35.1038 556.017 Q32.5894 557.991 32.5894 561.937 Q32.5894 566.68 35.6131 569.417 Q38.6368 572.154 43.8567 572.154 L64.0042 572.154 L64.0042 578.043 L14.479 578.043 L14.479 572.154 L33.8944 572.154 Q30.6797 570.054 29.0883 567.221 Q27.4968 564.356 27.4968 560.632 Q27.4968 554.49 31.3163 551.339 Q35.1038 548.188 42.4881 548.188 Z\" fill=\"#000000\" fill-rule=\"nonzero\" fill-opacity=\"1\" /><polyline clip-path=\"url(#clip642)\" style=\"stroke:#009af9; stroke-linecap:round; stroke-linejoin:round; stroke-width:4; stroke-opacity:1; fill:none\" points=\"271.369,86.1857 291.781,87.4927 312.192,91.4085 332.604,97.9174 353.016,106.993 373.428,118.599 393.839,132.688 414.251,149.205 434.663,168.081 455.075,189.242 475.486,212.602 495.898,238.067 516.31,265.535 536.722,294.894 557.133,326.027 577.545,358.808 597.957,393.106 618.369,428.782 638.781,465.692 659.192,503.689 679.604,542.618 700.016,582.323 720.428,622.645 740.839,663.42 761.251,704.486 781.663,745.675 802.075,786.824 822.486,827.765 842.898,868.334 863.31,908.367 883.722,947.705 904.133,986.187 924.545,1023.66 944.957,1059.97 965.369,1094.97 985.78,1128.53 1006.19,1160.5 1026.6,1190.77 1047.02,1219.19 1067.43,1245.67 1087.84,1270.1 1108.25,1292.37 1128.66,1312.4 1149.07,1330.1 1169.49,1345.41 1189.9,1358.27 1210.31,1368.61 1230.72,1376.41 1251.13,1381.63 1271.55,1384.24 1291.96,1384.24 1312.37,1381.63 1332.78,1376.41 1353.19,1368.61 1373.6,1358.27 1394.02,1345.41 1414.43,1330.1 1434.84,1312.4 1455.25,1292.37 1475.66,1270.1 1496.07,1245.67 1516.49,1219.19 1536.9,1190.77 1557.31,1160.5 1577.72,1128.53 1598.13,1094.97 1618.54,1059.97 1638.96,1023.66 1659.37,986.187 1679.78,947.705 1700.19,908.367 1720.6,868.334 1741.02,827.765 1761.43,786.824 1781.84,745.675 1802.25,704.486 1822.66,663.42 1843.07,622.645 1863.49,582.323 1883.9,542.618 1904.31,503.689 1924.72,465.692 1945.13,428.782 1965.54,393.106 1985.96,358.808 2006.37,326.027 2026.78,294.894 2047.19,265.535 2067.6,238.067 2088.02,212.602 2108.43,189.242 2128.84,168.081 2149.25,149.205 2169.66,132.688 2190.07,118.599 2210.49,106.993 2230.9,97.9174 2251.31,91.4085 2271.72,87.4927 2292.13,86.1857 \"/>\n",
       "<polyline clip-path=\"url(#clip642)\" style=\"stroke:#e26f46; stroke-linecap:round; stroke-linejoin:round; stroke-width:4; stroke-opacity:1; fill:none\" points=\"271.369,735.375 291.781,714.788 312.192,694.284 332.604,673.945 353.016,653.854 373.428,634.091 393.839,614.736 414.251,595.866 434.663,577.558 455.075,559.886 475.486,542.921 495.898,526.73 516.31,511.379 536.722,496.931 557.133,483.442 577.545,470.968 597.957,459.559 618.369,449.26 638.781,440.114 659.192,432.156 679.604,425.419 700.016,419.93 720.428,415.712 740.839,412.781 761.251,411.148 781.663,410.821 802.075,411.801 822.486,414.084 842.898,417.661 863.31,422.517 883.722,428.633 904.133,435.984 924.545,444.54 944.957,454.268 965.369,465.127 985.78,477.075 1006.19,490.063 1026.6,504.039 1047.02,518.946 1067.43,534.724 1087.84,551.311 1108.25,568.638 1128.66,586.637 1149.07,605.235 1169.49,624.357 1189.9,643.926 1210.31,663.864 1230.72,684.089 1251.13,704.521 1271.55,725.077 1291.96,745.674 1312.37,766.23 1332.78,786.662 1353.19,806.887 1373.6,826.824 1394.02,846.393 1414.43,865.515 1434.84,884.113 1455.25,902.112 1475.66,919.44 1496.07,936.027 1516.49,951.805 1536.9,966.712 1557.31,980.688 1577.72,993.676 1598.13,1005.62 1618.54,1016.48 1638.96,1026.21 1659.37,1034.77 1679.78,1042.12 1700.19,1048.23 1720.6,1053.09 1741.02,1056.67 1761.43,1058.95 1781.84,1059.93 1802.25,1059.6 1822.66,1057.97 1843.07,1055.04 1863.49,1050.82 1883.9,1045.33 1904.31,1038.59 1924.72,1030.64 1945.13,1021.49 1965.54,1011.19 1985.96,999.783 2006.37,987.309 2026.78,973.82 2047.19,959.371 2067.6,944.021 2088.02,927.83 2108.43,910.865 2128.84,893.192 2149.25,874.885 2169.66,856.015 2190.07,836.66 2210.49,816.897 2230.9,796.805 2251.31,776.467 2271.72,755.962 2292.13,735.375 \"/>\n",
       "<polyline clip-path=\"url(#clip642)\" style=\"stroke:#3da44d; stroke-linecap:round; stroke-linejoin:round; stroke-width:4; stroke-opacity:1; fill:none\" points=\"271.369,410.781 291.781,410.781 312.192,410.781 332.604,410.781 353.016,410.781 373.428,410.781 393.839,410.781 414.251,410.781 434.663,410.781 455.075,410.781 475.486,410.781 495.898,410.781 516.31,410.781 536.722,410.781 557.133,410.781 577.545,410.781 597.957,410.781 618.369,410.781 638.781,410.781 659.192,410.781 679.604,410.781 700.016,410.781 720.428,410.781 740.839,410.781 761.251,410.781 781.663,410.781 802.075,410.781 822.486,410.781 842.898,410.781 863.31,410.781 883.722,410.781 904.133,410.781 924.545,410.781 944.957,410.781 965.369,410.781 985.78,410.781 1006.19,410.781 1026.6,410.781 1047.02,410.781 1067.43,410.781 1087.84,410.781 1108.25,410.781 1128.66,410.781 1149.07,410.781 1169.49,410.781 1189.9,410.781 1210.31,410.781 1230.72,410.781 1251.13,410.781 1271.55,410.781 1291.96,410.781 1312.37,410.781 1332.78,410.781 1353.19,410.781 1373.6,410.781 1394.02,410.781 1414.43,410.781 1434.84,410.781 1455.25,410.781 1475.66,410.781 1496.07,410.781 1516.49,410.781 1536.9,410.781 1557.31,410.781 1577.72,410.781 1598.13,410.781 1618.54,410.781 1638.96,410.781 1659.37,410.781 1679.78,410.781 1700.19,410.781 1720.6,410.781 1741.02,410.781 1761.43,410.781 1781.84,410.781 1802.25,410.781 1822.66,410.781 1843.07,410.781 1863.49,410.781 1883.9,410.781 1904.31,410.781 1924.72,410.781 1945.13,410.781 1965.54,410.781 1985.96,410.781 2006.37,410.781 2026.78,410.781 2047.19,410.781 2067.6,410.781 2088.02,410.781 2108.43,410.781 2128.84,410.781 2149.25,410.781 2169.66,410.781 2190.07,410.781 2210.49,410.781 2230.9,410.781 2251.31,410.781 2271.72,410.781 2292.13,410.781 \"/>\n",
       "<path clip-path=\"url(#clip640)\" d=\"M2009.79 1377.32 L2281.36 1377.32 L2281.36 1169.96 L2009.79 1169.96  Z\" fill=\"#ffffff\" fill-rule=\"evenodd\" fill-opacity=\"1\"/>\n",
       "<polyline clip-path=\"url(#clip640)\" style=\"stroke:#000000; stroke-linecap:round; stroke-linejoin:round; stroke-width:4; stroke-opacity:1; fill:none\" points=\"2009.79,1377.32 2281.36,1377.32 2281.36,1169.96 2009.79,1169.96 2009.79,1377.32 \"/>\n",
       "<polyline clip-path=\"url(#clip640)\" style=\"stroke:#009af9; stroke-linecap:round; stroke-linejoin:round; stroke-width:4; stroke-opacity:1; fill:none\" points=\"2033.59,1221.8 2176.39,1221.8 \"/>\n",
       "<path clip-path=\"url(#clip640)\" d=\"M2200.19 1204.52 L2204.87 1204.52 L2204.87 1218.68 L2221.86 1218.68 L2221.86 1204.52 L2226.54 1204.52 L2226.54 1239.08 L2221.86 1239.08 L2221.86 1222.62 L2204.87 1222.62 L2204.87 1239.08 L2200.19 1239.08 L2200.19 1204.52 Z\" fill=\"#000000\" fill-rule=\"nonzero\" fill-opacity=\"1\" /><path clip-path=\"url(#clip640)\" d=\"M2237.07 1235.14 L2244.71 1235.14 L2244.71 1208.77 L2236.4 1210.44 L2236.4 1206.18 L2244.66 1204.52 L2249.34 1204.52 L2249.34 1235.14 L2256.98 1235.14 L2256.98 1239.08 L2237.07 1239.08 L2237.07 1235.14 Z\" fill=\"#000000\" fill-rule=\"nonzero\" fill-opacity=\"1\" /><polyline clip-path=\"url(#clip640)\" style=\"stroke:#e26f46; stroke-linecap:round; stroke-linejoin:round; stroke-width:4; stroke-opacity:1; fill:none\" points=\"2033.59,1273.64 2176.39,1273.64 \"/>\n",
       "<path clip-path=\"url(#clip640)\" d=\"M2200.19 1256.36 L2204.87 1256.36 L2204.87 1270.52 L2221.86 1270.52 L2221.86 1256.36 L2226.54 1256.36 L2226.54 1290.92 L2221.86 1290.92 L2221.86 1274.46 L2204.87 1274.46 L2204.87 1290.92 L2200.19 1290.92 L2200.19 1256.36 Z\" fill=\"#000000\" fill-rule=\"nonzero\" fill-opacity=\"1\" /><path clip-path=\"url(#clip640)\" d=\"M2240.29 1286.98 L2256.61 1286.98 L2256.61 1290.92 L2234.66 1290.92 L2234.66 1286.98 Q2237.32 1284.23 2241.91 1279.6 Q2246.51 1274.94 2247.69 1273.6 Q2249.94 1271.08 2250.82 1269.34 Q2251.72 1267.58 2251.72 1265.89 Q2251.72 1263.14 2249.78 1261.4 Q2247.86 1259.67 2244.75 1259.67 Q2242.56 1259.67 2240.1 1260.43 Q2237.67 1261.19 2234.89 1262.74 L2234.89 1258.02 Q2237.72 1256.89 2240.17 1256.31 Q2242.62 1255.73 2244.66 1255.73 Q2250.03 1255.73 2253.23 1258.42 Q2256.42 1261.1 2256.42 1265.59 Q2256.42 1267.72 2255.61 1269.64 Q2254.82 1271.54 2252.72 1274.13 Q2252.14 1274.8 2249.04 1278.02 Q2245.94 1281.22 2240.29 1286.98 Z\" fill=\"#000000\" fill-rule=\"nonzero\" fill-opacity=\"1\" /><polyline clip-path=\"url(#clip640)\" style=\"stroke:#3da44d; stroke-linecap:round; stroke-linejoin:round; stroke-width:4; stroke-opacity:1; fill:none\" points=\"2033.59,1325.48 2176.39,1325.48 \"/>\n",
       "<path clip-path=\"url(#clip640)\" d=\"M2200.19 1308.2 L2204.87 1308.2 L2204.87 1322.36 L2221.86 1322.36 L2221.86 1308.2 L2226.54 1308.2 L2226.54 1342.76 L2221.86 1342.76 L2221.86 1326.3 L2204.87 1326.3 L2204.87 1342.76 L2200.19 1342.76 L2200.19 1308.2 Z\" fill=\"#000000\" fill-rule=\"nonzero\" fill-opacity=\"1\" /><path clip-path=\"url(#clip640)\" d=\"M2250.43 1324.12 Q2253.78 1324.84 2255.66 1327.11 Q2257.56 1329.38 2257.56 1332.71 Q2257.56 1337.82 2254.04 1340.63 Q2250.52 1343.43 2244.04 1343.43 Q2241.86 1343.43 2239.55 1342.99 Q2237.25 1342.57 2234.8 1341.71 L2234.8 1337.2 Q2236.75 1338.33 2239.06 1338.91 Q2241.37 1339.49 2243.9 1339.49 Q2248.3 1339.49 2250.59 1337.76 Q2252.9 1336.02 2252.9 1332.71 Q2252.9 1329.65 2250.75 1327.94 Q2248.62 1326.2 2244.8 1326.2 L2240.77 1326.2 L2240.77 1322.36 L2244.99 1322.36 Q2248.44 1322.36 2250.26 1321 Q2252.09 1319.61 2252.09 1317.01 Q2252.09 1314.35 2250.19 1312.94 Q2248.32 1311.51 2244.8 1311.51 Q2242.88 1311.51 2240.68 1311.92 Q2238.48 1312.34 2235.84 1313.22 L2235.84 1309.05 Q2238.5 1308.31 2240.82 1307.94 Q2243.16 1307.57 2245.22 1307.57 Q2250.54 1307.57 2253.64 1310 Q2256.75 1312.41 2256.75 1316.53 Q2256.75 1319.4 2255.1 1321.39 Q2253.46 1323.36 2250.43 1324.12 Z\" fill=\"#000000\" fill-rule=\"nonzero\" fill-opacity=\"1\" /></svg>\n"
      ],
      "text/html": [
       "<?xml version=\"1.0\" encoding=\"utf-8\"?>\n",
       "<svg xmlns=\"http://www.w3.org/2000/svg\" xmlns:xlink=\"http://www.w3.org/1999/xlink\" width=\"600\" height=\"400\" viewBox=\"0 0 2400 1600\">\n",
       "<defs>\n",
       "  <clipPath id=\"clip690\">\n",
       "    <rect x=\"0\" y=\"0\" width=\"2400\" height=\"1600\"/>\n",
       "  </clipPath>\n",
       "</defs>\n",
       "<path clip-path=\"url(#clip690)\" d=\"M0 1600 L2400 1600 L2400 0 L0 0  Z\" fill=\"#ffffff\" fill-rule=\"evenodd\" fill-opacity=\"1\"/>\n",
       "<defs>\n",
       "  <clipPath id=\"clip691\">\n",
       "    <rect x=\"480\" y=\"0\" width=\"1681\" height=\"1600\"/>\n",
       "  </clipPath>\n",
       "</defs>\n",
       "<path clip-path=\"url(#clip690)\" d=\"M210.746 1423.18 L2352.76 1423.18 L2352.76 47.2441 L210.746 47.2441  Z\" fill=\"#ffffff\" fill-rule=\"evenodd\" fill-opacity=\"1\"/>\n",
       "<defs>\n",
       "  <clipPath id=\"clip692\">\n",
       "    <rect x=\"210\" y=\"47\" width=\"2143\" height=\"1377\"/>\n",
       "  </clipPath>\n",
       "</defs>\n",
       "<polyline clip-path=\"url(#clip692)\" style=\"stroke:#000000; stroke-linecap:round; stroke-linejoin:round; stroke-width:2; stroke-opacity:0.1; fill:none\" points=\"271.369,1423.18 271.369,47.2441 \"/>\n",
       "<polyline clip-path=\"url(#clip692)\" style=\"stroke:#000000; stroke-linecap:round; stroke-linejoin:round; stroke-width:2; stroke-opacity:0.1; fill:none\" points=\"592.983,1423.18 592.983,47.2441 \"/>\n",
       "<polyline clip-path=\"url(#clip692)\" style=\"stroke:#000000; stroke-linecap:round; stroke-linejoin:round; stroke-width:2; stroke-opacity:0.1; fill:none\" points=\"914.598,1423.18 914.598,47.2441 \"/>\n",
       "<polyline clip-path=\"url(#clip692)\" style=\"stroke:#000000; stroke-linecap:round; stroke-linejoin:round; stroke-width:2; stroke-opacity:0.1; fill:none\" points=\"1236.21,1423.18 1236.21,47.2441 \"/>\n",
       "<polyline clip-path=\"url(#clip692)\" style=\"stroke:#000000; stroke-linecap:round; stroke-linejoin:round; stroke-width:2; stroke-opacity:0.1; fill:none\" points=\"1557.83,1423.18 1557.83,47.2441 \"/>\n",
       "<polyline clip-path=\"url(#clip692)\" style=\"stroke:#000000; stroke-linecap:round; stroke-linejoin:round; stroke-width:2; stroke-opacity:0.1; fill:none\" points=\"1879.44,1423.18 1879.44,47.2441 \"/>\n",
       "<polyline clip-path=\"url(#clip692)\" style=\"stroke:#000000; stroke-linecap:round; stroke-linejoin:round; stroke-width:2; stroke-opacity:0.1; fill:none\" points=\"2201.06,1423.18 2201.06,47.2441 \"/>\n",
       "<polyline clip-path=\"url(#clip690)\" style=\"stroke:#000000; stroke-linecap:round; stroke-linejoin:round; stroke-width:4; stroke-opacity:1; fill:none\" points=\"210.746,1423.18 2352.76,1423.18 \"/>\n",
       "<polyline clip-path=\"url(#clip690)\" style=\"stroke:#000000; stroke-linecap:round; stroke-linejoin:round; stroke-width:4; stroke-opacity:1; fill:none\" points=\"271.369,1423.18 271.369,1404.28 \"/>\n",
       "<polyline clip-path=\"url(#clip690)\" style=\"stroke:#000000; stroke-linecap:round; stroke-linejoin:round; stroke-width:4; stroke-opacity:1; fill:none\" points=\"592.983,1423.18 592.983,1404.28 \"/>\n",
       "<polyline clip-path=\"url(#clip690)\" style=\"stroke:#000000; stroke-linecap:round; stroke-linejoin:round; stroke-width:4; stroke-opacity:1; fill:none\" points=\"914.598,1423.18 914.598,1404.28 \"/>\n",
       "<polyline clip-path=\"url(#clip690)\" style=\"stroke:#000000; stroke-linecap:round; stroke-linejoin:round; stroke-width:4; stroke-opacity:1; fill:none\" points=\"1236.21,1423.18 1236.21,1404.28 \"/>\n",
       "<polyline clip-path=\"url(#clip690)\" style=\"stroke:#000000; stroke-linecap:round; stroke-linejoin:round; stroke-width:4; stroke-opacity:1; fill:none\" points=\"1557.83,1423.18 1557.83,1404.28 \"/>\n",
       "<polyline clip-path=\"url(#clip690)\" style=\"stroke:#000000; stroke-linecap:round; stroke-linejoin:round; stroke-width:4; stroke-opacity:1; fill:none\" points=\"1879.44,1423.18 1879.44,1404.28 \"/>\n",
       "<polyline clip-path=\"url(#clip690)\" style=\"stroke:#000000; stroke-linecap:round; stroke-linejoin:round; stroke-width:4; stroke-opacity:1; fill:none\" points=\"2201.06,1423.18 2201.06,1404.28 \"/>\n",
       "<path clip-path=\"url(#clip690)\" d=\"M271.369 1454.1 Q267.758 1454.1 265.929 1457.66 Q264.124 1461.2 264.124 1468.33 Q264.124 1475.44 265.929 1479.01 Q267.758 1482.55 271.369 1482.55 Q275.003 1482.55 276.809 1479.01 Q278.637 1475.44 278.637 1468.33 Q278.637 1461.2 276.809 1457.66 Q275.003 1454.1 271.369 1454.1 M271.369 1450.39 Q277.179 1450.39 280.235 1455 Q283.313 1459.58 283.313 1468.33 Q283.313 1477.06 280.235 1481.67 Q277.179 1486.25 271.369 1486.25 Q265.559 1486.25 262.48 1481.67 Q259.424 1477.06 259.424 1468.33 Q259.424 1459.58 262.48 1455 Q265.559 1450.39 271.369 1450.39 Z\" fill=\"#000000\" fill-rule=\"nonzero\" fill-opacity=\"1\" /><path clip-path=\"url(#clip690)\" d=\"M583.365 1481.64 L591.004 1481.64 L591.004 1455.28 L582.694 1456.95 L582.694 1452.69 L590.958 1451.02 L595.634 1451.02 L595.634 1481.64 L603.273 1481.64 L603.273 1485.58 L583.365 1485.58 L583.365 1481.64 Z\" fill=\"#000000\" fill-rule=\"nonzero\" fill-opacity=\"1\" /><path clip-path=\"url(#clip690)\" d=\"M909.251 1481.64 L925.57 1481.64 L925.57 1485.58 L903.626 1485.58 L903.626 1481.64 Q906.288 1478.89 910.871 1474.26 Q915.478 1469.61 916.658 1468.27 Q918.904 1465.74 919.783 1464.01 Q920.686 1462.25 920.686 1460.56 Q920.686 1457.8 918.742 1456.07 Q916.82 1454.33 913.718 1454.33 Q911.519 1454.33 909.066 1455.09 Q906.635 1455.86 903.857 1457.41 L903.857 1452.69 Q906.681 1451.55 909.135 1450.97 Q911.589 1450.39 913.626 1450.39 Q918.996 1450.39 922.191 1453.08 Q925.385 1455.77 925.385 1460.26 Q925.385 1462.39 924.575 1464.31 Q923.788 1466.2 921.681 1468.8 Q921.103 1469.47 918.001 1472.69 Q914.899 1475.88 909.251 1481.64 Z\" fill=\"#000000\" fill-rule=\"nonzero\" fill-opacity=\"1\" /><path clip-path=\"url(#clip690)\" d=\"M1240.46 1466.95 Q1243.82 1467.66 1245.69 1469.93 Q1247.59 1472.2 1247.59 1475.53 Q1247.59 1480.65 1244.07 1483.45 Q1240.55 1486.25 1234.07 1486.25 Q1231.9 1486.25 1229.58 1485.81 Q1227.29 1485.39 1224.84 1484.54 L1224.84 1480.02 Q1226.78 1481.16 1229.09 1481.74 Q1231.41 1482.32 1233.93 1482.32 Q1238.33 1482.32 1240.62 1480.58 Q1242.94 1478.84 1242.94 1475.53 Q1242.94 1472.48 1240.78 1470.77 Q1238.65 1469.03 1234.84 1469.03 L1230.81 1469.03 L1230.81 1465.19 L1235.02 1465.19 Q1238.47 1465.19 1240.3 1463.82 Q1242.13 1462.43 1242.13 1459.84 Q1242.13 1457.18 1240.23 1455.77 Q1238.35 1454.33 1234.84 1454.33 Q1232.91 1454.33 1230.72 1454.75 Q1228.52 1455.16 1225.88 1456.04 L1225.88 1451.88 Q1228.54 1451.14 1230.85 1450.77 Q1233.19 1450.39 1235.25 1450.39 Q1240.58 1450.39 1243.68 1452.83 Q1246.78 1455.23 1246.78 1459.35 Q1246.78 1462.22 1245.14 1464.21 Q1243.49 1466.18 1240.46 1466.95 Z\" fill=\"#000000\" fill-rule=\"nonzero\" fill-opacity=\"1\" /><path clip-path=\"url(#clip690)\" d=\"M1560.84 1455.09 L1549.03 1473.54 L1560.84 1473.54 L1560.84 1455.09 M1559.61 1451.02 L1565.49 1451.02 L1565.49 1473.54 L1570.42 1473.54 L1570.42 1477.43 L1565.49 1477.43 L1565.49 1485.58 L1560.84 1485.58 L1560.84 1477.43 L1545.23 1477.43 L1545.23 1472.92 L1559.61 1451.02 Z\" fill=\"#000000\" fill-rule=\"nonzero\" fill-opacity=\"1\" /><path clip-path=\"url(#clip690)\" d=\"M1869.72 1451.02 L1888.08 1451.02 L1888.08 1454.96 L1874 1454.96 L1874 1463.43 Q1875.02 1463.08 1876.04 1462.92 Q1877.06 1462.73 1878.08 1462.73 Q1883.86 1462.73 1887.24 1465.9 Q1890.62 1469.08 1890.62 1474.49 Q1890.62 1480.07 1887.15 1483.17 Q1883.68 1486.25 1877.36 1486.25 Q1875.18 1486.25 1872.91 1485.88 Q1870.67 1485.51 1868.26 1484.77 L1868.26 1480.07 Q1870.34 1481.2 1872.57 1481.76 Q1874.79 1482.32 1877.27 1482.32 Q1881.27 1482.32 1883.61 1480.21 Q1885.95 1478.1 1885.95 1474.49 Q1885.95 1470.88 1883.61 1468.77 Q1881.27 1466.67 1877.27 1466.67 Q1875.39 1466.67 1873.52 1467.08 Q1871.66 1467.5 1869.72 1468.38 L1869.72 1451.02 Z\" fill=\"#000000\" fill-rule=\"nonzero\" fill-opacity=\"1\" /><path clip-path=\"url(#clip690)\" d=\"M2201.46 1466.44 Q2198.31 1466.44 2196.46 1468.59 Q2194.63 1470.74 2194.63 1474.49 Q2194.63 1478.22 2196.46 1480.39 Q2198.31 1482.55 2201.46 1482.55 Q2204.61 1482.55 2206.44 1480.39 Q2208.29 1478.22 2208.29 1474.49 Q2208.29 1470.74 2206.44 1468.59 Q2204.61 1466.44 2201.46 1466.44 M2210.74 1451.78 L2210.74 1456.04 Q2208.98 1455.21 2207.18 1454.77 Q2205.4 1454.33 2203.64 1454.33 Q2199.01 1454.33 2196.55 1457.45 Q2194.12 1460.58 2193.78 1466.9 Q2195.14 1464.89 2197.2 1463.82 Q2199.26 1462.73 2201.74 1462.73 Q2206.95 1462.73 2209.96 1465.9 Q2212.99 1469.05 2212.99 1474.49 Q2212.99 1479.82 2209.84 1483.03 Q2206.69 1486.25 2201.46 1486.25 Q2195.47 1486.25 2192.29 1481.67 Q2189.12 1477.06 2189.12 1468.33 Q2189.12 1460.14 2193.01 1455.28 Q2196.9 1450.39 2203.45 1450.39 Q2205.21 1450.39 2206.99 1450.74 Q2208.8 1451.09 2210.74 1451.78 Z\" fill=\"#000000\" fill-rule=\"nonzero\" fill-opacity=\"1\" /><path clip-path=\"url(#clip690)\" d=\"M1291.87 1545.45 L1271.6 1545.45 Q1272.08 1554.96 1274.27 1559 Q1277.01 1563.97 1281.75 1563.97 Q1286.53 1563.97 1289.17 1558.97 Q1291.49 1554.58 1291.87 1545.45 M1291.78 1540.03 Q1290.89 1531 1289.17 1527.81 Q1286.43 1522.78 1281.75 1522.78 Q1276.88 1522.78 1274.3 1527.75 Q1272.27 1531.76 1271.66 1540.03 L1291.78 1540.03 M1281.75 1518.01 Q1289.39 1518.01 1293.75 1524.76 Q1298.11 1531.47 1298.11 1543.38 Q1298.11 1555.25 1293.75 1562 Q1289.39 1568.78 1281.75 1568.78 Q1274.08 1568.78 1269.75 1562 Q1265.39 1555.25 1265.39 1543.38 Q1265.39 1531.47 1269.75 1524.76 Q1274.08 1518.01 1281.75 1518.01 Z\" fill=\"#000000\" fill-rule=\"nonzero\" fill-opacity=\"1\" /><polyline clip-path=\"url(#clip692)\" style=\"stroke:#000000; stroke-linecap:round; stroke-linejoin:round; stroke-width:2; stroke-opacity:0.1; fill:none\" points=\"210.746,1384.57 2352.76,1384.57 \"/>\n",
       "<polyline clip-path=\"url(#clip692)\" style=\"stroke:#000000; stroke-linecap:round; stroke-linejoin:round; stroke-width:2; stroke-opacity:0.1; fill:none\" points=\"210.746,1059.97 2352.76,1059.97 \"/>\n",
       "<polyline clip-path=\"url(#clip692)\" style=\"stroke:#000000; stroke-linecap:round; stroke-linejoin:round; stroke-width:2; stroke-opacity:0.1; fill:none\" points=\"210.746,735.375 2352.76,735.375 \"/>\n",
       "<polyline clip-path=\"url(#clip692)\" style=\"stroke:#000000; stroke-linecap:round; stroke-linejoin:round; stroke-width:2; stroke-opacity:0.1; fill:none\" points=\"210.746,410.781 2352.76,410.781 \"/>\n",
       "<polyline clip-path=\"url(#clip692)\" style=\"stroke:#000000; stroke-linecap:round; stroke-linejoin:round; stroke-width:2; stroke-opacity:0.1; fill:none\" points=\"210.746,86.1857 2352.76,86.1857 \"/>\n",
       "<polyline clip-path=\"url(#clip690)\" style=\"stroke:#000000; stroke-linecap:round; stroke-linejoin:round; stroke-width:4; stroke-opacity:1; fill:none\" points=\"210.746,1423.18 210.746,47.2441 \"/>\n",
       "<polyline clip-path=\"url(#clip690)\" style=\"stroke:#000000; stroke-linecap:round; stroke-linejoin:round; stroke-width:4; stroke-opacity:1; fill:none\" points=\"210.746,1384.57 229.644,1384.57 \"/>\n",
       "<polyline clip-path=\"url(#clip690)\" style=\"stroke:#000000; stroke-linecap:round; stroke-linejoin:round; stroke-width:4; stroke-opacity:1; fill:none\" points=\"210.746,1059.97 229.644,1059.97 \"/>\n",
       "<polyline clip-path=\"url(#clip690)\" style=\"stroke:#000000; stroke-linecap:round; stroke-linejoin:round; stroke-width:4; stroke-opacity:1; fill:none\" points=\"210.746,735.375 229.644,735.375 \"/>\n",
       "<polyline clip-path=\"url(#clip690)\" style=\"stroke:#000000; stroke-linecap:round; stroke-linejoin:round; stroke-width:4; stroke-opacity:1; fill:none\" points=\"210.746,410.781 229.644,410.781 \"/>\n",
       "<polyline clip-path=\"url(#clip690)\" style=\"stroke:#000000; stroke-linecap:round; stroke-linejoin:round; stroke-width:4; stroke-opacity:1; fill:none\" points=\"210.746,86.1857 229.644,86.1857 \"/>\n",
       "<path clip-path=\"url(#clip690)\" d=\"M114.631 1385.02 L144.306 1385.02 L144.306 1388.95 L114.631 1388.95 L114.631 1385.02 Z\" fill=\"#000000\" fill-rule=\"nonzero\" fill-opacity=\"1\" /><path clip-path=\"url(#clip690)\" d=\"M158.427 1397.91 L174.746 1397.91 L174.746 1401.85 L152.802 1401.85 L152.802 1397.91 Q155.464 1395.16 160.047 1390.53 Q164.653 1385.87 165.834 1384.53 Q168.079 1382.01 168.959 1380.27 Q169.862 1378.51 169.862 1376.82 Q169.862 1374.07 167.917 1372.33 Q165.996 1370.6 162.894 1370.6 Q160.695 1370.6 158.241 1371.36 Q155.811 1372.12 153.033 1373.67 L153.033 1368.95 Q155.857 1367.82 158.311 1367.24 Q160.765 1366.66 162.802 1366.66 Q168.172 1366.66 171.366 1369.35 Q174.561 1372.03 174.561 1376.52 Q174.561 1378.65 173.751 1380.57 Q172.964 1382.47 170.857 1385.06 Q170.278 1385.73 167.177 1388.95 Q164.075 1392.15 158.427 1397.91 Z\" fill=\"#000000\" fill-rule=\"nonzero\" fill-opacity=\"1\" /><path clip-path=\"url(#clip690)\" d=\"M114.26 1060.42 L143.936 1060.42 L143.936 1064.36 L114.26 1064.36 L114.26 1060.42 Z\" fill=\"#000000\" fill-rule=\"nonzero\" fill-opacity=\"1\" /><path clip-path=\"url(#clip690)\" d=\"M154.839 1073.32 L162.477 1073.32 L162.477 1046.95 L154.167 1048.62 L154.167 1044.36 L162.431 1042.69 L167.107 1042.69 L167.107 1073.32 L174.746 1073.32 L174.746 1077.25 L154.839 1077.25 L154.839 1073.32 Z\" fill=\"#000000\" fill-rule=\"nonzero\" fill-opacity=\"1\" /><path clip-path=\"url(#clip690)\" d=\"M162.802 721.174 Q159.19 721.174 157.362 724.739 Q155.556 728.281 155.556 735.41 Q155.556 742.517 157.362 746.081 Q159.19 749.623 162.802 749.623 Q166.436 749.623 168.241 746.081 Q170.07 742.517 170.07 735.41 Q170.07 728.281 168.241 724.739 Q166.436 721.174 162.802 721.174 M162.802 717.47 Q168.612 717.47 171.667 722.077 Q174.746 726.66 174.746 735.41 Q174.746 744.137 171.667 748.743 Q168.612 753.327 162.802 753.327 Q156.991 753.327 153.913 748.743 Q150.857 744.137 150.857 735.41 Q150.857 726.66 153.913 722.077 Q156.991 717.47 162.802 717.47 Z\" fill=\"#000000\" fill-rule=\"nonzero\" fill-opacity=\"1\" /><path clip-path=\"url(#clip690)\" d=\"M154.839 424.125 L162.477 424.125 L162.477 397.76 L154.167 399.426 L154.167 395.167 L162.431 393.501 L167.107 393.501 L167.107 424.125 L174.746 424.125 L174.746 428.061 L154.839 428.061 L154.839 424.125 Z\" fill=\"#000000\" fill-rule=\"nonzero\" fill-opacity=\"1\" /><path clip-path=\"url(#clip690)\" d=\"M158.427 99.5305 L174.746 99.5305 L174.746 103.466 L152.802 103.466 L152.802 99.5305 Q155.464 96.7759 160.047 92.1463 Q164.653 87.4935 165.834 86.151 Q168.079 83.6278 168.959 81.8917 Q169.862 80.1325 169.862 78.4427 Q169.862 75.688 167.917 73.9519 Q165.996 72.2158 162.894 72.2158 Q160.695 72.2158 158.241 72.9797 Q155.811 73.7436 153.033 75.2945 L153.033 70.5723 Q155.857 69.4381 158.311 68.8594 Q160.765 68.2807 162.802 68.2807 Q168.172 68.2807 171.366 70.9658 Q174.561 73.651 174.561 78.1417 Q174.561 80.2714 173.751 82.1926 Q172.964 84.0908 170.857 86.6834 Q170.278 87.3546 167.177 90.5722 Q164.075 93.7667 158.427 99.5305 Z\" fill=\"#000000\" fill-rule=\"nonzero\" fill-opacity=\"1\" /><path clip-path=\"url(#clip690)\" d=\"M16.4842 922.236 L16.4842 892.19 L21.895 892.19 L21.895 915.807 L35.9632 915.807 L35.9632 893.177 L41.3741 893.177 L41.3741 915.807 L58.5933 915.807 L58.5933 891.617 L64.0042 891.617 L64.0042 922.236 L16.4842 922.236 Z\" fill=\"#000000\" fill-rule=\"nonzero\" fill-opacity=\"1\" /><path clip-path=\"url(#clip690)\" d=\"M42.4881 851.673 L64.0042 851.673 L64.0042 857.529 L42.679 857.529 Q37.6183 857.529 35.1038 859.502 Q32.5894 861.476 32.5894 865.422 Q32.5894 870.165 35.6131 872.902 Q38.6368 875.639 43.8567 875.639 L64.0042 875.639 L64.0042 881.528 L28.3562 881.528 L28.3562 875.639 L33.8944 875.639 Q30.6797 873.539 29.0883 870.706 Q27.4968 867.841 27.4968 864.118 Q27.4968 857.975 31.3163 854.824 Q35.1038 851.673 42.4881 851.673 Z\" fill=\"#000000\" fill-rule=\"nonzero\" fill-opacity=\"1\" /><path clip-path=\"url(#clip690)\" d=\"M44.7161 809.5 L47.5806 809.5 L47.5806 836.427 Q53.6281 836.045 56.8109 832.798 Q59.9619 829.52 59.9619 823.695 Q59.9619 820.321 59.1344 817.17 Q58.3069 813.988 56.6518 810.868 L62.1899 810.868 Q63.5267 814.019 64.227 817.33 Q64.9272 820.64 64.9272 824.045 Q64.9272 832.575 59.9619 837.573 Q54.9967 842.538 46.5303 842.538 Q37.7774 842.538 32.6531 837.827 Q27.4968 833.085 27.4968 825.064 Q27.4968 817.871 32.1438 813.701 Q36.7589 809.5 44.7161 809.5 M42.9973 815.356 Q38.1912 815.42 35.3266 818.062 Q32.4621 820.672 32.4621 825 Q32.4621 829.902 35.2312 832.862 Q38.0002 835.79 43.0292 836.236 L42.9973 815.356 Z\" fill=\"#000000\" fill-rule=\"nonzero\" fill-opacity=\"1\" /><path clip-path=\"url(#clip690)\" d=\"M33.8307 779.231 Q33.2578 780.218 33.0032 781.395 Q32.7167 782.541 32.7167 783.941 Q32.7167 788.907 35.9632 791.58 Q39.1779 794.222 45.2253 794.222 L64.0042 794.222 L64.0042 800.11 L28.3562 800.11 L28.3562 794.222 L33.8944 794.222 Q30.6479 792.376 29.0883 789.416 Q27.4968 786.456 27.4968 782.223 Q27.4968 781.618 27.5923 780.886 Q27.656 780.154 27.8151 779.263 L33.8307 779.231 Z\" fill=\"#000000\" fill-rule=\"nonzero\" fill-opacity=\"1\" /><path clip-path=\"url(#clip690)\" d=\"M45.7664 750.776 Q39.4007 750.776 35.8996 753.418 Q32.3984 756.028 32.3984 760.77 Q32.3984 765.481 35.8996 768.123 Q39.4007 770.733 45.7664 770.733 Q52.1003 770.733 55.6014 768.123 Q59.1026 765.481 59.1026 760.77 Q59.1026 756.028 55.6014 753.418 Q52.1003 750.776 45.7664 750.776 M59.58 744.92 Q68.683 744.92 73.1071 748.962 Q77.5631 753.004 77.5631 761.343 Q77.5631 764.431 77.0857 767.168 Q76.6401 769.905 75.6852 772.483 L69.9879 772.483 Q71.3884 769.905 72.0568 767.391 Q72.7252 764.876 72.7252 762.266 Q72.7252 756.505 69.7015 753.641 Q66.7096 750.776 60.6303 750.776 L57.7339 750.776 Q60.885 752.59 62.4446 755.423 Q64.0042 758.256 64.0042 762.203 Q64.0042 768.759 59.0071 772.77 Q54.01 776.78 45.7664 776.78 Q37.491 776.78 32.4939 772.77 Q27.4968 768.759 27.4968 762.203 Q27.4968 758.256 29.0564 755.423 Q30.616 752.59 33.7671 750.776 L28.3562 750.776 L28.3562 744.92 L59.58 744.92 Z\" fill=\"#000000\" fill-rule=\"nonzero\" fill-opacity=\"1\" /><path clip-path=\"url(#clip690)\" d=\"M67.3143 718.025 Q73.68 720.507 75.6216 722.862 Q77.5631 725.218 77.5631 729.165 L77.5631 733.843 L72.6615 733.843 L72.6615 730.406 Q72.6615 727.987 71.5157 726.65 Q70.3699 725.313 66.1048 723.69 L63.4312 722.64 L28.3562 737.058 L28.3562 730.851 L56.238 719.711 L28.3562 708.571 L28.3562 702.365 L67.3143 718.025 Z\" fill=\"#000000\" fill-rule=\"nonzero\" fill-opacity=\"1\" /><path clip-path=\"url(#clip690)\" d=\"M16.4842 663.152 L16.4842 657.741 L70.0516 674.292 L70.0516 679.703 L16.4842 663.152 Z\" fill=\"#000000\" fill-rule=\"nonzero\" fill-opacity=\"1\" /><path clip-path=\"url(#clip690)\" d=\"M16.4842 651.344 L16.4842 621.298 L21.895 621.298 L21.895 644.914 L35.9632 644.914 L35.9632 622.284 L41.3741 622.284 L41.3741 644.914 L58.5933 644.914 L58.5933 620.725 L64.0042 620.725 L64.0042 651.344 L16.4842 651.344 Z\" fill=\"#000000\" fill-rule=\"nonzero\" fill-opacity=\"1\" /><path clip-path=\"url(#clip690)\" d=\"M74.8259 583.326 L79.3773 583.326 L79.3773 617.192 L74.8259 617.192 L74.8259 583.326 Z\" fill=\"#000000\" fill-rule=\"nonzero\" fill-opacity=\"1\" /><path clip-path=\"url(#clip690)\" d=\"M42.4881 548.188 L64.0042 548.188 L64.0042 554.044 L42.679 554.044 Q37.6183 554.044 35.1038 556.017 Q32.5894 557.991 32.5894 561.937 Q32.5894 566.68 35.6131 569.417 Q38.6368 572.154 43.8567 572.154 L64.0042 572.154 L64.0042 578.043 L14.479 578.043 L14.479 572.154 L33.8944 572.154 Q30.6797 570.054 29.0883 567.221 Q27.4968 564.356 27.4968 560.632 Q27.4968 554.49 31.3163 551.339 Q35.1038 548.188 42.4881 548.188 Z\" fill=\"#000000\" fill-rule=\"nonzero\" fill-opacity=\"1\" /><polyline clip-path=\"url(#clip692)\" style=\"stroke:#009af9; stroke-linecap:round; stroke-linejoin:round; stroke-width:4; stroke-opacity:1; fill:none\" points=\"271.369,86.1857 291.781,87.4927 312.192,91.4085 332.604,97.9174 353.016,106.993 373.428,118.599 393.839,132.688 414.251,149.205 434.663,168.081 455.075,189.242 475.486,212.602 495.898,238.067 516.31,265.535 536.722,294.894 557.133,326.027 577.545,358.808 597.957,393.106 618.369,428.782 638.781,465.692 659.192,503.689 679.604,542.618 700.016,582.323 720.428,622.645 740.839,663.42 761.251,704.486 781.663,745.675 802.075,786.824 822.486,827.765 842.898,868.334 863.31,908.367 883.722,947.705 904.133,986.187 924.545,1023.66 944.957,1059.97 965.369,1094.97 985.78,1128.53 1006.19,1160.5 1026.6,1190.77 1047.02,1219.19 1067.43,1245.67 1087.84,1270.1 1108.25,1292.37 1128.66,1312.4 1149.07,1330.1 1169.49,1345.41 1189.9,1358.27 1210.31,1368.61 1230.72,1376.41 1251.13,1381.63 1271.55,1384.24 1291.96,1384.24 1312.37,1381.63 1332.78,1376.41 1353.19,1368.61 1373.6,1358.27 1394.02,1345.41 1414.43,1330.1 1434.84,1312.4 1455.25,1292.37 1475.66,1270.1 1496.07,1245.67 1516.49,1219.19 1536.9,1190.77 1557.31,1160.5 1577.72,1128.53 1598.13,1094.97 1618.54,1059.97 1638.96,1023.66 1659.37,986.187 1679.78,947.705 1700.19,908.367 1720.6,868.334 1741.02,827.765 1761.43,786.824 1781.84,745.675 1802.25,704.486 1822.66,663.42 1843.07,622.645 1863.49,582.323 1883.9,542.618 1904.31,503.689 1924.72,465.692 1945.13,428.782 1965.54,393.106 1985.96,358.808 2006.37,326.027 2026.78,294.894 2047.19,265.535 2067.6,238.067 2088.02,212.602 2108.43,189.242 2128.84,168.081 2149.25,149.205 2169.66,132.688 2190.07,118.599 2210.49,106.993 2230.9,97.9174 2251.31,91.4085 2271.72,87.4927 2292.13,86.1857 \"/>\n",
       "<polyline clip-path=\"url(#clip692)\" style=\"stroke:#e26f46; stroke-linecap:round; stroke-linejoin:round; stroke-width:4; stroke-opacity:1; fill:none\" points=\"271.369,735.375 291.781,714.788 312.192,694.284 332.604,673.945 353.016,653.854 373.428,634.091 393.839,614.736 414.251,595.866 434.663,577.558 455.075,559.886 475.486,542.921 495.898,526.73 516.31,511.379 536.722,496.931 557.133,483.442 577.545,470.968 597.957,459.559 618.369,449.26 638.781,440.114 659.192,432.156 679.604,425.419 700.016,419.93 720.428,415.712 740.839,412.781 761.251,411.148 781.663,410.821 802.075,411.801 822.486,414.084 842.898,417.661 863.31,422.517 883.722,428.633 904.133,435.984 924.545,444.54 944.957,454.268 965.369,465.127 985.78,477.075 1006.19,490.063 1026.6,504.039 1047.02,518.946 1067.43,534.724 1087.84,551.311 1108.25,568.638 1128.66,586.637 1149.07,605.235 1169.49,624.357 1189.9,643.926 1210.31,663.864 1230.72,684.089 1251.13,704.521 1271.55,725.077 1291.96,745.674 1312.37,766.23 1332.78,786.662 1353.19,806.887 1373.6,826.824 1394.02,846.393 1414.43,865.515 1434.84,884.113 1455.25,902.112 1475.66,919.44 1496.07,936.027 1516.49,951.805 1536.9,966.712 1557.31,980.688 1577.72,993.676 1598.13,1005.62 1618.54,1016.48 1638.96,1026.21 1659.37,1034.77 1679.78,1042.12 1700.19,1048.23 1720.6,1053.09 1741.02,1056.67 1761.43,1058.95 1781.84,1059.93 1802.25,1059.6 1822.66,1057.97 1843.07,1055.04 1863.49,1050.82 1883.9,1045.33 1904.31,1038.59 1924.72,1030.64 1945.13,1021.49 1965.54,1011.19 1985.96,999.783 2006.37,987.309 2026.78,973.82 2047.19,959.371 2067.6,944.021 2088.02,927.83 2108.43,910.865 2128.84,893.192 2149.25,874.885 2169.66,856.015 2190.07,836.66 2210.49,816.897 2230.9,796.805 2251.31,776.467 2271.72,755.962 2292.13,735.375 \"/>\n",
       "<polyline clip-path=\"url(#clip692)\" style=\"stroke:#3da44d; stroke-linecap:round; stroke-linejoin:round; stroke-width:4; stroke-opacity:1; fill:none\" points=\"271.369,410.781 291.781,410.781 312.192,410.781 332.604,410.781 353.016,410.781 373.428,410.781 393.839,410.781 414.251,410.781 434.663,410.781 455.075,410.781 475.486,410.781 495.898,410.781 516.31,410.781 536.722,410.781 557.133,410.781 577.545,410.781 597.957,410.781 618.369,410.781 638.781,410.781 659.192,410.781 679.604,410.781 700.016,410.781 720.428,410.781 740.839,410.781 761.251,410.781 781.663,410.781 802.075,410.781 822.486,410.781 842.898,410.781 863.31,410.781 883.722,410.781 904.133,410.781 924.545,410.781 944.957,410.781 965.369,410.781 985.78,410.781 1006.19,410.781 1026.6,410.781 1047.02,410.781 1067.43,410.781 1087.84,410.781 1108.25,410.781 1128.66,410.781 1149.07,410.781 1169.49,410.781 1189.9,410.781 1210.31,410.781 1230.72,410.781 1251.13,410.781 1271.55,410.781 1291.96,410.781 1312.37,410.781 1332.78,410.781 1353.19,410.781 1373.6,410.781 1394.02,410.781 1414.43,410.781 1434.84,410.781 1455.25,410.781 1475.66,410.781 1496.07,410.781 1516.49,410.781 1536.9,410.781 1557.31,410.781 1577.72,410.781 1598.13,410.781 1618.54,410.781 1638.96,410.781 1659.37,410.781 1679.78,410.781 1700.19,410.781 1720.6,410.781 1741.02,410.781 1761.43,410.781 1781.84,410.781 1802.25,410.781 1822.66,410.781 1843.07,410.781 1863.49,410.781 1883.9,410.781 1904.31,410.781 1924.72,410.781 1945.13,410.781 1965.54,410.781 1985.96,410.781 2006.37,410.781 2026.78,410.781 2047.19,410.781 2067.6,410.781 2088.02,410.781 2108.43,410.781 2128.84,410.781 2149.25,410.781 2169.66,410.781 2190.07,410.781 2210.49,410.781 2230.9,410.781 2251.31,410.781 2271.72,410.781 2292.13,410.781 \"/>\n",
       "<path clip-path=\"url(#clip690)\" d=\"M2009.79 1377.32 L2281.36 1377.32 L2281.36 1169.96 L2009.79 1169.96  Z\" fill=\"#ffffff\" fill-rule=\"evenodd\" fill-opacity=\"1\"/>\n",
       "<polyline clip-path=\"url(#clip690)\" style=\"stroke:#000000; stroke-linecap:round; stroke-linejoin:round; stroke-width:4; stroke-opacity:1; fill:none\" points=\"2009.79,1377.32 2281.36,1377.32 2281.36,1169.96 2009.79,1169.96 2009.79,1377.32 \"/>\n",
       "<polyline clip-path=\"url(#clip690)\" style=\"stroke:#009af9; stroke-linecap:round; stroke-linejoin:round; stroke-width:4; stroke-opacity:1; fill:none\" points=\"2033.59,1221.8 2176.39,1221.8 \"/>\n",
       "<path clip-path=\"url(#clip690)\" d=\"M2200.19 1204.52 L2204.87 1204.52 L2204.87 1218.68 L2221.86 1218.68 L2221.86 1204.52 L2226.54 1204.52 L2226.54 1239.08 L2221.86 1239.08 L2221.86 1222.62 L2204.87 1222.62 L2204.87 1239.08 L2200.19 1239.08 L2200.19 1204.52 Z\" fill=\"#000000\" fill-rule=\"nonzero\" fill-opacity=\"1\" /><path clip-path=\"url(#clip690)\" d=\"M2237.07 1235.14 L2244.71 1235.14 L2244.71 1208.77 L2236.4 1210.44 L2236.4 1206.18 L2244.66 1204.52 L2249.34 1204.52 L2249.34 1235.14 L2256.98 1235.14 L2256.98 1239.08 L2237.07 1239.08 L2237.07 1235.14 Z\" fill=\"#000000\" fill-rule=\"nonzero\" fill-opacity=\"1\" /><polyline clip-path=\"url(#clip690)\" style=\"stroke:#e26f46; stroke-linecap:round; stroke-linejoin:round; stroke-width:4; stroke-opacity:1; fill:none\" points=\"2033.59,1273.64 2176.39,1273.64 \"/>\n",
       "<path clip-path=\"url(#clip690)\" d=\"M2200.19 1256.36 L2204.87 1256.36 L2204.87 1270.52 L2221.86 1270.52 L2221.86 1256.36 L2226.54 1256.36 L2226.54 1290.92 L2221.86 1290.92 L2221.86 1274.46 L2204.87 1274.46 L2204.87 1290.92 L2200.19 1290.92 L2200.19 1256.36 Z\" fill=\"#000000\" fill-rule=\"nonzero\" fill-opacity=\"1\" /><path clip-path=\"url(#clip690)\" d=\"M2240.29 1286.98 L2256.61 1286.98 L2256.61 1290.92 L2234.66 1290.92 L2234.66 1286.98 Q2237.32 1284.23 2241.91 1279.6 Q2246.51 1274.94 2247.69 1273.6 Q2249.94 1271.08 2250.82 1269.34 Q2251.72 1267.58 2251.72 1265.89 Q2251.72 1263.14 2249.78 1261.4 Q2247.86 1259.67 2244.75 1259.67 Q2242.56 1259.67 2240.1 1260.43 Q2237.67 1261.19 2234.89 1262.74 L2234.89 1258.02 Q2237.72 1256.89 2240.17 1256.31 Q2242.62 1255.73 2244.66 1255.73 Q2250.03 1255.73 2253.23 1258.42 Q2256.42 1261.1 2256.42 1265.59 Q2256.42 1267.72 2255.61 1269.64 Q2254.82 1271.54 2252.72 1274.13 Q2252.14 1274.8 2249.04 1278.02 Q2245.94 1281.22 2240.29 1286.98 Z\" fill=\"#000000\" fill-rule=\"nonzero\" fill-opacity=\"1\" /><polyline clip-path=\"url(#clip690)\" style=\"stroke:#3da44d; stroke-linecap:round; stroke-linejoin:round; stroke-width:4; stroke-opacity:1; fill:none\" points=\"2033.59,1325.48 2176.39,1325.48 \"/>\n",
       "<path clip-path=\"url(#clip690)\" d=\"M2200.19 1308.2 L2204.87 1308.2 L2204.87 1322.36 L2221.86 1322.36 L2221.86 1308.2 L2226.54 1308.2 L2226.54 1342.76 L2221.86 1342.76 L2221.86 1326.3 L2204.87 1326.3 L2204.87 1342.76 L2200.19 1342.76 L2200.19 1308.2 Z\" fill=\"#000000\" fill-rule=\"nonzero\" fill-opacity=\"1\" /><path clip-path=\"url(#clip690)\" d=\"M2250.43 1324.12 Q2253.78 1324.84 2255.66 1327.11 Q2257.56 1329.38 2257.56 1332.71 Q2257.56 1337.82 2254.04 1340.63 Q2250.52 1343.43 2244.04 1343.43 Q2241.86 1343.43 2239.55 1342.99 Q2237.25 1342.57 2234.8 1341.71 L2234.8 1337.2 Q2236.75 1338.33 2239.06 1338.91 Q2241.37 1339.49 2243.9 1339.49 Q2248.3 1339.49 2250.59 1337.76 Q2252.9 1336.02 2252.9 1332.71 Q2252.9 1329.65 2250.75 1327.94 Q2248.62 1326.2 2244.8 1326.2 L2240.77 1326.2 L2240.77 1322.36 L2244.99 1322.36 Q2248.44 1322.36 2250.26 1321 Q2252.09 1319.61 2252.09 1317.01 Q2252.09 1314.35 2250.19 1312.94 Q2248.32 1311.51 2244.8 1311.51 Q2242.88 1311.51 2240.68 1311.92 Q2238.48 1312.34 2235.84 1313.22 L2235.84 1309.05 Q2238.5 1308.31 2240.82 1307.94 Q2243.16 1307.57 2245.22 1307.57 Q2250.54 1307.57 2253.64 1310 Q2256.75 1312.41 2256.75 1316.53 Q2256.75 1319.4 2255.1 1321.39 Q2253.46 1323.36 2250.43 1324.12 Z\" fill=\"#000000\" fill-rule=\"nonzero\" fill-opacity=\"1\" /></svg>\n"
      ]
     },
     "metadata": {},
     "output_type": "display_data"
    }
   ],
   "source": [
    "# loop over thetas 100 points from 0 to 2pi\n",
    "th_grid = range(0, stop=2*pi, length=100)\n",
    "energy_grid = zeros(100)\n",
    "#for i in 1:100\n",
    "#    energy_grid[i] = energy_estimate(th_grid[i])\n",
    "#end\n",
    "# plot the energy vs theta in julia \n",
    "plot(th_grid, energy_grid, label=\"Energy estimate\", xlabel=\"θ\", ylabel=\"Energy /E_h\")\n",
    "# plot the energy terms\n",
    "energy_grid = zeros(100)\n",
    "energy_terms = zeros(100, 3)\n",
    "for i in 1:100\n",
    "    energy_grid[i],energy_terms[i, 1],\n",
    "    energy_terms[i, 2],energy_terms[i, 3] = energy_estimate(th_grid[i])\n",
    "end\n",
    "plot(th_grid, energy_terms[:, 1], label=\"H1\", xlabel=\"θ\", ylabel=\"Energy /E_h\")\n",
    "plot!(th_grid, energy_terms[:, 2], label=\"H2\", xlabel=\"θ\", ylabel=\"Energy /E_h\")\n",
    "plot!(th_grid, energy_terms[:, 3], label=\"H3\", xlabel=\"θ\", ylabel=\"Energy /E_h\")\n"
   ]
  },
  {
   "cell_type": "code",
   "execution_count": null,
   "metadata": {},
   "outputs": [],
   "source": [
    "# multiply the following tensorically \n",
    "A = [1 1;0 1];\n",
    "B = [0; 1; 1];\n",
    "\n",
    "# A \\otimes B\n",
    "C = kron(A,B)\n",
    "\n",
    "U = [1/sqrt(2) 1/sqrt(2); -1im/sqrt(2) 1im/sqrt(2)]\n",
    "\n",
    "# Show U is unitary\n",
    "@show U*U'\n",
    "\n",
    "# calcualte complete conjugate transpose\n",
    "@show U'"
   ]
  },
  {
   "cell_type": "code",
   "execution_count": null,
   "metadata": {},
   "outputs": [],
   "source": [
    "# write test function to check if a matrix is unitary\n",
    "q.H'-q.H"
   ]
  },
  {
   "cell_type": "code",
   "execution_count": null,
   "metadata": {},
   "outputs": [],
   "source": []
  }
 ],
 "metadata": {
  "kernelspec": {
   "display_name": "Julia 1.9.1",
   "language": "julia",
   "name": "julia-1.9"
  },
  "language_info": {
   "file_extension": ".jl",
   "mimetype": "application/julia",
   "name": "julia",
   "version": "1.9.1"
  }
 },
 "nbformat": 4,
 "nbformat_minor": 2
}
