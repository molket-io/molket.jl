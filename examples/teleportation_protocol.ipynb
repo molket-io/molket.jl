{
 "cells": [
  {
   "cell_type": "markdown",
   "metadata": {
    "vscode": {
     "languageId": "julia"
    }
   },
   "source": [
    "The following MIT license only applies to the code, and not to the text and images.\n",
    "\n",
    "# MIT License\n",
    "\n",
    "Copyright (c) 2024 Taha Selim, Alain Chancé, MolKet\n",
    "\n",
    "Permission is hereby granted, free of charge, to any person obtaining a copy\n",
    "of this software and associated documentation files (the \"Software\"), to deal\n",
    "in the Software without restriction, including without limitation the rights\n",
    "to use, copy, modify, merge, publish, distribute, sublicense, and/or sell\n",
    "copies of the Software, and to permit persons to whom the Software is\n",
    "furnished to do so, subject to the following conditions:\n",
    "\n",
    "The above copyright notice and this permission notice shall be included in all\n",
    "copies or substantial portions of the Software.\n",
    "\n",
    "THE SOFTWARE IS PROVIDED \"AS IS\", WITHOUT WARRANTY OF ANY KIND, EXPRESS OR\n",
    "IMPLIED, INCLUDING BUT NOT LIMITED TO THE WARRANTIES OF MERCHANTABILITY,\n",
    "FITNESS FOR A PARTICULAR PURPOSE AND NONINFRINGEMENT. IN NO EVENT SHALL THE\n",
    "AUTHORS OR COPYRIGHT HOLDERS BE LIABLE FOR ANY CLAIM, DAMAGES OR OTHER\n",
    "LIABILITY, WHETHER IN AN ACTION OF CONTRACT, TORT OR OTHERWISE, ARISING FROM,\n",
    "OUT OF OR IN CONNECTION WITH THE SOFTWARE OR THE USE OR OTHER DEALINGS IN THE\n",
    "SOFTWARE."
   ]
  },
  {
   "cell_type": "markdown",
   "metadata": {},
   "source": [
    "|||\n",
    "|-|-|\n",
    "|**Author:** |Taha Selim|\n",
    "|**Date:** |June 10th, 2024|\n",
    "|**Tutorial:** |**Version 0** <br/>Quantum Teleportation Protocol*|\n",
    "|**License:** |MIT License|\n",
    "|**MolKet's package version:** |0.2|\n",
    "|**Contact:** | tahaselim@molket.io\n"
   ]
  },
  {
   "cell_type": "markdown",
   "metadata": {},
   "source": [
    "# Quantum Teleportation Protocol"
   ]
  },
  {
   "cell_type": "markdown",
   "metadata": {},
   "source": [
    "Quantum teleportation is a protocol that allows the transfer of quantum information from one qubit to another. Alice wants to send a qubit state to Bob. The quantum teleportation protocol uses two classical bits and an entangled pair of qubits to transfer the state of a qubit from Alice to Bob. The protocol consists of four main steps:\n",
    "\n",
    "1. **Creating an entangled pair of qubits**: Alice and Bob share an entangled pair of qubits. Each qubit is in a Bell state, which is a superposition of the 0 and 1 states. \n",
    "\n",
    "2. **Applying a CNOT gate**: Alice applies a CNOT gate to her second qubit, controlled by the information qubit she wants to send, and the target qubit is her half of the entangled pair.\n",
    "\n",
    "3. **Applying a Hadamard gate**: Alice applies a Hadamard gate to the information qubit.\n",
    "\n",
    "4. **Measuring the qubits**: Alice measures the two qubits she has, and the results are sent to Bob. Bob uses this information to recover the state of the information qubit."
   ]
  },
  {
   "cell_type": "code",
   "execution_count": 1,
   "metadata": {},
   "outputs": [
    {
     "name": "stdout",
     "output_type": "stream",
     "text": [
      "Load quantum gates constructor\n",
      "Load Tensor module: QTensor.jl\n",
      "Load quantum gates constructor\n",
      "Load quantum_circuit constructor\n",
      "Load quantum_circuit constructor\n",
      "Load quantum gates constructor\n",
      "Load Tensor module: QTensor.jl\n",
      "Load quantum gates constructor\n",
      "Load quantum_circuit constructor\n",
      "Load quantum gates constructor\n",
      "Load Tensor module: QTensor.jl\n",
      "Load quantum gates constructor\n",
      "Load quantum_circuit constructor\n",
      "Load quantum gates constructor\n",
      "Load Tensor module: QTensor.jl\n",
      "Load quantum gates constructor\n",
      "Load quantum_circuit constructor\n",
      "Load quantum_circuit constructor\n",
      "Load quantum_circuit constructor\n",
      "Load quantum_circuit constructor\n",
      "Load quantum_circuit constructor\n"
     ]
    }
   ],
   "source": [
    "include(\"../molket.jl\")\n"
   ]
  },
  {
   "cell_type": "markdown",
   "metadata": {},
   "source": [
    "Let's now implement the quantum teleportation protocol using MolKet's quantum computing package. We will create a quantum circuit that simulates the teleportation of a qubit state from Alice to Bob.\n",
    "\n",
    "But before we start, let's get familiar with MolKet's framework. The beauty about MolKet's package is that it is designed to be user-friendly and intuitive. It provides a simple interface to create quantum circuits and simulate quantum algorithms. Moreover, it offers a wide range of quantum gates and operations that can be used to build complex quantum circuits. \n",
    "Further, you can use both `big-endian` and `little-endian` conventions to represent qubits in MolKet's package."
   ]
  },
  {
   "cell_type": "markdown",
   "metadata": {},
   "source": [
    "To create a quantum circuit of n qubits, you can use the following code snippet:\n",
    "\n",
    "```julia\n",
    "qc = qc_init(n,big_endian=false)\n",
    "```\n",
    "By default, the boolean variable `big_endian` is set to `true` to represent qubits in `big-endian` convention. You can set it to `false` to represent qubits in `little-endian` convention. Hence, if you don't specify the `big_endian` variable, the qubits will be represented in `big-endian` convention.\n",
    "\n",
    "Hence, if `big_endian` is set to `false` to represent qubits in `little-endian` convention. You can set it to `true` to represent qubits in `big-endian` convention. "
   ]
  },
  {
   "cell_type": "code",
   "execution_count": 4,
   "metadata": {},
   "outputs": [
    {
     "data": {
      "text/plain": [
       "Main.quantum_circuit.qc_initstruct(1, \"big-endian\", 2, 2, [1.0, 0.0], [0.0; 1.0;;], Any[\"0\"; \"1\";;], Any[\"Op_ind\" \"Op\" … \"object\" \"op_mat\"], Bool[1 0; 0 1], true, false, false)"
      ]
     },
     "metadata": {},
     "output_type": "display_data"
    }
   ],
   "source": [
    "# Here, you can measure the states of the qubits and simulate with a given number of shots \n",
    "qc = qc_init(1,big_endian=true)\n"
   ]
  },
  {
   "cell_type": "code",
   "execution_count": 10,
   "metadata": {},
   "outputs": [
    {
     "name": "stdout",
     "output_type": "stream",
     "text": [
      "0.7071067811865475 * |0>\n",
      "-0.7071067811865475 * |1>\n"
     ]
    }
   ],
   "source": [
    "X_gate = q.H\n",
    "\n",
    "op(qc, q.H, 0)\n",
    "show_statevector(qc)"
   ]
  },
  {
   "cell_type": "code",
   "execution_count": 11,
   "metadata": {},
   "outputs": [
    {
     "name": "stdout",
     "output_type": "stream",
     "text": [
      "0.7071067811865475 * |0>\n",
      "0.7071067811865475 * |1>\n"
     ]
    }
   ],
   "source": [
    "op(qc, q.Z, 0)\n",
    "show_statevector(qc)"
   ]
  },
  {
   "cell_type": "markdown",
   "metadata": {},
   "source": [
    "We can apply a quantum gate to a qubit using the following code snippet:\n",
    "\n",
    "```julia\n",
    "op(qc, q.H, 0)\n",
    "```\n",
    "\n",
    "The `op` function takes three arguments: the quantum circuit `qc`, the quantum gate `q.H`, and the target qubit of index `0` in this example. \n",
    "\n",
    "We can all the time print the statevector of the quantum circuit using the following code snippet:\n",
    "\n",
    "```julia\n",
    "statevector(qc)\n",
    "```\n",
    "\n",
    "The `statevector` function takes the quantum circuit `qc` as an argument and returns the statevector of the quantum circuit.\n",
    "\n",
    "We can measure the qubits of the quantum circuit using the following code snippet:\n",
    "\n",
    "```julia\n",
    "shots = 1000\n",
    "# statevector simulator\n",
    "measure_state(qc,shots;save_fig=false)\n",
    "```\n",
    "\n",
    "By default, the `measure_state` function uses the `statevector` simulator to measure the qubits of the quantum circuit. You can specify the number of `shots` to run the simulation multiple times. The `save_fig` boolean variable is set to `false` by default. You can set it to `true` to save the histogram of the measurement results. Measurements are done in the computational basis by default. You can specify the basis to measure the qubits using the `basis` argument which is a keyword argument. The basis can be set to `X`, `Y`, or `Z`. Only at the moment the `Z` basis and 'X' basis are supported."
   ]
  },
  {
   "cell_type": "code",
   "execution_count": 5,
   "metadata": {},
   "outputs": [
    {
     "data": {
      "image/png": "[encoded data removed]",
      "image/svg+xml": [
       "<?xml version=\"1.0\" encoding=\"utf-8\"?>\n",
       "<svg xmlns=\"http://www.w3.org/2000/svg\" xmlns:xlink=\"http://www.w3.org/1999/xlink\" width=\"600\" height=\"400\" viewBox=\"0 0 2400 1600\">\n",
       "<defs>\n",
       "  <clipPath id=\"clip780\">\n",
       "    <rect x=\"0\" y=\"0\" width=\"2400\" height=\"1600\"/>\n",
       "  </clipPath>\n",
       "</defs>\n",
       "<path clip-path=\"url(#clip780)\" d=\"M0 1600 L2400 1600 L2400 0 L0 0  Z\" fill=\"#ffffff\" fill-rule=\"evenodd\" fill-opacity=\"1\"/>\n",
       "<defs>\n",
       "  <clipPath id=\"clip781\">\n",
       "    <rect x=\"480\" y=\"0\" width=\"1681\" height=\"1600\"/>\n",
       "  </clipPath>\n",
       "</defs>\n",
       "<path clip-path=\"url(#clip780)\" d=\"M234.125 1423.18 L2352.76 1423.18 L2352.76 123.472 L234.125 123.472  Z\" fill=\"#ffffff\" fill-rule=\"evenodd\" fill-opacity=\"1\"/>\n",
       "<defs>\n",
       "  <clipPath id=\"clip782\">\n",
       "    <rect x=\"234\" y=\"123\" width=\"2120\" height=\"1301\"/>\n",
       "  </clipPath>\n",
       "</defs>\n",
       "<polyline clip-path=\"url(#clip782)\" style=\"stroke:#000000; stroke-linecap:round; stroke-linejoin:round; stroke-width:2; stroke-opacity:0.1; fill:none\" points=\"549.135,1423.18 549.135,123.472 \"/>\n",
       "<polyline clip-path=\"url(#clip782)\" style=\"stroke:#000000; stroke-linecap:round; stroke-linejoin:round; stroke-width:2; stroke-opacity:0.1; fill:none\" points=\"1045.34,1423.18 1045.34,123.472 \"/>\n",
       "<polyline clip-path=\"url(#clip782)\" style=\"stroke:#000000; stroke-linecap:round; stroke-linejoin:round; stroke-width:2; stroke-opacity:0.1; fill:none\" points=\"1541.54,1423.18 1541.54,123.472 \"/>\n",
       "<polyline clip-path=\"url(#clip782)\" style=\"stroke:#000000; stroke-linecap:round; stroke-linejoin:round; stroke-width:2; stroke-opacity:0.1; fill:none\" points=\"2037.75,1423.18 2037.75,123.472 \"/>\n",
       "<polyline clip-path=\"url(#clip780)\" style=\"stroke:#000000; stroke-linecap:round; stroke-linejoin:round; stroke-width:4; stroke-opacity:1; fill:none\" points=\"234.125,1423.18 2352.76,1423.18 \"/>\n",
       "<polyline clip-path=\"url(#clip780)\" style=\"stroke:#000000; stroke-linecap:round; stroke-linejoin:round; stroke-width:4; stroke-opacity:1; fill:none\" points=\"549.135,1423.18 549.135,1404.28 \"/>\n",
       "<polyline clip-path=\"url(#clip780)\" style=\"stroke:#000000; stroke-linecap:round; stroke-linejoin:round; stroke-width:4; stroke-opacity:1; fill:none\" points=\"1045.34,1423.18 1045.34,1404.28 \"/>\n",
       "<polyline clip-path=\"url(#clip780)\" style=\"stroke:#000000; stroke-linecap:round; stroke-linejoin:round; stroke-width:4; stroke-opacity:1; fill:none\" points=\"1541.54,1423.18 1541.54,1404.28 \"/>\n",
       "<polyline clip-path=\"url(#clip780)\" style=\"stroke:#000000; stroke-linecap:round; stroke-linejoin:round; stroke-width:4; stroke-opacity:1; fill:none\" points=\"2037.75,1423.18 2037.75,1404.28 \"/>\n",
       "<path clip-path=\"url(#clip780)\" d=\"M500.582 1449.35 L500.582 1496.76 L496.647 1496.76 L496.647 1449.35 L500.582 1449.35 Z\" fill=\"#000000\" fill-rule=\"nonzero\" fill-opacity=\"1\" /><path clip-path=\"url(#clip780)\" d=\"M521.67 1454.1 Q518.059 1454.1 516.23 1457.66 Q514.425 1461.2 514.425 1468.33 Q514.425 1475.44 516.23 1479.01 Q518.059 1482.55 521.67 1482.55 Q525.304 1482.55 527.11 1479.01 Q528.939 1475.44 528.939 1468.33 Q528.939 1461.2 527.11 1457.66 Q525.304 1454.1 521.67 1454.1 M521.67 1450.39 Q527.48 1450.39 530.536 1455 Q533.615 1459.58 533.615 1468.33 Q533.615 1477.06 530.536 1481.67 Q527.48 1486.25 521.67 1486.25 Q515.86 1486.25 512.781 1481.67 Q509.726 1477.06 509.726 1468.33 Q509.726 1459.58 512.781 1455 Q515.86 1450.39 521.67 1450.39 Z\" fill=\"#000000\" fill-rule=\"nonzero\" fill-opacity=\"1\" /><path clip-path=\"url(#clip780)\" d=\"M542.642 1481.64 L550.281 1481.64 L550.281 1455.28 L541.971 1456.95 L541.971 1452.69 L550.235 1451.02 L554.911 1451.02 L554.911 1481.64 L562.55 1481.64 L562.55 1485.58 L542.642 1485.58 L542.642 1481.64 Z\" fill=\"#000000\" fill-rule=\"nonzero\" fill-opacity=\"1\" /><path clip-path=\"url(#clip780)\" d=\"M571.948 1462.25 L571.948 1458.03 L601.623 1468.8 L601.623 1472.64 L571.948 1483.4 L571.948 1479.19 L595.79 1470.74 L571.948 1462.25 Z\" fill=\"#000000\" fill-rule=\"nonzero\" fill-opacity=\"1\" /><path clip-path=\"url(#clip780)\" d=\"M996.786 1449.35 L996.786 1496.76 L992.851 1496.76 L992.851 1449.35 L996.786 1449.35 Z\" fill=\"#000000\" fill-rule=\"nonzero\" fill-opacity=\"1\" /><path clip-path=\"url(#clip780)\" d=\"M1008.68 1481.64 L1016.32 1481.64 L1016.32 1455.28 L1008.01 1456.95 L1008.01 1452.69 L1016.28 1451.02 L1020.95 1451.02 L1020.95 1481.64 L1028.59 1481.64 L1028.59 1485.58 L1008.68 1485.58 L1008.68 1481.64 Z\" fill=\"#000000\" fill-rule=\"nonzero\" fill-opacity=\"1\" /><path clip-path=\"url(#clip780)\" d=\"M1048.04 1454.1 Q1044.42 1454.1 1042.6 1457.66 Q1040.79 1461.2 1040.79 1468.33 Q1040.79 1475.44 1042.6 1479.01 Q1044.42 1482.55 1048.04 1482.55 Q1051.67 1482.55 1053.48 1479.01 Q1055.3 1475.44 1055.3 1468.33 Q1055.3 1461.2 1053.48 1457.66 Q1051.67 1454.1 1048.04 1454.1 M1048.04 1450.39 Q1053.85 1450.39 1056.9 1455 Q1059.98 1459.58 1059.98 1468.33 Q1059.98 1477.06 1056.9 1481.67 Q1053.85 1486.25 1048.04 1486.25 Q1042.23 1486.25 1039.15 1481.67 Q1036.09 1477.06 1036.09 1468.33 Q1036.09 1459.58 1039.15 1455 Q1042.23 1450.39 1048.04 1450.39 Z\" fill=\"#000000\" fill-rule=\"nonzero\" fill-opacity=\"1\" /><path clip-path=\"url(#clip780)\" d=\"M1068.15 1462.25 L1068.15 1458.03 L1097.83 1468.8 L1097.83 1472.64 L1068.15 1483.4 L1068.15 1479.19 L1091.99 1470.74 L1068.15 1462.25 Z\" fill=\"#000000\" fill-rule=\"nonzero\" fill-opacity=\"1\" /><path clip-path=\"url(#clip780)\" d=\"M1492.99 1449.35 L1492.99 1496.76 L1489.05 1496.76 L1489.05 1449.35 L1492.99 1449.35 Z\" fill=\"#000000\" fill-rule=\"nonzero\" fill-opacity=\"1\" /><path clip-path=\"url(#clip780)\" d=\"M1504.89 1481.64 L1512.53 1481.64 L1512.53 1455.28 L1504.22 1456.95 L1504.22 1452.69 L1512.48 1451.02 L1517.16 1451.02 L1517.16 1481.64 L1524.79 1481.64 L1524.79 1485.58 L1504.89 1485.58 L1504.89 1481.64 Z\" fill=\"#000000\" fill-rule=\"nonzero\" fill-opacity=\"1\" /><path clip-path=\"url(#clip780)\" d=\"M1535.05 1481.64 L1542.69 1481.64 L1542.69 1455.28 L1534.38 1456.95 L1534.38 1452.69 L1542.64 1451.02 L1547.32 1451.02 L1547.32 1481.64 L1554.96 1481.64 L1554.96 1485.58 L1535.05 1485.58 L1535.05 1481.64 Z\" fill=\"#000000\" fill-rule=\"nonzero\" fill-opacity=\"1\" /><path clip-path=\"url(#clip780)\" d=\"M1564.35 1462.25 L1564.35 1458.03 L1594.03 1468.8 L1594.03 1472.64 L1564.35 1483.4 L1564.35 1479.19 L1588.2 1470.74 L1564.35 1462.25 Z\" fill=\"#000000\" fill-rule=\"nonzero\" fill-opacity=\"1\" /><path clip-path=\"url(#clip780)\" d=\"M1989.19 1449.35 L1989.19 1496.76 L1985.26 1496.76 L1985.26 1449.35 L1989.19 1449.35 Z\" fill=\"#000000\" fill-rule=\"nonzero\" fill-opacity=\"1\" /><path clip-path=\"url(#clip780)\" d=\"M2010.28 1454.1 Q2006.67 1454.1 2004.84 1457.66 Q2003.04 1461.2 2003.04 1468.33 Q2003.04 1475.44 2004.84 1479.01 Q2006.67 1482.55 2010.28 1482.55 Q2013.92 1482.55 2015.72 1479.01 Q2017.55 1475.44 2017.55 1468.33 Q2017.55 1461.2 2015.72 1457.66 Q2013.92 1454.1 2010.28 1454.1 M2010.28 1450.39 Q2016.09 1450.39 2019.15 1455 Q2022.23 1459.58 2022.23 1468.33 Q2022.23 1477.06 2019.15 1481.67 Q2016.09 1486.25 2010.28 1486.25 Q2004.47 1486.25 2001.39 1481.67 Q1998.34 1477.06 1998.34 1468.33 Q1998.34 1459.58 2001.39 1455 Q2004.47 1450.39 2010.28 1450.39 Z\" fill=\"#000000\" fill-rule=\"nonzero\" fill-opacity=\"1\" /><path clip-path=\"url(#clip780)\" d=\"M2040.44 1454.1 Q2036.83 1454.1 2035 1457.66 Q2033.2 1461.2 2033.2 1468.33 Q2033.2 1475.44 2035 1479.01 Q2036.83 1482.55 2040.44 1482.55 Q2044.08 1482.55 2045.88 1479.01 Q2047.71 1475.44 2047.71 1468.33 Q2047.71 1461.2 2045.88 1457.66 Q2044.08 1454.1 2040.44 1454.1 M2040.44 1450.39 Q2046.25 1450.39 2049.31 1455 Q2052.39 1459.58 2052.39 1468.33 Q2052.39 1477.06 2049.31 1481.67 Q2046.25 1486.25 2040.44 1486.25 Q2034.63 1486.25 2031.55 1481.67 Q2028.5 1477.06 2028.5 1468.33 Q2028.5 1459.58 2031.55 1455 Q2034.63 1450.39 2040.44 1450.39 Z\" fill=\"#000000\" fill-rule=\"nonzero\" fill-opacity=\"1\" /><path clip-path=\"url(#clip780)\" d=\"M2060.56 1462.25 L2060.56 1458.03 L2090.23 1468.8 L2090.23 1472.64 L2060.56 1483.4 L2060.56 1479.19 L2084.4 1470.74 L2060.56 1462.25 Z\" fill=\"#000000\" fill-rule=\"nonzero\" fill-opacity=\"1\" /><path clip-path=\"url(#clip780)\" d=\"M1240.13 1550.25 Q1240.13 1543.79 1237.45 1540.13 Q1234.81 1536.44 1230.17 1536.44 Q1225.52 1536.44 1222.84 1540.13 Q1220.2 1543.79 1220.2 1550.25 Q1220.2 1556.71 1222.84 1560.4 Q1225.52 1564.07 1230.17 1564.07 Q1234.81 1564.07 1237.45 1560.4 Q1240.13 1556.71 1240.13 1550.25 M1220.2 1537.81 Q1222.05 1534.62 1224.85 1533.1 Q1227.68 1531.54 1231.6 1531.54 Q1238.09 1531.54 1242.13 1536.69 Q1246.21 1541.85 1246.21 1550.25 Q1246.21 1558.65 1242.13 1563.81 Q1238.09 1568.97 1231.6 1568.97 Q1227.68 1568.97 1224.85 1567.44 Q1222.05 1565.88 1220.2 1562.7 L1220.2 1568.04 L1214.31 1568.04 L1214.31 1518.52 L1220.2 1518.52 L1220.2 1537.81 Z\" fill=\"#000000\" fill-rule=\"nonzero\" fill-opacity=\"1\" /><path clip-path=\"url(#clip780)\" d=\"M1272.12 1550.12 Q1265.02 1550.12 1262.28 1551.75 Q1259.54 1553.37 1259.54 1557.29 Q1259.54 1560.4 1261.58 1562.25 Q1263.65 1564.07 1267.18 1564.07 Q1272.05 1564.07 1274.98 1560.63 Q1277.94 1557.16 1277.94 1551.43 L1277.94 1550.12 L1272.12 1550.12 M1283.8 1547.71 L1283.8 1568.04 L1277.94 1568.04 L1277.94 1562.63 Q1275.93 1565.88 1272.94 1567.44 Q1269.95 1568.97 1265.62 1568.97 Q1260.15 1568.97 1256.9 1565.91 Q1253.69 1562.82 1253.69 1557.67 Q1253.69 1551.65 1257.7 1548.6 Q1261.74 1545.54 1269.73 1545.54 L1277.94 1545.54 L1277.94 1544.97 Q1277.94 1540.93 1275.27 1538.73 Q1272.62 1536.5 1267.82 1536.5 Q1264.76 1536.5 1261.87 1537.23 Q1258.97 1537.97 1256.3 1539.43 L1256.3 1534.02 Q1259.51 1532.78 1262.54 1532.17 Q1265.56 1531.54 1268.42 1531.54 Q1276.16 1531.54 1279.98 1535.55 Q1283.8 1539.56 1283.8 1547.71 Z\" fill=\"#000000\" fill-rule=\"nonzero\" fill-opacity=\"1\" /><path clip-path=\"url(#clip780)\" d=\"M1318.59 1533.45 L1318.59 1538.98 Q1316.1 1537.71 1313.43 1537.07 Q1310.76 1536.44 1307.89 1536.44 Q1303.53 1536.44 1301.33 1537.77 Q1299.17 1539.11 1299.17 1541.79 Q1299.17 1543.82 1300.73 1545 Q1302.29 1546.15 1307 1547.2 L1309 1547.64 Q1315.24 1548.98 1317.85 1551.43 Q1320.49 1553.85 1320.49 1558.21 Q1320.49 1563.17 1316.55 1566.07 Q1312.63 1568.97 1305.76 1568.97 Q1302.89 1568.97 1299.77 1568.39 Q1296.69 1567.85 1293.25 1566.74 L1293.25 1560.69 Q1296.5 1562.38 1299.65 1563.24 Q1302.8 1564.07 1305.89 1564.07 Q1310.02 1564.07 1312.25 1562.66 Q1314.48 1561.23 1314.48 1558.65 Q1314.48 1556.27 1312.86 1554.99 Q1311.26 1553.72 1305.82 1552.54 L1303.78 1552.07 Q1298.34 1550.92 1295.92 1548.56 Q1293.5 1546.18 1293.5 1542.04 Q1293.5 1537.01 1297.07 1534.27 Q1300.63 1531.54 1307.19 1531.54 Q1310.44 1531.54 1313.3 1532.01 Q1316.17 1532.49 1318.59 1533.45 Z\" fill=\"#000000\" fill-rule=\"nonzero\" fill-opacity=\"1\" /><path clip-path=\"url(#clip780)\" d=\"M1329.82 1532.4 L1335.68 1532.4 L1335.68 1568.04 L1329.82 1568.04 L1329.82 1532.4 M1329.82 1518.52 L1335.68 1518.52 L1335.68 1525.93 L1329.82 1525.93 L1329.82 1518.52 Z\" fill=\"#000000\" fill-rule=\"nonzero\" fill-opacity=\"1\" /><path clip-path=\"url(#clip780)\" d=\"M1370.66 1533.45 L1370.66 1538.98 Q1368.17 1537.71 1365.5 1537.07 Q1362.83 1536.44 1359.96 1536.44 Q1355.6 1536.44 1353.41 1537.77 Q1351.24 1539.11 1351.24 1541.79 Q1351.24 1543.82 1352.8 1545 Q1354.36 1546.15 1359.07 1547.2 L1361.08 1547.64 Q1367.31 1548.98 1369.92 1551.43 Q1372.57 1553.85 1372.57 1558.21 Q1372.57 1563.17 1368.62 1566.07 Q1364.7 1568.97 1357.83 1568.97 Q1354.97 1568.97 1351.85 1568.39 Q1348.76 1567.85 1345.32 1566.74 L1345.32 1560.69 Q1348.57 1562.38 1351.72 1563.24 Q1354.87 1564.07 1357.96 1564.07 Q1362.09 1564.07 1364.32 1562.66 Q1366.55 1561.23 1366.55 1558.65 Q1366.55 1556.27 1364.93 1554.99 Q1363.34 1553.72 1357.89 1552.54 L1355.86 1552.07 Q1350.41 1550.92 1347.99 1548.56 Q1345.58 1546.18 1345.58 1542.04 Q1345.58 1537.01 1349.14 1534.27 Q1352.71 1531.54 1359.26 1531.54 Q1362.51 1531.54 1365.37 1532.01 Q1368.24 1532.49 1370.66 1533.45 Z\" fill=\"#000000\" fill-rule=\"nonzero\" fill-opacity=\"1\" /><polyline clip-path=\"url(#clip782)\" style=\"stroke:#000000; stroke-linecap:round; stroke-linejoin:round; stroke-width:2; stroke-opacity:0.1; fill:none\" points=\"234.125,1386.4 2352.76,1386.4 \"/>\n",
       "<polyline clip-path=\"url(#clip782)\" style=\"stroke:#000000; stroke-linecap:round; stroke-linejoin:round; stroke-width:2; stroke-opacity:0.1; fill:none\" points=\"234.125,1154.17 2352.76,1154.17 \"/>\n",
       "<polyline clip-path=\"url(#clip782)\" style=\"stroke:#000000; stroke-linecap:round; stroke-linejoin:round; stroke-width:2; stroke-opacity:0.1; fill:none\" points=\"234.125,921.949 2352.76,921.949 \"/>\n",
       "<polyline clip-path=\"url(#clip782)\" style=\"stroke:#000000; stroke-linecap:round; stroke-linejoin:round; stroke-width:2; stroke-opacity:0.1; fill:none\" points=\"234.125,689.726 2352.76,689.726 \"/>\n",
       "<polyline clip-path=\"url(#clip782)\" style=\"stroke:#000000; stroke-linecap:round; stroke-linejoin:round; stroke-width:2; stroke-opacity:0.1; fill:none\" points=\"234.125,457.502 2352.76,457.502 \"/>\n",
       "<polyline clip-path=\"url(#clip782)\" style=\"stroke:#000000; stroke-linecap:round; stroke-linejoin:round; stroke-width:2; stroke-opacity:0.1; fill:none\" points=\"234.125,225.279 2352.76,225.279 \"/>\n",
       "<polyline clip-path=\"url(#clip780)\" style=\"stroke:#000000; stroke-linecap:round; stroke-linejoin:round; stroke-width:4; stroke-opacity:1; fill:none\" points=\"234.125,1423.18 234.125,123.472 \"/>\n",
       "<polyline clip-path=\"url(#clip780)\" style=\"stroke:#000000; stroke-linecap:round; stroke-linejoin:round; stroke-width:4; stroke-opacity:1; fill:none\" points=\"234.125,1386.4 253.023,1386.4 \"/>\n",
       "<polyline clip-path=\"url(#clip780)\" style=\"stroke:#000000; stroke-linecap:round; stroke-linejoin:round; stroke-width:4; stroke-opacity:1; fill:none\" points=\"234.125,1154.17 253.023,1154.17 \"/>\n",
       "<polyline clip-path=\"url(#clip780)\" style=\"stroke:#000000; stroke-linecap:round; stroke-linejoin:round; stroke-width:4; stroke-opacity:1; fill:none\" points=\"234.125,921.949 253.023,921.949 \"/>\n",
       "<polyline clip-path=\"url(#clip780)\" style=\"stroke:#000000; stroke-linecap:round; stroke-linejoin:round; stroke-width:4; stroke-opacity:1; fill:none\" points=\"234.125,689.726 253.023,689.726 \"/>\n",
       "<polyline clip-path=\"url(#clip780)\" style=\"stroke:#000000; stroke-linecap:round; stroke-linejoin:round; stroke-width:4; stroke-opacity:1; fill:none\" points=\"234.125,457.502 253.023,457.502 \"/>\n",
       "<polyline clip-path=\"url(#clip780)\" style=\"stroke:#000000; stroke-linecap:round; stroke-linejoin:round; stroke-width:4; stroke-opacity:1; fill:none\" points=\"234.125,225.279 253.023,225.279 \"/>\n",
       "<path clip-path=\"url(#clip780)\" d=\"M186.181 1372.19 Q182.57 1372.19 180.741 1375.76 Q178.936 1379.3 178.936 1386.43 Q178.936 1393.54 180.741 1397.1 Q182.57 1400.64 186.181 1400.64 Q189.815 1400.64 191.621 1397.1 Q193.45 1393.54 193.45 1386.43 Q193.45 1379.3 191.621 1375.76 Q189.815 1372.19 186.181 1372.19 M186.181 1368.49 Q191.991 1368.49 195.047 1373.1 Q198.125 1377.68 198.125 1386.43 Q198.125 1395.16 195.047 1399.76 Q191.991 1404.35 186.181 1404.35 Q180.371 1404.35 177.292 1399.76 Q174.237 1395.16 174.237 1386.43 Q174.237 1377.68 177.292 1373.1 Q180.371 1368.49 186.181 1368.49 Z\" fill=\"#000000\" fill-rule=\"nonzero\" fill-opacity=\"1\" /><path clip-path=\"url(#clip780)\" d=\"M146.066 1136.89 L164.422 1136.89 L164.422 1140.83 L150.348 1140.83 L150.348 1149.3 Q151.366 1148.95 152.385 1148.79 Q153.403 1148.61 154.422 1148.61 Q160.209 1148.61 163.589 1151.78 Q166.968 1154.95 166.968 1160.36 Q166.968 1165.94 163.496 1169.04 Q160.024 1172.12 153.704 1172.12 Q151.528 1172.12 149.26 1171.75 Q147.015 1171.38 144.607 1170.64 L144.607 1165.94 Q146.691 1167.08 148.913 1167.63 Q151.135 1168.19 153.612 1168.19 Q157.616 1168.19 159.954 1166.08 Q162.292 1163.98 162.292 1160.36 Q162.292 1156.75 159.954 1154.65 Q157.616 1152.54 153.612 1152.54 Q151.737 1152.54 149.862 1152.96 Q148.01 1153.37 146.066 1154.25 L146.066 1136.89 Z\" fill=\"#000000\" fill-rule=\"nonzero\" fill-opacity=\"1\" /><path clip-path=\"url(#clip780)\" d=\"M186.181 1139.97 Q182.57 1139.97 180.741 1143.54 Q178.936 1147.08 178.936 1154.21 Q178.936 1161.31 180.741 1164.88 Q182.57 1168.42 186.181 1168.42 Q189.815 1168.42 191.621 1164.88 Q193.45 1161.31 193.45 1154.21 Q193.45 1147.08 191.621 1143.54 Q189.815 1139.97 186.181 1139.97 M186.181 1136.27 Q191.991 1136.27 195.047 1140.87 Q198.125 1145.46 198.125 1154.21 Q198.125 1162.93 195.047 1167.54 Q191.991 1172.12 186.181 1172.12 Q180.371 1172.12 177.292 1167.54 Q174.237 1162.93 174.237 1154.21 Q174.237 1145.46 177.292 1140.87 Q180.371 1136.27 186.181 1136.27 Z\" fill=\"#000000\" fill-rule=\"nonzero\" fill-opacity=\"1\" /><path clip-path=\"url(#clip780)\" d=\"M116.668 935.294 L124.306 935.294 L124.306 908.928 L115.996 910.595 L115.996 906.336 L124.26 904.669 L128.936 904.669 L128.936 935.294 L136.575 935.294 L136.575 939.229 L116.668 939.229 L116.668 935.294 Z\" fill=\"#000000\" fill-rule=\"nonzero\" fill-opacity=\"1\" /><path clip-path=\"url(#clip780)\" d=\"M156.019 907.748 Q152.408 907.748 150.579 911.312 Q148.774 914.854 148.774 921.984 Q148.774 929.09 150.579 932.655 Q152.408 936.197 156.019 936.197 Q159.653 936.197 161.459 932.655 Q163.288 929.09 163.288 921.984 Q163.288 914.854 161.459 911.312 Q159.653 907.748 156.019 907.748 M156.019 904.044 Q161.829 904.044 164.885 908.65 Q167.964 913.234 167.964 921.984 Q167.964 930.71 164.885 935.317 Q161.829 939.9 156.019 939.9 Q150.209 939.9 147.13 935.317 Q144.075 930.71 144.075 921.984 Q144.075 913.234 147.13 908.65 Q150.209 904.044 156.019 904.044 Z\" fill=\"#000000\" fill-rule=\"nonzero\" fill-opacity=\"1\" /><path clip-path=\"url(#clip780)\" d=\"M186.181 907.748 Q182.57 907.748 180.741 911.312 Q178.936 914.854 178.936 921.984 Q178.936 929.09 180.741 932.655 Q182.57 936.197 186.181 936.197 Q189.815 936.197 191.621 932.655 Q193.45 929.09 193.45 921.984 Q193.45 914.854 191.621 911.312 Q189.815 907.748 186.181 907.748 M186.181 904.044 Q191.991 904.044 195.047 908.65 Q198.125 913.234 198.125 921.984 Q198.125 930.71 195.047 935.317 Q191.991 939.9 186.181 939.9 Q180.371 939.9 177.292 935.317 Q174.237 930.71 174.237 921.984 Q174.237 913.234 177.292 908.65 Q180.371 904.044 186.181 904.044 Z\" fill=\"#000000\" fill-rule=\"nonzero\" fill-opacity=\"1\" /><path clip-path=\"url(#clip780)\" d=\"M116.668 703.07 L124.306 703.07 L124.306 676.705 L115.996 678.371 L115.996 674.112 L124.26 672.446 L128.936 672.446 L128.936 703.07 L136.575 703.07 L136.575 707.006 L116.668 707.006 L116.668 703.07 Z\" fill=\"#000000\" fill-rule=\"nonzero\" fill-opacity=\"1\" /><path clip-path=\"url(#clip780)\" d=\"M146.066 672.446 L164.422 672.446 L164.422 676.381 L150.348 676.381 L150.348 684.853 Q151.366 684.506 152.385 684.344 Q153.403 684.158 154.422 684.158 Q160.209 684.158 163.589 687.33 Q166.968 690.501 166.968 695.918 Q166.968 701.496 163.496 704.598 Q160.024 707.677 153.704 707.677 Q151.528 707.677 149.26 707.306 Q147.015 706.936 144.607 706.195 L144.607 701.496 Q146.691 702.631 148.913 703.186 Q151.135 703.742 153.612 703.742 Q157.616 703.742 159.954 701.635 Q162.292 699.529 162.292 695.918 Q162.292 692.307 159.954 690.2 Q157.616 688.094 153.612 688.094 Q151.737 688.094 149.862 688.51 Q148.01 688.927 146.066 689.807 L146.066 672.446 Z\" fill=\"#000000\" fill-rule=\"nonzero\" fill-opacity=\"1\" /><path clip-path=\"url(#clip780)\" d=\"M186.181 675.524 Q182.57 675.524 180.741 679.089 Q178.936 682.631 178.936 689.76 Q178.936 696.867 180.741 700.432 Q182.57 703.973 186.181 703.973 Q189.815 703.973 191.621 700.432 Q193.45 696.867 193.45 689.76 Q193.45 682.631 191.621 679.089 Q189.815 675.524 186.181 675.524 M186.181 671.821 Q191.991 671.821 195.047 676.427 Q198.125 681.01 198.125 689.76 Q198.125 698.487 195.047 703.094 Q191.991 707.677 186.181 707.677 Q180.371 707.677 177.292 703.094 Q174.237 698.487 174.237 689.76 Q174.237 681.01 177.292 676.427 Q180.371 671.821 186.181 671.821 Z\" fill=\"#000000\" fill-rule=\"nonzero\" fill-opacity=\"1\" /><path clip-path=\"url(#clip780)\" d=\"M119.885 470.847 L136.204 470.847 L136.204 474.782 L114.26 474.782 L114.26 470.847 Q116.922 468.092 121.505 463.463 Q126.112 458.81 127.292 457.467 Q129.538 454.944 130.417 453.208 Q131.32 451.449 131.32 449.759 Q131.32 447.005 129.376 445.268 Q127.455 443.532 124.353 443.532 Q122.154 443.532 119.7 444.296 Q117.269 445.06 114.492 446.611 L114.492 441.889 Q117.316 440.755 119.769 440.176 Q122.223 439.597 124.26 439.597 Q129.63 439.597 132.825 442.282 Q136.019 444.968 136.019 449.458 Q136.019 451.588 135.209 453.509 Q134.422 455.407 132.316 458 Q131.737 458.671 128.635 461.889 Q125.533 465.083 119.885 470.847 Z\" fill=\"#000000\" fill-rule=\"nonzero\" fill-opacity=\"1\" /><path clip-path=\"url(#clip780)\" d=\"M156.019 443.301 Q152.408 443.301 150.579 446.866 Q148.774 450.407 148.774 457.537 Q148.774 464.643 150.579 468.208 Q152.408 471.75 156.019 471.75 Q159.653 471.75 161.459 468.208 Q163.288 464.643 163.288 457.537 Q163.288 450.407 161.459 446.866 Q159.653 443.301 156.019 443.301 M156.019 439.597 Q161.829 439.597 164.885 444.204 Q167.964 448.787 167.964 457.537 Q167.964 466.264 164.885 470.87 Q161.829 475.454 156.019 475.454 Q150.209 475.454 147.13 470.87 Q144.075 466.264 144.075 457.537 Q144.075 448.787 147.13 444.204 Q150.209 439.597 156.019 439.597 Z\" fill=\"#000000\" fill-rule=\"nonzero\" fill-opacity=\"1\" /><path clip-path=\"url(#clip780)\" d=\"M186.181 443.301 Q182.57 443.301 180.741 446.866 Q178.936 450.407 178.936 457.537 Q178.936 464.643 180.741 468.208 Q182.57 471.75 186.181 471.75 Q189.815 471.75 191.621 468.208 Q193.45 464.643 193.45 457.537 Q193.45 450.407 191.621 446.866 Q189.815 443.301 186.181 443.301 M186.181 439.597 Q191.991 439.597 195.047 444.204 Q198.125 448.787 198.125 457.537 Q198.125 466.264 195.047 470.87 Q191.991 475.454 186.181 475.454 Q180.371 475.454 177.292 470.87 Q174.237 466.264 174.237 457.537 Q174.237 448.787 177.292 444.204 Q180.371 439.597 186.181 439.597 Z\" fill=\"#000000\" fill-rule=\"nonzero\" fill-opacity=\"1\" /><path clip-path=\"url(#clip780)\" d=\"M119.885 238.624 L136.204 238.624 L136.204 242.559 L114.26 242.559 L114.26 238.624 Q116.922 235.869 121.505 231.239 Q126.112 226.587 127.292 225.244 Q129.538 222.721 130.417 220.985 Q131.32 219.226 131.32 217.536 Q131.32 214.781 129.376 213.045 Q127.455 211.309 124.353 211.309 Q122.154 211.309 119.7 212.073 Q117.269 212.837 114.492 214.388 L114.492 209.666 Q117.316 208.531 119.769 207.953 Q122.223 207.374 124.26 207.374 Q129.63 207.374 132.825 210.059 Q136.019 212.744 136.019 217.235 Q136.019 219.365 135.209 221.286 Q134.422 223.184 132.316 225.777 Q131.737 226.448 128.635 229.665 Q125.533 232.86 119.885 238.624 Z\" fill=\"#000000\" fill-rule=\"nonzero\" fill-opacity=\"1\" /><path clip-path=\"url(#clip780)\" d=\"M146.066 207.999 L164.422 207.999 L164.422 211.934 L150.348 211.934 L150.348 220.406 Q151.366 220.059 152.385 219.897 Q153.403 219.712 154.422 219.712 Q160.209 219.712 163.589 222.883 Q166.968 226.054 166.968 231.471 Q166.968 237.05 163.496 240.151 Q160.024 243.23 153.704 243.23 Q151.528 243.23 149.26 242.86 Q147.015 242.489 144.607 241.749 L144.607 237.05 Q146.691 238.184 148.913 238.739 Q151.135 239.295 153.612 239.295 Q157.616 239.295 159.954 237.189 Q162.292 235.082 162.292 231.471 Q162.292 227.86 159.954 225.753 Q157.616 223.647 153.612 223.647 Q151.737 223.647 149.862 224.064 Q148.01 224.48 146.066 225.36 L146.066 207.999 Z\" fill=\"#000000\" fill-rule=\"nonzero\" fill-opacity=\"1\" /><path clip-path=\"url(#clip780)\" d=\"M186.181 211.078 Q182.57 211.078 180.741 214.642 Q178.936 218.184 178.936 225.314 Q178.936 232.42 180.741 235.985 Q182.57 239.526 186.181 239.526 Q189.815 239.526 191.621 235.985 Q193.45 232.42 193.45 225.314 Q193.45 218.184 191.621 214.642 Q189.815 211.078 186.181 211.078 M186.181 207.374 Q191.991 207.374 195.047 211.98 Q198.125 216.564 198.125 225.314 Q198.125 234.04 195.047 238.647 Q191.991 243.23 186.181 243.23 Q180.371 243.23 177.292 238.647 Q174.237 234.04 174.237 225.314 Q174.237 216.564 177.292 211.98 Q180.371 207.374 186.181 207.374 Z\" fill=\"#000000\" fill-rule=\"nonzero\" fill-opacity=\"1\" /><path clip-path=\"url(#clip780)\" d=\"M29.4065 831.97 L34.9447 831.97 Q33.6716 834.453 33.035 837.126 Q32.3984 839.8 32.3984 842.664 Q32.3984 847.025 33.7352 849.221 Q35.072 851.385 37.7456 851.385 Q39.7826 851.385 40.9603 849.826 Q42.1061 848.266 43.1565 843.556 L43.6021 841.55 Q44.9389 835.312 47.3897 832.702 Q49.8086 830.06 54.1691 830.06 Q59.1344 830.06 62.0308 834.007 Q64.9272 837.922 64.9272 844.797 Q64.9272 847.662 64.3543 850.781 Q63.8132 853.868 62.6992 857.306 L56.6518 857.306 Q58.3387 854.059 59.198 850.908 Q60.0256 847.757 60.0256 844.67 Q60.0256 840.532 58.6251 838.304 Q57.1929 836.076 54.6147 836.076 Q52.2276 836.076 50.9545 837.699 Q49.6813 839.291 48.5037 844.733 L48.0262 846.77 Q46.8804 852.213 44.5251 854.632 Q42.138 857.051 38.0002 857.051 Q32.9713 857.051 30.2341 853.486 Q27.4968 849.921 27.4968 843.365 Q27.4968 840.118 27.9743 837.254 Q28.4517 834.389 29.4065 831.97 Z\" fill=\"#000000\" fill-rule=\"nonzero\" fill-opacity=\"1\" /><path clip-path=\"url(#clip780)\" d=\"M42.4881 791.102 L64.0042 791.102 L64.0042 796.959 L42.679 796.959 Q37.6183 796.959 35.1038 798.932 Q32.5894 800.905 32.5894 804.852 Q32.5894 809.595 35.6131 812.332 Q38.6368 815.069 43.8567 815.069 L64.0042 815.069 L64.0042 820.957 L14.479 820.957 L14.479 815.069 L33.8944 815.069 Q30.6797 812.968 29.0883 810.136 Q27.4968 807.271 27.4968 803.547 Q27.4968 797.404 31.3163 794.253 Q35.1038 791.102 42.4881 791.102 Z\" fill=\"#000000\" fill-rule=\"nonzero\" fill-opacity=\"1\" /><path clip-path=\"url(#clip780)\" d=\"M32.4621 765.608 Q32.4621 770.318 36.1542 773.055 Q39.8145 775.793 46.212 775.793 Q52.6095 775.793 56.3017 773.087 Q59.9619 770.35 59.9619 765.608 Q59.9619 760.929 56.2698 758.192 Q52.5777 755.454 46.212 755.454 Q39.8781 755.454 36.186 758.192 Q32.4621 760.929 32.4621 765.608 M27.4968 765.608 Q27.4968 757.969 32.4621 753.608 Q37.4273 749.248 46.212 749.248 Q54.9649 749.248 59.9619 753.608 Q64.9272 757.969 64.9272 765.608 Q64.9272 773.278 59.9619 777.639 Q54.9649 781.967 46.212 781.967 Q37.4273 781.967 32.4621 777.639 Q27.4968 773.278 27.4968 765.608 Z\" fill=\"#000000\" fill-rule=\"nonzero\" fill-opacity=\"1\" /><path clip-path=\"url(#clip780)\" d=\"M18.2347 733.747 L28.3562 733.747 L28.3562 721.684 L32.9077 721.684 L32.9077 733.747 L52.2594 733.747 Q56.6199 733.747 57.8613 732.57 Q59.1026 731.36 59.1026 727.7 L59.1026 721.684 L64.0042 721.684 L64.0042 727.7 Q64.0042 734.479 61.4897 737.057 Q58.9434 739.635 52.2594 739.635 L32.9077 739.635 L32.9077 743.932 L28.3562 743.932 L28.3562 739.635 L18.2347 739.635 L18.2347 733.747 Z\" fill=\"#000000\" fill-rule=\"nonzero\" fill-opacity=\"1\" /><path clip-path=\"url(#clip780)\" d=\"M29.4065 691.256 L34.9447 691.256 Q33.6716 693.739 33.035 696.412 Q32.3984 699.086 32.3984 701.95 Q32.3984 706.311 33.7352 708.507 Q35.072 710.672 37.7456 710.672 Q39.7826 710.672 40.9603 709.112 Q42.1061 707.552 43.1565 702.842 L43.6021 700.836 Q44.9389 694.598 47.3897 691.988 Q49.8086 689.346 54.1691 689.346 Q59.1344 689.346 62.0308 693.293 Q64.9272 697.208 64.9272 704.083 Q64.9272 706.948 64.3543 710.067 Q63.8132 713.154 62.6992 716.592 L56.6518 716.592 Q58.3387 713.345 59.198 710.194 Q60.0256 707.043 60.0256 703.956 Q60.0256 699.818 58.6251 697.59 Q57.1929 695.362 54.6147 695.362 Q52.2276 695.362 50.9545 696.985 Q49.6813 698.577 48.5037 704.019 L48.0262 706.056 Q46.8804 711.499 44.5251 713.918 Q42.138 716.337 38.0002 716.337 Q32.9713 716.337 30.2341 712.772 Q27.4968 709.207 27.4968 702.651 Q27.4968 699.404 27.9743 696.54 Q28.4517 693.675 29.4065 691.256 Z\" fill=\"#000000\" fill-rule=\"nonzero\" fill-opacity=\"1\" /><path clip-path=\"url(#clip780)\" d=\"M869.372 28.5427 L869.372 35.5912 Q866.212 33.9709 862.809 33.1607 Q859.407 32.3505 855.761 32.3505 Q850.211 32.3505 847.416 34.0519 Q844.661 35.7533 844.661 39.156 Q844.661 41.7486 846.646 43.2475 Q848.631 44.7058 854.626 46.0426 L857.179 46.6097 Q865.118 48.3111 868.44 51.4303 Q871.802 54.509 871.802 60.0587 Q871.802 66.3781 866.779 70.0644 Q861.797 73.7508 853.047 73.7508 Q849.401 73.7508 845.431 73.0216 Q841.502 72.3329 837.127 70.9151 L837.127 63.2184 Q841.258 65.3654 845.269 66.4591 Q849.279 67.5124 853.209 67.5124 Q858.475 67.5124 861.31 65.73 Q864.146 63.9071 864.146 60.6258 Q864.146 57.5877 862.08 55.9673 Q860.055 54.3469 853.128 52.8481 L850.535 52.2405 Q843.608 50.7821 840.529 47.7845 Q837.451 44.7463 837.451 39.4801 Q837.451 33.0797 841.988 29.5959 Q846.525 26.1121 854.87 26.1121 Q859.001 26.1121 862.647 26.7198 Q866.293 27.3274 869.372 28.5427 Z\" fill=\"#000000\" fill-rule=\"nonzero\" fill-opacity=\"1\" /><path clip-path=\"url(#clip780)\" d=\"M921.385 45.1919 L921.385 72.576 L913.932 72.576 L913.932 45.4349 Q913.932 38.994 911.42 35.7938 Q908.909 32.5936 903.885 32.5936 Q897.85 32.5936 894.366 36.4419 Q890.882 40.2903 890.882 46.9338 L890.882 72.576 L883.388 72.576 L883.388 9.54393 L890.882 9.54393 L890.882 34.2544 Q893.556 30.163 897.161 28.1376 Q900.807 26.1121 905.546 26.1121 Q913.365 26.1121 917.375 30.9732 Q921.385 35.7938 921.385 45.1919 Z\" fill=\"#000000\" fill-rule=\"nonzero\" fill-opacity=\"1\" /><path clip-path=\"url(#clip780)\" d=\"M953.833 32.4315 Q947.838 32.4315 944.354 37.1306 Q940.87 41.7891 940.87 49.9314 Q940.87 58.0738 944.313 62.7728 Q947.797 67.4314 953.833 67.4314 Q959.788 67.4314 963.272 62.7323 Q966.756 58.0333 966.756 49.9314 Q966.756 41.8701 963.272 37.1711 Q959.788 32.4315 953.833 32.4315 M953.833 26.1121 Q963.555 26.1121 969.105 32.4315 Q974.655 38.7509 974.655 49.9314 Q974.655 61.0714 969.105 67.4314 Q963.555 73.7508 953.833 73.7508 Q944.07 73.7508 938.521 67.4314 Q933.011 61.0714 933.011 49.9314 Q933.011 38.7509 938.521 32.4315 Q944.07 26.1121 953.833 26.1121 Z\" fill=\"#000000\" fill-rule=\"nonzero\" fill-opacity=\"1\" /><path clip-path=\"url(#clip780)\" d=\"M994.383 14.324 L994.383 27.2059 L1009.74 27.2059 L1009.74 32.9987 L994.383 32.9987 L994.383 57.6282 Q994.383 63.1779 995.882 64.7578 Q997.421 66.3376 1002.08 66.3376 L1009.74 66.3376 L1009.74 72.576 L1002.08 72.576 Q993.451 72.576 990.17 69.3758 Q986.889 66.1351 986.889 57.6282 L986.889 32.9987 L981.42 32.9987 L981.42 27.2059 L986.889 27.2059 L986.889 14.324 L994.383 14.324 Z\" fill=\"#000000\" fill-rule=\"nonzero\" fill-opacity=\"1\" /><path clip-path=\"url(#clip780)\" d=\"M1048.46 28.5427 L1048.46 35.5912 Q1045.3 33.9709 1041.9 33.1607 Q1038.5 32.3505 1034.85 32.3505 Q1029.3 32.3505 1026.51 34.0519 Q1023.75 35.7533 1023.75 39.156 Q1023.75 41.7486 1025.74 43.2475 Q1027.72 44.7058 1033.72 46.0426 L1036.27 46.6097 Q1044.21 48.3111 1047.53 51.4303 Q1050.89 54.509 1050.89 60.0587 Q1050.89 66.3781 1045.87 70.0644 Q1040.89 73.7508 1032.14 73.7508 Q1028.49 73.7508 1024.52 73.0216 Q1020.59 72.3329 1016.22 70.9151 L1016.22 63.2184 Q1020.35 65.3654 1024.36 66.4591 Q1028.37 67.5124 1032.3 67.5124 Q1037.57 67.5124 1040.4 65.73 Q1043.24 63.9071 1043.24 60.6258 Q1043.24 57.5877 1041.17 55.9673 Q1039.15 54.3469 1032.22 52.8481 L1029.63 52.2405 Q1022.7 50.7821 1019.62 47.7845 Q1016.54 44.7463 1016.54 39.4801 Q1016.54 33.0797 1021.08 29.5959 Q1025.62 26.1121 1033.96 26.1121 Q1038.09 26.1121 1041.74 26.7198 Q1045.38 27.3274 1048.46 28.5427 Z\" fill=\"#000000\" fill-rule=\"nonzero\" fill-opacity=\"1\" /><path clip-path=\"url(#clip780)\" d=\"M1096.34 65.7705 L1096.34 89.8329 L1088.85 89.8329 L1088.85 27.2059 L1096.34 27.2059 L1096.34 34.0924 Q1098.69 30.0415 1102.26 28.0971 Q1105.86 26.1121 1110.85 26.1121 Q1119.11 26.1121 1124.25 32.6746 Q1129.44 39.2371 1129.44 49.9314 Q1129.44 60.6258 1124.25 67.1883 Q1119.11 73.7508 1110.85 73.7508 Q1105.86 73.7508 1102.26 71.8063 Q1098.69 69.8214 1096.34 65.7705 M1121.7 49.9314 Q1121.7 41.7081 1118.3 37.0496 Q1114.94 32.3505 1109.02 32.3505 Q1103.11 32.3505 1099.71 37.0496 Q1096.34 41.7081 1096.34 49.9314 Q1096.34 58.1548 1099.71 62.8538 Q1103.11 67.5124 1109.02 67.5124 Q1114.94 67.5124 1118.3 62.8538 Q1121.7 58.1548 1121.7 49.9314 Z\" fill=\"#000000\" fill-rule=\"nonzero\" fill-opacity=\"1\" /><path clip-path=\"url(#clip780)\" d=\"M1180.6 48.0275 L1180.6 51.6733 L1146.33 51.6733 Q1146.82 59.3701 1150.95 63.421 Q1155.12 67.4314 1162.54 67.4314 Q1166.83 67.4314 1170.84 66.3781 Q1174.89 65.3249 1178.86 63.2184 L1178.86 70.267 Q1174.85 71.9684 1170.64 72.8596 Q1166.42 73.7508 1162.09 73.7508 Q1151.23 73.7508 1144.87 67.4314 Q1138.55 61.1119 1138.55 50.3365 Q1138.55 39.1965 1144.55 32.6746 Q1150.59 26.1121 1160.79 26.1121 Q1169.95 26.1121 1175.26 32.0264 Q1180.6 37.9003 1180.6 48.0275 M1173.15 45.84 Q1173.07 39.7232 1169.71 36.0774 Q1166.38 32.4315 1160.87 32.4315 Q1154.64 32.4315 1150.87 35.9558 Q1147.14 39.4801 1146.58 45.8805 L1173.15 45.84 Z\" fill=\"#000000\" fill-rule=\"nonzero\" fill-opacity=\"1\" /><path clip-path=\"url(#clip780)\" d=\"M1219.13 34.1734 Q1217.87 33.4443 1216.37 33.1202 Q1214.91 32.7556 1213.13 32.7556 Q1206.81 32.7556 1203.41 36.8875 Q1200.05 40.9789 1200.05 48.6757 L1200.05 72.576 L1192.55 72.576 L1192.55 27.2059 L1200.05 27.2059 L1200.05 34.2544 Q1202.4 30.1225 1206.16 28.1376 Q1209.93 26.1121 1215.32 26.1121 Q1216.09 26.1121 1217.02 26.2337 Q1217.95 26.3147 1219.09 26.5172 L1219.13 34.1734 Z\" fill=\"#000000\" fill-rule=\"nonzero\" fill-opacity=\"1\" /><path clip-path=\"url(#clip780)\" d=\"M1285.89 49.9314 Q1285.89 41.7081 1282.48 37.0496 Q1279.12 32.3505 1273.21 32.3505 Q1267.29 32.3505 1263.89 37.0496 Q1260.53 41.7081 1260.53 49.9314 Q1260.53 58.1548 1263.89 62.8538 Q1267.29 67.5124 1273.21 67.5124 Q1279.12 67.5124 1282.48 62.8538 Q1285.89 58.1548 1285.89 49.9314 M1260.53 34.0924 Q1262.88 30.0415 1266.44 28.0971 Q1270.05 26.1121 1275.03 26.1121 Q1283.29 26.1121 1288.44 32.6746 Q1293.62 39.2371 1293.62 49.9314 Q1293.62 60.6258 1288.44 67.1883 Q1283.29 73.7508 1275.03 73.7508 Q1270.05 73.7508 1266.44 71.8063 Q1262.88 69.8214 1260.53 65.7705 L1260.53 72.576 L1253.03 72.576 L1253.03 9.54393 L1260.53 9.54393 L1260.53 34.0924 Z\" fill=\"#000000\" fill-rule=\"nonzero\" fill-opacity=\"1\" /><path clip-path=\"url(#clip780)\" d=\"M1326.6 49.7694 Q1317.56 49.7694 1314.08 51.8354 Q1310.6 53.9013 1310.6 58.8839 Q1310.6 62.8538 1313.19 65.2034 Q1315.82 67.5124 1320.32 67.5124 Q1326.52 67.5124 1330.24 63.1374 Q1334.01 58.7219 1334.01 51.4303 L1334.01 49.7694 L1326.6 49.7694 M1341.46 46.6907 L1341.46 72.576 L1334.01 72.576 L1334.01 65.6895 Q1331.46 69.8214 1327.65 71.8063 Q1323.84 73.7508 1318.33 73.7508 Q1311.37 73.7508 1307.23 69.8619 Q1303.14 65.9325 1303.14 59.3701 Q1303.14 51.7138 1308.25 47.825 Q1313.39 43.9361 1323.56 43.9361 L1334.01 43.9361 L1334.01 43.2069 Q1334.01 38.0623 1330.61 35.2672 Q1327.25 32.4315 1321.13 32.4315 Q1317.24 32.4315 1313.55 33.3632 Q1309.87 34.295 1306.46 36.1584 L1306.46 29.2718 Q1310.56 27.692 1314.4 26.9223 Q1318.25 26.1121 1321.9 26.1121 Q1331.74 26.1121 1336.6 31.2163 Q1341.46 36.3204 1341.46 46.6907 Z\" fill=\"#000000\" fill-rule=\"nonzero\" fill-opacity=\"1\" /><path clip-path=\"url(#clip780)\" d=\"M1385.74 28.5427 L1385.74 35.5912 Q1382.58 33.9709 1379.18 33.1607 Q1375.78 32.3505 1372.13 32.3505 Q1366.58 32.3505 1363.78 34.0519 Q1361.03 35.7533 1361.03 39.156 Q1361.03 41.7486 1363.01 43.2475 Q1365 44.7058 1371 46.0426 L1373.55 46.6097 Q1381.49 48.3111 1384.81 51.4303 Q1388.17 54.509 1388.17 60.0587 Q1388.17 66.3781 1383.15 70.0644 Q1378.17 73.7508 1369.42 73.7508 Q1365.77 73.7508 1361.8 73.0216 Q1357.87 72.3329 1353.5 70.9151 L1353.5 63.2184 Q1357.63 65.3654 1361.64 66.4591 Q1365.65 67.5124 1369.58 67.5124 Q1374.84 67.5124 1377.68 65.73 Q1380.51 63.9071 1380.51 60.6258 Q1380.51 57.5877 1378.45 55.9673 Q1376.42 54.3469 1369.5 52.8481 L1366.9 52.2405 Q1359.98 50.7821 1356.9 47.7845 Q1353.82 44.7463 1353.82 39.4801 Q1353.82 33.0797 1358.36 29.5959 Q1362.89 26.1121 1371.24 26.1121 Q1375.37 26.1121 1379.02 26.7198 Q1382.66 27.3274 1385.74 28.5427 Z\" fill=\"#000000\" fill-rule=\"nonzero\" fill-opacity=\"1\" /><path clip-path=\"url(#clip780)\" d=\"M1400.04 27.2059 L1407.49 27.2059 L1407.49 72.576 L1400.04 72.576 L1400.04 27.2059 M1400.04 9.54393 L1407.49 9.54393 L1407.49 18.9825 L1400.04 18.9825 L1400.04 9.54393 Z\" fill=\"#000000\" fill-rule=\"nonzero\" fill-opacity=\"1\" /><path clip-path=\"url(#clip780)\" d=\"M1452.01 28.5427 L1452.01 35.5912 Q1448.85 33.9709 1445.45 33.1607 Q1442.05 32.3505 1438.4 32.3505 Q1432.85 32.3505 1430.06 34.0519 Q1427.3 35.7533 1427.3 39.156 Q1427.3 41.7486 1429.29 43.2475 Q1431.27 44.7058 1437.27 46.0426 L1439.82 46.6097 Q1447.76 48.3111 1451.08 51.4303 Q1454.44 54.509 1454.44 60.0587 Q1454.44 66.3781 1449.42 70.0644 Q1444.44 73.7508 1435.69 73.7508 Q1432.04 73.7508 1428.07 73.0216 Q1424.14 72.3329 1419.77 70.9151 L1419.77 63.2184 Q1423.9 65.3654 1427.91 66.4591 Q1431.92 67.5124 1435.85 67.5124 Q1441.12 67.5124 1443.95 65.73 Q1446.79 63.9071 1446.79 60.6258 Q1446.79 57.5877 1444.72 55.9673 Q1442.7 54.3469 1435.77 52.8481 L1433.18 52.2405 Q1426.25 50.7821 1423.17 47.7845 Q1420.09 44.7463 1420.09 39.4801 Q1420.09 33.0797 1424.63 29.5959 Q1429.17 26.1121 1437.51 26.1121 Q1441.64 26.1121 1445.29 26.7198 Q1448.93 27.3274 1452.01 28.5427 Z\" fill=\"#000000\" fill-rule=\"nonzero\" fill-opacity=\"1\" /><path clip-path=\"url(#clip780)\" d=\"M1468.22 62.2867 L1476.76 62.2867 L1476.76 72.576 L1468.22 72.576 L1468.22 62.2867 M1468.22 29.6769 L1476.76 29.6769 L1476.76 39.9662 L1468.22 39.9662 L1468.22 29.6769 Z\" fill=\"#000000\" fill-rule=\"nonzero\" fill-opacity=\"1\" /><path clip-path=\"url(#clip780)\" d=\"M1523.11 65.6895 L1536.47 65.6895 L1536.47 19.5497 L1521.93 22.4663 L1521.93 15.0127 L1536.39 12.096 L1544.58 12.096 L1544.58 65.6895 L1557.94 65.6895 L1557.94 72.576 L1523.11 72.576 L1523.11 65.6895 Z\" fill=\"#000000\" fill-rule=\"nonzero\" fill-opacity=\"1\" /><path clip-path=\"url(#clip780)\" d=\"M1607.16 14.324 L1607.16 27.2059 L1622.52 27.2059 L1622.52 32.9987 L1607.16 32.9987 L1607.16 57.6282 Q1607.16 63.1779 1608.66 64.7578 Q1610.2 66.3376 1614.86 66.3376 L1622.52 66.3376 L1622.52 72.576 L1614.86 72.576 Q1606.23 72.576 1602.95 69.3758 Q1599.67 66.1351 1599.67 57.6282 L1599.67 32.9987 L1594.2 32.9987 L1594.2 27.2059 L1599.67 27.2059 L1599.67 14.324 L1607.16 14.324 Z\" fill=\"#000000\" fill-rule=\"nonzero\" fill-opacity=\"1\" /><path clip-path=\"url(#clip780)\" d=\"M1649.9 32.4315 Q1643.9 32.4315 1640.42 37.1306 Q1636.94 41.7891 1636.94 49.9314 Q1636.94 58.0738 1640.38 62.7728 Q1643.86 67.4314 1649.9 67.4314 Q1655.85 67.4314 1659.34 62.7323 Q1662.82 58.0333 1662.82 49.9314 Q1662.82 41.8701 1659.34 37.1711 Q1655.85 32.4315 1649.9 32.4315 M1649.9 26.1121 Q1659.62 26.1121 1665.17 32.4315 Q1670.72 38.7509 1670.72 49.9314 Q1670.72 61.0714 1665.17 67.4314 Q1659.62 73.7508 1649.9 73.7508 Q1640.14 73.7508 1634.59 67.4314 Q1629.08 61.0714 1629.08 49.9314 Q1629.08 38.7509 1634.59 32.4315 Q1640.14 26.1121 1649.9 26.1121 Z\" fill=\"#000000\" fill-rule=\"nonzero\" fill-opacity=\"1\" /><path clip-path=\"url(#clip780)\" d=\"M1732.98 19.2256 L1712.32 51.5113 L1732.98 51.5113 L1732.98 19.2256 M1730.84 12.096 L1741.13 12.096 L1741.13 51.5113 L1749.75 51.5113 L1749.75 58.3168 L1741.13 58.3168 L1741.13 72.576 L1732.98 72.576 L1732.98 58.3168 L1705.68 58.3168 L1705.68 50.4176 L1730.84 12.096 Z\" fill=\"#000000\" fill-rule=\"nonzero\" fill-opacity=\"1\" /><path clip-path=\"url(#clip782)\" d=\"M350.654 160.256 L350.654 1386.4 L747.617 1386.4 L747.617 160.256 L350.654 160.256 L350.654 160.256  Z\" fill=\"#009af9\" fill-rule=\"evenodd\" fill-opacity=\"1\"/>\n",
       "<polyline clip-path=\"url(#clip782)\" style=\"stroke:#000000; stroke-linecap:round; stroke-linejoin:round; stroke-width:4; stroke-opacity:1; fill:none\" points=\"350.654,160.256 350.654,1386.4 747.617,1386.4 747.617,160.256 350.654,160.256 \"/>\n",
       "<path clip-path=\"url(#clip782)\" d=\"M846.857 220.634 L846.857 1386.4 L1243.82 1386.4 L1243.82 220.634 L846.857 220.634 L846.857 220.634  Z\" fill=\"#009af9\" fill-rule=\"evenodd\" fill-opacity=\"1\"/>\n",
       "<polyline clip-path=\"url(#clip782)\" style=\"stroke:#000000; stroke-linecap:round; stroke-linejoin:round; stroke-width:4; stroke-opacity:1; fill:none\" points=\"846.857,220.634 846.857,1386.4 1243.82,1386.4 1243.82,220.634 846.857,220.634 \"/>\n",
       "<path clip-path=\"url(#clip782)\" d=\"M1343.06 225.279 L1343.06 1386.4 L1740.02 1386.4 L1740.02 225.279 L1343.06 225.279 L1343.06 225.279  Z\" fill=\"#009af9\" fill-rule=\"evenodd\" fill-opacity=\"1\"/>\n",
       "<polyline clip-path=\"url(#clip782)\" style=\"stroke:#000000; stroke-linecap:round; stroke-linejoin:round; stroke-width:4; stroke-opacity:1; fill:none\" points=\"1343.06,225.279 1343.06,1386.4 1740.02,1386.4 1740.02,225.279 1343.06,225.279 \"/>\n",
       "<path clip-path=\"url(#clip782)\" d=\"M1839.26 294.946 L1839.26 1386.4 L2236.23 1386.4 L2236.23 294.946 L1839.26 294.946 L1839.26 294.946  Z\" fill=\"#009af9\" fill-rule=\"evenodd\" fill-opacity=\"1\"/>\n",
       "<polyline clip-path=\"url(#clip782)\" style=\"stroke:#000000; stroke-linecap:round; stroke-linejoin:round; stroke-width:4; stroke-opacity:1; fill:none\" points=\"1839.26,294.946 1839.26,1386.4 2236.23,1386.4 2236.23,294.946 1839.26,294.946 \"/>\n",
       "<circle clip-path=\"url(#clip782)\" style=\"fill:#009af9; stroke:none; fill-opacity:0\" cx=\"549.135\" cy=\"160.256\" r=\"2\"/>\n",
       "<circle clip-path=\"url(#clip782)\" style=\"fill:#009af9; stroke:none; fill-opacity:0\" cx=\"1045.34\" cy=\"220.634\" r=\"2\"/>\n",
       "<circle clip-path=\"url(#clip782)\" style=\"fill:#009af9; stroke:none; fill-opacity:0\" cx=\"1541.54\" cy=\"225.279\" r=\"2\"/>\n",
       "<circle clip-path=\"url(#clip782)\" style=\"fill:#009af9; stroke:none; fill-opacity:0\" cx=\"2037.75\" cy=\"294.946\" r=\"2\"/>\n",
       "<path clip-path=\"url(#clip780)\" d=\"M1948.12 270.476 L2282.13 270.476 L2282.13 166.796 L1948.12 166.796  Z\" fill=\"#ffffff\" fill-rule=\"evenodd\" fill-opacity=\"1\"/>\n",
       "<polyline clip-path=\"url(#clip780)\" style=\"stroke:#000000; stroke-linecap:round; stroke-linejoin:round; stroke-width:4; stroke-opacity:1; fill:none\" points=\"1948.12,270.476 2282.13,270.476 2282.13,166.796 1948.12,166.796 1948.12,270.476 \"/>\n",
       "<path clip-path=\"url(#clip780)\" d=\"M1971.66 239.372 L2112.9 239.372 L2112.9 197.9 L1971.66 197.9 L1971.66 239.372  Z\" fill=\"#009af9\" fill-rule=\"evenodd\" fill-opacity=\"1\"/>\n",
       "<polyline clip-path=\"url(#clip780)\" style=\"stroke:#000000; stroke-linecap:round; stroke-linejoin:round; stroke-width:4; stroke-opacity:1; fill:none\" points=\"1971.66,239.372 2112.9,239.372 2112.9,197.9 1971.66,197.9 1971.66,239.372 \"/>\n",
       "<path clip-path=\"url(#clip780)\" d=\"M2154.87 210.754 L2154.87 214.782 Q2153.06 213.856 2151.12 213.393 Q2149.17 212.93 2147.09 212.93 Q2143.92 212.93 2142.32 213.902 Q2140.75 214.874 2140.75 216.819 Q2140.75 218.3 2141.88 219.157 Q2143.02 219.99 2146.44 220.754 L2147.9 221.078 Q2152.44 222.05 2154.34 223.832 Q2156.26 225.592 2156.26 228.763 Q2156.26 232.374 2153.39 234.481 Q2150.54 236.587 2145.54 236.587 Q2143.46 236.587 2141.19 236.17 Q2138.94 235.777 2136.44 234.967 L2136.44 230.569 Q2138.8 231.795 2141.1 232.42 Q2143.39 233.022 2145.63 233.022 Q2148.64 233.022 2150.26 232.004 Q2151.88 230.962 2151.88 229.087 Q2151.88 227.351 2150.7 226.425 Q2149.54 225.499 2145.59 224.643 L2144.1 224.295 Q2140.15 223.462 2138.39 221.749 Q2136.63 220.013 2136.63 217.004 Q2136.63 213.346 2139.22 211.356 Q2141.81 209.365 2146.58 209.365 Q2148.94 209.365 2151.03 209.712 Q2153.11 210.059 2154.87 210.754 Z\" fill=\"#000000\" fill-rule=\"nonzero\" fill-opacity=\"1\" /><path clip-path=\"url(#clip780)\" d=\"M2184.59 220.268 L2184.59 235.916 L2180.33 235.916 L2180.33 220.407 Q2180.33 216.726 2178.9 214.897 Q2177.46 213.069 2174.59 213.069 Q2171.14 213.069 2169.15 215.268 Q2167.16 217.467 2167.16 221.263 L2167.16 235.916 L2162.88 235.916 L2162.88 199.897 L2167.16 199.897 L2167.16 214.018 Q2168.69 211.68 2170.75 210.522 Q2172.83 209.365 2175.54 209.365 Q2180.01 209.365 2182.3 212.143 Q2184.59 214.897 2184.59 220.268 Z\" fill=\"#000000\" fill-rule=\"nonzero\" fill-opacity=\"1\" /><path clip-path=\"url(#clip780)\" d=\"M2203.13 212.976 Q2199.71 212.976 2197.72 215.661 Q2195.72 218.323 2195.72 222.976 Q2195.72 227.629 2197.69 230.314 Q2199.68 232.976 2203.13 232.976 Q2206.53 232.976 2208.53 230.291 Q2210.52 227.606 2210.52 222.976 Q2210.52 218.37 2208.53 215.684 Q2206.53 212.976 2203.13 212.976 M2203.13 209.365 Q2208.69 209.365 2211.86 212.976 Q2215.03 216.587 2215.03 222.976 Q2215.03 229.342 2211.86 232.976 Q2208.69 236.587 2203.13 236.587 Q2197.55 236.587 2194.38 232.976 Q2191.23 229.342 2191.23 222.976 Q2191.23 216.587 2194.38 212.976 Q2197.55 209.365 2203.13 209.365 Z\" fill=\"#000000\" fill-rule=\"nonzero\" fill-opacity=\"1\" /><path clip-path=\"url(#clip780)\" d=\"M2226.3 202.629 L2226.3 209.99 L2235.08 209.99 L2235.08 213.3 L2226.3 213.3 L2226.3 227.374 Q2226.3 230.545 2227.16 231.448 Q2228.04 232.351 2230.7 232.351 L2235.08 232.351 L2235.08 235.916 L2230.7 235.916 Q2225.77 235.916 2223.9 234.087 Q2222.02 232.235 2222.02 227.374 L2222.02 213.3 L2218.9 213.3 L2218.9 209.99 L2222.02 209.99 L2222.02 202.629 L2226.3 202.629 Z\" fill=\"#000000\" fill-rule=\"nonzero\" fill-opacity=\"1\" /><path clip-path=\"url(#clip780)\" d=\"M2257.21 210.754 L2257.21 214.782 Q2255.4 213.856 2253.46 213.393 Q2251.51 212.93 2249.43 212.93 Q2246.26 212.93 2244.66 213.902 Q2243.09 214.874 2243.09 216.819 Q2243.09 218.3 2244.22 219.157 Q2245.35 219.99 2248.78 220.754 L2250.24 221.078 Q2254.78 222.05 2256.67 223.832 Q2258.59 225.592 2258.59 228.763 Q2258.59 232.374 2255.72 234.481 Q2252.88 236.587 2247.88 236.587 Q2245.79 236.587 2243.53 236.17 Q2241.28 235.777 2238.78 234.967 L2238.78 230.569 Q2241.14 231.795 2243.43 232.42 Q2245.72 233.022 2247.97 233.022 Q2250.98 233.022 2252.6 232.004 Q2254.22 230.962 2254.22 229.087 Q2254.22 227.351 2253.04 226.425 Q2251.88 225.499 2247.92 224.643 L2246.44 224.295 Q2242.48 223.462 2240.72 221.749 Q2238.97 220.013 2238.97 217.004 Q2238.97 213.346 2241.56 211.356 Q2244.15 209.365 2248.92 209.365 Q2251.28 209.365 2253.36 209.712 Q2255.45 210.059 2257.21 210.754 Z\" fill=\"#000000\" fill-rule=\"nonzero\" fill-opacity=\"1\" /></svg>\n"
      ],
      "text/html": [
       "<?xml version=\"1.0\" encoding=\"utf-8\"?>\n",
       "<svg xmlns=\"http://www.w3.org/2000/svg\" xmlns:xlink=\"http://www.w3.org/1999/xlink\" width=\"600\" height=\"400\" viewBox=\"0 0 2400 1600\">\n",
       "<defs>\n",
       "  <clipPath id=\"clip830\">\n",
       "    <rect x=\"0\" y=\"0\" width=\"2400\" height=\"1600\"/>\n",
       "  </clipPath>\n",
       "</defs>\n",
       "<path clip-path=\"url(#clip830)\" d=\"M0 1600 L2400 1600 L2400 0 L0 0  Z\" fill=\"#ffffff\" fill-rule=\"evenodd\" fill-opacity=\"1\"/>\n",
       "<defs>\n",
       "  <clipPath id=\"clip831\">\n",
       "    <rect x=\"480\" y=\"0\" width=\"1681\" height=\"1600\"/>\n",
       "  </clipPath>\n",
       "</defs>\n",
       "<path clip-path=\"url(#clip830)\" d=\"M234.125 1423.18 L2352.76 1423.18 L2352.76 123.472 L234.125 123.472  Z\" fill=\"#ffffff\" fill-rule=\"evenodd\" fill-opacity=\"1\"/>\n",
       "<defs>\n",
       "  <clipPath id=\"clip832\">\n",
       "    <rect x=\"234\" y=\"123\" width=\"2120\" height=\"1301\"/>\n",
       "  </clipPath>\n",
       "</defs>\n",
       "<polyline clip-path=\"url(#clip832)\" style=\"stroke:#000000; stroke-linecap:round; stroke-linejoin:round; stroke-width:2; stroke-opacity:0.1; fill:none\" points=\"549.135,1423.18 549.135,123.472 \"/>\n",
       "<polyline clip-path=\"url(#clip832)\" style=\"stroke:#000000; stroke-linecap:round; stroke-linejoin:round; stroke-width:2; stroke-opacity:0.1; fill:none\" points=\"1045.34,1423.18 1045.34,123.472 \"/>\n",
       "<polyline clip-path=\"url(#clip832)\" style=\"stroke:#000000; stroke-linecap:round; stroke-linejoin:round; stroke-width:2; stroke-opacity:0.1; fill:none\" points=\"1541.54,1423.18 1541.54,123.472 \"/>\n",
       "<polyline clip-path=\"url(#clip832)\" style=\"stroke:#000000; stroke-linecap:round; stroke-linejoin:round; stroke-width:2; stroke-opacity:0.1; fill:none\" points=\"2037.75,1423.18 2037.75,123.472 \"/>\n",
       "<polyline clip-path=\"url(#clip830)\" style=\"stroke:#000000; stroke-linecap:round; stroke-linejoin:round; stroke-width:4; stroke-opacity:1; fill:none\" points=\"234.125,1423.18 2352.76,1423.18 \"/>\n",
       "<polyline clip-path=\"url(#clip830)\" style=\"stroke:#000000; stroke-linecap:round; stroke-linejoin:round; stroke-width:4; stroke-opacity:1; fill:none\" points=\"549.135,1423.18 549.135,1404.28 \"/>\n",
       "<polyline clip-path=\"url(#clip830)\" style=\"stroke:#000000; stroke-linecap:round; stroke-linejoin:round; stroke-width:4; stroke-opacity:1; fill:none\" points=\"1045.34,1423.18 1045.34,1404.28 \"/>\n",
       "<polyline clip-path=\"url(#clip830)\" style=\"stroke:#000000; stroke-linecap:round; stroke-linejoin:round; stroke-width:4; stroke-opacity:1; fill:none\" points=\"1541.54,1423.18 1541.54,1404.28 \"/>\n",
       "<polyline clip-path=\"url(#clip830)\" style=\"stroke:#000000; stroke-linecap:round; stroke-linejoin:round; stroke-width:4; stroke-opacity:1; fill:none\" points=\"2037.75,1423.18 2037.75,1404.28 \"/>\n",
       "<path clip-path=\"url(#clip830)\" d=\"M500.582 1449.35 L500.582 1496.76 L496.647 1496.76 L496.647 1449.35 L500.582 1449.35 Z\" fill=\"#000000\" fill-rule=\"nonzero\" fill-opacity=\"1\" /><path clip-path=\"url(#clip830)\" d=\"M521.67 1454.1 Q518.059 1454.1 516.23 1457.66 Q514.425 1461.2 514.425 1468.33 Q514.425 1475.44 516.23 1479.01 Q518.059 1482.55 521.67 1482.55 Q525.304 1482.55 527.11 1479.01 Q528.939 1475.44 528.939 1468.33 Q528.939 1461.2 527.11 1457.66 Q525.304 1454.1 521.67 1454.1 M521.67 1450.39 Q527.48 1450.39 530.536 1455 Q533.615 1459.58 533.615 1468.33 Q533.615 1477.06 530.536 1481.67 Q527.48 1486.25 521.67 1486.25 Q515.86 1486.25 512.781 1481.67 Q509.726 1477.06 509.726 1468.33 Q509.726 1459.58 512.781 1455 Q515.86 1450.39 521.67 1450.39 Z\" fill=\"#000000\" fill-rule=\"nonzero\" fill-opacity=\"1\" /><path clip-path=\"url(#clip830)\" d=\"M542.642 1481.64 L550.281 1481.64 L550.281 1455.28 L541.971 1456.95 L541.971 1452.69 L550.235 1451.02 L554.911 1451.02 L554.911 1481.64 L562.55 1481.64 L562.55 1485.58 L542.642 1485.58 L542.642 1481.64 Z\" fill=\"#000000\" fill-rule=\"nonzero\" fill-opacity=\"1\" /><path clip-path=\"url(#clip830)\" d=\"M571.948 1462.25 L571.948 1458.03 L601.623 1468.8 L601.623 1472.64 L571.948 1483.4 L571.948 1479.19 L595.79 1470.74 L571.948 1462.25 Z\" fill=\"#000000\" fill-rule=\"nonzero\" fill-opacity=\"1\" /><path clip-path=\"url(#clip830)\" d=\"M996.786 1449.35 L996.786 1496.76 L992.851 1496.76 L992.851 1449.35 L996.786 1449.35 Z\" fill=\"#000000\" fill-rule=\"nonzero\" fill-opacity=\"1\" /><path clip-path=\"url(#clip830)\" d=\"M1008.68 1481.64 L1016.32 1481.64 L1016.32 1455.28 L1008.01 1456.95 L1008.01 1452.69 L1016.28 1451.02 L1020.95 1451.02 L1020.95 1481.64 L1028.59 1481.64 L1028.59 1485.58 L1008.68 1485.58 L1008.68 1481.64 Z\" fill=\"#000000\" fill-rule=\"nonzero\" fill-opacity=\"1\" /><path clip-path=\"url(#clip830)\" d=\"M1048.04 1454.1 Q1044.42 1454.1 1042.6 1457.66 Q1040.79 1461.2 1040.79 1468.33 Q1040.79 1475.44 1042.6 1479.01 Q1044.42 1482.55 1048.04 1482.55 Q1051.67 1482.55 1053.48 1479.01 Q1055.3 1475.44 1055.3 1468.33 Q1055.3 1461.2 1053.48 1457.66 Q1051.67 1454.1 1048.04 1454.1 M1048.04 1450.39 Q1053.85 1450.39 1056.9 1455 Q1059.98 1459.58 1059.98 1468.33 Q1059.98 1477.06 1056.9 1481.67 Q1053.85 1486.25 1048.04 1486.25 Q1042.23 1486.25 1039.15 1481.67 Q1036.09 1477.06 1036.09 1468.33 Q1036.09 1459.58 1039.15 1455 Q1042.23 1450.39 1048.04 1450.39 Z\" fill=\"#000000\" fill-rule=\"nonzero\" fill-opacity=\"1\" /><path clip-path=\"url(#clip830)\" d=\"M1068.15 1462.25 L1068.15 1458.03 L1097.83 1468.8 L1097.83 1472.64 L1068.15 1483.4 L1068.15 1479.19 L1091.99 1470.74 L1068.15 1462.25 Z\" fill=\"#000000\" fill-rule=\"nonzero\" fill-opacity=\"1\" /><path clip-path=\"url(#clip830)\" d=\"M1492.99 1449.35 L1492.99 1496.76 L1489.05 1496.76 L1489.05 1449.35 L1492.99 1449.35 Z\" fill=\"#000000\" fill-rule=\"nonzero\" fill-opacity=\"1\" /><path clip-path=\"url(#clip830)\" d=\"M1504.89 1481.64 L1512.53 1481.64 L1512.53 1455.28 L1504.22 1456.95 L1504.22 1452.69 L1512.48 1451.02 L1517.16 1451.02 L1517.16 1481.64 L1524.79 1481.64 L1524.79 1485.58 L1504.89 1485.58 L1504.89 1481.64 Z\" fill=\"#000000\" fill-rule=\"nonzero\" fill-opacity=\"1\" /><path clip-path=\"url(#clip830)\" d=\"M1535.05 1481.64 L1542.69 1481.64 L1542.69 1455.28 L1534.38 1456.95 L1534.38 1452.69 L1542.64 1451.02 L1547.32 1451.02 L1547.32 1481.64 L1554.96 1481.64 L1554.96 1485.58 L1535.05 1485.58 L1535.05 1481.64 Z\" fill=\"#000000\" fill-rule=\"nonzero\" fill-opacity=\"1\" /><path clip-path=\"url(#clip830)\" d=\"M1564.35 1462.25 L1564.35 1458.03 L1594.03 1468.8 L1594.03 1472.64 L1564.35 1483.4 L1564.35 1479.19 L1588.2 1470.74 L1564.35 1462.25 Z\" fill=\"#000000\" fill-rule=\"nonzero\" fill-opacity=\"1\" /><path clip-path=\"url(#clip830)\" d=\"M1989.19 1449.35 L1989.19 1496.76 L1985.26 1496.76 L1985.26 1449.35 L1989.19 1449.35 Z\" fill=\"#000000\" fill-rule=\"nonzero\" fill-opacity=\"1\" /><path clip-path=\"url(#clip830)\" d=\"M2010.28 1454.1 Q2006.67 1454.1 2004.84 1457.66 Q2003.04 1461.2 2003.04 1468.33 Q2003.04 1475.44 2004.84 1479.01 Q2006.67 1482.55 2010.28 1482.55 Q2013.92 1482.55 2015.72 1479.01 Q2017.55 1475.44 2017.55 1468.33 Q2017.55 1461.2 2015.72 1457.66 Q2013.92 1454.1 2010.28 1454.1 M2010.28 1450.39 Q2016.09 1450.39 2019.15 1455 Q2022.23 1459.58 2022.23 1468.33 Q2022.23 1477.06 2019.15 1481.67 Q2016.09 1486.25 2010.28 1486.25 Q2004.47 1486.25 2001.39 1481.67 Q1998.34 1477.06 1998.34 1468.33 Q1998.34 1459.58 2001.39 1455 Q2004.47 1450.39 2010.28 1450.39 Z\" fill=\"#000000\" fill-rule=\"nonzero\" fill-opacity=\"1\" /><path clip-path=\"url(#clip830)\" d=\"M2040.44 1454.1 Q2036.83 1454.1 2035 1457.66 Q2033.2 1461.2 2033.2 1468.33 Q2033.2 1475.44 2035 1479.01 Q2036.83 1482.55 2040.44 1482.55 Q2044.08 1482.55 2045.88 1479.01 Q2047.71 1475.44 2047.71 1468.33 Q2047.71 1461.2 2045.88 1457.66 Q2044.08 1454.1 2040.44 1454.1 M2040.44 1450.39 Q2046.25 1450.39 2049.31 1455 Q2052.39 1459.58 2052.39 1468.33 Q2052.39 1477.06 2049.31 1481.67 Q2046.25 1486.25 2040.44 1486.25 Q2034.63 1486.25 2031.55 1481.67 Q2028.5 1477.06 2028.5 1468.33 Q2028.5 1459.58 2031.55 1455 Q2034.63 1450.39 2040.44 1450.39 Z\" fill=\"#000000\" fill-rule=\"nonzero\" fill-opacity=\"1\" /><path clip-path=\"url(#clip830)\" d=\"M2060.56 1462.25 L2060.56 1458.03 L2090.23 1468.8 L2090.23 1472.64 L2060.56 1483.4 L2060.56 1479.19 L2084.4 1470.74 L2060.56 1462.25 Z\" fill=\"#000000\" fill-rule=\"nonzero\" fill-opacity=\"1\" /><path clip-path=\"url(#clip830)\" d=\"M1240.13 1550.25 Q1240.13 1543.79 1237.45 1540.13 Q1234.81 1536.44 1230.17 1536.44 Q1225.52 1536.44 1222.84 1540.13 Q1220.2 1543.79 1220.2 1550.25 Q1220.2 1556.71 1222.84 1560.4 Q1225.52 1564.07 1230.17 1564.07 Q1234.81 1564.07 1237.45 1560.4 Q1240.13 1556.71 1240.13 1550.25 M1220.2 1537.81 Q1222.05 1534.62 1224.85 1533.1 Q1227.68 1531.54 1231.6 1531.54 Q1238.09 1531.54 1242.13 1536.69 Q1246.21 1541.85 1246.21 1550.25 Q1246.21 1558.65 1242.13 1563.81 Q1238.09 1568.97 1231.6 1568.97 Q1227.68 1568.97 1224.85 1567.44 Q1222.05 1565.88 1220.2 1562.7 L1220.2 1568.04 L1214.31 1568.04 L1214.31 1518.52 L1220.2 1518.52 L1220.2 1537.81 Z\" fill=\"#000000\" fill-rule=\"nonzero\" fill-opacity=\"1\" /><path clip-path=\"url(#clip830)\" d=\"M1272.12 1550.12 Q1265.02 1550.12 1262.28 1551.75 Q1259.54 1553.37 1259.54 1557.29 Q1259.54 1560.4 1261.58 1562.25 Q1263.65 1564.07 1267.18 1564.07 Q1272.05 1564.07 1274.98 1560.63 Q1277.94 1557.16 1277.94 1551.43 L1277.94 1550.12 L1272.12 1550.12 M1283.8 1547.71 L1283.8 1568.04 L1277.94 1568.04 L1277.94 1562.63 Q1275.93 1565.88 1272.94 1567.44 Q1269.95 1568.97 1265.62 1568.97 Q1260.15 1568.97 1256.9 1565.91 Q1253.69 1562.82 1253.69 1557.67 Q1253.69 1551.65 1257.7 1548.6 Q1261.74 1545.54 1269.73 1545.54 L1277.94 1545.54 L1277.94 1544.97 Q1277.94 1540.93 1275.27 1538.73 Q1272.62 1536.5 1267.82 1536.5 Q1264.76 1536.5 1261.87 1537.23 Q1258.97 1537.97 1256.3 1539.43 L1256.3 1534.02 Q1259.51 1532.78 1262.54 1532.17 Q1265.56 1531.54 1268.42 1531.54 Q1276.16 1531.54 1279.98 1535.55 Q1283.8 1539.56 1283.8 1547.71 Z\" fill=\"#000000\" fill-rule=\"nonzero\" fill-opacity=\"1\" /><path clip-path=\"url(#clip830)\" d=\"M1318.59 1533.45 L1318.59 1538.98 Q1316.1 1537.71 1313.43 1537.07 Q1310.76 1536.44 1307.89 1536.44 Q1303.53 1536.44 1301.33 1537.77 Q1299.17 1539.11 1299.17 1541.79 Q1299.17 1543.82 1300.73 1545 Q1302.29 1546.15 1307 1547.2 L1309 1547.64 Q1315.24 1548.98 1317.85 1551.43 Q1320.49 1553.85 1320.49 1558.21 Q1320.49 1563.17 1316.55 1566.07 Q1312.63 1568.97 1305.76 1568.97 Q1302.89 1568.97 1299.77 1568.39 Q1296.69 1567.85 1293.25 1566.74 L1293.25 1560.69 Q1296.5 1562.38 1299.65 1563.24 Q1302.8 1564.07 1305.89 1564.07 Q1310.02 1564.07 1312.25 1562.66 Q1314.48 1561.23 1314.48 1558.65 Q1314.48 1556.27 1312.86 1554.99 Q1311.26 1553.72 1305.82 1552.54 L1303.78 1552.07 Q1298.34 1550.92 1295.92 1548.56 Q1293.5 1546.18 1293.5 1542.04 Q1293.5 1537.01 1297.07 1534.27 Q1300.63 1531.54 1307.19 1531.54 Q1310.44 1531.54 1313.3 1532.01 Q1316.17 1532.49 1318.59 1533.45 Z\" fill=\"#000000\" fill-rule=\"nonzero\" fill-opacity=\"1\" /><path clip-path=\"url(#clip830)\" d=\"M1329.82 1532.4 L1335.68 1532.4 L1335.68 1568.04 L1329.82 1568.04 L1329.82 1532.4 M1329.82 1518.52 L1335.68 1518.52 L1335.68 1525.93 L1329.82 1525.93 L1329.82 1518.52 Z\" fill=\"#000000\" fill-rule=\"nonzero\" fill-opacity=\"1\" /><path clip-path=\"url(#clip830)\" d=\"M1370.66 1533.45 L1370.66 1538.98 Q1368.17 1537.71 1365.5 1537.07 Q1362.83 1536.44 1359.96 1536.44 Q1355.6 1536.44 1353.41 1537.77 Q1351.24 1539.11 1351.24 1541.79 Q1351.24 1543.82 1352.8 1545 Q1354.36 1546.15 1359.07 1547.2 L1361.08 1547.64 Q1367.31 1548.98 1369.92 1551.43 Q1372.57 1553.85 1372.57 1558.21 Q1372.57 1563.17 1368.62 1566.07 Q1364.7 1568.97 1357.83 1568.97 Q1354.97 1568.97 1351.85 1568.39 Q1348.76 1567.85 1345.32 1566.74 L1345.32 1560.69 Q1348.57 1562.38 1351.72 1563.24 Q1354.87 1564.07 1357.96 1564.07 Q1362.09 1564.07 1364.32 1562.66 Q1366.55 1561.23 1366.55 1558.65 Q1366.55 1556.27 1364.93 1554.99 Q1363.34 1553.72 1357.89 1552.54 L1355.86 1552.07 Q1350.41 1550.92 1347.99 1548.56 Q1345.58 1546.18 1345.58 1542.04 Q1345.58 1537.01 1349.14 1534.27 Q1352.71 1531.54 1359.26 1531.54 Q1362.51 1531.54 1365.37 1532.01 Q1368.24 1532.49 1370.66 1533.45 Z\" fill=\"#000000\" fill-rule=\"nonzero\" fill-opacity=\"1\" /><polyline clip-path=\"url(#clip832)\" style=\"stroke:#000000; stroke-linecap:round; stroke-linejoin:round; stroke-width:2; stroke-opacity:0.1; fill:none\" points=\"234.125,1386.4 2352.76,1386.4 \"/>\n",
       "<polyline clip-path=\"url(#clip832)\" style=\"stroke:#000000; stroke-linecap:round; stroke-linejoin:round; stroke-width:2; stroke-opacity:0.1; fill:none\" points=\"234.125,1154.17 2352.76,1154.17 \"/>\n",
       "<polyline clip-path=\"url(#clip832)\" style=\"stroke:#000000; stroke-linecap:round; stroke-linejoin:round; stroke-width:2; stroke-opacity:0.1; fill:none\" points=\"234.125,921.949 2352.76,921.949 \"/>\n",
       "<polyline clip-path=\"url(#clip832)\" style=\"stroke:#000000; stroke-linecap:round; stroke-linejoin:round; stroke-width:2; stroke-opacity:0.1; fill:none\" points=\"234.125,689.726 2352.76,689.726 \"/>\n",
       "<polyline clip-path=\"url(#clip832)\" style=\"stroke:#000000; stroke-linecap:round; stroke-linejoin:round; stroke-width:2; stroke-opacity:0.1; fill:none\" points=\"234.125,457.502 2352.76,457.502 \"/>\n",
       "<polyline clip-path=\"url(#clip832)\" style=\"stroke:#000000; stroke-linecap:round; stroke-linejoin:round; stroke-width:2; stroke-opacity:0.1; fill:none\" points=\"234.125,225.279 2352.76,225.279 \"/>\n",
       "<polyline clip-path=\"url(#clip830)\" style=\"stroke:#000000; stroke-linecap:round; stroke-linejoin:round; stroke-width:4; stroke-opacity:1; fill:none\" points=\"234.125,1423.18 234.125,123.472 \"/>\n",
       "<polyline clip-path=\"url(#clip830)\" style=\"stroke:#000000; stroke-linecap:round; stroke-linejoin:round; stroke-width:4; stroke-opacity:1; fill:none\" points=\"234.125,1386.4 253.023,1386.4 \"/>\n",
       "<polyline clip-path=\"url(#clip830)\" style=\"stroke:#000000; stroke-linecap:round; stroke-linejoin:round; stroke-width:4; stroke-opacity:1; fill:none\" points=\"234.125,1154.17 253.023,1154.17 \"/>\n",
       "<polyline clip-path=\"url(#clip830)\" style=\"stroke:#000000; stroke-linecap:round; stroke-linejoin:round; stroke-width:4; stroke-opacity:1; fill:none\" points=\"234.125,921.949 253.023,921.949 \"/>\n",
       "<polyline clip-path=\"url(#clip830)\" style=\"stroke:#000000; stroke-linecap:round; stroke-linejoin:round; stroke-width:4; stroke-opacity:1; fill:none\" points=\"234.125,689.726 253.023,689.726 \"/>\n",
       "<polyline clip-path=\"url(#clip830)\" style=\"stroke:#000000; stroke-linecap:round; stroke-linejoin:round; stroke-width:4; stroke-opacity:1; fill:none\" points=\"234.125,457.502 253.023,457.502 \"/>\n",
       "<polyline clip-path=\"url(#clip830)\" style=\"stroke:#000000; stroke-linecap:round; stroke-linejoin:round; stroke-width:4; stroke-opacity:1; fill:none\" points=\"234.125,225.279 253.023,225.279 \"/>\n",
       "<path clip-path=\"url(#clip830)\" d=\"M186.181 1372.19 Q182.57 1372.19 180.741 1375.76 Q178.936 1379.3 178.936 1386.43 Q178.936 1393.54 180.741 1397.1 Q182.57 1400.64 186.181 1400.64 Q189.815 1400.64 191.621 1397.1 Q193.45 1393.54 193.45 1386.43 Q193.45 1379.3 191.621 1375.76 Q189.815 1372.19 186.181 1372.19 M186.181 1368.49 Q191.991 1368.49 195.047 1373.1 Q198.125 1377.68 198.125 1386.43 Q198.125 1395.16 195.047 1399.76 Q191.991 1404.35 186.181 1404.35 Q180.371 1404.35 177.292 1399.76 Q174.237 1395.16 174.237 1386.43 Q174.237 1377.68 177.292 1373.1 Q180.371 1368.49 186.181 1368.49 Z\" fill=\"#000000\" fill-rule=\"nonzero\" fill-opacity=\"1\" /><path clip-path=\"url(#clip830)\" d=\"M146.066 1136.89 L164.422 1136.89 L164.422 1140.83 L150.348 1140.83 L150.348 1149.3 Q151.366 1148.95 152.385 1148.79 Q153.403 1148.61 154.422 1148.61 Q160.209 1148.61 163.589 1151.78 Q166.968 1154.95 166.968 1160.36 Q166.968 1165.94 163.496 1169.04 Q160.024 1172.12 153.704 1172.12 Q151.528 1172.12 149.26 1171.75 Q147.015 1171.38 144.607 1170.64 L144.607 1165.94 Q146.691 1167.08 148.913 1167.63 Q151.135 1168.19 153.612 1168.19 Q157.616 1168.19 159.954 1166.08 Q162.292 1163.98 162.292 1160.36 Q162.292 1156.75 159.954 1154.65 Q157.616 1152.54 153.612 1152.54 Q151.737 1152.54 149.862 1152.96 Q148.01 1153.37 146.066 1154.25 L146.066 1136.89 Z\" fill=\"#000000\" fill-rule=\"nonzero\" fill-opacity=\"1\" /><path clip-path=\"url(#clip830)\" d=\"M186.181 1139.97 Q182.57 1139.97 180.741 1143.54 Q178.936 1147.08 178.936 1154.21 Q178.936 1161.31 180.741 1164.88 Q182.57 1168.42 186.181 1168.42 Q189.815 1168.42 191.621 1164.88 Q193.45 1161.31 193.45 1154.21 Q193.45 1147.08 191.621 1143.54 Q189.815 1139.97 186.181 1139.97 M186.181 1136.27 Q191.991 1136.27 195.047 1140.87 Q198.125 1145.46 198.125 1154.21 Q198.125 1162.93 195.047 1167.54 Q191.991 1172.12 186.181 1172.12 Q180.371 1172.12 177.292 1167.54 Q174.237 1162.93 174.237 1154.21 Q174.237 1145.46 177.292 1140.87 Q180.371 1136.27 186.181 1136.27 Z\" fill=\"#000000\" fill-rule=\"nonzero\" fill-opacity=\"1\" /><path clip-path=\"url(#clip830)\" d=\"M116.668 935.294 L124.306 935.294 L124.306 908.928 L115.996 910.595 L115.996 906.336 L124.26 904.669 L128.936 904.669 L128.936 935.294 L136.575 935.294 L136.575 939.229 L116.668 939.229 L116.668 935.294 Z\" fill=\"#000000\" fill-rule=\"nonzero\" fill-opacity=\"1\" /><path clip-path=\"url(#clip830)\" d=\"M156.019 907.748 Q152.408 907.748 150.579 911.312 Q148.774 914.854 148.774 921.984 Q148.774 929.09 150.579 932.655 Q152.408 936.197 156.019 936.197 Q159.653 936.197 161.459 932.655 Q163.288 929.09 163.288 921.984 Q163.288 914.854 161.459 911.312 Q159.653 907.748 156.019 907.748 M156.019 904.044 Q161.829 904.044 164.885 908.65 Q167.964 913.234 167.964 921.984 Q167.964 930.71 164.885 935.317 Q161.829 939.9 156.019 939.9 Q150.209 939.9 147.13 935.317 Q144.075 930.71 144.075 921.984 Q144.075 913.234 147.13 908.65 Q150.209 904.044 156.019 904.044 Z\" fill=\"#000000\" fill-rule=\"nonzero\" fill-opacity=\"1\" /><path clip-path=\"url(#clip830)\" d=\"M186.181 907.748 Q182.57 907.748 180.741 911.312 Q178.936 914.854 178.936 921.984 Q178.936 929.09 180.741 932.655 Q182.57 936.197 186.181 936.197 Q189.815 936.197 191.621 932.655 Q193.45 929.09 193.45 921.984 Q193.45 914.854 191.621 911.312 Q189.815 907.748 186.181 907.748 M186.181 904.044 Q191.991 904.044 195.047 908.65 Q198.125 913.234 198.125 921.984 Q198.125 930.71 195.047 935.317 Q191.991 939.9 186.181 939.9 Q180.371 939.9 177.292 935.317 Q174.237 930.71 174.237 921.984 Q174.237 913.234 177.292 908.65 Q180.371 904.044 186.181 904.044 Z\" fill=\"#000000\" fill-rule=\"nonzero\" fill-opacity=\"1\" /><path clip-path=\"url(#clip830)\" d=\"M116.668 703.07 L124.306 703.07 L124.306 676.705 L115.996 678.371 L115.996 674.112 L124.26 672.446 L128.936 672.446 L128.936 703.07 L136.575 703.07 L136.575 707.006 L116.668 707.006 L116.668 703.07 Z\" fill=\"#000000\" fill-rule=\"nonzero\" fill-opacity=\"1\" /><path clip-path=\"url(#clip830)\" d=\"M146.066 672.446 L164.422 672.446 L164.422 676.381 L150.348 676.381 L150.348 684.853 Q151.366 684.506 152.385 684.344 Q153.403 684.158 154.422 684.158 Q160.209 684.158 163.589 687.33 Q166.968 690.501 166.968 695.918 Q166.968 701.496 163.496 704.598 Q160.024 707.677 153.704 707.677 Q151.528 707.677 149.26 707.306 Q147.015 706.936 144.607 706.195 L144.607 701.496 Q146.691 702.631 148.913 703.186 Q151.135 703.742 153.612 703.742 Q157.616 703.742 159.954 701.635 Q162.292 699.529 162.292 695.918 Q162.292 692.307 159.954 690.2 Q157.616 688.094 153.612 688.094 Q151.737 688.094 149.862 688.51 Q148.01 688.927 146.066 689.807 L146.066 672.446 Z\" fill=\"#000000\" fill-rule=\"nonzero\" fill-opacity=\"1\" /><path clip-path=\"url(#clip830)\" d=\"M186.181 675.524 Q182.57 675.524 180.741 679.089 Q178.936 682.631 178.936 689.76 Q178.936 696.867 180.741 700.432 Q182.57 703.973 186.181 703.973 Q189.815 703.973 191.621 700.432 Q193.45 696.867 193.45 689.76 Q193.45 682.631 191.621 679.089 Q189.815 675.524 186.181 675.524 M186.181 671.821 Q191.991 671.821 195.047 676.427 Q198.125 681.01 198.125 689.76 Q198.125 698.487 195.047 703.094 Q191.991 707.677 186.181 707.677 Q180.371 707.677 177.292 703.094 Q174.237 698.487 174.237 689.76 Q174.237 681.01 177.292 676.427 Q180.371 671.821 186.181 671.821 Z\" fill=\"#000000\" fill-rule=\"nonzero\" fill-opacity=\"1\" /><path clip-path=\"url(#clip830)\" d=\"M119.885 470.847 L136.204 470.847 L136.204 474.782 L114.26 474.782 L114.26 470.847 Q116.922 468.092 121.505 463.463 Q126.112 458.81 127.292 457.467 Q129.538 454.944 130.417 453.208 Q131.32 451.449 131.32 449.759 Q131.32 447.005 129.376 445.268 Q127.455 443.532 124.353 443.532 Q122.154 443.532 119.7 444.296 Q117.269 445.06 114.492 446.611 L114.492 441.889 Q117.316 440.755 119.769 440.176 Q122.223 439.597 124.26 439.597 Q129.63 439.597 132.825 442.282 Q136.019 444.968 136.019 449.458 Q136.019 451.588 135.209 453.509 Q134.422 455.407 132.316 458 Q131.737 458.671 128.635 461.889 Q125.533 465.083 119.885 470.847 Z\" fill=\"#000000\" fill-rule=\"nonzero\" fill-opacity=\"1\" /><path clip-path=\"url(#clip830)\" d=\"M156.019 443.301 Q152.408 443.301 150.579 446.866 Q148.774 450.407 148.774 457.537 Q148.774 464.643 150.579 468.208 Q152.408 471.75 156.019 471.75 Q159.653 471.75 161.459 468.208 Q163.288 464.643 163.288 457.537 Q163.288 450.407 161.459 446.866 Q159.653 443.301 156.019 443.301 M156.019 439.597 Q161.829 439.597 164.885 444.204 Q167.964 448.787 167.964 457.537 Q167.964 466.264 164.885 470.87 Q161.829 475.454 156.019 475.454 Q150.209 475.454 147.13 470.87 Q144.075 466.264 144.075 457.537 Q144.075 448.787 147.13 444.204 Q150.209 439.597 156.019 439.597 Z\" fill=\"#000000\" fill-rule=\"nonzero\" fill-opacity=\"1\" /><path clip-path=\"url(#clip830)\" d=\"M186.181 443.301 Q182.57 443.301 180.741 446.866 Q178.936 450.407 178.936 457.537 Q178.936 464.643 180.741 468.208 Q182.57 471.75 186.181 471.75 Q189.815 471.75 191.621 468.208 Q193.45 464.643 193.45 457.537 Q193.45 450.407 191.621 446.866 Q189.815 443.301 186.181 443.301 M186.181 439.597 Q191.991 439.597 195.047 444.204 Q198.125 448.787 198.125 457.537 Q198.125 466.264 195.047 470.87 Q191.991 475.454 186.181 475.454 Q180.371 475.454 177.292 470.87 Q174.237 466.264 174.237 457.537 Q174.237 448.787 177.292 444.204 Q180.371 439.597 186.181 439.597 Z\" fill=\"#000000\" fill-rule=\"nonzero\" fill-opacity=\"1\" /><path clip-path=\"url(#clip830)\" d=\"M119.885 238.624 L136.204 238.624 L136.204 242.559 L114.26 242.559 L114.26 238.624 Q116.922 235.869 121.505 231.239 Q126.112 226.587 127.292 225.244 Q129.538 222.721 130.417 220.985 Q131.32 219.226 131.32 217.536 Q131.32 214.781 129.376 213.045 Q127.455 211.309 124.353 211.309 Q122.154 211.309 119.7 212.073 Q117.269 212.837 114.492 214.388 L114.492 209.666 Q117.316 208.531 119.769 207.953 Q122.223 207.374 124.26 207.374 Q129.63 207.374 132.825 210.059 Q136.019 212.744 136.019 217.235 Q136.019 219.365 135.209 221.286 Q134.422 223.184 132.316 225.777 Q131.737 226.448 128.635 229.665 Q125.533 232.86 119.885 238.624 Z\" fill=\"#000000\" fill-rule=\"nonzero\" fill-opacity=\"1\" /><path clip-path=\"url(#clip830)\" d=\"M146.066 207.999 L164.422 207.999 L164.422 211.934 L150.348 211.934 L150.348 220.406 Q151.366 220.059 152.385 219.897 Q153.403 219.712 154.422 219.712 Q160.209 219.712 163.589 222.883 Q166.968 226.054 166.968 231.471 Q166.968 237.05 163.496 240.151 Q160.024 243.23 153.704 243.23 Q151.528 243.23 149.26 242.86 Q147.015 242.489 144.607 241.749 L144.607 237.05 Q146.691 238.184 148.913 238.739 Q151.135 239.295 153.612 239.295 Q157.616 239.295 159.954 237.189 Q162.292 235.082 162.292 231.471 Q162.292 227.86 159.954 225.753 Q157.616 223.647 153.612 223.647 Q151.737 223.647 149.862 224.064 Q148.01 224.48 146.066 225.36 L146.066 207.999 Z\" fill=\"#000000\" fill-rule=\"nonzero\" fill-opacity=\"1\" /><path clip-path=\"url(#clip830)\" d=\"M186.181 211.078 Q182.57 211.078 180.741 214.642 Q178.936 218.184 178.936 225.314 Q178.936 232.42 180.741 235.985 Q182.57 239.526 186.181 239.526 Q189.815 239.526 191.621 235.985 Q193.45 232.42 193.45 225.314 Q193.45 218.184 191.621 214.642 Q189.815 211.078 186.181 211.078 M186.181 207.374 Q191.991 207.374 195.047 211.98 Q198.125 216.564 198.125 225.314 Q198.125 234.04 195.047 238.647 Q191.991 243.23 186.181 243.23 Q180.371 243.23 177.292 238.647 Q174.237 234.04 174.237 225.314 Q174.237 216.564 177.292 211.98 Q180.371 207.374 186.181 207.374 Z\" fill=\"#000000\" fill-rule=\"nonzero\" fill-opacity=\"1\" /><path clip-path=\"url(#clip830)\" d=\"M29.4065 831.97 L34.9447 831.97 Q33.6716 834.453 33.035 837.126 Q32.3984 839.8 32.3984 842.664 Q32.3984 847.025 33.7352 849.221 Q35.072 851.385 37.7456 851.385 Q39.7826 851.385 40.9603 849.826 Q42.1061 848.266 43.1565 843.556 L43.6021 841.55 Q44.9389 835.312 47.3897 832.702 Q49.8086 830.06 54.1691 830.06 Q59.1344 830.06 62.0308 834.007 Q64.9272 837.922 64.9272 844.797 Q64.9272 847.662 64.3543 850.781 Q63.8132 853.868 62.6992 857.306 L56.6518 857.306 Q58.3387 854.059 59.198 850.908 Q60.0256 847.757 60.0256 844.67 Q60.0256 840.532 58.6251 838.304 Q57.1929 836.076 54.6147 836.076 Q52.2276 836.076 50.9545 837.699 Q49.6813 839.291 48.5037 844.733 L48.0262 846.77 Q46.8804 852.213 44.5251 854.632 Q42.138 857.051 38.0002 857.051 Q32.9713 857.051 30.2341 853.486 Q27.4968 849.921 27.4968 843.365 Q27.4968 840.118 27.9743 837.254 Q28.4517 834.389 29.4065 831.97 Z\" fill=\"#000000\" fill-rule=\"nonzero\" fill-opacity=\"1\" /><path clip-path=\"url(#clip830)\" d=\"M42.4881 791.102 L64.0042 791.102 L64.0042 796.959 L42.679 796.959 Q37.6183 796.959 35.1038 798.932 Q32.5894 800.905 32.5894 804.852 Q32.5894 809.595 35.6131 812.332 Q38.6368 815.069 43.8567 815.069 L64.0042 815.069 L64.0042 820.957 L14.479 820.957 L14.479 815.069 L33.8944 815.069 Q30.6797 812.968 29.0883 810.136 Q27.4968 807.271 27.4968 803.547 Q27.4968 797.404 31.3163 794.253 Q35.1038 791.102 42.4881 791.102 Z\" fill=\"#000000\" fill-rule=\"nonzero\" fill-opacity=\"1\" /><path clip-path=\"url(#clip830)\" d=\"M32.4621 765.608 Q32.4621 770.318 36.1542 773.055 Q39.8145 775.793 46.212 775.793 Q52.6095 775.793 56.3017 773.087 Q59.9619 770.35 59.9619 765.608 Q59.9619 760.929 56.2698 758.192 Q52.5777 755.454 46.212 755.454 Q39.8781 755.454 36.186 758.192 Q32.4621 760.929 32.4621 765.608 M27.4968 765.608 Q27.4968 757.969 32.4621 753.608 Q37.4273 749.248 46.212 749.248 Q54.9649 749.248 59.9619 753.608 Q64.9272 757.969 64.9272 765.608 Q64.9272 773.278 59.9619 777.639 Q54.9649 781.967 46.212 781.967 Q37.4273 781.967 32.4621 777.639 Q27.4968 773.278 27.4968 765.608 Z\" fill=\"#000000\" fill-rule=\"nonzero\" fill-opacity=\"1\" /><path clip-path=\"url(#clip830)\" d=\"M18.2347 733.747 L28.3562 733.747 L28.3562 721.684 L32.9077 721.684 L32.9077 733.747 L52.2594 733.747 Q56.6199 733.747 57.8613 732.57 Q59.1026 731.36 59.1026 727.7 L59.1026 721.684 L64.0042 721.684 L64.0042 727.7 Q64.0042 734.479 61.4897 737.057 Q58.9434 739.635 52.2594 739.635 L32.9077 739.635 L32.9077 743.932 L28.3562 743.932 L28.3562 739.635 L18.2347 739.635 L18.2347 733.747 Z\" fill=\"#000000\" fill-rule=\"nonzero\" fill-opacity=\"1\" /><path clip-path=\"url(#clip830)\" d=\"M29.4065 691.256 L34.9447 691.256 Q33.6716 693.739 33.035 696.412 Q32.3984 699.086 32.3984 701.95 Q32.3984 706.311 33.7352 708.507 Q35.072 710.672 37.7456 710.672 Q39.7826 710.672 40.9603 709.112 Q42.1061 707.552 43.1565 702.842 L43.6021 700.836 Q44.9389 694.598 47.3897 691.988 Q49.8086 689.346 54.1691 689.346 Q59.1344 689.346 62.0308 693.293 Q64.9272 697.208 64.9272 704.083 Q64.9272 706.948 64.3543 710.067 Q63.8132 713.154 62.6992 716.592 L56.6518 716.592 Q58.3387 713.345 59.198 710.194 Q60.0256 707.043 60.0256 703.956 Q60.0256 699.818 58.6251 697.59 Q57.1929 695.362 54.6147 695.362 Q52.2276 695.362 50.9545 696.985 Q49.6813 698.577 48.5037 704.019 L48.0262 706.056 Q46.8804 711.499 44.5251 713.918 Q42.138 716.337 38.0002 716.337 Q32.9713 716.337 30.2341 712.772 Q27.4968 709.207 27.4968 702.651 Q27.4968 699.404 27.9743 696.54 Q28.4517 693.675 29.4065 691.256 Z\" fill=\"#000000\" fill-rule=\"nonzero\" fill-opacity=\"1\" /><path clip-path=\"url(#clip830)\" d=\"M869.372 28.5427 L869.372 35.5912 Q866.212 33.9709 862.809 33.1607 Q859.407 32.3505 855.761 32.3505 Q850.211 32.3505 847.416 34.0519 Q844.661 35.7533 844.661 39.156 Q844.661 41.7486 846.646 43.2475 Q848.631 44.7058 854.626 46.0426 L857.179 46.6097 Q865.118 48.3111 868.44 51.4303 Q871.802 54.509 871.802 60.0587 Q871.802 66.3781 866.779 70.0644 Q861.797 73.7508 853.047 73.7508 Q849.401 73.7508 845.431 73.0216 Q841.502 72.3329 837.127 70.9151 L837.127 63.2184 Q841.258 65.3654 845.269 66.4591 Q849.279 67.5124 853.209 67.5124 Q858.475 67.5124 861.31 65.73 Q864.146 63.9071 864.146 60.6258 Q864.146 57.5877 862.08 55.9673 Q860.055 54.3469 853.128 52.8481 L850.535 52.2405 Q843.608 50.7821 840.529 47.7845 Q837.451 44.7463 837.451 39.4801 Q837.451 33.0797 841.988 29.5959 Q846.525 26.1121 854.87 26.1121 Q859.001 26.1121 862.647 26.7198 Q866.293 27.3274 869.372 28.5427 Z\" fill=\"#000000\" fill-rule=\"nonzero\" fill-opacity=\"1\" /><path clip-path=\"url(#clip830)\" d=\"M921.385 45.1919 L921.385 72.576 L913.932 72.576 L913.932 45.4349 Q913.932 38.994 911.42 35.7938 Q908.909 32.5936 903.885 32.5936 Q897.85 32.5936 894.366 36.4419 Q890.882 40.2903 890.882 46.9338 L890.882 72.576 L883.388 72.576 L883.388 9.54393 L890.882 9.54393 L890.882 34.2544 Q893.556 30.163 897.161 28.1376 Q900.807 26.1121 905.546 26.1121 Q913.365 26.1121 917.375 30.9732 Q921.385 35.7938 921.385 45.1919 Z\" fill=\"#000000\" fill-rule=\"nonzero\" fill-opacity=\"1\" /><path clip-path=\"url(#clip830)\" d=\"M953.833 32.4315 Q947.838 32.4315 944.354 37.1306 Q940.87 41.7891 940.87 49.9314 Q940.87 58.0738 944.313 62.7728 Q947.797 67.4314 953.833 67.4314 Q959.788 67.4314 963.272 62.7323 Q966.756 58.0333 966.756 49.9314 Q966.756 41.8701 963.272 37.1711 Q959.788 32.4315 953.833 32.4315 M953.833 26.1121 Q963.555 26.1121 969.105 32.4315 Q974.655 38.7509 974.655 49.9314 Q974.655 61.0714 969.105 67.4314 Q963.555 73.7508 953.833 73.7508 Q944.07 73.7508 938.521 67.4314 Q933.011 61.0714 933.011 49.9314 Q933.011 38.7509 938.521 32.4315 Q944.07 26.1121 953.833 26.1121 Z\" fill=\"#000000\" fill-rule=\"nonzero\" fill-opacity=\"1\" /><path clip-path=\"url(#clip830)\" d=\"M994.383 14.324 L994.383 27.2059 L1009.74 27.2059 L1009.74 32.9987 L994.383 32.9987 L994.383 57.6282 Q994.383 63.1779 995.882 64.7578 Q997.421 66.3376 1002.08 66.3376 L1009.74 66.3376 L1009.74 72.576 L1002.08 72.576 Q993.451 72.576 990.17 69.3758 Q986.889 66.1351 986.889 57.6282 L986.889 32.9987 L981.42 32.9987 L981.42 27.2059 L986.889 27.2059 L986.889 14.324 L994.383 14.324 Z\" fill=\"#000000\" fill-rule=\"nonzero\" fill-opacity=\"1\" /><path clip-path=\"url(#clip830)\" d=\"M1048.46 28.5427 L1048.46 35.5912 Q1045.3 33.9709 1041.9 33.1607 Q1038.5 32.3505 1034.85 32.3505 Q1029.3 32.3505 1026.51 34.0519 Q1023.75 35.7533 1023.75 39.156 Q1023.75 41.7486 1025.74 43.2475 Q1027.72 44.7058 1033.72 46.0426 L1036.27 46.6097 Q1044.21 48.3111 1047.53 51.4303 Q1050.89 54.509 1050.89 60.0587 Q1050.89 66.3781 1045.87 70.0644 Q1040.89 73.7508 1032.14 73.7508 Q1028.49 73.7508 1024.52 73.0216 Q1020.59 72.3329 1016.22 70.9151 L1016.22 63.2184 Q1020.35 65.3654 1024.36 66.4591 Q1028.37 67.5124 1032.3 67.5124 Q1037.57 67.5124 1040.4 65.73 Q1043.24 63.9071 1043.24 60.6258 Q1043.24 57.5877 1041.17 55.9673 Q1039.15 54.3469 1032.22 52.8481 L1029.63 52.2405 Q1022.7 50.7821 1019.62 47.7845 Q1016.54 44.7463 1016.54 39.4801 Q1016.54 33.0797 1021.08 29.5959 Q1025.62 26.1121 1033.96 26.1121 Q1038.09 26.1121 1041.74 26.7198 Q1045.38 27.3274 1048.46 28.5427 Z\" fill=\"#000000\" fill-rule=\"nonzero\" fill-opacity=\"1\" /><path clip-path=\"url(#clip830)\" d=\"M1096.34 65.7705 L1096.34 89.8329 L1088.85 89.8329 L1088.85 27.2059 L1096.34 27.2059 L1096.34 34.0924 Q1098.69 30.0415 1102.26 28.0971 Q1105.86 26.1121 1110.85 26.1121 Q1119.11 26.1121 1124.25 32.6746 Q1129.44 39.2371 1129.44 49.9314 Q1129.44 60.6258 1124.25 67.1883 Q1119.11 73.7508 1110.85 73.7508 Q1105.86 73.7508 1102.26 71.8063 Q1098.69 69.8214 1096.34 65.7705 M1121.7 49.9314 Q1121.7 41.7081 1118.3 37.0496 Q1114.94 32.3505 1109.02 32.3505 Q1103.11 32.3505 1099.71 37.0496 Q1096.34 41.7081 1096.34 49.9314 Q1096.34 58.1548 1099.71 62.8538 Q1103.11 67.5124 1109.02 67.5124 Q1114.94 67.5124 1118.3 62.8538 Q1121.7 58.1548 1121.7 49.9314 Z\" fill=\"#000000\" fill-rule=\"nonzero\" fill-opacity=\"1\" /><path clip-path=\"url(#clip830)\" d=\"M1180.6 48.0275 L1180.6 51.6733 L1146.33 51.6733 Q1146.82 59.3701 1150.95 63.421 Q1155.12 67.4314 1162.54 67.4314 Q1166.83 67.4314 1170.84 66.3781 Q1174.89 65.3249 1178.86 63.2184 L1178.86 70.267 Q1174.85 71.9684 1170.64 72.8596 Q1166.42 73.7508 1162.09 73.7508 Q1151.23 73.7508 1144.87 67.4314 Q1138.55 61.1119 1138.55 50.3365 Q1138.55 39.1965 1144.55 32.6746 Q1150.59 26.1121 1160.79 26.1121 Q1169.95 26.1121 1175.26 32.0264 Q1180.6 37.9003 1180.6 48.0275 M1173.15 45.84 Q1173.07 39.7232 1169.71 36.0774 Q1166.38 32.4315 1160.87 32.4315 Q1154.64 32.4315 1150.87 35.9558 Q1147.14 39.4801 1146.58 45.8805 L1173.15 45.84 Z\" fill=\"#000000\" fill-rule=\"nonzero\" fill-opacity=\"1\" /><path clip-path=\"url(#clip830)\" d=\"M1219.13 34.1734 Q1217.87 33.4443 1216.37 33.1202 Q1214.91 32.7556 1213.13 32.7556 Q1206.81 32.7556 1203.41 36.8875 Q1200.05 40.9789 1200.05 48.6757 L1200.05 72.576 L1192.55 72.576 L1192.55 27.2059 L1200.05 27.2059 L1200.05 34.2544 Q1202.4 30.1225 1206.16 28.1376 Q1209.93 26.1121 1215.32 26.1121 Q1216.09 26.1121 1217.02 26.2337 Q1217.95 26.3147 1219.09 26.5172 L1219.13 34.1734 Z\" fill=\"#000000\" fill-rule=\"nonzero\" fill-opacity=\"1\" /><path clip-path=\"url(#clip830)\" d=\"M1285.89 49.9314 Q1285.89 41.7081 1282.48 37.0496 Q1279.12 32.3505 1273.21 32.3505 Q1267.29 32.3505 1263.89 37.0496 Q1260.53 41.7081 1260.53 49.9314 Q1260.53 58.1548 1263.89 62.8538 Q1267.29 67.5124 1273.21 67.5124 Q1279.12 67.5124 1282.48 62.8538 Q1285.89 58.1548 1285.89 49.9314 M1260.53 34.0924 Q1262.88 30.0415 1266.44 28.0971 Q1270.05 26.1121 1275.03 26.1121 Q1283.29 26.1121 1288.44 32.6746 Q1293.62 39.2371 1293.62 49.9314 Q1293.62 60.6258 1288.44 67.1883 Q1283.29 73.7508 1275.03 73.7508 Q1270.05 73.7508 1266.44 71.8063 Q1262.88 69.8214 1260.53 65.7705 L1260.53 72.576 L1253.03 72.576 L1253.03 9.54393 L1260.53 9.54393 L1260.53 34.0924 Z\" fill=\"#000000\" fill-rule=\"nonzero\" fill-opacity=\"1\" /><path clip-path=\"url(#clip830)\" d=\"M1326.6 49.7694 Q1317.56 49.7694 1314.08 51.8354 Q1310.6 53.9013 1310.6 58.8839 Q1310.6 62.8538 1313.19 65.2034 Q1315.82 67.5124 1320.32 67.5124 Q1326.52 67.5124 1330.24 63.1374 Q1334.01 58.7219 1334.01 51.4303 L1334.01 49.7694 L1326.6 49.7694 M1341.46 46.6907 L1341.46 72.576 L1334.01 72.576 L1334.01 65.6895 Q1331.46 69.8214 1327.65 71.8063 Q1323.84 73.7508 1318.33 73.7508 Q1311.37 73.7508 1307.23 69.8619 Q1303.14 65.9325 1303.14 59.3701 Q1303.14 51.7138 1308.25 47.825 Q1313.39 43.9361 1323.56 43.9361 L1334.01 43.9361 L1334.01 43.2069 Q1334.01 38.0623 1330.61 35.2672 Q1327.25 32.4315 1321.13 32.4315 Q1317.24 32.4315 1313.55 33.3632 Q1309.87 34.295 1306.46 36.1584 L1306.46 29.2718 Q1310.56 27.692 1314.4 26.9223 Q1318.25 26.1121 1321.9 26.1121 Q1331.74 26.1121 1336.6 31.2163 Q1341.46 36.3204 1341.46 46.6907 Z\" fill=\"#000000\" fill-rule=\"nonzero\" fill-opacity=\"1\" /><path clip-path=\"url(#clip830)\" d=\"M1385.74 28.5427 L1385.74 35.5912 Q1382.58 33.9709 1379.18 33.1607 Q1375.78 32.3505 1372.13 32.3505 Q1366.58 32.3505 1363.78 34.0519 Q1361.03 35.7533 1361.03 39.156 Q1361.03 41.7486 1363.01 43.2475 Q1365 44.7058 1371 46.0426 L1373.55 46.6097 Q1381.49 48.3111 1384.81 51.4303 Q1388.17 54.509 1388.17 60.0587 Q1388.17 66.3781 1383.15 70.0644 Q1378.17 73.7508 1369.42 73.7508 Q1365.77 73.7508 1361.8 73.0216 Q1357.87 72.3329 1353.5 70.9151 L1353.5 63.2184 Q1357.63 65.3654 1361.64 66.4591 Q1365.65 67.5124 1369.58 67.5124 Q1374.84 67.5124 1377.68 65.73 Q1380.51 63.9071 1380.51 60.6258 Q1380.51 57.5877 1378.45 55.9673 Q1376.42 54.3469 1369.5 52.8481 L1366.9 52.2405 Q1359.98 50.7821 1356.9 47.7845 Q1353.82 44.7463 1353.82 39.4801 Q1353.82 33.0797 1358.36 29.5959 Q1362.89 26.1121 1371.24 26.1121 Q1375.37 26.1121 1379.02 26.7198 Q1382.66 27.3274 1385.74 28.5427 Z\" fill=\"#000000\" fill-rule=\"nonzero\" fill-opacity=\"1\" /><path clip-path=\"url(#clip830)\" d=\"M1400.04 27.2059 L1407.49 27.2059 L1407.49 72.576 L1400.04 72.576 L1400.04 27.2059 M1400.04 9.54393 L1407.49 9.54393 L1407.49 18.9825 L1400.04 18.9825 L1400.04 9.54393 Z\" fill=\"#000000\" fill-rule=\"nonzero\" fill-opacity=\"1\" /><path clip-path=\"url(#clip830)\" d=\"M1452.01 28.5427 L1452.01 35.5912 Q1448.85 33.9709 1445.45 33.1607 Q1442.05 32.3505 1438.4 32.3505 Q1432.85 32.3505 1430.06 34.0519 Q1427.3 35.7533 1427.3 39.156 Q1427.3 41.7486 1429.29 43.2475 Q1431.27 44.7058 1437.27 46.0426 L1439.82 46.6097 Q1447.76 48.3111 1451.08 51.4303 Q1454.44 54.509 1454.44 60.0587 Q1454.44 66.3781 1449.42 70.0644 Q1444.44 73.7508 1435.69 73.7508 Q1432.04 73.7508 1428.07 73.0216 Q1424.14 72.3329 1419.77 70.9151 L1419.77 63.2184 Q1423.9 65.3654 1427.91 66.4591 Q1431.92 67.5124 1435.85 67.5124 Q1441.12 67.5124 1443.95 65.73 Q1446.79 63.9071 1446.79 60.6258 Q1446.79 57.5877 1444.72 55.9673 Q1442.7 54.3469 1435.77 52.8481 L1433.18 52.2405 Q1426.25 50.7821 1423.17 47.7845 Q1420.09 44.7463 1420.09 39.4801 Q1420.09 33.0797 1424.63 29.5959 Q1429.17 26.1121 1437.51 26.1121 Q1441.64 26.1121 1445.29 26.7198 Q1448.93 27.3274 1452.01 28.5427 Z\" fill=\"#000000\" fill-rule=\"nonzero\" fill-opacity=\"1\" /><path clip-path=\"url(#clip830)\" d=\"M1468.22 62.2867 L1476.76 62.2867 L1476.76 72.576 L1468.22 72.576 L1468.22 62.2867 M1468.22 29.6769 L1476.76 29.6769 L1476.76 39.9662 L1468.22 39.9662 L1468.22 29.6769 Z\" fill=\"#000000\" fill-rule=\"nonzero\" fill-opacity=\"1\" /><path clip-path=\"url(#clip830)\" d=\"M1523.11 65.6895 L1536.47 65.6895 L1536.47 19.5497 L1521.93 22.4663 L1521.93 15.0127 L1536.39 12.096 L1544.58 12.096 L1544.58 65.6895 L1557.94 65.6895 L1557.94 72.576 L1523.11 72.576 L1523.11 65.6895 Z\" fill=\"#000000\" fill-rule=\"nonzero\" fill-opacity=\"1\" /><path clip-path=\"url(#clip830)\" d=\"M1607.16 14.324 L1607.16 27.2059 L1622.52 27.2059 L1622.52 32.9987 L1607.16 32.9987 L1607.16 57.6282 Q1607.16 63.1779 1608.66 64.7578 Q1610.2 66.3376 1614.86 66.3376 L1622.52 66.3376 L1622.52 72.576 L1614.86 72.576 Q1606.23 72.576 1602.95 69.3758 Q1599.67 66.1351 1599.67 57.6282 L1599.67 32.9987 L1594.2 32.9987 L1594.2 27.2059 L1599.67 27.2059 L1599.67 14.324 L1607.16 14.324 Z\" fill=\"#000000\" fill-rule=\"nonzero\" fill-opacity=\"1\" /><path clip-path=\"url(#clip830)\" d=\"M1649.9 32.4315 Q1643.9 32.4315 1640.42 37.1306 Q1636.94 41.7891 1636.94 49.9314 Q1636.94 58.0738 1640.38 62.7728 Q1643.86 67.4314 1649.9 67.4314 Q1655.85 67.4314 1659.34 62.7323 Q1662.82 58.0333 1662.82 49.9314 Q1662.82 41.8701 1659.34 37.1711 Q1655.85 32.4315 1649.9 32.4315 M1649.9 26.1121 Q1659.62 26.1121 1665.17 32.4315 Q1670.72 38.7509 1670.72 49.9314 Q1670.72 61.0714 1665.17 67.4314 Q1659.62 73.7508 1649.9 73.7508 Q1640.14 73.7508 1634.59 67.4314 Q1629.08 61.0714 1629.08 49.9314 Q1629.08 38.7509 1634.59 32.4315 Q1640.14 26.1121 1649.9 26.1121 Z\" fill=\"#000000\" fill-rule=\"nonzero\" fill-opacity=\"1\" /><path clip-path=\"url(#clip830)\" d=\"M1732.98 19.2256 L1712.32 51.5113 L1732.98 51.5113 L1732.98 19.2256 M1730.84 12.096 L1741.13 12.096 L1741.13 51.5113 L1749.75 51.5113 L1749.75 58.3168 L1741.13 58.3168 L1741.13 72.576 L1732.98 72.576 L1732.98 58.3168 L1705.68 58.3168 L1705.68 50.4176 L1730.84 12.096 Z\" fill=\"#000000\" fill-rule=\"nonzero\" fill-opacity=\"1\" /><path clip-path=\"url(#clip832)\" d=\"M350.654 160.256 L350.654 1386.4 L747.617 1386.4 L747.617 160.256 L350.654 160.256 L350.654 160.256  Z\" fill=\"#009af9\" fill-rule=\"evenodd\" fill-opacity=\"1\"/>\n",
       "<polyline clip-path=\"url(#clip832)\" style=\"stroke:#000000; stroke-linecap:round; stroke-linejoin:round; stroke-width:4; stroke-opacity:1; fill:none\" points=\"350.654,160.256 350.654,1386.4 747.617,1386.4 747.617,160.256 350.654,160.256 \"/>\n",
       "<path clip-path=\"url(#clip832)\" d=\"M846.857 220.634 L846.857 1386.4 L1243.82 1386.4 L1243.82 220.634 L846.857 220.634 L846.857 220.634  Z\" fill=\"#009af9\" fill-rule=\"evenodd\" fill-opacity=\"1\"/>\n",
       "<polyline clip-path=\"url(#clip832)\" style=\"stroke:#000000; stroke-linecap:round; stroke-linejoin:round; stroke-width:4; stroke-opacity:1; fill:none\" points=\"846.857,220.634 846.857,1386.4 1243.82,1386.4 1243.82,220.634 846.857,220.634 \"/>\n",
       "<path clip-path=\"url(#clip832)\" d=\"M1343.06 225.279 L1343.06 1386.4 L1740.02 1386.4 L1740.02 225.279 L1343.06 225.279 L1343.06 225.279  Z\" fill=\"#009af9\" fill-rule=\"evenodd\" fill-opacity=\"1\"/>\n",
       "<polyline clip-path=\"url(#clip832)\" style=\"stroke:#000000; stroke-linecap:round; stroke-linejoin:round; stroke-width:4; stroke-opacity:1; fill:none\" points=\"1343.06,225.279 1343.06,1386.4 1740.02,1386.4 1740.02,225.279 1343.06,225.279 \"/>\n",
       "<path clip-path=\"url(#clip832)\" d=\"M1839.26 294.946 L1839.26 1386.4 L2236.23 1386.4 L2236.23 294.946 L1839.26 294.946 L1839.26 294.946  Z\" fill=\"#009af9\" fill-rule=\"evenodd\" fill-opacity=\"1\"/>\n",
       "<polyline clip-path=\"url(#clip832)\" style=\"stroke:#000000; stroke-linecap:round; stroke-linejoin:round; stroke-width:4; stroke-opacity:1; fill:none\" points=\"1839.26,294.946 1839.26,1386.4 2236.23,1386.4 2236.23,294.946 1839.26,294.946 \"/>\n",
       "<circle clip-path=\"url(#clip832)\" style=\"fill:#009af9; stroke:none; fill-opacity:0\" cx=\"549.135\" cy=\"160.256\" r=\"2\"/>\n",
       "<circle clip-path=\"url(#clip832)\" style=\"fill:#009af9; stroke:none; fill-opacity:0\" cx=\"1045.34\" cy=\"220.634\" r=\"2\"/>\n",
       "<circle clip-path=\"url(#clip832)\" style=\"fill:#009af9; stroke:none; fill-opacity:0\" cx=\"1541.54\" cy=\"225.279\" r=\"2\"/>\n",
       "<circle clip-path=\"url(#clip832)\" style=\"fill:#009af9; stroke:none; fill-opacity:0\" cx=\"2037.75\" cy=\"294.946\" r=\"2\"/>\n",
       "<path clip-path=\"url(#clip830)\" d=\"M1948.12 270.476 L2282.13 270.476 L2282.13 166.796 L1948.12 166.796  Z\" fill=\"#ffffff\" fill-rule=\"evenodd\" fill-opacity=\"1\"/>\n",
       "<polyline clip-path=\"url(#clip830)\" style=\"stroke:#000000; stroke-linecap:round; stroke-linejoin:round; stroke-width:4; stroke-opacity:1; fill:none\" points=\"1948.12,270.476 2282.13,270.476 2282.13,166.796 1948.12,166.796 1948.12,270.476 \"/>\n",
       "<path clip-path=\"url(#clip830)\" d=\"M1971.66 239.372 L2112.9 239.372 L2112.9 197.9 L1971.66 197.9 L1971.66 239.372  Z\" fill=\"#009af9\" fill-rule=\"evenodd\" fill-opacity=\"1\"/>\n",
       "<polyline clip-path=\"url(#clip830)\" style=\"stroke:#000000; stroke-linecap:round; stroke-linejoin:round; stroke-width:4; stroke-opacity:1; fill:none\" points=\"1971.66,239.372 2112.9,239.372 2112.9,197.9 1971.66,197.9 1971.66,239.372 \"/>\n",
       "<path clip-path=\"url(#clip830)\" d=\"M2154.87 210.754 L2154.87 214.782 Q2153.06 213.856 2151.12 213.393 Q2149.17 212.93 2147.09 212.93 Q2143.92 212.93 2142.32 213.902 Q2140.75 214.874 2140.75 216.819 Q2140.75 218.3 2141.88 219.157 Q2143.02 219.99 2146.44 220.754 L2147.9 221.078 Q2152.44 222.05 2154.34 223.832 Q2156.26 225.592 2156.26 228.763 Q2156.26 232.374 2153.39 234.481 Q2150.54 236.587 2145.54 236.587 Q2143.46 236.587 2141.19 236.17 Q2138.94 235.777 2136.44 234.967 L2136.44 230.569 Q2138.8 231.795 2141.1 232.42 Q2143.39 233.022 2145.63 233.022 Q2148.64 233.022 2150.26 232.004 Q2151.88 230.962 2151.88 229.087 Q2151.88 227.351 2150.7 226.425 Q2149.54 225.499 2145.59 224.643 L2144.1 224.295 Q2140.15 223.462 2138.39 221.749 Q2136.63 220.013 2136.63 217.004 Q2136.63 213.346 2139.22 211.356 Q2141.81 209.365 2146.58 209.365 Q2148.94 209.365 2151.03 209.712 Q2153.11 210.059 2154.87 210.754 Z\" fill=\"#000000\" fill-rule=\"nonzero\" fill-opacity=\"1\" /><path clip-path=\"url(#clip830)\" d=\"M2184.59 220.268 L2184.59 235.916 L2180.33 235.916 L2180.33 220.407 Q2180.33 216.726 2178.9 214.897 Q2177.46 213.069 2174.59 213.069 Q2171.14 213.069 2169.15 215.268 Q2167.16 217.467 2167.16 221.263 L2167.16 235.916 L2162.88 235.916 L2162.88 199.897 L2167.16 199.897 L2167.16 214.018 Q2168.69 211.68 2170.75 210.522 Q2172.83 209.365 2175.54 209.365 Q2180.01 209.365 2182.3 212.143 Q2184.59 214.897 2184.59 220.268 Z\" fill=\"#000000\" fill-rule=\"nonzero\" fill-opacity=\"1\" /><path clip-path=\"url(#clip830)\" d=\"M2203.13 212.976 Q2199.71 212.976 2197.72 215.661 Q2195.72 218.323 2195.72 222.976 Q2195.72 227.629 2197.69 230.314 Q2199.68 232.976 2203.13 232.976 Q2206.53 232.976 2208.53 230.291 Q2210.52 227.606 2210.52 222.976 Q2210.52 218.37 2208.53 215.684 Q2206.53 212.976 2203.13 212.976 M2203.13 209.365 Q2208.69 209.365 2211.86 212.976 Q2215.03 216.587 2215.03 222.976 Q2215.03 229.342 2211.86 232.976 Q2208.69 236.587 2203.13 236.587 Q2197.55 236.587 2194.38 232.976 Q2191.23 229.342 2191.23 222.976 Q2191.23 216.587 2194.38 212.976 Q2197.55 209.365 2203.13 209.365 Z\" fill=\"#000000\" fill-rule=\"nonzero\" fill-opacity=\"1\" /><path clip-path=\"url(#clip830)\" d=\"M2226.3 202.629 L2226.3 209.99 L2235.08 209.99 L2235.08 213.3 L2226.3 213.3 L2226.3 227.374 Q2226.3 230.545 2227.16 231.448 Q2228.04 232.351 2230.7 232.351 L2235.08 232.351 L2235.08 235.916 L2230.7 235.916 Q2225.77 235.916 2223.9 234.087 Q2222.02 232.235 2222.02 227.374 L2222.02 213.3 L2218.9 213.3 L2218.9 209.99 L2222.02 209.99 L2222.02 202.629 L2226.3 202.629 Z\" fill=\"#000000\" fill-rule=\"nonzero\" fill-opacity=\"1\" /><path clip-path=\"url(#clip830)\" d=\"M2257.21 210.754 L2257.21 214.782 Q2255.4 213.856 2253.46 213.393 Q2251.51 212.93 2249.43 212.93 Q2246.26 212.93 2244.66 213.902 Q2243.09 214.874 2243.09 216.819 Q2243.09 218.3 2244.22 219.157 Q2245.35 219.99 2248.78 220.754 L2250.24 221.078 Q2254.78 222.05 2256.67 223.832 Q2258.59 225.592 2258.59 228.763 Q2258.59 232.374 2255.72 234.481 Q2252.88 236.587 2247.88 236.587 Q2245.79 236.587 2243.53 236.17 Q2241.28 235.777 2238.78 234.967 L2238.78 230.569 Q2241.14 231.795 2243.43 232.42 Q2245.72 233.022 2247.97 233.022 Q2250.98 233.022 2252.6 232.004 Q2254.22 230.962 2254.22 229.087 Q2254.22 227.351 2253.04 226.425 Q2251.88 225.499 2247.92 224.643 L2246.44 224.295 Q2242.48 223.462 2240.72 221.749 Q2238.97 220.013 2238.97 217.004 Q2238.97 213.346 2241.56 211.356 Q2244.15 209.365 2248.92 209.365 Q2251.28 209.365 2253.36 209.712 Q2255.45 210.059 2257.21 210.754 Z\" fill=\"#000000\" fill-rule=\"nonzero\" fill-opacity=\"1\" /></svg>\n"
      ]
     },
     "metadata": {},
     "output_type": "display_data"
    },
    {
     "name": "stdout",
     "output_type": "stream",
     "text": [
      "0.4999999999999999 * |00>\n",
      "0.4999999999999999 * |01>\n",
      "0.4999999999999999 * |10>\n",
      "0.4999999999999999 * |11>\n"
     ]
    }
   ],
   "source": [
    "qc = qc_init(2)\n",
    "op(qc, q.H, 0)\n",
    "op(qc, q.H, 1)\n",
    "show_statevector(qc)\n",
    "peek_states(qc)\n",
    "shots = 1000\n",
    "# statevector simulator\n",
    "measure_state(qc,shots;save_fig=false)\n",
    "# the statevector is normalized, check the probabilities of the states.\n",
    "# Check for yourself that the probabilities are the same as or close to \n",
    "# ... the statevector simulator"
   ]
  },
  {
   "cell_type": "markdown",
   "metadata": {},
   "source": [
    "Now, let's implement the quantum teleportation protocol using MolKet's quantum computing package. We will create a quantum circuit that simulates the teleportation of a qubit state from Alice to Bob.\n",
    "\n",
    "First, we need to create a quantum circuit of three qubits. The first qubit is the information qubit that Alice wants to send to Bob. The second and third qubits are the entangled pair of qubits shared between Alice and Bob. We will represent the qubits in `big-endian` convention.\n",
    "\n",
    "Hence, Alice has two qubits, the first one is the information qubit, and the second one is her half of the entangled pair. Bob has one qubit, which is his half of the entangled pair.\n",
    "\n",
    "After initializing the quantum circuit, you can check the statevector of the quantum circuit to see the initial state of the qubits which is the ground state $\\vert 000 \\rangle$."
   ]
  },
  {
   "cell_type": "code",
   "execution_count": 7,
   "metadata": {},
   "outputs": [
    {
     "name": "stdout",
     "output_type": "stream",
     "text": [
      "1.0 * |000>\n",
      "0.0 * |001>\n",
      "0.0 * |010>\n",
      "0.0 * |011>\n",
      "0.0 * |100>\n",
      "0.0 * |101>\n",
      "0.0 * |110>\n",
      "0.0 * |111>\n"
     ]
    }
   ],
   "source": [
    "# create a quantum circuit with 3 qubits\n",
    "qc = qc_init(3)\n",
    "#show the statevector\n",
    "show_statevector(qc)"
   ]
  },
  {
   "cell_type": "markdown",
   "metadata": {},
   "source": [
    "Now, lwt's create the entangled pair of qubits, between qubit 1 and qubit 2. We will create a Bell state by applying a Hadamard gate to qubit 1 and a CNOT gate with qubit 1 as the control qubit and qubit 2 as the target qubit. We can then check the statevector of the quantum circuit to see the entangled pair of qubits.\n",
    "\n",
    "Let' implement a function that creates the entangled pair of qubits depending on the input states of the qubits. The function takes the quantum circuit `qc` and the input states of the qubits as arguments. The input states are qubits 1 and 2. The function applies a Hadamard gate to qubit 1 and a CNOT gate with qubit 1 as the control qubit and qubit 2 as the target qubit. The function returns the quantum circuit `qc` with the entangled pair of qubits.\n",
    "\n"
   ]
  },
  {
   "cell_type": "code",
   "execution_count": 12,
   "metadata": {},
   "outputs": [
    {
     "data": {
      "text/plain": [
       "bell_pair_q0q1 (generic function with 1 method)"
      ]
     },
     "metadata": {},
     "output_type": "display_data"
    }
   ],
   "source": [
    "# create bell pair depending on the input states of the qubits\n",
    "function bell_pair_q0q1(qc,q0,q1;q0_state=0,q1_state=0)\n",
    "    if q0_state == 1\n",
    "        op(qc, q.X, q0)\n",
    "    end\n",
    "    if q1_state == 1\n",
    "        op(qc, q.X, q1)\n",
    "    end\n",
    "    op(qc, q.H, q0)\n",
    "    op(qc, q.X, q1, q1_control = q0)\n",
    "    return qc\n",
    "end"
   ]
  },
  {
   "cell_type": "markdown",
   "metadata": {},
   "source": [
    "We can combine the steps so far in the cell below."
   ]
  },
  {
   "cell_type": "code",
   "execution_count": 13,
   "metadata": {},
   "outputs": [
    {
     "name": "stdout",
     "output_type": "stream",
     "text": [
      "0.7071067811865475 * |000>\n",
      "0.0 * |001>\n",
      "0.0 * |010>\n",
      "0.7071067811865475 * |011>\n",
      "0.0 * |100>\n",
      "0.0 * |101>\n",
      "0.0 * |110>\n",
      "0.0 * |111>\n"
     ]
    }
   ],
   "source": [
    "# create a quantum circuit with 3 qubits\n",
    "qc = qc_init(3)\n",
    "# create bell pair between q_1 and q_2\n",
    "bell_pair_q0q1(qc,1,2)\n",
    "\n",
    "#show the statevector\n",
    "show_statevector(qc)"
   ]
  },
  {
   "cell_type": "markdown",
   "metadata": {},
   "source": [
    "We can check the statevector of the quantum circuit to see the entangled pair of qubits. The statevector should be in a superposition of the Bell states for the second and third qubit $\\frac{1}{\\sqrt{2}}(\\vert 00 \\rangle + \\vert 11 \\rangle)$ while the first qubit is in the ground state $\\vert 0 \\rangle$."
   ]
  },
  {
   "cell_type": "markdown",
   "metadata": {},
   "source": [
    "Now, let's create the information qubit that Alice wants to send to Bob. We will create a random qubit state by applying a Hadamard gate and X gate to the first qubit. We can then check the statevector of the quantum circuit to see the information qubit."
   ]
  },
  {
   "cell_type": "code",
   "execution_count": 15,
   "metadata": {},
   "outputs": [
    {
     "name": "stdout",
     "output_type": "stream",
     "text": [
      "0.7071067811865475 * |000>\n",
      "0.0 * |001>\n",
      "0.0 * |010>\n",
      "0.0 * |011>\n",
      "-0.7071067811865475 * |100>\n",
      "0.0 * |101>\n",
      "0.0 * |110>\n",
      "0.0 * |111>\n"
     ]
    }
   ],
   "source": [
    "# create a quantum circuit with 3 qubits\n",
    "qc = qc_init(3)\n",
    "# create a given state on q_0 \n",
    "op(qc, q.X, 0)\n",
    "op(qc, q.H, 0)\n",
    "# check the statevector\n",
    "show_statevector(qc)\n"
   ]
  },
  {
   "cell_type": "code",
   "execution_count": 16,
   "metadata": {},
   "outputs": [
    {
     "data": {
      "text/plain": [
       "Main.quantum_circuit.qc_initstruct(3, \"big-endian\", 2, 8, [0.4999999999999999, 0.0, 0.0, 0.4999999999999999, -0.4999999999999999, 0.0, 0.0, -0.4999999999999999], [0.0 0.0 0.0; 0.0 0.0 1.0; … ; 1.0 1.0 0.0; 1.0 1.0 1.0], Any[\"000\"; \"001\"; … ; \"110\"; \"111\";;], Any[\"Op_ind\" \"Op\" … \"object\" \"op_mat\"; 1 \"[0.0 1.0; 1.0 0.0]\" … [0.0 1.0; 1.0 0.0] [0.0 0.0 … 0.0 0.0; 0.0 0.0 … 0.0 0.0; … ; 0.0 0.0 … 0.0 0.0; 0.0 0.0 … 0.0 0.0]; … ; 3 \"[0.7071067811865475 0.7071067811865475; 0.7071067811865475 -0.7071067811865475]\" … [0.7071067811865475 0.7071067811865475; 0.7071067811865475 -0.7071067811865475] [0.4999999999999999 0.0 … 0.4999999999999999 0.0; 0.0 0.4999999999999999 … 0.0 0.4999999999999999; … ; -0.4999999999999999 0.0 … -0.4999999999999999 0.0; 0.0 -0.4999999999999999 … 0.0 -0.4999999999999999]; 4 \"[0.0 1.0; 1.0 0.0]\" … [0.0 1.0; 1.0 0.0] [0.4999999999999999 0.0 … 0.4999999999999999 0.0; 0.0 0.4999999999999999 … 0.0 0.4999999999999999; … ; 0.0 -0.4999999999999999 … 0.0 -0.4999999999999999; -0.4999999999999999 0.0 … -0.4999999999999999 0.0]], [0.4999999999999999 0.0 … 0.4999999999999999 0.0; 0.0 0.4999999999999999 … 0.0 0.4999999999999999; … ; 0.0 -0.4999999999999999 … 0.0 -0.4999999999999999; -0.4999999999999999 0.0 … -0.4999999999999999 0.0], true, false, false)"
      ]
     },
     "metadata": {},
     "output_type": "display_data"
    }
   ],
   "source": [
    "# create a quantum circuit with 3 qubits\n",
    "qc = qc_init(3)\n",
    "# create a given state on q_0 \n",
    "op(qc, q.X, 0)\n",
    "op(qc, q.H, 0)\n",
    "# create bell pair\n",
    "op(qc, q.H, 1)\n",
    "op(qc, q.X, 2, q1_control = 1)\n"
   ]
  },
  {
   "cell_type": "markdown",
   "metadata": {},
   "source": [
    "To reverse the entaglement, we can apply the same operations in reverse order. \n",
    "However, this time, we will apply it between the information qubit and the \n",
    "second qubit of Alice. "
   ]
  },
  {
   "cell_type": "code",
   "execution_count": 18,
   "metadata": {},
   "outputs": [
    {
     "data": {
      "text/plain": [
       "Main.quantum_circuit.qc_initstruct(3, \"big-endian\", 2, 8, [0.3535533905932737, -0.3535533905932737, -0.3535533905932737, 0.3535533905932737, 0.3535533905932737, 0.3535533905932737, 0.3535533905932737, 0.3535533905932737], [0.0 0.0 0.0; 0.0 0.0 1.0; … ; 1.0 1.0 0.0; 1.0 1.0 1.0], Any[\"000\"; \"001\"; … ; \"110\"; \"111\";;], Any[\"Op_ind\" \"Op\" … \"object\" \"op_mat\"; 1 \"[0.0 1.0; 1.0 0.0]\" … [0.0 1.0; 1.0 0.0] [0.0 0.0 … 0.0 0.0; 0.0 0.0 … 0.0 0.0; … ; 0.0 0.0 … 0.0 0.0; 0.0 0.0 … 0.0 0.0]; … ; 5 \"[0.0 1.0; 1.0 0.0]\" … [0.0 1.0; 1.0 0.0] [0.4999999999999999 0.0 … 0.4999999999999999 0.0; 0.0 0.4999999999999999 … 0.0 0.4999999999999999; … ; -0.4999999999999999 0.0 … 0.4999999999999999 0.0; 0.0 -0.4999999999999999 … 0.0 0.4999999999999999]; 6 \"[0.7071067811865475 0.7071067811865475; 0.7071067811865475 -0.7071067811865475]\" … [0.7071067811865475 0.7071067811865475; 0.7071067811865475 -0.7071067811865475] [0.3535533905932737 -0.3535533905932737 … 0.3535533905932737 -0.3535533905932737; -0.3535533905932737 0.3535533905932737 … -0.3535533905932737 0.3535533905932737; … ; 0.3535533905932737 0.3535533905932737 … -0.3535533905932737 -0.3535533905932737; 0.3535533905932737 0.3535533905932737 … -0.3535533905932737 -0.3535533905932737]], [0.3535533905932737 -0.3535533905932737 … 0.3535533905932737 -0.3535533905932737; -0.3535533905932737 0.3535533905932737 … -0.3535533905932737 0.3535533905932737; … ; 0.3535533905932737 0.3535533905932737 … -0.3535533905932737 -0.3535533905932737; 0.3535533905932737 0.3535533905932737 … -0.3535533905932737 -0.3535533905932737], true, false, false)"
      ]
     },
     "metadata": {},
     "output_type": "display_data"
    }
   ],
   "source": [
    "# create a quantum circuit with 3 qubits\n",
    "qc = qc_init(3)\n",
    "# create a given state on q_0 \n",
    "op(qc, q.X, 0)\n",
    "op(qc, q.H, 0)\n",
    "# create bell pair\n",
    "op(qc, q.H, 1)\n",
    "op(qc, q.X, 2, q1_control = 1)\n",
    "# reverse the operation of the bell pair\n",
    "op(qc, q.X, 1, q1_control = 0)\n",
    "op(qc, q.H, 0)"
   ]
  },
  {
   "cell_type": "markdown",
   "metadata": {},
   "source": [
    "Alice now has to measure her two qubits and send the results to Bob. Bob will use this information to recover the state of the information qubit:\n",
    "\n",
    "| q_0       | q_1       | Operation(s)   |\n",
    "|-----------|-----------|----------------|\n",
    "| 0         | 0         | Do nothing     |\n",
    "| 0         | 1         | Apply Z gate   |\n",
    "| 1         | 0         | Apply X gate   |\n",
    "| 1         | 1         | Apply XZ gate  |"
   ]
  },
  {
   "cell_type": "markdown",
   "metadata": {},
   "source": [
    "We can create a function that applies the necessary operations to Bob's qubit depending on the measurement results of Alice's qubits. "
   ]
  },
  {
   "cell_type": "code",
   "execution_count": 19,
   "metadata": {},
   "outputs": [
    {
     "data": {
      "text/plain": [
       "qteleport_decode (generic function with 1 method)"
      ]
     },
     "metadata": {},
     "output_type": "display_data"
    }
   ],
   "source": [
    "# based on the measurements of Alice's qubits, Bob will apply the necessary gates to decode the information\n",
    "# create a function to decode the information\n",
    "function qteleport_decode(qc, q0_state, q1_state)\n",
    "    # Inputs:\n",
    "    # qc: quantum circuit\n",
    "    # q0_state: state of qubit 0\n",
    "    # q1_state: state of qubit 1\n",
    "    # Outputs:\n",
    "    # qc: quantum circuit with decoded information\n",
    "    # apply the necessary gates to decode the information\n",
    "    if q0_state == 1\n",
    "        op(qc, q.X, 2)\n",
    "    end\n",
    "    if q1_state == 1\n",
    "        op(qc, q.Z, 2)\n",
    "    end\n",
    "    return qc\n",
    "end # end of the function decode"
   ]
  },
  {
   "cell_type": "code",
   "execution_count": null,
   "metadata": {},
   "outputs": [],
   "source": [
    "# create a quantum circuit with 3 qubits\n",
    "qc = qc_init(3)\n",
    "# create a given state on q_0 \n",
    "op(qc, q.X, 0)\n",
    "op(qc, q.H, 0)\n",
    "# create bell pair\n",
    "op(qc, q.H, 1)\n",
    "op(qc, q.X, 2, q1_control = 1)\n",
    "# reverse the operation of the bell pair\n",
    "op(qc, q.X, 1, q1_control = 0)\n",
    "op(qc, q.H, 0)\n",
    "# qubits 0 and 1 are measured\n",
    "qubits = [0,1]  # qubits to measure\n",
    "bas = \"Zbas\"     # basis to measure\n"
   ]
  }
 ],
 "metadata": {
  "kernelspec": {
   "display_name": "Julia 1.9.1",
   "language": "julia",
   "name": "julia-1.9"
  },
  "language_info": {
   "file_extension": ".jl",
   "mimetype": "application/julia",
   "name": "julia",
   "version": "1.9.1"
  }
 },
 "nbformat": 4,
 "nbformat_minor": 2
}
