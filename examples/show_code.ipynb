{
 "cells": [
  {
   "cell_type": "markdown",
   "metadata": {},
   "source": [
    "The following MIT license only applies to the code, and not to the text and images.\n",
    "\n",
    "# MIT License\n",
    "\n",
    "Copyright (c) 2024 Taha Selim, Alain Chancé, MolKet\n",
    "\n",
    "Permission is hereby granted, free of charge, to any person obtaining a copy\n",
    "of this software and associated documentation files (the \"Software\"), to deal\n",
    "in the Software without restriction, including without limitation the rights\n",
    "to use, copy, modify, merge, publish, distribute, sublicense, and/or sell\n",
    "copies of the Software, and to permit persons to whom the Software is\n",
    "furnished to do so, subject to the following conditions:\n",
    "\n",
    "The above copyright notice and this permission notice shall be included in all\n",
    "copies or substantial portions of the Software.\n",
    "\n",
    "THE SOFTWARE IS PROVIDED \"AS IS\", WITHOUT WARRANTY OF ANY KIND, EXPRESS OR\n",
    "IMPLIED, INCLUDING BUT NOT LIMITED TO THE WARRANTIES OF MERCHANTABILITY,\n",
    "FITNESS FOR A PARTICULAR PURPOSE AND NONINFRINGEMENT. IN NO EVENT SHALL THE\n",
    "AUTHORS OR COPYRIGHT HOLDERS BE LIABLE FOR ANY CLAIM, DAMAGES OR OTHER\n",
    "LIABILITY, WHETHER IN AN ACTION OF CONTRACT, TORT OR OTHERWISE, ARISING FROM,\n",
    "OUT OF OR IN CONNECTION WITH THE SOFTWARE OR THE USE OR OTHER DEALINGS IN THE\n",
    "SOFTWARE."
   ]
  },
  {
   "cell_type": "markdown",
   "metadata": {},
   "source": [
    "## A quick example of the use of the MolKet package"
   ]
  },
  {
   "cell_type": "code",
   "execution_count": 8,
   "metadata": {},
   "outputs": [
    {
     "name": "stdout",
     "output_type": "stream",
     "text": [
      "Load quantum gates constructor\n"
     ]
    },
    {
     "name": "stderr",
     "output_type": "stream",
     "text": [
      "WARNING: using Quantikz.U in module Main conflicts with an existing identifier.\n"
     ]
    },
    {
     "name": "stdout",
     "output_type": "stream",
     "text": [
      "Load Tensor module: QTensor.jl\n",
      "Load quantum gates constructor\n"
     ]
    },
    {
     "name": "stdout",
     "output_type": "stream",
     "text": [
      "Load quantum_circuit constructor\n",
      "Load quantum_circuit constructor\n",
      "Load quantum gates constructor\n"
     ]
    },
    {
     "name": "stdout",
     "output_type": "stream",
     "text": [
      "Load Tensor module: QTensor.jl\n",
      "Load quantum gates constructor\n",
      "Load quantum_circuit constructor\n"
     ]
    },
    {
     "name": "stdout",
     "output_type": "stream",
     "text": [
      "Load quantum gates constructor\n",
      "Load Tensor module: QTensor.jl\n",
      "Load quantum gates constructor\n"
     ]
    },
    {
     "name": "stdout",
     "output_type": "stream",
     "text": [
      "Load quantum_circuit constructor\n",
      "Load quantum gates constructor\n",
      "Load Tensor module: QTensor.jl\n",
      "Load quantum gates constructor\n"
     ]
    },
    {
     "name": "stdout",
     "output_type": "stream",
     "text": [
      "Load quantum_circuit constructor\n"
     ]
    }
   ],
   "source": [
    "include(\"../molket.jl\")\n"
   ]
  },
  {
   "cell_type": "markdown",
   "metadata": {},
   "source": [
    " We can intialize a quantum register with a given number of qubits, also with a specific convention:\n",
    "big-endian or little-endian.\n"
   ]
  },
  {
   "cell_type": "code",
   "execution_count": 10,
   "metadata": {},
   "outputs": [
    {
     "name": "stdout",
     "output_type": "stream",
     "text": [
      "1.0 * |00>\n",
      "0.0 * |01>\n",
      "0.0 * |10>\n",
      "0.0 * |11>\n",
      "0.7071067811865475 * |00>\n",
      "0.0 * |01>\n",
      "0.7071067811865475 * |10>\n",
      "0.0 * |11>\n"
     ]
    }
   ],
   "source": [
    "qc = qc_init(2)\n",
    "show_statevector(qc)\n",
    "op(qc, q.H, 0)\n",
    "show_statevector(qc)\n"
   ]
  },
  {
   "cell_type": "code",
   "execution_count": null,
   "metadata": {},
   "outputs": [],
   "source": []
  },
  {
   "cell_type": "code",
   "execution_count": null,
   "metadata": {},
   "outputs": [],
   "source": []
  },
  {
   "cell_type": "markdown",
   "metadata": {},
   "source": [
    "Applying gates: Hadamard gate, Pauli gates, CX gate, ... etc using the tensor properitie"
   ]
  },
  {
   "cell_type": "code",
   "execution_count": null,
   "metadata": {},
   "outputs": [],
   "source": []
  },
  {
   "cell_type": "code",
   "execution_count": null,
   "metadata": {},
   "outputs": [],
   "source": []
  },
  {
   "cell_type": "markdown",
   "metadata": {},
   "source": [
    "You can also also have a peek at the states of the quantum register at any time."
   ]
  },
  {
   "cell_type": "code",
   "execution_count": null,
   "metadata": {},
   "outputs": [],
   "source": []
  },
  {
   "cell_type": "code",
   "execution_count": null,
   "metadata": {},
   "outputs": [],
   "source": []
  },
  {
   "cell_type": "code",
   "execution_count": null,
   "metadata": {},
   "outputs": [],
   "source": []
  },
  {
   "cell_type": "code",
   "execution_count": null,
   "metadata": {},
   "outputs": [],
   "source": []
  },
  {
   "cell_type": "code",
   "execution_count": 6,
   "metadata": {},
   "outputs": [
    {
     "name": "stdout",
     "output_type": "stream",
     "text": [
      "U * U' = ComplexF64[0.9999999999999998 + 0.0im 0.0 + 0.0im; 0.0 + 0.0im 0.9999999999999998 + 0.0im]\n",
      "U' = "
     ]
    },
    {
     "name": "stdout",
     "output_type": "stream",
     "text": [
      "ComplexF64[0.7071067811865475 - 0.0im 0.0 + 0.7071067811865475im; 0.7071067811865475 - 0.0im 0.0 - 0.7071067811865475im]\n"
     ]
    },
    {
     "data": {
      "text/plain": [
       "2×2 adjoint(::Matrix{ComplexF64}) with eltype ComplexF64:\n",
       " 0.707107-0.0im  0.0+0.707107im\n",
       " 0.707107-0.0im  0.0-0.707107im"
      ]
     },
     "metadata": {},
     "output_type": "display_data"
    }
   ],
   "source": [
    "# multiply the following tensorically \n",
    "A = [1 1;0 1];\n",
    "B = [0; 1; 1];\n",
    "\n",
    "# A \\otimes B\n",
    "C = kron(A,B)\n",
    "\n",
    "U = [1/sqrt(2) 1/sqrt(2); -1im/sqrt(2) 1im/sqrt(2)]\n",
    "\n",
    "# Show U is unitary\n",
    "@show U*U'\n",
    "\n",
    "# calcualte complete conjugate transpose\n",
    "@show U'"
   ]
  },
  {
   "cell_type": "code",
   "execution_count": 9,
   "metadata": {},
   "outputs": [
    {
     "data": {
      "text/plain": [
       "2×2 Matrix{Float64}:\n",
       " 0.0  0.0\n",
       " 0.0  0.0"
      ]
     },
     "metadata": {},
     "output_type": "display_data"
    }
   ],
   "source": [
    "# write test function to check if a matrix is unitary\n",
    "q.H'-q.H"
   ]
  },
  {
   "cell_type": "code",
   "execution_count": null,
   "metadata": {},
   "outputs": [],
   "source": []
  }
 ],
 "metadata": {
  "kernelspec": {
   "display_name": "Julia 1.9.1",
   "language": "julia",
   "name": "julia-1.9"
  },
  "language_info": {
   "file_extension": ".jl",
   "mimetype": "application/julia",
   "name": "julia",
   "version": "1.9.1"
  }
 },
 "nbformat": 4,
 "nbformat_minor": 2
}
