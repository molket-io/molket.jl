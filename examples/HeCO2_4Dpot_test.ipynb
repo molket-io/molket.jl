{
 "cells": [
  {
   "cell_type": "markdown",
   "metadata": {},
   "source": [
    "The following MIT license only applies to the code, and not to the text and images.\n",
    "\n",
    "# MIT License\n",
    "\n",
    "Copyright (c) 2024 Taha Selim, Alain Chancé, MolKet\n",
    "\n",
    "Permission is hereby granted, free of charge, to any person obtaining a copy\n",
    "of this software and associated documentation files (the \"Software\"), to deal\n",
    "in the Software without restriction, including without limitation the rights\n",
    "to use, copy, modify, merge, publish, distribute, sublicense, and/or sell\n",
    "copies of the Software, and to permit persons to whom the Software is\n",
    "furnished to do so, subject to the following conditions:\n",
    "\n",
    "The above copyright notice and this permission notice shall be included in all\n",
    "copies or substantial portions of the Software.\n",
    "\n",
    "THE SOFTWARE IS PROVIDED \"AS IS\", WITHOUT WARRANTY OF ANY KIND, EXPRESS OR\n",
    "IMPLIED, INCLUDING BUT NOT LIMITED TO THE WARRANTIES OF MERCHANTABILITY,\n",
    "FITNESS FOR A PARTICULAR PURPOSE AND NONINFRINGEMENT. IN NO EVENT SHALL THE\n",
    "AUTHORS OR COPYRIGHT HOLDERS BE LIABLE FOR ANY CLAIM, DAMAGES OR OTHER\n",
    "LIABILITY, WHETHER IN AN ACTION OF CONTRACT, TORT OR OTHERWISE, ARISING FROM,\n",
    "OUT OF OR IN CONNECTION WITH THE SOFTWARE OR THE USE OR OTHER DEALINGS IN THE\n",
    "SOFTWARE."
   ]
  },
  {
   "cell_type": "markdown",
   "metadata": {},
   "source": [
    "|||\n",
    "|-|-|\n",
    "|**Author:** |Taha Selim and Alain Chancé|\n",
    "|**Date:** |July 10th, 2024|\n",
    "|**Tutorial:** |**Version 0** <br/>  ML wavefunction generator for a diatomic system givin a vibrational frequency and a intermolecular 1D potential. |\n",
    "|**MolKet's package version:** |0.2|\n",
    "|**Contacts:** | Taha Selim, tahaselim@molket.io \n",
    "|             | Alain Chancé, alain.chance@gmail.com|\n"
   ]
  },
  {
   "cell_type": "code",
   "execution_count": 1,
   "metadata": {},
   "outputs": [
    {
     "name": "stdout",
     "output_type": "stream",
     "text": [
      "Julia Version 1.11.2\n",
      "Commit 5e9a32e7af2 (2024-12-01 20:02 UTC)\n",
      "Build Info:\n",
      "  Official https://julialang.org/ release\n",
      "Platform Info:\n",
      "  OS: macOS (arm64-apple-darwin24.0.0)\n",
      "  CPU: 8 × Apple M1 Pro\n",
      "  WORD_SIZE: 64\n",
      "  LLVM: libLLVM-16.0.6 (ORCJIT, apple-m1)\n",
      "Threads: 1 default, 0 interactive, 1 GC (on 6 virtual cores)\n"
     ]
    }
   ],
   "source": [
    "\n",
    "# get julia version \n",
    "versioninfo()"
   ]
  },
  {
   "cell_type": "code",
   "execution_count": 2,
   "metadata": {},
   "outputs": [
    {
     "name": "stdout",
     "output_type": "stream",
     "text": [
      "Load quantum gates constructor\n",
      "Load Tensor module: QTensor.jl\n",
      "Load quantum gates constructor\n",
      "Load quantum_circuit constructor\n",
      "Load quantum_circuit constructor\n",
      "Load quantum gates constructor\n",
      "Load Tensor module: QTensor.jl\n",
      "Load quantum gates constructor\n",
      "Load quantum_circuit constructor\n",
      "Load quantum gates constructor\n",
      "Load Tensor module: QTensor.jl\n",
      "Load quantum gates constructor\n",
      "Load quantum_circuit constructor\n",
      "Load quantum gates constructor\n",
      "Load Tensor module: QTensor.jl\n",
      "Load quantum gates constructor\n",
      "Load quantum_circuit constructor\n",
      "Load quantum_circuit constructor\n",
      "Load quantum_circuit constructor\n",
      "Load quantum_circuit constructor\n",
      "Load quantum_circuit constructor\n",
      "Load ascii 2Darray\n"
     ]
    }
   ],
   "source": [
    "# Load MolKet's modules and libraries\n",
    "\n",
    "include(\"../molket.jl\")\n"
   ]
  },
  {
   "cell_type": "code",
   "execution_count": 3,
   "metadata": {},
   "outputs": [],
   "source": [
    "# using Libdl"
   ]
  },
  {
   "cell_type": "code",
   "execution_count": 4,
   "metadata": {},
   "outputs": [
    {
     "data": {
      "text/plain": [
       "Ptr{Nothing} @0x00000000957050d0"
      ]
     },
     "execution_count": 4,
     "metadata": {},
     "output_type": "execute_result"
    }
   ],
   "source": [
    "# test the shared object \n",
    "#Libdl.dlopen(\"HeCO2potv2.so\")\n",
    "\n",
    "Libdl.dlopen(\"../lib_potential/HeCO2potv2.so\")\n"
   ]
  },
  {
   "cell_type": "code",
   "execution_count": 5,
   "metadata": {},
   "outputs": [
    {
     "name": "stdout",
     "output_type": "stream",
     "text": [
      "Calculated potential: 44.11877388093571\n"
     ]
    }
   ],
   "source": [
    "# Inputs\n",
    "R0 = 5.7       # CO2-He distance\n",
    "QQ = 0.0       # Dimensionless normal coordinate\n",
    "theta = 90.0    # Angle with z-axis\n",
    "phi = 0      # Angle in xy-plane\n",
    "vpot = Ref{Cdouble}(0.0)  # Output: Potential energy\n",
    "\n",
    "# Call the subroutine\n",
    "ccall((:heco2potv2_, \"../lib_potential/HeCO2potv2.so\"), Cvoid, \n",
    "      (Ref{Cdouble}, Ref{Cdouble}, Ref{Cdouble}, Ref{Cdouble}, Ref{Cdouble}),\n",
    "      R0, QQ, theta, phi, vpot)\n",
    "\n",
    "# Print the result\n",
    "println(\"Calculated potential: \", vpot[]/cm1)\n"
   ]
  },
  {
   "cell_type": "markdown",
   "metadata": {},
   "source": [
    "In the following cell, we will test the potential on a given grid of points in $Q$, $R$, $\\theta$ and $\\phi$ and plot the potential."
   ]
  },
  {
   "cell_type": "code",
   "execution_count": 6,
   "metadata": {},
   "outputs": [
    {
     "name": "stdout",
     "output_type": "stream",
     "text": [
      "Any[Any[1.0, 6.39048431790434, 0.852520652115345, 1.63644068089431, 5.85072821410867, -38.77195013853806, \"-0.3877195013853705E+02********************\"], Any[2.0, 8.79615684668534, -0.465971812605858, 0.367309045633237, 5.59910107307967, -17.52061247339478, \"-0.1752061247339592E+02********************\"], Any[3.0, 9.54409375670366, 1.96406215429306, 1.16891764042022, 4.43707493105516, -4.648651061978663, \"-0.4648651061978669E+01********************\"], Any[4.0, 10.2592325580772, -1.1046179458499, 1.08604020058505, 1.47065720263843, -2.278837065922246, \"-0.2278837065922187E+01********************\"], Any[5.0, 11.8822548517492, 0.409278564155102, 1.79545059535835, 0.345342112062281, -0.1453827988383787, \"-0.1453827988382038E+00********************\"], Any[6.0, 13.4812615595292, -1.93289755284786, 2.93594742258905, 3.52478135752025, -0.004326054469524383, \"-0.4326054469093559E-02********************\"], Any[7.0, 16.1922277247068, -0.481204651296139, 0.962067770990025, 2.43790844202072, 9.887811685720143e-5, \"0.9887811689735680E-04********************\"], Any[8.0, 17.3607831893023, -1.80639307945967, 1.67243333423565, 1.85157120354409, 0.0002334434621598879, \"0.2334434621598821E-03********************\"], Any[9.0, 6.96127880434506, 0.988333240151405, 3.05147722321183, 2.74597526683481, 90.39767098721819, \"0.9039767098720692E+02********************\"], Any[10.0, 5.89633881277405, -0.933058969676495, 2.77069874183249, 2.22246002580939, 1196.225068950382, \"0.1196225068950366E+04********************\"], Any[11.0, 4.29741375125013, -0.521598629653454, 2.34151270432846, 0.359279976287414, 7726.388893678807, \"0.7726388893678789E+04********************\"], Any[12.0, 4.17946794233285, 1.69837049394846, 3.04416089486882, 3.08899593271382, 43222.02519358946, \"0.4322202519358999E+05********************\"]]\n"
     ]
    }
   ],
   "source": [
    "# Retrieve reference data from file\n",
    "\n",
    "filename = \"../lib_potential/Vpot_heco2_refdata.dat\"\n",
    " pot_data = read_mixed_data(filename)\n",
    " println(pot_data)"
   ]
  },
  {
   "cell_type": "code",
   "execution_count": 7,
   "metadata": {},
   "outputs": [
    {
     "name": "stdout",
     "output_type": "stream",
     "text": [
      "R0 = 6.39048431790434 QQ = 0.852520652115345 theta = 1.63644068089431 phi = 5.85072821410867 vpot_ref = -38.77195013853806 vpot = -38.77195013853807 relative error = 1.8326205754965206e-16\n",
      "R0 = 8.79615684668534 QQ = -0.465971812605858 theta = 0.367309045633237 phi = 5.59910107307967 vpot_ref = -17.52061247339478 vpot = -17.520612473394785 relative error = 2.0277337246031386e-16\n",
      "R0 = 9.54409375670366 QQ = 1.96406215429306 theta = 1.16891764042022 phi = 4.43707493105516 vpot_ref = -4.648651061978663 vpot = -4.648651061978663 relative error = 0.0\n",
      "R0 = 10.2592325580772 QQ = -1.1046179458499 theta = 1.08604020058505 phi = 1.47065720263843 vpot_ref = -2.278837065922246 vpot = -2.2788370659222457 relative error = 1.9487536712956684e-16\n",
      "R0 = 11.8822548517492 QQ = 0.409278564155102 theta = 1.79545059535835 phi = 0.345342112062281 vpot_ref = -0.1453827988383787 vpot = -0.14538279883837868 relative error = 1.909137520903325e-16\n",
      "R0 = 13.4812615595292 QQ = -1.93289755284786 theta = 2.93594742258905 phi = 3.52478135752025 vpot_ref = -0.004326054469524383 vpot = -0.004326054469524383 relative error = 0.0\n",
      "R0 = 16.1922277247068 QQ = -0.481204651296139 theta = 0.962067770990025 phi = 2.43790844202072 vpot_ref = 9.887811685720143e-5 vpot = 9.887811685720143e-5 relative error = 0.0\n",
      "R0 = 17.3607831893023 QQ = -1.80639307945967 theta = 1.67243333423565 phi = 1.85157120354409 vpot_ref = 0.0002334434621598879 vpot = 0.0002334434621598879 relative error = 0.0\n",
      "R0 = 6.96127880434506 QQ = 0.988333240151405 theta = 3.05147722321183 phi = 2.74597526683481 vpot_ref = 90.39767098721819 vpot = 90.39767098721819 relative error = 0.0\n",
      "R0 = 5.89633881277405 QQ = -0.933058969676495 theta = 2.77069874183249 phi = 2.22246002580939 vpot_ref = 1196.225068950382 vpot = 1196.2250689503817 relative error = 1.9007599936251066e-16\n",
      "R0 = 4.29741375125013 QQ = -0.521598629653454 theta = 2.34151270432846 phi = 0.359279976287414 vpot_ref = 7726.388893678807 vpot = 7726.388893678807 relative error = 0.0\n",
      "R0 = 4.17946794233285 QQ = 1.69837049394846 theta = 3.04416089486882 phi = 3.08899593271382 vpot_ref = 43222.02519358946 vpot = 43222.025193589456 relative error = 1.683391183452128e-16\n"
     ]
    }
   ],
   "source": [
    "# write a code to loop over R as second column, Q as third column, theta as fourth column and phi as fifth column and calculate the potential energy for each set of values\n",
    "\n",
    "# create a matrix of R, Q, theta, phi, vpot_ref and vpot\n",
    "Vpot_mat = def_matrix(length(pot_data), 6)\n",
    "\n",
    "for i in 1:length(pot_data)\n",
    "    R0 = pot_data[i][2]\n",
    "    QQ = pot_data[i][3]\n",
    "    theta = pot_data[i][4]\n",
    "    phi = pot_data[i][5]\n",
    "    vpot_ref = pot_data[i][6]\n",
    "    vpot = Ref{Cdouble}(0.0)  # Output: Potential energy\n",
    "\n",
    "    # Call the subroutine\n",
    "    ccall((:heco2potv2_, \"HeCO2potv2.so\"), Cvoid,\n",
    "          (Ref{Cdouble}, Ref{Cdouble}, Ref{Cdouble}, Ref{Cdouble}, Ref{Cdouble}),\n",
    "          R0, QQ, theta, phi, vpot)\n",
    "    \n",
    "    rel_error = abs(vpot[]/cm1 - vpot_ref)/abs(vpot_ref)\n",
    "\n",
    "    # Print the result\n",
    "    #println(\"Calculated potential: \", vpot[]/cm1)\n",
    "\n",
    "    # create a matrix of R, Q, theta, phi, vpot_ref and vpot\n",
    "    println(\"R0 = \", R0, \" QQ = \", QQ, \" theta = \", theta, \" phi = \", \n",
    "    phi, \" vpot_ref = \", vpot_ref, \" vpot = \", vpot[]/cm1, \" relative error = \", rel_error)\n",
    "\n",
    "end"
   ]
  },
  {
   "cell_type": "markdown",
   "metadata": {},
   "source": [
    "Let's make some cuts in the potential to see the effect of the different parameters. First, let's evaluate the potential and make a surface plot of the potential in $\\text{cm}^{-1}$ as a function of $R$ and $\\theta$ while keeping $Q=0$ and $\\phi=0$ constant."
   ]
  },
  {
   "cell_type": "code",
   "execution_count": 8,
   "metadata": {},
   "outputs": [],
   "source": [
    "# make a surface plot of R and theta with vpot as the z-axis\n",
    "# First, R gird \n",
    "R = collect(4.0:0.1:6.0)\n",
    "# Second, theta grid\n",
    "theta = collect(0.0:10.0:180.0)\n",
    "# Third, create a matrix of R and theta\n",
    "Vpot_Rtheta = def_matrix(length(R),length(theta))\n",
    "\n",
    "# create a loop to call the potential subroutine \n",
    "\n",
    "for i in 1:length(R)\n",
    "    for j in 1:length(theta)\n",
    "        R0 = R[i]\n",
    "        QQ = 0.0\n",
    "        theta0 = theta[j]\n",
    "        phi = 0\n",
    "        vpot = Ref{Cdouble}(0.0)  # Output: Potential energy\n",
    "\n",
    "        # Call the subroutine\n",
    "        ccall((:heco2potv2_, \"HeCO2potv2.so\"), Cvoid,\n",
    "              (Ref{Cdouble}, Ref{Cdouble}, Ref{Cdouble}, Ref{Cdouble}, Ref{Cdouble}),\n",
    "              R0, QQ, theta0, phi, vpot)\n",
    "        \n",
    "        Vpot_Rtheta[i,j] = vpot[]/cm1\n",
    "    end\n",
    "end"
   ]
  },
  {
   "cell_type": "code",
   "execution_count": 9,
   "metadata": {},
   "outputs": [
    {
     "name": "stdout",
     "output_type": "stream",
     "text": [
      "Union{Float64, Int64, ComplexF64}[44576.459114629746 30936.580208138254 3150.4172984085903 1528.1087549717122 10849.95923441141 43509.18441531382 43404.71434576135 9203.526411565326 1343.2094674568227 3838.674604635324 34786.38060647703 44483.265809197386 26783.970299476205 2636.1957612505794 1707.328226737813 12944.645326105514 43561.438525155 43027.95308317503 7860.354401825917; 43551.80504763278 26449.960485768923 2603.244276318581 1187.5705993034564 9084.46308754159 43564.66239796206 42843.35235715779 7678.883371695069 1050.9400947720746 3159.442259797886 30309.169063210076 43589.75215640774 22596.119467056706 2177.77272737582 1332.3262994519494 10841.067138251337 43874.45404668239 41575.81438169739 6518.471398553053; 42577.970237786496 22050.744587898702 2169.53433433822 889.0640693557775 7655.057402800537 42614.20254232789 41188.301660829915 6405.339580964621 806.115681588497 2595.4006915608716 25652.860604717865 42695.857009700565 18707.390207673358 1823.7040330815075 1000.4541679035752 9158.299925505647 43356.92559238574 39048.10942865168 5359.416982008585; 41995.81558294496 18218.829190273238 1791.0648175371314 663.0108754873817 6415.035498366808 39978.915358547754 37922.064187151984 5321.326886077064 613.1008729401402 2121.810343413797 21396.81886717958 42060.42879860112 15411.117227883047 1508.6065264711604 749.8943971401613 7695.14489197892 41331.63338135523 35208.58996806866 4398.729562204161; 41079.26825305328 15058.787774302189 1451.5883647824865 504.1758901875966 5315.983558736297 35874.34367760138 33391.794920416636 4394.392616317936 465.3458601332445 1723.4620051470497 17741.859940092883 40999.55593712116 12731.513715692921 1217.1258474820888 575.5265475156766 6388.121371777636 37832.37942632864 30474.286279199772 3616.2458462716427; 38516.44607977147 12447.165598573185 1160.4119488446865 386.51916261824584 4369.828706701123 31032.713347613713 28435.934369173883 3610.7807267034104 350.1697089912082 1391.4845785756315 14653.517072966244 38314.34575591913 10531.93655334122 964.1778229414834 446.903373789799 5258.11948063694 33312.09450971172 25624.483865416085 2971.6206583812877; 33860.56274417252 10278.513622454728 921.0640065538938 292.42672228897663 3577.629142918812 26018.849691885585 23634.793837014822 2956.121117062445 258.4124841056003 1117.6069012530513 12077.501778104659 33617.86688323251 8704.621261946675 757.0963764952837 343.54506008394173 4310.797239934742 28219.683859817123 21162.678593615205 2434.4108566714212; 28353.15966846578 8469.067411258662 727.07564785171 215.71201447732068 2920.700004053613 21342.66564773761 19329.910958061435 2412.060993658806 185.1606200458741 892.7827493286974 9932.180136887355 28124.938112017284 7176.728210806256 590.7033573126695 258.6200874592492 3524.7079143093933 23243.04999395464 17283.425083825245 1986.1220409522705; 23177.167660826428 6952.404807498889 571.0848098051038 153.1606232871791 2379.1042112660793 17359.599747701322 15722.13427609541 1961.8994316221276 127.00830318992286 709.0832858946014 8143.517018688644 22984.499696395327 5893.239639089889 458.3093409193527 188.7556556674882 2876.156191808445 18917.505749694235 14067.624887609865 1612.8996208293183; 18784.87230128091 5682.270495650409 445.9710809889226 102.68035040898812 1933.6206000035697 14115.995644486205 12796.894108068009 1590.4452917989302 81.26467467754426 559.471157578481 6654.198793436633 18630.628139125736 4816.430959220131 353.24795449000936 131.85557870369388 2342.250987893118 15368.815702424197 11461.43014333533 1303.2657580460507; 15151.613951893216 4626.799759457524 345.05723596248873 62.959385793941244 1566.246893881608 11462.685589589337 10405.338008107425 1284.054531783935 45.79345796186397 437.74840470673894 5419.6066398532785 15031.125946929285 3920.8329091673895 269.143409240336 86.69913427312304 1901.5224797284977 12460.945070714863 9328.850492907743 1047.6752127067716; 12210.91023405745 3757.0443119871493 263.25703131293193 32.63059487925907 1262.749614536399 9279.548166396416 8432.09470683868 1031.6260209907273 18.78603810546435 338.9131949225478 4401.447456549231 12115.806146941095 3182.825670130205 201.24483113071605 51.920668450735874 1537.0088704832222 10076.756581304131 7566.253007568286 837.9084870963593; 9834.16650588403 3041.8847437256804 197.22998087367975 9.755796181175882 1012.683775362393 7487.508443718417 6808.139914733508 824.1955989920853 -1.4928579225443641 258.9510327865832 3563.68898740648 9758.080075093874 2575.9861314333793 146.6972174562512 25.40683085954764 1236.3156019750486 8126.106504947524 6113.305371584564 666.1874879537447; 7903.246555738609 2454.3832681327126 144.40595737572102 -7.370026016899047 807.6789427872033 6025.350548356893 5481.517384570645 654.4231720711344 -16.480406532803 194.60306409324397 2875.852672527534 7842.342339841837 2077.295594433161 103.36874809764998 5.276688528943182 989.513111956564 6536.3779049383 4924.944079195043 525.9433513251071; 6332.037806406389 1972.6354154937392 102.46819677267158 -20.00011820190268 640.2966677901692 4837.209475879885 4402.961050323477 515.9778452387097 -27.306387347812116 143.09826675193116 2312.460420245239 6283.66202167816 1668.1767918738421 69.28176585001098 -9.841329671027482 787.7495151498362 5244.684345814029 3957.846715016445 411.74414512971737; 5058.298050308814 1578.7675691296242 69.3449065825778 -29.04888477547445 503.9595007403913 3872.621756238023 3526.640959685012 403.40285649612076 -34.86025457129086 102.07912454326492 1852.1650861952062 5020.05636322851 1333.5835790098884 42.627335302726145 -20.938326837182373 623.1768145361159 4196.644144543441 3171.3026214135048 319.0852674951828; 4030.432073397334 1257.9400124021531 43.358025635600576 -35.2563033413224 393.2585842588162 3090.556198538936 2815.3444363029375 312.20379956357726 -39.85389134160712 69.6207856690663 1477.3122926538479 4000.1960028554045 1061.0050783494164 21.948182505633763 -28.82017572680151 489.3376302869381 3347.906563999977 2532.235573284631 244.24623274724277; 3202.4175874170173 997.2639176022234 23.147743751524366 -39.26069229963618 303.67561698275034 2457.734954358933 2239.1857663465044 238.59024343249425 -42.87547715520841 44.11877388093571 1172.7842994257755 3178.4980431645995 839.5242621275793 6.082197595623362 -34.1894232887555 380.8350851112668 2661.88756348322 2014.104463006435 184.0409319222461; 2536.089150120372 786.0445504766582 7.612639680787999 -41.578833124453595 231.49414926685697 1947.08359866564 1773.8906969725147 179.43953159149038 -44.39546140521033 24.262442060035806 926.0807156891692 2517.194375333135 660.0706510162357 -5.906256264780723 -37.6176022727895 293.22779264847 2108.7231510520464 1595.3409096423718 135.83763556656407; 2000.747309393093 615.4130242247523 -4.159968760327286 -42.616547868524556 173.60089644682063 1536.105996020878 1399.184713393528 132.14591302698736 -44.78531540969523 8.969242570552439 726.8139169759575 1985.8650834272355 515.1228959270326 -14.791996847930426 -39.55527530362807 222.79194783006622 1663.7684950224425 1257.8789080277525 97.45273452559897; 1571.6607808506144 477.9987165862525 -12.92768502387205 -42.6921209004412 127.38295460378097 1206.073125010271 1098.1023468475855 94.53068232582135 -44.33809972825661 -2.6566481478069655 566.3337886066812 1559.9702629922315 398.43067409786016 -21.217718244679656 -40.35737256375824 166.3995755238273 1306.6440653861164 986.5589052524602 67.07068322096752]\n"
     ]
    }
   ],
   "source": [
    "# print the matrix\n",
    "println(Vpot_Rtheta)"
   ]
  },
  {
   "cell_type": "markdown",
   "metadata": {},
   "source": [
    "Now, let's create a surface plot. "
   ]
  },
  {
   "cell_type": "code",
   "execution_count": 12,
   "metadata": {},
   "outputs": [
    {
     "data": {},
     "execution_count": 12,
     "metadata": {},
     "output_type": "execute_result"
    }
   ],
   "source": [
    "# create a surface plot of R and theta with Vpot_Rtheta \n",
    "\n",
    "plot(R, theta, Vpot_Rtheta, st = :surface, xlabel = \"R\", ylabel = \"theta\", zlabel = \"Vpot\",\n",
    "    title = \"HeCO2 potential energy surface plot\", camera = (30, 30))\n"
   ]
  },
  {
   "cell_type": "code",
   "execution_count": 11,
   "metadata": {},
   "outputs": [
    {
     "data": {},
     "execution_count": 11,
     "metadata": {},
     "output_type": "execute_result"
    }
   ],
   "source": [
    "\n",
    "# ... your code to generate R, theta, and Vpot_Rtheta ...\n",
    "\n",
    "# Sample the data with a step\n",
    "step = 5  # Adjust this value: larger step means fewer points\n",
    "\n",
    "sampled_R = R[1:step:end, 1:step:end]  # Apply to both dimensions if R is 2D\n",
    "sampled_theta = theta[1:step:end, 1:step:end] # Similar to R\n",
    "sampled_Vpot_Rtheta = Vpot_Rtheta[1:step:end, 1:step:end]\n",
    "\n",
    "# Create the surface plot with the sampled data\n",
    "plot(sampled_R, sampled_theta, sampled_Vpot_Rtheta, \n",
    "     st = :surface, \n",
    "     xlabel = \"R\", \n",
    "     ylabel = \"theta\", \n",
    "     zlabel = \"Vpot\",\n",
    "     title = \"HeCO2 potential energy surface plot\", \n",
    "     camera = (30, 30))"
   ]
  },
  {
   "cell_type": "code",
   "execution_count": null,
   "metadata": {},
   "outputs": [],
   "source": []
  }
 ],
 "metadata": {
  "kernelspec": {
   "display_name": "Julia 1.11.2",
   "language": "julia",
   "name": "julia-1.11"
  },
  "language_info": {
   "file_extension": ".jl",
   "mimetype": "application/julia",
   "name": "julia",
   "version": "1.11.2"
  }
 },
 "nbformat": 4,
 "nbformat_minor": 4
}
