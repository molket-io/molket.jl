{
 "cells": [
  {
   "cell_type": "code",
   "execution_count": 1,
   "metadata": {},
   "outputs": [],
   "source": [
    "\n",
    "using LinearAlgebra\n",
    "using SpecialFunctions\n",
    "using AssociatedLegendrePolynomials"
   ]
  },
  {
   "cell_type": "code",
   "execution_count": 2,
   "metadata": {},
   "outputs": [
    {
     "name": "stdout",
     "output_type": "stream",
     "text": [
      "Load quantum gates constructor\n"
     ]
    }
   ],
   "source": [
    "\n",
    "# import conventions\n",
    "include(\"conventions.jl\")\n",
    "  using .conventions: big_endian, qubit_begin\n",
    "# import quantum gates\n",
    "include(\"quantum_gates.jl\")\n",
    "using ..quantum_gates: Qgate"
   ]
  },
  {
   "cell_type": "code",
   "execution_count": 3,
   "metadata": {},
   "outputs": [
    {
     "name": "stdout",
     "output_type": "stream",
     "text": [
      "Load Tensor module: QTensor.jl\n",
      "Load quantum gates constructor\n"
     ]
    }
   ],
   "source": [
    "include(\"lib_tensor/QTensor.jl\")\n",
    "using ..QTensor: Qgate_T2D"
   ]
  },
  {
   "cell_type": "code",
   "execution_count": null,
   "metadata": {},
   "outputs": [],
   "source": [
    "#include(\"lib_qcircuit/MK_qcircuit.jl\")\n"
   ]
  },
  {
   "cell_type": "code",
   "execution_count": 4,
   "metadata": {},
   "outputs": [
    {
     "name": "stdout",
     "output_type": "stream",
     "text": [
      "Load quantum gates constructor\n",
      "Load quantum gates constructor\n"
     ]
    }
   ],
   "source": [
    "include(\"quantum_circuit.jl\")\n",
    "using ..quantum_circuit: qc_initialize, init_register, show_statevector, apply_op\n",
    "#using ..quantum_circuit: qc_initialize, init_register, print_initstate"
   ]
  },
  {
   "cell_type": "markdown",
   "metadata": {},
   "source": [
    "### quantum sensor test "
   ]
  },
  {
   "cell_type": "code",
   "execution_count": null,
   "metadata": {},
   "outputs": [],
   "source": [
    "\n",
    "Base.@kwdef mutable struct qc_initstruct\n",
    "    # Initialize the quantum register\n",
    "    n_qubits::Int64\n",
    "    q_order::String\n",
    "    n_bas::Int64\n",
    "    n_dim::Int64\n",
    "    state_vector::Array{Float64,1}\n",
    "    q_states::Array{Int64,1}\n",
    "end # end qc_initialize\n"
   ]
  },
  {
   "cell_type": "code",
   "execution_count": 60,
   "metadata": {},
   "outputs": [
    {
     "data": {
      "text/plain": [
       "qc_initstruct_test14"
      ]
     },
     "metadata": {},
     "output_type": "display_data"
    }
   ],
   "source": [
    "\n",
    "Base.@kwdef mutable struct qc_initstruct_test14\n",
    "    # Initialize the quantum register\n",
    "    n_qubits::Int64\n",
    "    q_order::String\n",
    "    n_bas::Int64\n",
    "    n_dim::Int64\n",
    "    state_vector::Array{Float64,1}\n",
    "    q_states::Array{Float64,1}\n",
    "end # end qc_initialize\n"
   ]
  },
  {
   "cell_type": "code",
   "execution_count": 80,
   "metadata": {},
   "outputs": [
    {
     "data": {
      "text/plain": [
       "qc_initstruct_test21"
      ]
     },
     "metadata": {},
     "output_type": "display_data"
    }
   ],
   "source": [
    "\n",
    "Base.@kwdef mutable struct qc_initstruct_test21\n",
    "    # Initialize the quantum register\n",
    "    n_qubits::Int64\n",
    "    q_order::String\n",
    "    n_bas::Int64\n",
    "    n_dim::Int64\n",
    "    state_vector\n",
    "    q_states\n",
    "end # end qc_initialize\n"
   ]
  },
  {
   "cell_type": "code",
   "execution_count": 82,
   "metadata": {},
   "outputs": [
    {
     "data": {
      "text/plain": [
       "qc_initstruct"
      ]
     },
     "metadata": {},
     "output_type": "display_data"
    }
   ],
   "source": [
    "\n",
    "Base.@kwdef mutable struct qc_initstruct\n",
    "    # Initialize the quantum register\n",
    "    n_qubits::Int64\n",
    "    q_order::String\n",
    "    n_bas::Int64\n",
    "    n_dim::Int64\n",
    "    state_vector::Union{Vector{Float64},Vector{Int64}, Vector{ComplexF64}}\n",
    "#    state_vector::Array{Float64,1}\n",
    "    q_states\n",
    "#    q_states::Array{Float64,2}\n",
    "end # end qc_initialize"
   ]
  },
  {
   "cell_type": "code",
   "execution_count": 86,
   "metadata": {},
   "outputs": [
    {
     "data": {
      "text/plain": [
       "qc_initstruct(3, \"big-endian\", 2, 8, [1.0, 0.0, 0.0, 0.0, 0.0, 0.0, 0.0, 0.0], [0.0 0.0 0.0; 0.0 0.0 0.0; … ; 0.0 0.0 0.0; 0.0 0.0 0.0])"
      ]
     },
     "metadata": {},
     "output_type": "display_data"
    }
   ],
   "source": [
    "n = 3\n",
    "c_sv = nothing\n",
    "n_bas = 2 # number of basis states\n",
    "n_qubits = n # number of qubits\n",
    "n_dim = 2^n # dimensions of the quantum register/Hilbert space\n",
    "state_vector = zeros(2^n) # initialize the state_vector\n",
    "# create the default statevector of the quantum register:\n",
    "state_vector[1] = 1.0 # set the initial state to |0>\n",
    "q_states = zeros(2^n, n) # initialize the quantum states\n",
    "q_tab = [0;1] # initialize the basis vectors quantum table\n",
    "if n_qubits == 1\n",
    "    q_states = q_tab # basis vectors\n",
    "    # check if the user has provided a custom statevector\n",
    "    # err_tol = 1e-16 # error tolerance for checking the unitary condition\n",
    "    if c_sv != nothing\n",
    "        # check if the custom statevector has the correct dimensions\n",
    "        if length(c_sv) != n_dim\n",
    "            error(\"The custom statevector has the wrong dimensions\")\n",
    "        end\n",
    "        if isapprox(norm(c_sv), 1, rtol=err_tol) == false\n",
    "            error(\"The custom statevector is not normalized\")\n",
    "        end\n",
    "        state_vector = c_sv\n",
    "    end\n",
    "end # end if n_qubits == 1\n",
    "q_order::String=\"big-endian\"\n",
    "typeof(state_vector)\n",
    "#state_vector\n",
    "QC_test20 = qc_initstruct(n_qubits, q_order, n_bas, n_dim, state_vector,q_states)\n",
    "#QC_test = qc_initstruct_test5(n_qubits, q_order, n_bas, n_dim, state_vector,q_states)"
   ]
  },
  {
   "cell_type": "code",
   "execution_count": 23,
   "metadata": {},
   "outputs": [
    {
     "data": {
      "text/plain": [
       "4-element Vector{Float64}:\n",
       " 1.0\n",
       " 0.0\n",
       " 0.0\n",
       " 0.0"
      ]
     },
     "metadata": {},
     "output_type": "display_data"
    }
   ],
   "source": [
    "state_vector"
   ]
  },
  {
   "cell_type": "code",
   "execution_count": null,
   "metadata": {},
   "outputs": [],
   "source": [
    "n = 1\n",
    "c_sv = nothing\n",
    "n_bas = 2 # number of basis states\n",
    "n_qubits = n # number of qubits\n",
    "n_dim = 2^n # dimensions of the quantum register/Hilbert space\n",
    "state_vector = zeros(2^n) # initialize the state_vector\n",
    "# create the default statevector of the quantum register:\n",
    "state_vector[1] = 1 # set the initial state to |0>\n",
    "q_states = zeros(2^n, n) # initialize the quantum states\n",
    "q_tab = [0;1] # initialize the basis vectors quantum table\n",
    "if n_qubits == 1\n",
    "    q_states = q_tab # basis vectors\n",
    "    # check if the user has provided a custom statevector\n",
    "    # err_tol = 1e-16 # error tolerance for checking the unitary condition\n",
    "    if c_sv != nothing\n",
    "        # check if the custom statevector has the correct dimensions\n",
    "        if length(c_sv) != n_dim\n",
    "            error(\"The custom statevector has the wrong dimensions\")\n",
    "        end\n",
    "        if isapprox(norm(c_sv), 1, rtol=err_tol) == false\n",
    "            error(\"The custom statevector is not normalized\")\n",
    "        end\n",
    "        state_vector = c_sv\n",
    "    end\n",
    "end # end if n_qubits == 1\n",
    "\n",
    "if n_qubits > 1\n",
    "    # start the function\n",
    "    n_bas = 2 # number of basis states\n",
    "    n_qubits = n # number of qubits\n",
    "    n_dim = 2^n # dimensions of the quantum register/Hilbert space\n",
    "    state_vector = zeros(2^n) # initialize the state_vector\n",
    "    # create the default statevector of the quantum register: \n",
    "    state_vector[1] = 1.0 # set the initial state to |000 ...0>\n",
    "    q_states = zeros(2^n, n) # initialize the quantum states\n",
    "    q_tab = [0;1] # initialize the basis vectors quantum table\n",
    "   \n",
    "    n_count = n_bas\n",
    "    for i = 2:n_qubits\n",
    "        q_tab = [zeros(n_count,1) q_tab\n",
    "                ones(n_count,1) q_tab]\n",
    "        n_count = n_count*2\n",
    "    end\n",
    "    q_states = q_tab # basis vectors \n",
    "end\n",
    "q_order::String=\"big-endian\"\n",
    "typeof(state_vector)\n",
    "#state_vector\n",
    "QC_test = qc_initstruct(n_qubits, q_order, n_bas, n_dim, state_vector, q_states)"
   ]
  },
  {
   "cell_type": "code",
   "execution_count": null,
   "metadata": {},
   "outputs": [],
   "source": [
    "\n",
    "function qc_initialize_test(n::Int64, \n",
    "    c_sv= nothing, \n",
    "#     c_sv::Union{Vector{Float64}, Vector{Int64}, Vector{ComplexF64}} = nothing,     \n",
    "    err_tol::Float64=err_tol,\n",
    "    q_order::String=\"big-endian\")\n",
    "    # Initialize the quantum register\n",
    "    # n::Int64: number of qubits\n",
    "    # q_order::String: order of the qubits in the quantum register\n",
    "    # return: quantum register of n qubits\n",
    "    # q_order == \"big-endian\"\n",
    "    # q_order == \"little-endian\"\n",
    "\n",
    "    # start the function\n",
    "    n_bas = 2 # number of basis states\n",
    "    n_qubits = n # number of qubits\n",
    "    n_dim = 2^n # dimensions of the quantum register/Hilbert space\n",
    "    state_vector = zeros(2^n) # initialize the state_vector\n",
    "    # create the default statevector of the quantum register: \n",
    "    state_vector[1] = 1 # set the initial state to |000 ...0>\n",
    "    q_states = zeros(2^n, n) # initialize the quantum states\n",
    "    q_tab = [0;1] # initialize the basis vectors quantum table\n",
    "   \n",
    "\n",
    "    ## notes:\n",
    "    # the minimum number of qubits is 2 \n",
    "    if n_qubits == 1\n",
    "        q_states = q_tab # basis vectors\n",
    "        # check if the user has provided a custom statevector\n",
    "        # err_tol = 1e-16 # error tolerance for checking the unitary condition\n",
    "        if c_sv != nothing\n",
    "            # check if the custom statevector has the correct dimensions\n",
    "            if length(c_sv) != n_dim\n",
    "                error(\"The custom statevector has the wrong dimensions\")\n",
    "            end\n",
    "            if isapprox(norm(c_sv), 1, rtol=err_tol) == false\n",
    "                error(\"The custom statevector is not normalized\")\n",
    "            end\n",
    "            state_vector = c_sv\n",
    "        end\n",
    "        \n",
    "   else\n",
    "    n_count = n_bas\n",
    "    for i = 2:n_qubits\n",
    "        q_tab = [zeros(n_count,1) q_tab\n",
    "                ones(n_count,1) q_tab]\n",
    "        n_count = n_count*2\n",
    "    end\n",
    "    q_states = q_tab # basis vectors \n",
    "end # end if n_qubits == 1\n",
    "\n",
    "    # check if the user has provided a custom statevector\n",
    "    # err_tol = 1e-16 # error tolerance for checking the unitary condition\n",
    "    if c_sv != nothing\n",
    "        # check if the custom statevector has the correct dimensions\n",
    "        if length(c_sv) != n_dim\n",
    "            error(\"The custom statevector has the wrong dimensions\")\n",
    "        end\n",
    "        if isapprox(norm(c_sv), 1, rtol=err_tol) == false\n",
    "            error(\"The custom statevector is not normalized\")\n",
    "        end\n",
    "        state_vector = c_sv\n",
    "    end\n",
    "\n",
    "    # one final check for the statevector\n",
    "    if isapprox(norm(state_vector), 1, rtol=err_tol) == false\n",
    "        error(\"The statevector is not normalized\")\n",
    "    end\n",
    "\n",
    "#    return qc_initstruct(n_qubits, q_order, n_bas, n_dim, 1.0, [1.0 1.0])\n",
    "    return qc_initstruct(n_qubits, q_order, n_bas, n_dim, state_vector, q_states)\n",
    "\n",
    "#    return 1\n",
    "\n",
    "end # end qc_initialize  \n"
   ]
  },
  {
   "cell_type": "code",
   "execution_count": null,
   "metadata": {},
   "outputs": [],
   "source": [
    "qubit_control = 0\n",
    "qubit_target = 1\n",
    "nqubits = 1\n",
    "err_tol = 1e-8\n",
    "qc = qc_initialize_test(nqubits)\n"
   ]
  },
  {
   "cell_type": "markdown",
   "metadata": {},
   "source": [
    "### ==============================="
   ]
  },
  {
   "cell_type": "code",
   "execution_count": null,
   "metadata": {},
   "outputs": [],
   "source": [
    "# Base.@kwdef mutable struct qc_initstruct\n",
    "#     # Initialize the quantum register\n",
    "#     n::Int64\n",
    "#     q_order::String\n",
    "#     n_bas::Int64\n",
    "#     n_dim::Int64\n",
    "#     state_vector::Array{Float64,1}\n",
    "#     q_states::Array{Float64,2}\n",
    "# end # end qc_initialize"
   ]
  },
  {
   "cell_type": "markdown",
   "metadata": {},
   "source": [
    "## refs\n",
    "\n",
    "https://quantumcomputing.stackexchange.com/questions/14066/how-do-i-apply-the-hadamard-gate-to-one-qubit-in-a-two-qubit-pure-state\n"
   ]
  },
  {
   "cell_type": "code",
   "execution_count": null,
   "metadata": {},
   "outputs": [],
   "source": [
    "\n",
    "function qc_initialize(n::Int64, \n",
    "    c_sv= nothing, \n",
    "#     c_sv::Union{Vector{Float64}, Vector{Int64}, Vector{ComplexF64}} = nothing,     \n",
    "    err_tol::Float64=err_tol,\n",
    "    q_order::String=\"big-endian\")\n",
    "    # Initialize the quantum register\n",
    "    # n::Int64: number of qubits\n",
    "    # q_order::String: order of the qubits in the quantum register\n",
    "    # return: quantum register of n qubits\n",
    "    # q_order == \"big-endian\"\n",
    "    # q_order == \"little-endian\"\n",
    "\n",
    "    ## notes:\n",
    "    # the minimum number of qubits is 2 \n",
    "\n",
    "    # start the function\n",
    "    n_bas = 2 # number of basis states\n",
    "    n_qubits = n # number of qubits\n",
    "    n_dim = 2^n # dimensions of the quantum register/Hilbert space\n",
    "    state_vector = zeros(2^n) # initialize the state_vector\n",
    "    # create the default statevector of the quantum register: \n",
    "    state_vector[1] = 1 # set the initial state to |000 ...0>\n",
    "    q_states = zeros(2^n, n) # initialize the quantum states\n",
    "    q_tab = [0;1] # initialize the basis vectors quantum table\n",
    "   \n",
    "    n_count = n_bas\n",
    "    for i = 2:n_qubits\n",
    "        q_tab = [zeros(n_count,1) q_tab\n",
    "                ones(n_count,1) q_tab]\n",
    "        n_count = n_count*2\n",
    "    end\n",
    "    q_states = q_tab # basis vectors \n",
    "\n",
    "    # check if the user has provided a custom statevector\n",
    "    # err_tol = 1e-16 # error tolerance for checking the unitary condition\n",
    "    if c_sv != nothing\n",
    "        # check if the custom statevector has the correct dimensions\n",
    "        if length(c_sv) != n_dim\n",
    "            error(\"The custom statevector has the wrong dimensions\")\n",
    "        end\n",
    "        if isapprox(norm(c_sv), 1, rtol=err_tol) == false\n",
    "            error(\"The custom statevector is not normalized\")\n",
    "        end\n",
    "        state_vector = c_sv\n",
    "    end\n",
    "\n",
    "    # one final check for the statevector\n",
    "    if isapprox(norm(state_vector), 1, rtol=err_tol) == false\n",
    "        error(\"The statevector is not normalized\")\n",
    "    end\n",
    "\n",
    "    return qc_initstruct(n, q_order, n_bas, n_dim, state_vector, q_states)\n",
    "end # end qc_initialize  "
   ]
  },
  {
   "cell_type": "code",
   "execution_count": null,
   "metadata": {},
   "outputs": [],
   "source": [
    "function apply_op_test(qc, Qgate)\n",
    "    # Apply a quantum gate to the quantum register\n",
    "    # qc::quantum register\n",
    "    # gate::Qgate: quantum gate\n",
    "    # return: quantum register with the quantum gate applied\n",
    "    Nqubits = qc.n_qubits\n",
    "    Nstates = qc.n_dim\n",
    "    state_vector = qc.state_vector\n",
    "    # First check if the dimensions of the quantum gate are the same \n",
    "    Qgate_dim = size(Qgate)\n",
    "    if Qgate_dim[1] != Qgate_dim[2]\n",
    "        error(\"The quantum gate is not square\")\n",
    "    end # end if\n",
    "    # check if the quantum gate is unitary\n",
    "    if ishermitian(Qgate) == false\n",
    "        error(\"The quantum gate is not unitary\")\n",
    "    end # end if\n",
    "    # check if the dimensions of the quantum gate \n",
    "    # ... and the quantum register do match \n",
    "    if Qgate_dim[1] != Nstates\n",
    "        error(\"The quantum gate and the quantum register do not match\")\n",
    "    end # end if\n",
    "    # Apply the quantum gate to the quantum register\n",
    "    state_vector = Qgate * state_vector\n",
    "    qc.state_vector = state_vector\n",
    "    return qc\n",
    "end # end apply_gate!"
   ]
  },
  {
   "cell_type": "code",
   "execution_count": null,
   "metadata": {},
   "outputs": [],
   "source": [
    "\n",
    "# Type 1: tensor product of a 2D quantum gate acting on a qubit\n",
    "function Qgate_T2Dtest(gate::Union{Array{Float64}, Array{Int64}, Array{ComplexF64}}, \n",
    "    qubit_target::Int64, nqubits::Int64,\n",
    "    big_endian::Bool=conventions.big_endian,\n",
    "    err_tol::Float64=err_tol)\n",
    "# gate_qn is used to construct the quantum gate acting on the qubit i \n",
    "# ... of a quantum register of nqubits qubits\n",
    "# gate is a reduced representation of the quantum gate: minimal representation \n",
    "# ... of the quantum gate in 2x2 matrices, 4x4 matrices, etc.\n",
    "# qubit_target is the index of the qubit on which the gate acts\n",
    "# nqubits is the number of qubits in the quantum register\n",
    "# big_endian is a boolean variable that indicates whether the qubits are\n",
    "# ... ordered in big endian or little endian\n",
    "# Return statevector after the action of the operator \n",
    "# First construct the array of the qubits \n",
    "# ... in the quantum register\n",
    "qubits = Array{Int64}(undef, nqubits)\n",
    "qubits = collect(0:nqubits-1)\n",
    "\n",
    "# check the convention of the index_start where qubit counting can start from 0 or 1\n",
    "# ... the default is 0.\n",
    "# nqubits is the number of qubits in the quantum register\n",
    "#if !qubit_start_1\n",
    "# qubit_end = nqubits # number of qubits in the quantum register\n",
    "#  qubit_begin = 1\n",
    "#else\n",
    "qubit_end = nqubits-1 # number of qubits in the quantum register\n",
    "qubit_begin = 0\n",
    "#end\n",
    "# check if qubit_target is an integer, and in range\n",
    "if !isa(qubit_target, Int64) || qubit_target <  qubit_begin || qubit_target > nqubits-1\n",
    "error(\"The target qubit must be an integer in range: \", qubit_begin, \" \", qubit_end)\n",
    "end\n",
    "# the tensor product used to construct the quantum gate \n",
    "# ... acting on the qubit qubit_index is independent of the convention. \n",
    "gate_construct = 1\n",
    "II = Matrix(I, 2, 2)\n",
    "if big_endian\n",
    "for i in  qubit_begin:qubit_end\n",
    "if i == qubit_target\n",
    "gate_construct = kron(gate,gate_construct)\n",
    "else\n",
    "gate_construct = kron(gate_construct,II)\n",
    "end\n",
    "end\n",
    "else\n",
    "for i in  qubit_end:-1:qubit_begin\n",
    "if i == qubit_target\n",
    "gate_construct = kron(gate,gate_construct)\n",
    "else\n",
    "gate_construct = kron(gate_construct,II)\n",
    "end\n",
    "end\n",
    "end\n",
    "return gate_construct\n",
    "# note: the little-endian convention is not tested yet\n",
    "end # Qgate_T2D"
   ]
  },
  {
   "cell_type": "code",
   "execution_count": null,
   "metadata": {},
   "outputs": [],
   "source": [
    "\n",
    "function qc_initialize_test(n::Int64, \n",
    "    c_sv= nothing, \n",
    "#     c_sv::Union{Vector{Float64}, Vector{Int64}, Vector{ComplexF64}} = nothing,     \n",
    "    err_tol::Float64=err_tol,\n",
    "    q_order::String=\"big-endian\")\n",
    "    # Initialize the quantum register\n",
    "    # n::Int64: number of qubits\n",
    "    # q_order::String: order of the qubits in the quantum register\n",
    "    # return: quantum register of n qubits\n",
    "    # q_order == \"big-endian\"\n",
    "    # q_order == \"little-endian\"\n",
    "\n",
    "    # start the function\n",
    "    n_bas = 2 # number of basis states\n",
    "    n_qubits = n # number of qubits\n",
    "    n_dim = 2^n # dimensions of the quantum register/Hilbert space\n",
    "    state_vector = zeros(2^n) # initialize the state_vector\n",
    "    # create the default statevector of the quantum register: \n",
    "    state_vector[1] = 1 # set the initial state to |000 ...0>\n",
    "    q_states = zeros(2^n, n) # initialize the quantum states\n",
    "    q_tab = [0;1] # initialize the basis vectors quantum table\n",
    "   \n",
    "\n",
    "    ## notes:\n",
    "    # the minimum number of qubits is 2 \n",
    "    if n_qubits == 1\n",
    "        q_states = q_tab # basis vectors\n",
    "        # check if the user has provided a custom statevector\n",
    "        # err_tol = 1e-16 # error tolerance for checking the unitary condition\n",
    "        if c_sv != nothing\n",
    "            # check if the custom statevector has the correct dimensions\n",
    "            if length(c_sv) != n_dim\n",
    "                error(\"The custom statevector has the wrong dimensions\")\n",
    "            end\n",
    "            if isapprox(norm(c_sv), 1, rtol=err_tol) == false\n",
    "                error(\"The custom statevector is not normalized\")\n",
    "            end\n",
    "            state_vector = c_sv\n",
    "        end\n",
    "        \n",
    "   else\n",
    "    n_count = n_bas\n",
    "    for i = 2:n_qubits\n",
    "        q_tab = [zeros(n_count,1) q_tab\n",
    "                ones(n_count,1) q_tab]\n",
    "        n_count = n_count*2\n",
    "    end\n",
    "    q_states = q_tab # basis vectors \n",
    "end # end if n_qubits == 1\n",
    "\n",
    "    # check if the user has provided a custom statevector\n",
    "    # err_tol = 1e-16 # error tolerance for checking the unitary condition\n",
    "    if c_sv != nothing\n",
    "        # check if the custom statevector has the correct dimensions\n",
    "        if length(c_sv) != n_dim\n",
    "            error(\"The custom statevector has the wrong dimensions\")\n",
    "        end\n",
    "        if isapprox(norm(c_sv), 1, rtol=err_tol) == false\n",
    "            error(\"The custom statevector is not normalized\")\n",
    "        end\n",
    "        state_vector = c_sv\n",
    "    end\n",
    "\n",
    "    # one final check for the statevector\n",
    "    if isapprox(norm(state_vector), 1, rtol=err_tol) == false\n",
    "        error(\"The statevector is not normalized\")\n",
    "    end\n",
    "\n",
    "#    return qc_initstruct(n_qubits, q_order, n_bas, n_dim, 1.0, [1.0 1.0])\n",
    "    return qc_initstruct(n_qubits, q_order, n_bas, n_dim, state_vector, q_states)\n",
    "\n",
    "#    return 1\n",
    "\n",
    "end # end qc_initialize  \n"
   ]
  }
 ],
 "metadata": {
  "kernelspec": {
   "display_name": "Julia 1.9.1",
   "language": "julia",
   "name": "julia-1.9"
  },
  "language_info": {
   "file_extension": ".jl",
   "mimetype": "application/julia",
   "name": "julia",
   "version": "1.9.1"
  },
  "orig_nbformat": 4
 },
 "nbformat": 4,
 "nbformat_minor": 2
}
