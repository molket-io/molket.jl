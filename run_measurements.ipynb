{
 "cells": [
  {
   "cell_type": "code",
   "execution_count": 1,
   "metadata": {},
   "outputs": [
    {
     "name": "stdout",
     "output_type": "stream",
     "text": [
      "Load quantum gates constructor\n"
     ]
    },
    {
     "name": "stdout",
     "output_type": "stream",
     "text": [
      "Load Tensor module: QTensor.jl\n",
      "Load quantum gates constructor\n"
     ]
    },
    {
     "name": "stdout",
     "output_type": "stream",
     "text": [
      "Load quantum_circuit constructor\n",
      "Load quantum_circuit constructor\n",
      "Load quantum gates constructor\n"
     ]
    },
    {
     "name": "stdout",
     "output_type": "stream",
     "text": [
      "Load Tensor module: QTensor.jl\n",
      "Load quantum gates constructor\n"
     ]
    },
    {
     "name": "stdout",
     "output_type": "stream",
     "text": [
      "Load quantum_circuit constructor\n"
     ]
    },
    {
     "name": "stdout",
     "output_type": "stream",
     "text": [
      "Load quantum gates constructor\n",
      "Load Tensor module: QTensor.jl\n"
     ]
    },
    {
     "name": "stdout",
     "output_type": "stream",
     "text": [
      "Load quantum gates constructor\n"
     ]
    },
    {
     "name": "stdout",
     "output_type": "stream",
     "text": [
      "Load quantum_circuit constructor\n",
      "Load quantum gates constructor\n"
     ]
    },
    {
     "name": "stdout",
     "output_type": "stream",
     "text": [
      "Load Tensor module: QTensor.jl\n",
      "Load quantum gates constructor\n"
     ]
    },
    {
     "name": "stdout",
     "output_type": "stream",
     "text": [
      "Load quantum_circuit constructor\n"
     ]
    }
   ],
   "source": [
    "include(\"molket.jl\")"
   ]
  },
  {
   "cell_type": "code",
   "execution_count": 2,
   "metadata": {},
   "outputs": [
    {
     "name": "stdout",
     "output_type": "stream",
     "text": [
      "0.4999999999999999 * |00>\n",
      "0.4999999999999999 * |01>\n",
      "0.4999999999999999 * |10>\n",
      "0.4999999999999999 * |11>\n"
     ]
    },
    {
     "data": {
      "text/plain": [
       "4×3 Matrix{Any}:\n",
       " \"00\"  0.5  0.25\n",
       " \"01\"  0.5  0.25\n",
       " \"10\"  0.5  0.25\n",
       " \"11\"  0.5  0.25"
      ]
     },
     "metadata": {},
     "output_type": "display_data"
    }
   ],
   "source": [
    "qc = qc_init(2)\n",
    "#show_statevector(qc)\n",
    "op(qc, q.H, 0)\n",
    "op(qc, q.H, 1)\n",
    "show_statevector(qc)\n",
    "peek_states(qc)\n"
   ]
  },
  {
   "cell_type": "code",
   "execution_count": 4,
   "metadata": {},
   "outputs": [
    {
     "name": "stdout",
     "output_type": "stream",
     "text": [
      "The probability of measuring the |0> state is 1.0\n",
      "The probability of measuring the |1> state is 0.0\n",
      "0.7071067811865476 * |00>\n",
      "0.7071067811865476 * |01>\n",
      "0.0 * |10>\n",
      "0.0 * |11>\n"
     ]
    },
    {
     "data": {
      "text/plain": [
       "4×3 Matrix{Any}:\n",
       " \"10\"  0.0       0.0\n",
       " \"11\"  0.0       0.0\n",
       " \"00\"  0.707107  0.5\n",
       " \"01\"  0.707107  0.5"
      ]
     },
     "metadata": {},
     "output_type": "display_data"
    }
   ],
   "source": [
    "ind_qubit = 0\n",
    "qc,sv_0,sv_1,p0,p1 = z_measure(qc, 0,big_endian=true)\n",
    "qc.state_vector = sv_0\n",
    "show_statevector(qc)\n",
    "peek_states(qc)"
   ]
  },
  {
   "cell_type": "code",
   "execution_count": null,
   "metadata": {},
   "outputs": [],
   "source": []
  }
 ],
 "metadata": {
  "kernelspec": {
   "display_name": "Julia 1.9.1",
   "language": "julia",
   "name": "julia-1.9"
  },
  "language_info": {
   "file_extension": ".jl",
   "mimetype": "application/julia",
   "name": "julia",
   "version": "1.9.1"
  }
 },
 "nbformat": 4,
 "nbformat_minor": 2
}
