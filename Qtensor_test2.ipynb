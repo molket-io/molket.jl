{
 "cells": [
  {
   "cell_type": "code",
   "execution_count": 1,
   "metadata": {},
   "outputs": [],
   "source": [
    "\n",
    "using LinearAlgebra\n",
    "using SpecialFunctions\n",
    "using AssociatedLegendrePolynomials"
   ]
  },
  {
   "cell_type": "code",
   "execution_count": 66,
   "metadata": {},
   "outputs": [
    {
     "data": {
      "text/plain": [
       "4×4 Matrix{Int64}:\n",
       " 1  0  0  0\n",
       " 0  1  0  0\n",
       " 0  0  0  1\n",
       " 0  0  1  0"
      ]
     },
     "metadata": {},
     "output_type": "display_data"
    }
   ],
   "source": [
    "Ugate2 = [0 1; 1 0]\n",
    "qubit_control = 0\n",
    "qubit_target = 1\n",
    "nqubits = 2\n",
    "qubit_start_1 = true\n",
    "big_endian = false\n",
    "err_tol = 1e-8\n",
    "G = Qgate_CU_T4D(Ugate2, qubit_control, qubit_target, nqubits, qubit_start_1, big_endian, err_tol)"
   ]
  }
 ],
 "metadata": {
  "kernelspec": {
   "display_name": "Julia 1.9.1",
   "language": "julia",
   "name": "julia-1.9"
  },
  "language_info": {
   "file_extension": ".jl",
   "mimetype": "application/julia",
   "name": "julia",
   "version": "1.9.1"
  },
  "orig_nbformat": 4
 },
 "nbformat": 4,
 "nbformat_minor": 2
}
