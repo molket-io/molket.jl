{
 "cells": [
  {
   "cell_type": "code",
   "execution_count": 1,
   "metadata": {},
   "outputs": [],
   "source": [
    "\n",
    "using LinearAlgebra\n",
    "using SpecialFunctions\n",
    "using AssociatedLegendrePolynomials"
   ]
  },
  {
   "cell_type": "code",
   "execution_count": 2,
   "metadata": {},
   "outputs": [
    {
     "ename": "ErrorException",
     "evalue": "syntax: \"for\" at /Users/tahaselim/Documents/TSprime/master_work/MolKet/showcases/molket_pkg/Qtensor_test.ipynb:45 expected \"end\", got \"else\"",
     "output_type": "error",
     "traceback": [
      "syntax: \"for\" at /Users/tahaselim/Documents/TSprime/master_work/MolKet/showcases/molket_pkg/Qtensor_test.ipynb:45 expected \"end\", got \"else\"\n",
      "\n",
      "Stacktrace:\n",
      " [1] top-level scope\n",
      "   @ ~/Documents/TSprime/master_work/MolKet/showcases/molket_pkg/Qtensor_test.ipynb:68"
     ]
    }
   ],
   "source": [
    "# Type 2: tensor product of a 4D quantum gate acting on a target qubit \n",
    "# ... based on a state of a control qubit.\n",
    "function Qgate_CU_T4D(Ugate::Union{Array{Float64}, Array{Int64}, Array{ComplexF64}}, \n",
    "    qubit_control::Int64, qubit_target::Int64, nqubits::Int64, qubit_control_state::Int64,\n",
    "    qubit_start_1::Bool=conventions.qubit_start_1,\n",
    "    big_endian::Bool=conventions.big_endian,\n",
    "    err_tol::Float64=err_tol)\n",
    "    # gate is used to construct the quantum gate acting on the qubit_target \n",
    "    # ... of a quantum register of nqubits qubits provided that the qubit_control \n",
    "    # ... is in the state |1>.\n",
    "    # Ugate is a reduced representation of the quantum gate: minimal representation \n",
    "    # ... of the quantum gate in 2x2 matrices, 4x4 matrices, etc.\n",
    "    # By default \"Ugate\" is given in big endian convention. \n",
    "    # Check the convention of the \"Ugate\" carefully until we have a better testing \n",
    "    # ... procedure.\n",
    "  \n",
    "    # Check the convention of the index_start where qubit counting can start from 0 or 1\n",
    "    # ... the default is 0.\n",
    "    # nqubits is the number of qubits in the quantum register\n",
    "    if !qubit_start_1\n",
    "      qubit_end = nqubits # number of qubits in the quantum register\n",
    "      qubit_begin = 1\n",
    "    else\n",
    "      qubit_end = nqubits-1 # number of qubits in the quantum register\n",
    "      qubit_begin = 0\n",
    "    end\n",
    "    # Initiate matrices \n",
    "    II = Matrix(I, 2, 2) # indentity matrix\n",
    "    Gate_matrix = 1 # initialize the gate matrix\n",
    "    # Initiate the qubit states \n",
    "    ket_0 = [1; 0]\n",
    "    ket_1 = [0; 1]\n",
    "  \n",
    "    # Initiate the denisty matrix, will be used depending \n",
    "    # ... on the state of the control qubit\n",
    "    rho_0 = ket_0*ket_0' # |0><0| --> if the state is |0>\n",
    "    rho_1 = ket_1*ket_1' # |1><1| --> if the state is |1>\n",
    "  \n",
    "    if qubit_control == qubit_target\n",
    "      error(\"The control and target qubits are the same\")\n",
    "    # Big-endian convention\n",
    "    elseif (big_endian && (qubit_control < qubit_target)) || \n",
    "            (!big_endian && (qubit_control > qubit_target))     \n",
    "      # construct the quantum gate acting on the qubit qubit_control\n",
    "      for iq in qubit_begin:qubit_end\n",
    "        if iq == qubit_control \n",
    "          # check the state of the qubit either |0> or |1>\n",
    "          if qubit_control_state == 0\n",
    "            Gate_matrix = kron(Gate_matrix, rho_0)\n",
    "          elseif qubit_control_state == 1\n",
    "           Gate_matrix = kron(Gate_matrix, rho_1)\n",
    "          else\n",
    "            error(\"The state of the control qubit is not defined\")\n",
    "          end\n",
    "        # Now, the target qubit part\n",
    "        elseif iq == qubit_target\n",
    "            if qubit_control_state == 0\n",
    "              Gate_matrix = kron(Gate_matrix, II)\n",
    "            elseif qubit_control_state == 1\n",
    "              Gate_matrix = kron(Gate_matrix, Ugate)\n",
    "            else\n",
    "              error(\"The state of the control qubit is not defined\")\n",
    "            end\n",
    "        else\n",
    "            Gate_matrix = kron(Gate_matrix, II)\n",
    "        end\n",
    "    # Little-endien convention\n",
    "      else\n",
    "\n",
    "    end \n",
    "    end # if q_control < q_target \n",
    "    return Gate_matrix\n",
    "  end # tensor_gate_apply"
   ]
  },
  {
   "cell_type": "code",
   "execution_count": 4,
   "metadata": {},
   "outputs": [
    {
     "data": {
      "text/plain": [
       "Qgate_CU_T4D (generic function with 4 methods)"
      ]
     },
     "metadata": {},
     "output_type": "display_data"
    }
   ],
   "source": [
    "# Type 2: tensor product of a 4D quantum gate acting on a target qubit \n",
    "# ... based on a state of a control qubit.\n",
    "function Qgate_CU_T4D(Ugate::Union{Array{Float64}, Array{Int64}, Array{ComplexF64}}, \n",
    "    qubit_control::Int64, qubit_target::Int64, nqubits::Int64,\n",
    "    qubit_start_1::Bool=conventions.qubit_start_1,\n",
    "    big_endian::Bool=conventions.big_endian,\n",
    "    err_tol::Float64=err_tol)\n",
    "    # gate is used to construct the quantum gate acting on the qubit_target \n",
    "    # ... of a quantum register of nqubits qubits provided that the qubit_control \n",
    "    # ... is in the state |1>.\n",
    "    # Ugate is a reduced representation of the quantum gate: minimal representation \n",
    "    # ... of the quantum gate in 2x2 matrices, 4x4 matrices, etc.\n",
    "    # By default \"Ugate\" is given in big endian convention. \n",
    "    # Check the convention of the \"Ugate\" carefully until we have a better testing \n",
    "    # ... procedure.\n",
    "  \n",
    "    # Check the convention of the index_start where qubit counting can start from 0 or 1\n",
    "    # ... the default is 0.\n",
    "    # nqubits is the number of qubits in the quantum register\n",
    "    if !qubit_start_1\n",
    "      qubit_end = nqubits # number of qubits in the quantum register\n",
    "      qubit_begin = 1\n",
    "    else\n",
    "      qubit_end = nqubits-1 # number of qubits in the quantum register\n",
    "      qubit_begin = 0\n",
    "    end\n",
    "    # Initiate matrices \n",
    "    II = Matrix(I, 2, 2) # indentity matrix\n",
    "    # Initiate the qubit states \n",
    "    ket_0 = [1; 0]\n",
    "    ket_1 = [0; 1]\n",
    "  \n",
    "    # Initiate the denisty matrix, will be used depending \n",
    "    # ... on the state of the control qubit\n",
    "    rho_0 = ket_0*ket_0' # |0><0| --> if the state is |0>\n",
    "    rho_1 = ket_1*ket_1' # |1><1| --> if the state is |1>\n",
    "  \n",
    "\n",
    "    # strategy: the gate is constructed via two sums\n",
    "    # sum 1\n",
    "    Gate_matrix_I = 1 # initialize the gate matrix\n",
    "    if qubit_control == qubit_target\n",
    "      error(\"The control and target qubits are the same\")\n",
    "    # Big-endian convention\n",
    "    elseif (big_endian && (qubit_control < qubit_target)) || \n",
    "            (!big_endian && (qubit_control > qubit_target))     \n",
    "      # construct the quantum gate acting on the qubit qubit_control\n",
    "        for iq in qubit_begin:qubit_end\n",
    "            if iq == qubit_control \n",
    "              Gate_matrix_I = kron(Gate_matrix_I, rho_0)\n",
    "            elseif iq == qubit_target\n",
    "              Gate_matrix_I = kron(Gate_matrix_I, II)\n",
    "            else\n",
    "              Gate_matrix_I = kron(Gate_matrix_I, II)\n",
    "            end\n",
    "        end # for loop\n",
    "    # Little-endien convention\n",
    "    else\n",
    "        for iq in qubit_begin:qubit_end\n",
    "            if iq == qubit_control \n",
    "                Gate_matrix_I = kron(rho_0, Gate_matrix_I)\n",
    "            elseif iq == qubit_target\n",
    "                  Gate_matrix_I = kron( II,Gate_matrix_I)\n",
    "            else\n",
    "                Gate_matrix_I = kron(II,Gate_matrix_I)\n",
    "            end\n",
    "        end # for loop\n",
    "    end # if big_endian && q_control < q_target ...\n",
    "    # sum 2\n",
    "    Gate_matrix_II = 1 # initialize the gate matrix\n",
    "    if qubit_control == qubit_target\n",
    "      error(\"The control and target qubits are the same\")\n",
    "    # Big-endian convention\n",
    "    elseif (big_endian && (qubit_control < qubit_target)) || \n",
    "            (!big_endian && (qubit_control > qubit_target))     \n",
    "      # construct the quantum gate acting on the qubit qubit_control\n",
    "        for iq in qubit_begin:qubit_end\n",
    "            if iq == qubit_control \n",
    "              Gate_matrix_II = kron(Gate_matrix_II, rho_1)\n",
    "            elseif iq == qubit_target\n",
    "              Gate_matrix_II = kron(Gate_matrix_II, Ugate)\n",
    "            else\n",
    "              Gate_matrix_II = kron(Gate_matrix_II, II)\n",
    "            end\n",
    "        end # for loop\n",
    "    # Little-endien convention\n",
    "    else\n",
    "        for iq in qubit_begin:qubit_end\n",
    "            if iq == qubit_control \n",
    "                Gate_matrix_II = kron(rho_1, Gate_matrix_II)\n",
    "            elseif iq == qubit_target\n",
    "                  Gate_matrix_II = kron( Ugate,Gate_matrix_II)\n",
    "            else\n",
    "                Gate_matrix_II = kron(II,Gate_matrix_II)\n",
    "            end\n",
    "        end # for loop\n",
    "      end # if big_endian && q_control < q_target ...\n",
    "      Gate_matrix = Gate_matrix_I + Gate_matrix_II\n",
    "\n",
    "    return Gate_matrix\n",
    "  end # tensor_gate_apply"
   ]
  },
  {
   "cell_type": "code",
   "execution_count": 7,
   "metadata": {},
   "outputs": [
    {
     "data": {
      "text/plain": [
       "Qgate_CU_T4D (generic function with 4 methods)"
      ]
     },
     "metadata": {},
     "output_type": "display_data"
    }
   ],
   "source": [
    "# Type 2: tensor product of a 4D quantum gate acting on a target qubit \n",
    "# ... based on a state of a control qubit.\n",
    "function Qgate_CU_T4D(Ugate::Union{Array{Float64}, Array{Int64}, Array{ComplexF64}}, \n",
    "    qubit_control::Int64, qubit_target::Int64, nqubits::Int64,\n",
    "    qubit_start_1::Bool=conventions.qubit_start_1,\n",
    "    big_endian::Bool=conventions.big_endian,\n",
    "    err_tol::Float64=err_tol)\n",
    "    # gate is used to construct the quantum gate acting on the qubit_target \n",
    "    # ... of a quantum register of nqubits qubits provided that the qubit_control \n",
    "    # ... is in the state |1>.\n",
    "    # Ugate is a reduced representation of the quantum gate: minimal representation \n",
    "    # ... of the quantum gate in 2x2 matrices, 4x4 matrices, etc.\n",
    "    # By default \"Ugate\" is given in big endian convention. \n",
    "    # Check the convention of the \"Ugate\" carefully until we have a better testing \n",
    "    # ... procedure.\n",
    "  \n",
    "    # Check the convention of the index_start where qubit counting can start from 0 or 1\n",
    "    # ... the default is 0.\n",
    "    # nqubits is the number of qubits in the quantum register\n",
    "    if !qubit_start_1\n",
    "      qubit_end = nqubits # number of qubits in the quantum register\n",
    "      qubit_begin = 1\n",
    "    else\n",
    "      qubit_end = nqubits-1 # number of qubits in the quantum register\n",
    "      qubit_begin = 0\n",
    "    end\n",
    "    # Initiate matrices \n",
    "    II = Matrix(I, 2, 2) # indentity matrix\n",
    "    # Initiate the qubit states \n",
    "    ket_0 = [1; 0]\n",
    "    ket_1 = [0; 1]\n",
    "  \n",
    "    # Initiate the denisty matrix, will be used depending \n",
    "    # ... on the state of the control qubit\n",
    "    rho_0 = ket_0*ket_0' # |0><0| --> if the state is |0>\n",
    "    rho_1 = ket_1*ket_1' # |1><1| --> if the state is |1>\n",
    "  \n",
    "\n",
    "    # strategy: the gate is constructed via two sums\n",
    "    # sum 1\n",
    "    Gate_matrix_I = 1 # initialize the gate matrix\n",
    "    if qubit_control == qubit_target\n",
    "      error(\"The control and target qubits are the same\")\n",
    "    # Big-endian convention\n",
    "    elseif (big_endian && (qubit_control < qubit_target)) || \n",
    "            (!big_endian && (qubit_control > qubit_target))     \n",
    "      # construct the quantum gate acting on the qubit qubit_control\n",
    "        for iq in qubit_begin:qubit_end\n",
    "            if iq == qubit_control \n",
    "              Gate_matrix_I = kron(Gate_matrix_I, rho_0)\n",
    "            elseif iq == qubit_target\n",
    "              Gate_matrix_I = kron(Gate_matrix_I, II)\n",
    "            else\n",
    "              Gate_matrix_I = kron(Gate_matrix_I, II)\n",
    "            end\n",
    "        end # for loop\n",
    "    # Little-endien convention\n",
    "    else\n",
    "        for iq in qubit_begin:qubit_end\n",
    "            if iq == qubit_control \n",
    "                Gate_matrix_I = kron(Gate_matrix_I,rho_0)\n",
    "            elseif iq == qubit_target\n",
    "                  Gate_matrix_I = kron( Gate_matrix_I,II)\n",
    "            else\n",
    "                Gate_matrix_I = kron(Gate_matrix_I,II)\n",
    "            end\n",
    "        end # for loop\n",
    "    end # if big_endian && q_control < q_target ...\n",
    "    # sum 2\n",
    "    Gate_matrix_II = 1 # initialize the gate matrix\n",
    "    if qubit_control == qubit_target\n",
    "      error(\"The control and target qubits are the same\")\n",
    "    # Big-endian convention\n",
    "    elseif (big_endian && (qubit_control < qubit_target)) || \n",
    "            (!big_endian && (qubit_control > qubit_target))     \n",
    "      # construct the quantum gate acting on the qubit qubit_control\n",
    "        for iq in qubit_begin:qubit_end\n",
    "            if iq == qubit_control \n",
    "              Gate_matrix_II = kron(Gate_matrix_II, rho_1)\n",
    "            elseif iq == qubit_target\n",
    "              Gate_matrix_II = kron(Gate_matrix_II, Ugate)\n",
    "            else\n",
    "              Gate_matrix_II = kron(Gate_matrix_II, II)\n",
    "            end\n",
    "        end # for loop\n",
    "    # Little-endien convention\n",
    "    else\n",
    "        for iq in qubit_begin:qubit_end\n",
    "            if iq == qubit_control \n",
    "                Gate_matrix_II = kron(Gate_matrix_II, rho_1)\n",
    "            elseif iq == qubit_target\n",
    "                  Gate_matrix_II = kron( Gate_matrix_II,Ugate)\n",
    "            else\n",
    "                Gate_matrix_II = kron(Gate_matrix_II,II)\n",
    "\n",
    "            end\n",
    "        end # for loop\n",
    "      end # if big_endian && q_control < q_target ...\n",
    "      Gate_matrix = Gate_matrix_I + Gate_matrix_II\n",
    "\n",
    "    return Gate_matrix\n",
    "  end # tensor_gate_apply"
   ]
  },
  {
   "cell_type": "code",
   "execution_count": 8,
   "metadata": {},
   "outputs": [
    {
     "data": {
      "text/plain": [
       "4×4 Matrix{Int64}:\n",
       " 1  0  0  0\n",
       " 0  1  0  0\n",
       " 0  0  0  1\n",
       " 0  0  1  0"
      ]
     },
     "metadata": {},
     "output_type": "display_data"
    }
   ],
   "source": [
    "Ugate2 = [0 1; 1 0]\n",
    "qubit_control = 0\n",
    "qubit_target = 1\n",
    "nqubits = 2\n",
    "qubit_start_1 = true\n",
    "big_endian = false\n",
    "err_tol = 1e-8\n",
    "G = Qgate_CU_T4D(Ugate2, qubit_control, qubit_target, nqubits, qubit_start_1, big_endian, err_tol)"
   ]
  },
  {
   "cell_type": "code",
   "execution_count": 22,
   "metadata": {},
   "outputs": [],
   "source": [
    "G"
   ]
  },
  {
   "cell_type": "code",
   "execution_count": 5,
   "metadata": {},
   "outputs": [
    {
     "data": {
      "text/plain": [
       "1.0e-8"
      ]
     },
     "metadata": {},
     "output_type": "display_data"
    }
   ],
   "source": [
    "Ugate = [1 0; 0 1]\n",
    "qubit_control = 0\n",
    "qubit_target = 1\n",
    "nqubits = 2\n",
    "qubit_start_1 = true\n",
    "big_endian = true\n",
    "err_tol = 1e-8"
   ]
  },
  {
   "cell_type": "code",
   "execution_count": 10,
   "metadata": {},
   "outputs": [
    {
     "data": {
      "text/plain": [
       "2×2 Matrix{Int64}:\n",
       " 1  0\n",
       " 0  1"
      ]
     },
     "metadata": {},
     "output_type": "display_data"
    }
   ],
   "source": [
    "    Ugate = [1 0; 0 1]\n",
    "    \n",
    "  "
   ]
  },
  {
   "cell_type": "code",
   "execution_count": null,
   "metadata": {},
   "outputs": [],
   "source": []
  }
 ],
 "metadata": {
  "kernelspec": {
   "display_name": "Julia 1.9.1",
   "language": "julia",
   "name": "julia-1.9"
  },
  "language_info": {
   "file_extension": ".jl",
   "mimetype": "application/julia",
   "name": "julia",
   "version": "1.9.1"
  },
  "orig_nbformat": 4
 },
 "nbformat": 4,
 "nbformat_minor": 2
}
