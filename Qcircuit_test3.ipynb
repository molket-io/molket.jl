{
 "cells": [
  {
   "cell_type": "code",
   "execution_count": 1,
   "metadata": {},
   "outputs": [],
   "source": [
    "\n",
    "using LinearAlgebra\n",
    "using SpecialFunctions\n",
    "using AssociatedLegendrePolynomials"
   ]
  },
  {
   "cell_type": "code",
   "execution_count": 5,
   "metadata": {},
   "outputs": [
    {
     "name": "stdout",
     "output_type": "stream",
     "text": [
      "Load quantum gates constructor\n",
      "Load Tensor module: QTensor.jl\n"
     ]
    },
    {
     "name": "stderr",
     "output_type": "stream",
     "text": [
      "WARNING: replacing module conventions.\n",
      "WARNING: ignoring conflicting import of conventions.big_endian into Main\n",
      "WARNING: ignoring conflicting import of conventions.qubit_begin into Main\n",
      "WARNING: replacing module quantum_gates.\n",
      "WARNING: ignoring conflicting import of quantum_gates.Qgate into Main\n",
      "WARNING: replacing module QTensor.\n"
     ]
    },
    {
     "name": "stdout",
     "output_type": "stream",
     "text": [
      "Load quantum gates constructor\n",
      "Load quantum gates constructor\n",
      "Load quantum gates constructor\n"
     ]
    },
    {
     "name": "stderr",
     "output_type": "stream",
     "text": [
      "WARNING: ignoring conflicting import of QTensor.Qgate_T2D into Main\n",
      "WARNING: replacing module quantum_circuit.\n"
     ]
    },
    {
     "name": "stderr",
     "output_type": "stream",
     "text": [
      "WARNING: ignoring conflicting import of quantum_circuit.qc_initialize into Main\n",
      "WARNING: ignoring conflicting import of quantum_circuit.init_register into Main\n",
      "WARNING: ignoring conflicting import of quantum_circuit.show_statevector into Main\n",
      "WARNING: ignoring conflicting import of quantum_circuit.apply_op into Main\n"
     ]
    }
   ],
   "source": [
    "\n",
    "# import conventions\n",
    "include(\"conventions.jl\")\n",
    "  using .conventions: big_endian, qubit_begin\n",
    "\n",
    "  # import quantum gates\n",
    "include(\"quantum_gates.jl\")\n",
    "using ..quantum_gates: Qgate, Rz_gate1\n",
    "\n",
    "include(\"lib_tensor/QTensor.jl\")\n",
    "using ..QTensor: Qgate_T2D\n",
    "\n",
    "include(\"quantum_circuit.jl\")\n",
    "using ..quantum_circuit: qc_initialize, init_register, show_statevector, apply_op\n",
    "#using ..quantum_circuit: qc_initialize, init_register, print_initstate"
   ]
  },
  {
   "cell_type": "markdown",
   "metadata": {},
   "source": [
    "### quantum sensor test "
   ]
  },
  {
   "cell_type": "code",
   "execution_count": 7,
   "metadata": {},
   "outputs": [
    {
     "data": {
      "text/plain": [
       "qc_initialize_test (generic function with 4 methods)"
      ]
     },
     "metadata": {},
     "output_type": "display_data"
    }
   ],
   "source": [
    "\n",
    "function qc_initialize_test(n::Int64, \n",
    "    c_sv= nothing, \n",
    "#     c_sv::Union{Vector{Float64}, Vector{Int64}, Vector{ComplexF64}} = nothing,     \n",
    "    err_tol::Float64=err_tol,\n",
    "    q_order::String=\"big-endian\")\n",
    "    # Initialize the quantum register\n",
    "    # n::Int64: number of qubits\n",
    "    # q_order::String: order of the qubits in the quantum register\n",
    "    # return: quantum register of n qubits\n",
    "    # q_order == \"big-endian\"\n",
    "    # q_order == \"little-endian\"\n",
    "\n",
    "    # start the function\n",
    "    n_bas = 2 # number of basis states\n",
    "    n_qubits = n # number of qubits\n",
    "    n_dim = 2^n # dimensions of the quantum register/Hilbert space\n",
    "    state_vector = zeros(2^n) # initialize the state_vector\n",
    "    # create the default statevector of the quantum register: \n",
    "    state_vector[1] = 1 # set the initial state to |000 ...0>\n",
    "    q_states = zeros(2^n, n) # initialize the quantum states\n",
    "    q_tab = [0;1] # initialize the basis vectors quantum table\n",
    "   \n",
    "\n",
    "    ## notes:\n",
    "    # the minimum number of qubits is 2 \n",
    "    if n_qubits == 1\n",
    "        q_states = q_tab # basis vectors\n",
    "        # check if the user has provided a custom statevector\n",
    "        # err_tol = 1e-16 # error tolerance for checking the unitary condition\n",
    "        if c_sv != nothing\n",
    "            # check if the custom statevector has the correct dimensions\n",
    "            if length(c_sv) != n_dim\n",
    "                error(\"The custom statevector has the wrong dimensions\")\n",
    "            end\n",
    "            if isapprox(norm(c_sv), 1, rtol=err_tol) == false\n",
    "                error(\"The custom statevector is not normalized\")\n",
    "            end\n",
    "            state_vector = c_sv\n",
    "        end\n",
    "        \n",
    "   else\n",
    "    n_count = n_bas\n",
    "    for i = 2:n_qubits\n",
    "        q_tab = [zeros(n_count,1) q_tab\n",
    "                ones(n_count,1) q_tab]\n",
    "        n_count = n_count*2\n",
    "    end\n",
    "    q_states = q_tab # basis vectors \n",
    "end # end if n_qubits == 1\n",
    "\n",
    "    # check if the user has provided a custom statevector\n",
    "    # err_tol = 1e-16 # error tolerance for checking the unitary condition\n",
    "    if c_sv != nothing\n",
    "        # check if the custom statevector has the correct dimensions\n",
    "        if length(c_sv) != n_dim\n",
    "            error(\"The custom statevector has the wrong dimensions\")\n",
    "        end\n",
    "        if isapprox(norm(c_sv), 1, rtol=err_tol) == false\n",
    "            error(\"The custom statevector is not normalized\")\n",
    "        end\n",
    "        state_vector = c_sv\n",
    "    end\n",
    "\n",
    "    # one final check for the statevector\n",
    "    if isapprox(norm(state_vector), 1, rtol=err_tol) == false\n",
    "        error(\"The statevector is not normalized\")\n",
    "    end\n",
    "\n",
    "#    return qc_initstruct(n_qubits, q_order, n_bas, n_dim, 1.0, [1.0 1.0])\n",
    "    return qc_initstruct(n_qubits, q_order, n_bas, n_dim, state_vector, q_states)\n",
    "\n",
    "#    return 1\n",
    "\n",
    "end # end qc_initialize  \n"
   ]
  },
  {
   "cell_type": "code",
   "execution_count": 2,
   "metadata": {},
   "outputs": [
    {
     "data": {
      "text/plain": [
       "Main.quantum_circuit.qc_initstruct(3, \"big-endian\", 2, 8, [1.0, 0.0, 0.0, 0.0, 0.0, 0.0, 0.0, 0.0], [0.0 0.0 0.0; 0.0 0.0 1.0; … ; 1.0 1.0 0.0; 1.0 1.0 1.0])"
      ]
     },
     "metadata": {},
     "output_type": "display_data"
    }
   ],
   "source": [
    "qubit_control = 0\n",
    "qubit_target = 1\n",
    "nqubits = 3\n",
    "err_tol = 1e-8\n",
    "qc = qc_initialize(nqubits)\n"
   ]
  },
  {
   "cell_type": "markdown",
   "metadata": {},
   "source": [
    "#### testing the rotational gate\n",
    "$R_Z(\\phi)$.\n",
    "\n",
    "syntax for the gate is: `Rz_gate = Qgate.Rz(phi)`\n",
    "\n",
    "where `phi` is the angle of rotation."
   ]
  },
  {
   "cell_type": "code",
   "execution_count": 6,
   "metadata": {},
   "outputs": [
    {
     "data": {
      "text/plain": [
       "2×2 Matrix{ComplexF64}:\n",
       " 1.0+0.0im        0.0-0.0im\n",
       " 0.0+0.0im  -0.416147+0.909297im"
      ]
     },
     "metadata": {},
     "output_type": "display_data"
    }
   ],
   "source": [
    "Rz_gate = Qgate.Rz(2.0)\n"
   ]
  },
  {
   "cell_type": "code",
   "execution_count": 8,
   "metadata": {},
   "outputs": [
    {
     "data": {
      "text/plain": [
       "2×2 Matrix{ComplexF64}:\n",
       " 0.540302-0.841471im       0.0+0.0im\n",
       "      0.0+0.0im       0.540302+0.841471im"
      ]
     },
     "metadata": {},
     "output_type": "display_data"
    }
   ],
   "source": [
    "# a gate from the Qgate library implemented from the paper \n",
    "# arXiv:2209.08187v1 [quant-ph] 16 Sep 2022\n",
    "Rz_gate = Rz_gate1(2.0)"
   ]
  },
  {
   "cell_type": "markdown",
   "metadata": {},
   "source": [
    "### ==============================="
   ]
  },
  {
   "cell_type": "markdown",
   "metadata": {},
   "source": [
    "Now, we start with the implementation of the quantum circuit simulating the quantum sensor."
   ]
  },
  {
   "cell_type": "code",
   "execution_count": 9,
   "metadata": {},
   "outputs": [
    {
     "data": {
      "text/plain": [
       "Main.quantum_circuit.qc_initstruct(1, \"big-endian\", 2, 2, [1.0, 0.0], [0, 1])"
      ]
     },
     "metadata": {},
     "output_type": "display_data"
    }
   ],
   "source": [
    "qubit_control = 0\n",
    "qubit_target = 1\n",
    "# Start with one qubit only and one classical bit to recieve the answer\n",
    "nqubits = 1\n",
    "err_tol = 1e-8\n",
    "qc = qc_initialize(nqubits)"
   ]
  },
  {
   "cell_type": "code",
   "execution_count": 10,
   "metadata": {},
   "outputs": [
    {
     "data": {
      "text/plain": [
       "2-element Vector{Float64}:\n",
       " 1.0\n",
       " 0.0"
      ]
     },
     "metadata": {},
     "output_type": "display_data"
    }
   ],
   "source": [
    "# check the state vector of the quantum register\n",
    "qc.state_vector"
   ]
  },
  {
   "cell_type": "code",
   "execution_count": 11,
   "metadata": {},
   "outputs": [
    {
     "data": {
      "text/plain": [
       "2-element Vector{Int64}:\n",
       " 0\n",
       " 1"
      ]
     },
     "metadata": {},
     "output_type": "display_data"
    }
   ],
   "source": [
    "# check the quantum states, the basis of the Hilbert space of the qubits\n",
    "qc.q_states"
   ]
  },
  {
   "cell_type": "code",
   "execution_count": 13,
   "metadata": {},
   "outputs": [
    {
     "name": "stdout",
     "output_type": "stream",
     "text": [
      "The initial state of the quantum register is: \n",
      "The initial state of the quantum register with the \n",
      "    quantum states in the computational basis is: \n",
      "1.0 * | [0]>\n",
      "0.0 * | [1]>\n"
     ]
    }
   ],
   "source": [
    "# print the state vector with the basis of the quantum register\n",
    "show_statevector(qc)"
   ]
  },
  {
   "cell_type": "code",
   "execution_count": 14,
   "metadata": {},
   "outputs": [
    {
     "data": {
      "text/plain": [
       "2×2 Matrix{Float64}:\n",
       " 0.707107   0.707107\n",
       " 0.707107  -0.707107"
      ]
     },
     "metadata": {},
     "output_type": "display_data"
    }
   ],
   "source": [
    "# Get the Hadamard gate\n",
    "Hgate = Qgate.H"
   ]
  },
  {
   "cell_type": "code",
   "execution_count": 15,
   "metadata": {},
   "outputs": [
    {
     "data": {
      "text/plain": [
       "Main.quantum_circuit.qc_initstruct(1, \"big-endian\", 2, 2, [0.7071067811865475, 0.7071067811865475], [0, 1])"
      ]
     },
     "metadata": {},
     "output_type": "display_data"
    }
   ],
   "source": [
    "# Apply the Hadamard gate to the quantum register\n",
    "apply_op(qc, Hgate)"
   ]
  },
  {
   "cell_type": "code",
   "execution_count": 18,
   "metadata": {},
   "outputs": [
    {
     "name": "stdout",
     "output_type": "stream",
     "text": [
      "The initial state of the quantum register is: \n",
      "The initial state of the quantum register with the \n",
      "    quantum states in the computational basis is: \n",
      "0.7071067811865475 * | [0]>\n",
      "0.7071067811865475 * | [1]>\n"
     ]
    }
   ],
   "source": [
    "# Show the state vector of the quantum register\n",
    "show_statevector(qc)"
   ]
  },
  {
   "cell_type": "code",
   "execution_count": null,
   "metadata": {},
   "outputs": [],
   "source": [
    "# test the unitary condition of the rotational gate\n"
   ]
  },
  {
   "cell_type": "code",
   "execution_count": 17,
   "metadata": {},
   "outputs": [
    {
     "ename": "ErrorException",
     "evalue": "The quantum gate is not unitary",
     "output_type": "error",
     "traceback": [
      "The quantum gate is not unitary\n",
      "\n",
      "Stacktrace:\n",
      " [1] error(s::String)\n",
      "   @ Base ./error.jl:35\n",
      " [2] apply_op(qc::Main.quantum_circuit.qc_initstruct, Qgate::Matrix{ComplexF64})\n",
      "   @ Main.quantum_circuit ~/Documents/TSprime/master_work/MolKet/showcases/molket_pkg/quantum_circuit.jl:283\n",
      " [3] top-level scope\n",
      "   @ ~/Documents/TSprime/master_work/MolKet/showcases/molket_pkg/Qcircuit_test3.ipynb:2"
     ]
    }
   ],
   "source": [
    "# Apply the Rz gate as defined in the paper arXiv:2209.08187v1 [quant-ph] 16 Sep 2022\n",
    "apply_op(qc, Rz_gate)"
   ]
  },
  {
   "cell_type": "markdown",
   "metadata": {},
   "source": [
    "## refs\n",
    "\n",
    "https://quantumcomputing.stackexchange.com/questions/14066/how-do-i-apply-the-hadamard-gate-to-one-qubit-in-a-two-qubit-pure-state\n"
   ]
  }
 ],
 "metadata": {
  "kernelspec": {
   "display_name": "Julia 1.9.1",
   "language": "julia",
   "name": "julia-1.9"
  },
  "language_info": {
   "file_extension": ".jl",
   "mimetype": "application/julia",
   "name": "julia",
   "version": "1.9.1"
  },
  "orig_nbformat": 4
 },
 "nbformat": 4,
 "nbformat_minor": 2
}
