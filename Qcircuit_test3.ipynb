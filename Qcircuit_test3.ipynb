{
 "cells": [
  {
   "cell_type": "code",
   "execution_count": 1,
   "metadata": {},
   "outputs": [],
   "source": [
    "\n",
    "using LinearAlgebra\n",
    "using SpecialFunctions\n",
    "using AssociatedLegendrePolynomials\n",
    "using Plots\n",
    "using LaTeXStrings"
   ]
  },
  {
   "cell_type": "code",
   "execution_count": 132,
   "metadata": {},
   "outputs": [
    {
     "name": "stdout",
     "output_type": "stream",
     "text": [
      "Load quantum gates constructor\n"
     ]
    },
    {
     "name": "stderr",
     "output_type": "stream",
     "text": [
      "WARNING: replacing module conventions.\n",
      "WARNING: ignoring conflicting import of conventions.big_endian into Main\n",
      "WARNING: ignoring conflicting import of conventions.qubit_begin into Main\n",
      "WARNING: replacing module quantum_gates.\n"
     ]
    },
    {
     "name": "stdout",
     "output_type": "stream",
     "text": [
      "Load Tensor module: QTensor.jl\n",
      "Load quantum gates constructor\n"
     ]
    },
    {
     "name": "stderr",
     "output_type": "stream",
     "text": [
      "WARNING: ignoring conflicting import of quantum_gates.Qgate into Main\n",
      "WARNING: ignoring conflicting import of quantum_gates.Rz_gate1 into Main\n",
      "WARNING: replacing module QTensor.\n"
     ]
    },
    {
     "name": "stdout",
     "output_type": "stream",
     "text": [
      "Load quantum_circuit constructor\n",
      "Load quantum gates constructor\n"
     ]
    },
    {
     "name": "stderr",
     "output_type": "stream",
     "text": [
      "WARNING: ignoring conflicting import of QTensor.Qgate_T2D into Main\n",
      "WARNING: replacing module quantum_circuit.\n"
     ]
    },
    {
     "name": "stdout",
     "output_type": "stream",
     "text": [
      "Load quantum_circuit constructor\n",
      "Load quantum_circuit constructor\n",
      "Load quantum_circuit constructor\n"
     ]
    },
    {
     "name": "stderr",
     "output_type": "stream",
     "text": [
      "WARNING: ignoring conflicting import of quantum_circuit.qc_initialize into Main\n",
      "WARNING: ignoring conflicting import of quantum_circuit.init_register into Main\n",
      "WARNING: ignoring conflicting import of quantum_circuit.show_statevector into Main\n",
      "WARNING: ignoring conflicting import of quantum_circuit.apply_op into Main\n",
      "WARNING: replacing module custom_functions.\n",
      "WARNING: ignoring conflicting import of custom_functions.MK_sortrows into Main\n",
      "WARNING: replacing module custom_functions.\n",
      "WARNING: ignoring conflicting import of custom_functions.MK_sortrows into Main\n"
     ]
    }
   ],
   "source": [
    "\n",
    "# import conventions\n",
    "include(\"conventions.jl\")\n",
    "  using .conventions: big_endian, qubit_begin\n",
    "\n",
    "  # import quantum gates\n",
    "include(\"quantum_gates.jl\")\n",
    "using ..quantum_gates: Qgate, Rz_gate1\n",
    "\n",
    "include(\"lib_tensor/QTensor.jl\")\n",
    "using ..QTensor: Qgate_T2D\n",
    "\n",
    "include(\"quantum_circuit.jl\")\n",
    "using ..quantum_circuit: qc_initialize, init_register, show_statevector, apply_op\n",
    "#using ..quantum_circuit: qc_initialize, init_register, print_initstate\n",
    "\n",
    "# import the sorting function\n",
    "include(\"lib_useful/custom_functions.jl\")\n",
    "using .custom_functions: MK_sortrows\n",
    "\n",
    "\n",
    "include(\"lib_useful/custom_functions.jl\")\n",
    "using ..custom_functions: MK_sortrows"
   ]
  },
  {
   "cell_type": "markdown",
   "metadata": {},
   "source": [
    "### quantum sensor test "
   ]
  },
  {
   "cell_type": "code",
   "execution_count": 3,
   "metadata": {},
   "outputs": [
    {
     "data": {
      "text/plain": [
       "Main.quantum_circuit.qc_initstruct(1, \"little-endian\", 2, 2, [1.0, 0.0], [0, 1])"
      ]
     },
     "metadata": {},
     "output_type": "display_data"
    }
   ],
   "source": [
    "#qubit_control = 0\n",
    "#qubit_target = 1\n",
    "#nqubits = 1\n",
    "err_tol = 1e-8\n",
    "nqubits = 1\n",
    "qc_le = qc_initialize(nqubits,\"little-endian\")"
   ]
  },
  {
   "cell_type": "code",
   "execution_count": 4,
   "metadata": {},
   "outputs": [
    {
     "data": {
      "text/plain": [
       "2-element Vector{Int64}:\n",
       " 0\n",
       " 1"
      ]
     },
     "metadata": {},
     "output_type": "display_data"
    }
   ],
   "source": [
    "q_tab = [0;1] # initialize the basis vectors quantum table\n"
   ]
  },
  {
   "cell_type": "code",
   "execution_count": 5,
   "metadata": {},
   "outputs": [
    {
     "name": "stdout",
     "output_type": "stream",
     "text": [
      "1.0 * | [0]>\n",
      "0.0 * | [1]>\n"
     ]
    }
   ],
   "source": [
    "show_statevector(qc_le)"
   ]
  },
  {
   "cell_type": "code",
   "execution_count": 6,
   "metadata": {},
   "outputs": [
    {
     "data": {
      "text/plain": [
       "1.0e-8"
      ]
     },
     "metadata": {},
     "output_type": "display_data"
    }
   ],
   "source": [
    "# global variable \n",
    "err_tol = 1e-8"
   ]
  },
  {
   "cell_type": "code",
   "execution_count": 7,
   "metadata": {},
   "outputs": [
    {
     "data": {
      "text/plain": [
       "qc_initstruct"
      ]
     },
     "metadata": {},
     "output_type": "display_data"
    }
   ],
   "source": [
    "\n",
    "Base.@kwdef mutable struct qc_initstruct\n",
    "    # Initialize the quantum register\n",
    "    n_qubits::Int64\n",
    "    q_order::String\n",
    "    n_bas::Int64\n",
    "    n_dim::Int64\n",
    "    state_vector::Union{Vector{Float64},Vector{Int64}, Vector{ComplexF64}}\n",
    "#    state_vector::Array{Float64,1}\n",
    "    q_states\n",
    "#    q_states::Array{Float64,2}\n",
    "end # end qc_initialize\n"
   ]
  },
  {
   "cell_type": "code",
   "execution_count": null,
   "metadata": {},
   "outputs": [],
   "source": [
    "\n",
    "function qc_initialize2(n::Int64,\n",
    "    q_order::String=\"big-endian\",\n",
    "    #big_endian::Bool=conventions.big_endian,\n",
    "    c_sv= nothing, \n",
    "#     c_sv::Union{Vector{Float64}, Vector{Int64}, Vector{ComplexF64}} = nothing,     \n",
    "    err_tol::Float64=err_tol\n",
    "    )\n",
    "    # Initialize the quantum register\n",
    "    # n::Int64: number of qubits\n",
    "    # q_order::String: order of the qubits in the quantum register\n",
    "    # return: quantum register of n qubits\n",
    "    # q_order == \"big-endian\"\n",
    "    # q_order == \"little-endian\"\n",
    "\n",
    "    # start the function\n",
    "    n_bas = 2 # number of basis states\n",
    "    n_qubits = n # number of qubits\n",
    "    n_dim = 2^n # dimensions of the quantum register/Hilbert space\n",
    "    state_vector = zeros(2^n) # initialize the state_vector\n",
    "    # create the default statevector of the quantum register: \n",
    "    state_vector[1] = 1 # set the initial state to |000 ...0>\n",
    "    q_states = zeros(2^n, n) # initialize the quantum states\n",
    "    q_tab = [0;1] # initialize the basis vectors quantum table\n",
    "   \n",
    "\n",
    "    ## notes:\n",
    "    # the minimum number of qubits is 2 \n",
    "    if n_qubits == 1\n",
    "        q_states = q_tab # basis vectors\n",
    "        # check if the user has provided a custom statevector\n",
    "        # err_tol = 1e-16 # error tolerance for checking the unitary condition\n",
    "        if c_sv != nothing\n",
    "            # check if the custom statevector has the correct dimensions\n",
    "            if length(c_sv) != n_dim\n",
    "                error(\"The custom statevector has the wrong dimensions\")\n",
    "            end\n",
    "            if isapprox(norm(c_sv), 1, rtol=err_tol) == false\n",
    "                error(\"The custom statevector is not normalized\")\n",
    "            end\n",
    "            state_vector = c_sv\n",
    "        end\n",
    "        \n",
    "   else\n",
    "    n_count = n_bas\n",
    "    if q_order == \"big-endian\"\n",
    "       for i = 2:n_qubits\n",
    "            q_tab = [zeros(n_count,1) q_tab\n",
    "                    ones(n_count,1) q_tab]\n",
    "            n_count = n_count*2\n",
    "       end\n",
    "    else\n",
    "        for i = 2:n_qubits\n",
    "            q_tab = [ q_tab zeros(n_count,1)\n",
    "                   q_tab  ones(n_count,1) ]\n",
    "            n_count = n_count*2\n",
    "        end\n",
    "    end\n",
    "    q_states = q_tab # basis vectors \n",
    "end # end if n_qubits == 1\n",
    "\n",
    "    # check if the user has provided a custom statevector\n",
    "    # err_tol = 1e-16 # error tolerance for checking the unitary condition\n",
    "    if c_sv != nothing\n",
    "        # check if the custom statevector has the correct dimensions\n",
    "        if length(c_sv) != n_dim\n",
    "            error(\"The custom statevector has the wrong dimensions\")\n",
    "        end\n",
    "        if isapprox(norm(c_sv), 1, rtol=err_tol) == false\n",
    "            error(\"The custom statevector is not normalized\")\n",
    "        end\n",
    "        state_vector = c_sv\n",
    "    end\n",
    "\n",
    "    # one final check for the statevector\n",
    "    if isapprox(norm(state_vector), 1, rtol=err_tol) == false\n",
    "        error(\"The statevector is not normalized\")\n",
    "    end\n",
    "\n",
    "#    return qc_initstruct(n_qubits, q_order, n_bas, n_dim, 1.0, [1.0 1.0])\n",
    "    return qc_initstruct(n_qubits, q_order, n_bas, n_dim, state_vector, q_states)\n",
    "\n",
    "#    return 1\n",
    "\n",
    "end # end qc_initialize  "
   ]
  },
  {
   "cell_type": "code",
   "execution_count": 125,
   "metadata": {},
   "outputs": [
    {
     "data": {
      "text/plain": [
       "qc_initialize3 (generic function with 4 methods)"
      ]
     },
     "metadata": {},
     "output_type": "display_data"
    }
   ],
   "source": [
    "\n",
    "function qc_initialize3(n::Int64,\n",
    "    big_endian::Bool=conventions.big_endian,\n",
    "    #big_endian::Bool=conventions.big_endian,\n",
    "    c_sv= nothing, \n",
    "#     c_sv::Union{Vector{Float64}, Vector{Int64}, Vector{ComplexF64}} = nothing,     \n",
    "    err_tol::Float64=err_tol\n",
    "    )\n",
    "    # Initialize the quantum register\n",
    "    # n::Int64: number of qubits\n",
    "    # q_order::String: order of the qubits in the quantum register\n",
    "    # return: quantum register of n qubits\n",
    "    # q_order == \"big-endian\"\n",
    "    # q_order == \"little-endian\"\n",
    "\n",
    "    # start the function\n",
    "    n_bas = 2 # number of basis states\n",
    "    n_qubits = n # number of qubits\n",
    "    n_dim = 2^n # dimensions of the quantum register/Hilbert space\n",
    "    state_vector = zeros(2^n) # initialize the state_vector\n",
    "    # create the default statevector of the quantum register: \n",
    "    state_vector[1] = 1 # set the initial state to |000 ...0>\n",
    "    q_states = zeros(2^n, n) # initialize the quantum states\n",
    "    q_tab = [0;1] # initialize the basis vectors quantum table\n",
    "   \n",
    "    # store the order of the qubits, big-endian or little-endian\n",
    "    # for printing purpose only \n",
    "    if big_endian\n",
    "        q_order = \"big-endian\"\n",
    "    else\n",
    "        q_order = \"little-endian\"\n",
    "    end\n",
    "\n",
    "    ## notes:\n",
    "    # the minimum number of qubits is 2 \n",
    "    if n_qubits == 1\n",
    "        q_states = q_tab # basis vectors\n",
    "        # check if the user has provided a custom statevector\n",
    "        # err_tol = 1e-16 # error tolerance for checking the unitary condition\n",
    "        if c_sv != nothing\n",
    "            # check if the custom statevector has the correct dimensions\n",
    "            if length(c_sv) != n_dim\n",
    "                error(\"The custom statevector has the wrong dimensions\")\n",
    "            end\n",
    "            if isapprox(norm(c_sv), 1, rtol=err_tol) == false\n",
    "                error(\"The custom statevector is not normalized\")\n",
    "            end\n",
    "            state_vector = c_sv\n",
    "        end \n",
    "   else\n",
    "        n_count = n_bas\n",
    "        if !big_endian\n",
    "            for i = 2:n_qubits\n",
    "                q_tab = [ q_tab zeros(n_count,1)\n",
    "                       q_tab  ones(n_count,1) ]\n",
    "                n_count = n_count*2\n",
    "            end\n",
    "        else\n",
    "            for i = 2:n_qubits\n",
    "                q_tab = [zeros(n_count,1) q_tab\n",
    "                        ones(n_count,1) q_tab]\n",
    "                n_count = n_count*2\n",
    "            end\n",
    "        end\n",
    "        # for i = 2:n_qubits\n",
    "        #     q_tab = [zeros(n_count,1) q_tab\n",
    "        #             ones(n_count,1) q_tab]\n",
    "        #     n_count = n_count*2\n",
    "        # end\n",
    "    q_states = q_tab # basis vectors \n",
    "end # end if n_qubits == 1\n",
    "\n",
    "    # check if the user has provided a custom statevector\n",
    "    # err_tol = 1e-16 # error tolerance for checking the unitary condition\n",
    "    if c_sv != nothing\n",
    "        # check if the custom statevector has the correct dimensions\n",
    "        if length(c_sv) != n_dim\n",
    "            error(\"The custom statevector has the wrong dimensions\")\n",
    "        end\n",
    "        if isapprox(norm(c_sv), 1, rtol=err_tol) == false\n",
    "            error(\"The custom statevector is not normalized\")\n",
    "        end\n",
    "        state_vector = c_sv\n",
    "    end\n",
    "\n",
    "    # one final check for the statevector\n",
    "    if isapprox(norm(state_vector), 1, rtol=err_tol) == false\n",
    "        error(\"The statevector is not normalized\")\n",
    "    end\n",
    "\n",
    "#    return qc_initstruct(n_qubits, q_order, n_bas, n_dim, 1.0, [1.0 1.0])\n",
    "    return qc_initstruct(n_qubits, q_order, n_bas, n_dim, state_vector, q_states)\n",
    "\n",
    "#    return 1\n",
    "\n",
    "end # end qc_initialize  "
   ]
  },
  {
   "cell_type": "code",
   "execution_count": 126,
   "metadata": {},
   "outputs": [
    {
     "data": {
      "text/plain": [
       "qc_initstruct(2, \"little-endian\", 2, 4, [1.0, 0.0, 0.0, 0.0], [0.0 0.0; 1.0 0.0; 0.0 1.0; 1.0 1.0])"
      ]
     },
     "metadata": {},
     "output_type": "display_data"
    }
   ],
   "source": [
    "nqubits = 2\n",
    "qc2 = qc_initialize3(nqubits,false)"
   ]
  },
  {
   "cell_type": "code",
   "execution_count": 127,
   "metadata": {},
   "outputs": [
    {
     "data": {
      "text/plain": [
       "qc_initstruct(2, \"little-endian\", 2, 4, [1.0, 0.0, 0.0, 0.0], [0.0 0.0; 1.0 0.0; 0.0 1.0; 1.0 1.0])"
      ]
     },
     "metadata": {},
     "output_type": "display_data"
    }
   ],
   "source": [
    "qc2"
   ]
  },
  {
   "cell_type": "code",
   "execution_count": 128,
   "metadata": {},
   "outputs": [
    {
     "data": {
      "text/plain": [
       "4-element Vector{Float64}:\n",
       " 1.0\n",
       " 0.0\n",
       " 0.0\n",
       " 0.0"
      ]
     },
     "metadata": {},
     "output_type": "display_data"
    }
   ],
   "source": [
    "qc2.state_vector\n",
    "\n"
   ]
  },
  {
   "cell_type": "code",
   "execution_count": 129,
   "metadata": {},
   "outputs": [
    {
     "data": {
      "text/plain": [
       "\"little-endian\""
      ]
     },
     "metadata": {},
     "output_type": "display_data"
    }
   ],
   "source": [
    "qc2.q_order"
   ]
  },
  {
   "cell_type": "code",
   "execution_count": 115,
   "metadata": {},
   "outputs": [
    {
     "data": {
      "text/plain": [
       "show_statevector_test (generic function with 1 method)"
      ]
     },
     "metadata": {},
     "output_type": "display_data"
    }
   ],
   "source": [
    "\n",
    "# print the initial state of the quantum register\n",
    "# print the initial state of the quantum register\n",
    "function show_statevector_test(qc)\n",
    "    # print the initial state of the quantum register\n",
    "    # qc::qc_initstruct: quantum register\n",
    "    # return: print the initial state of the quantum register\n",
    "    #println(\"The initial state of the quantum register is: \")\n",
    "    #println(qc.state_vector)\n",
    "    # print the initial state of the quantum register with the quantum \n",
    "    # states in the computational basis\n",
    "    #println(\"the quantum register is: \")\n",
    "    q_states = qc.q_states\n",
    "    state_vector = qc.state_vector\n",
    "    if qc.q_order == \"little-endian\"\n",
    "        q_states, q_ind = MK_sortrows22(q_states)\n",
    "        state_vector = state_vector[q_ind[:,1]]\n",
    "    end # end if\n",
    "    \n",
    "    # Note: the basis of the Hilbert space are the quantum states\n",
    "    # .. they are arranged and sorted in the computational basis \n",
    "    # .. according to the q_order=lille-endian.\n",
    "    # .. accordingly, the statevector is arranged and sorted in the\n",
    "    # .. computational basis according to the q_order=little-endian \n",
    "    # .. as well. \n",
    "\n",
    "    # convert the quantum states to integers\n",
    "    q_table = zeros(Int, qc.n_dim, qc.n_qubits)\n",
    "    for iq=1:qc.n_qubits\n",
    "        for i in 1:qc.n_dim\n",
    "            q_table[i,iq] = trunc(Int, q_states[i,iq])\n",
    "        end # end for\n",
    "    end # end for\n",
    "  \n",
    "    for i in 1:qc.n_dim\n",
    "        println( state_vector[i], \" * | \", string(q_table[i,:]), \">\")\n",
    "    end # end for\n",
    "    #show(stdout, \"text/plain\", [qc.state_vector trunc(Int,qc.q_states)])\n",
    "end # end print_initstate"
   ]
  },
  {
   "cell_type": "code",
   "execution_count": 123,
   "metadata": {},
   "outputs": [
    {
     "name": "stdout",
     "output_type": "stream",
     "text": [
      "1.0 * | [0, 0]>\n",
      "0.0 * | [0, 1]>\n",
      "0.0 * | [1, 0]>\n",
      "0.0 * | [1, 1]>\n"
     ]
    }
   ],
   "source": [
    "show_statevector_test(qc2)"
   ]
  },
  {
   "cell_type": "code",
   "execution_count": 106,
   "metadata": {},
   "outputs": [
    {
     "data": {
      "text/plain": [
       "MK_sortrows33 (generic function with 1 method)"
      ]
     },
     "metadata": {},
     "output_type": "display_data"
    }
   ],
   "source": [
    "# write the function MK_sortrows22 with an input matrix of union types of Float64 and Int64\n",
    "function MK_sortrows22(A::Matrix{Float64})\n",
    "    # sort the rows of the matrix A and export the sorting indices\n",
    "    # A::Array{Float64,2}: matrix to be sorted\n",
    "    # return: sorted matrix and sorting indices\n",
    "    # more references over the sorting \n",
    "    # https://docs.julialang.org/en/v1/base/sort/\n",
    "    # sort the rows of the matrix qc_le.q_states and export the sorting indices\n",
    "    A_sorted=sortslices(A,dims=1)\n",
    "    # where are the indices of the sorting?\n",
    "    A_sorted_indices=sortperm(A,dims=1)\n",
    "    return A_sorted, A_sorted_indices\n",
    "end # end sortrows2\n"
   ]
  },
  {
   "cell_type": "code",
   "execution_count": 107,
   "metadata": {},
   "outputs": [
    {
     "data": {
      "text/plain": [
       "([0.0 0.0; 0.0 1.0; 1.0 0.0; 1.0 1.0], [1 5; 3 6; 2 7; 4 8])"
      ]
     },
     "metadata": {},
     "output_type": "display_data"
    }
   ],
   "source": [
    "M_val,M_ind = MK_sortrows22(qc2.q_states)"
   ]
  },
  {
   "cell_type": "code",
   "execution_count": 111,
   "metadata": {},
   "outputs": [
    {
     "data": {
      "text/plain": [
       "4-element Vector{Int64}:\n",
       " 1\n",
       " 3\n",
       " 2\n",
       " 4"
      ]
     },
     "metadata": {},
     "output_type": "display_data"
    }
   ],
   "source": [
    "# print the first column of the sorted matrix\n",
    "M_ind[:,1]"
   ]
  },
  {
   "cell_type": "code",
   "execution_count": null,
   "metadata": {},
   "outputs": [],
   "source": [
    "M_val"
   ]
  },
  {
   "cell_type": "code",
   "execution_count": null,
   "metadata": {},
   "outputs": [],
   "source": [
    "M_val"
   ]
  },
  {
   "cell_type": "code",
   "execution_count": null,
   "metadata": {},
   "outputs": [],
   "source": [
    "function show_statevector2(qc)\n",
    "    # print the initial state of the quantum register\n",
    "    # qc::qc_initstruct: quantum register\n",
    "    # return: print the initial state of the quantum register\n",
    "    #println(\"The initial state of the quantum register is: \")\n",
    "    #println(qc.state_vector)\n",
    "    # print the initial state of the quantum register with the quantum \n",
    "    # states in the computational basis\n",
    "    #println(\"the quantum register is: \")\n",
    "    q_table = zeros(Int, qc.n_dim, qc.n_qubits)\n",
    "    for iq=1:qc.n_qubits\n",
    "        for i in 1:qc.n_dim\n",
    "            q_table[i,iq] = trunc(Int, qc.q_states[i,iq])\n",
    "        end # end for\n",
    "    end # end for\n",
    "\n",
    "    for i in 1:qc.n_dim\n",
    "        println( qc.state_vector[i], \" * | \", string(q_table[i,:]), \">\")\n",
    "    end # end for\n",
    "    #show(stdout, \"text/plain\", [qc.state_vector trunc(Int,qc.q_states)])\n",
    "end # end print_initstate"
   ]
  },
  {
   "cell_type": "code",
   "execution_count": null,
   "metadata": {},
   "outputs": [],
   "source": [
    "show_statevector2(qc_le)"
   ]
  },
  {
   "cell_type": "code",
   "execution_count": null,
   "metadata": {},
   "outputs": [],
   "source": [
    "    n = 2\n",
    "#    q_order = \"big-endian\"\n",
    "    q_order = \"little-endian\"\n",
    "\n",
    "    # start the function\n",
    "    n_bas = 2 # number of basis states\n",
    "    n_qubits = n # number of qubits\n",
    "    n_dim = 2^n # dimensions of the quantum register/Hilbert space\n",
    "    state_vector = zeros(2^n) # initialize the state_vector\n",
    "    # create the default statevector of the quantum register: \n",
    "    state_vector[1] = 1 # set the initial state to |000 ...0>\n",
    "    q_states = zeros(2^n, n) # initialize the quantum states\n",
    "    q_tab = [0;1] # initialize the basis vectors quantum table\n",
    "   \n",
    "\n",
    "    ## notes:\n",
    "    # the minimum number of qubits is 2 \n",
    "    if n_qubits == 1\n",
    "        q_states = q_tab # basis vectors\n",
    "        # check if the user has provided a custom statevector\n",
    "        # err_tol = 1e-16 # error tolerance for checking the unitary condition\n",
    "        if c_sv != nothing\n",
    "            # check if the custom statevector has the correct dimensions\n",
    "            if length(c_sv) != n_dim\n",
    "                error(\"The custom statevector has the wrong dimensions\")\n",
    "            end\n",
    "            if isapprox(norm(c_sv), 1, rtol=err_tol) == false\n",
    "                error(\"The custom statevector is not normalized\")\n",
    "            end\n",
    "            state_vector = c_sv\n",
    "        end\n",
    "        \n",
    "   else\n",
    "    n_count = n_bas\n",
    "    if q_order == \"big-endian\"\n",
    "       for i = 2:n_qubits\n",
    "            q_tab = [zeros(n_count,1) q_tab\n",
    "                    ones(n_count,1) q_tab]\n",
    "            n_count = n_count*2\n",
    "       end\n",
    "    elseif q_order == \"little-endian\"\n",
    "        for i = 2:n_qubits\n",
    "            q_tab = [ q_tab zeros(n_count,1)\n",
    "                   q_tab  ones(n_count,1) ]\n",
    "            n_count = n_count*2\n",
    "        end\n",
    "    end\n",
    "    q_states = q_tab # basis vectors \n",
    "\n",
    "end # end if n_qubits == 1"
   ]
  },
  {
   "cell_type": "code",
   "execution_count": null,
   "metadata": {},
   "outputs": [],
   "source": []
  },
  {
   "cell_type": "markdown",
   "metadata": {},
   "source": [
    "#### testing the rotational gate\n",
    "$R_Z(\\phi)$.\n",
    "\n",
    "syntax for the gate is: `Rz_gate = Qgate.Rz(phi)`\n",
    "\n",
    "where `phi` is the angle of rotation."
   ]
  },
  {
   "cell_type": "code",
   "execution_count": null,
   "metadata": {},
   "outputs": [],
   "source": [
    "# a gate from the Qgate library implemented from the paper \n",
    "# arXiv:2209.08187v1 [quant-ph] 16 Sep 2022\n",
    "# test angle 2.0\n",
    "Rz_gate = Rz_gate1(2.0)\n"
   ]
  },
  {
   "cell_type": "code",
   "execution_count": null,
   "metadata": {},
   "outputs": [],
   "source": [
    "show(stdout, \"text/plain\", Rz_gate)"
   ]
  },
  {
   "cell_type": "markdown",
   "metadata": {},
   "source": [
    "### ==============================="
   ]
  },
  {
   "cell_type": "markdown",
   "metadata": {},
   "source": [
    "Now, we start with the implementation of the quantum circuit simulating the quantum sensor."
   ]
  },
  {
   "cell_type": "code",
   "execution_count": null,
   "metadata": {},
   "outputs": [],
   "source": [
    "qubit_control = 0\n",
    "qubit_target = 1\n",
    "# Start with one qubit only and one classical bit to recieve the answer\n",
    "nqubits = 1\n",
    "#err_tol = 1e-15\n",
    "qc = qc_initialize(nqubits)"
   ]
  },
  {
   "cell_type": "code",
   "execution_count": null,
   "metadata": {},
   "outputs": [],
   "source": [
    "# check the state vector of the quantum register\n",
    "qc.state_vector"
   ]
  },
  {
   "cell_type": "code",
   "execution_count": null,
   "metadata": {},
   "outputs": [],
   "source": [
    "# check the quantum states, the basis of the Hilbert space of the qubits\n",
    "qc.q_states"
   ]
  },
  {
   "cell_type": "code",
   "execution_count": null,
   "metadata": {},
   "outputs": [],
   "source": [
    "# print the state vector with the basis of the quantum register\n",
    "show_statevector(qc)"
   ]
  },
  {
   "cell_type": "code",
   "execution_count": null,
   "metadata": {},
   "outputs": [],
   "source": [
    "# Get the Hadamard gate\n",
    " Hgate = Qgate.H\n",
    "# Hgate'*Hgate   \n",
    "# Qgate_dim = size(Hgate)\n",
    "# U2_mat::Matrix{Union{ComplexF64, Float64}} = Hgate'*Hgate\n",
    "# #UU::Matrix{Union} = Hgate'*Hgate\n",
    "# err_tol = 1e-15\n",
    "# II = Matrix(I, Qgate_dim[1], Qgate_dim[2])\n",
    "#     if isapprox(U2_mat, II,rtol=err_tol) == false\n",
    "#         error(\"The gate is not unitary\")\n",
    "#     end"
   ]
  },
  {
   "cell_type": "code",
   "execution_count": null,
   "metadata": {},
   "outputs": [],
   "source": [
    "# Apply the Hadamard gate to the quantum register\n",
    "apply_op(qc, Hgate)"
   ]
  },
  {
   "cell_type": "code",
   "execution_count": null,
   "metadata": {},
   "outputs": [],
   "source": [
    "# Show the state vector of the quantum register\n",
    "show_statevector(qc)"
   ]
  },
  {
   "cell_type": "code",
   "execution_count": null,
   "metadata": {},
   "outputs": [],
   "source": [
    "# Apply the Rz gate as defined in the paper arXiv:2209.08187v1 [quant-ph] 16 Sep 2022\n",
    "# a gate from the Qgate library implemented from the paper \n",
    "# arXiv:2209.08187v1 [quant-ph] 16 Sep 2022\n",
    "# angle is phi = pi/3\n",
    "Rz_gate = Rz_gate1(pi/3)\n",
    "apply_op(qc, Rz_gate)"
   ]
  },
  {
   "cell_type": "code",
   "execution_count": null,
   "metadata": {},
   "outputs": [],
   "source": [
    "# Show the state vector of the quantum register\n",
    "show_statevector(qc)"
   ]
  },
  {
   "cell_type": "code",
   "execution_count": null,
   "metadata": {},
   "outputs": [],
   "source": [
    "# Apply the Hadamard gate to the quantum register\n",
    "apply_op(qc, Hgate)"
   ]
  },
  {
   "cell_type": "code",
   "execution_count": null,
   "metadata": {},
   "outputs": [],
   "source": [
    "show_statevector(qc)"
   ]
  },
  {
   "cell_type": "markdown",
   "metadata": {},
   "source": [
    "The final state is expressed as \n",
    "$$\n",
    "|\\psi\\rangle=H R_Z(\\phi) H|0\\rangle\n",
    "$$\n",
    "\n",
    "In matrix notation: \n",
    "$$\n",
    "|\\psi\\rangle=\\frac{1}{2}\\left[\\begin{array}{l}\n",
    "e^{-i \\phi / 2}+e^{i \\phi / 2} \\\\\n",
    "e^{-i \\phi / 2}-e^{i \\phi / 2}\n",
    "\\end{array}\\right]=\\left[\\begin{array}{c}\n",
    "\\cos (\\phi / 2) \\\\\n",
    "-i \\sin (\\phi / 2)\n",
    "\\end{array}\\right]\n",
    "$$\n",
    "\n",
    "Here, the probabilities of measuring the final state of the circuit as $|0\\rangle$ and $|1\\rangle$ are given by $p_0=\\cos ^2(\\phi / 2)$ and $p_1=\\sin ^2(\\phi / 2)$, respectively."
   ]
  },
  {
   "cell_type": "markdown",
   "metadata": {},
   "source": [
    "We summarize the result of this measurement by defining the polarization operator $\\hat{P}$ such that the polarization is equal to -1 if we measure $|0\\rangle$ and equal to 1 if we measure $|1\\rangle$. Up to the overall sign, this is the $z$ coordinate of the Bloch vector. In matrix form, the polarization operator is\n",
    "$$\n",
    "\\hat{P}=\\left[\\begin{array}{cc}\n",
    "-1 & 0 \\\\\n",
    "0 & 1\n",
    "\\end{array}\\right] .\n",
    "$$\n",
    "For the final state $|\\psi\\rangle$ from Eq. (7), the expectation value of the polarization operator is\n",
    "$$\n",
    "\\langle\\psi|\\hat{P}| \\psi\\rangle=p_1-p_0=\\frac{1}{2} \\sin ^2(\\phi / 2)-\\frac{1}{2} \\cos ^2(\\phi / 2)=-\\cos \\phi\n",
    "$$"
   ]
  },
  {
   "cell_type": "markdown",
   "metadata": {},
   "source": [
    "The coefficients of state $|\\psi\\rangle$ expressed in the computational basis of a single qubit gives the probability of measuring the state $|0\\rangle$ or $|1\\rangle$.\n",
    "The average polarization is given by \n",
    "$$\n",
    "P = p_1 - p_0 \n",
    "$$ \n",
    "with each measurement outcome.  "
   ]
  },
  {
   "cell_type": "code",
   "execution_count": null,
   "metadata": {},
   "outputs": [],
   "source": [
    "phi_vec = [0,pi/2,pi,3*pi/2,2*pi]"
   ]
  },
  {
   "cell_type": "markdown",
   "metadata": {},
   "source": [
    "Use the exact simulator approach, we can calculate the average polarization for a given $\\phi$."
   ]
  },
  {
   "cell_type": "code",
   "execution_count": null,
   "metadata": {},
   "outputs": [],
   "source": [
    "# calculate the polarization P for the phi_vec \n",
    "P = zeros(length(phi_vec))\n",
    "for iphi = 1:length(phi_vec)\n",
    "    phi = phi_vec[iphi]\n",
    "    p0 = cos(phi/2)^2\n",
    "    p1 = sin(phi/2)^2\n",
    "    P[iphi] = p0 - p1\n",
    "end"
   ]
  },
  {
   "cell_type": "code",
   "execution_count": null,
   "metadata": {},
   "outputs": [],
   "source": [
    "# plot P as a function of phi \n",
    "plot(phi_vec, P, label=\"Polarization\", xlabel=\"phi\", \n",
    "ylabel=\"P\", title=\"Polarization as a function of phi\")\n",
    "\n",
    "# Apply the Rz gate as defined in the paper arXiv:2209.08187v1 [quant-ph] 16 Sep 2022"
   ]
  },
  {
   "cell_type": "code",
   "execution_count": null,
   "metadata": {},
   "outputs": [],
   "source": [
    "## Emulate the sinusoidal behavior of the polarization P as a function of phi\n",
    "P_polarization "
   ]
  },
  {
   "cell_type": "markdown",
   "metadata": {},
   "source": [
    "#### refs\n",
    "\n",
    "https://quantumcomputing.stackexchange.com/questions/14066/how-do-i-apply-the-hadamard-gate-to-one-qubit-in-a-two-qubit-pure-state\n"
   ]
  },
  {
   "cell_type": "markdown",
   "metadata": {},
   "source": []
  }
 ],
 "metadata": {
  "kernelspec": {
   "display_name": "Julia 1.9.1",
   "language": "julia",
   "name": "julia-1.9"
  },
  "language_info": {
   "file_extension": ".jl",
   "mimetype": "application/julia",
   "name": "julia",
   "version": "1.9.1"
  },
  "orig_nbformat": 4
 },
 "nbformat": 4,
 "nbformat_minor": 2
}
