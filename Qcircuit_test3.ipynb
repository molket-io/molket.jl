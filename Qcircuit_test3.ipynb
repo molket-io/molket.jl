{
 "cells": [
  {
   "cell_type": "code",
   "execution_count": 1,
   "metadata": {},
   "outputs": [],
   "source": [
    "\n",
    "using LinearAlgebra\n",
    "using SpecialFunctions\n",
    "using AssociatedLegendrePolynomials\n",
    "using Plots\n",
    "using LaTeXStrings"
   ]
  },
  {
   "cell_type": "code",
   "execution_count": 2,
   "metadata": {},
   "outputs": [
    {
     "name": "stdout",
     "output_type": "stream",
     "text": [
      "Load quantum gates constructor\n"
     ]
    },
    {
     "name": "stdout",
     "output_type": "stream",
     "text": [
      "Load Tensor module: QTensor.jl\n",
      "Load quantum gates constructor\n"
     ]
    },
    {
     "name": "stdout",
     "output_type": "stream",
     "text": [
      "Load quantum gates constructor\n",
      "Load quantum gates constructor\n"
     ]
    }
   ],
   "source": [
    "\n",
    "# import conventions\n",
    "include(\"conventions.jl\")\n",
    "  using .conventions: big_endian, qubit_begin\n",
    "\n",
    "  # import quantum gates\n",
    "include(\"quantum_gates.jl\")\n",
    "using ..quantum_gates: Qgate, Rz_gate1\n",
    "\n",
    "include(\"lib_tensor/QTensor.jl\")\n",
    "using ..QTensor: Qgate_T2D\n",
    "\n",
    "include(\"quantum_circuit.jl\")\n",
    "using ..quantum_circuit: qc_initialize, init_register, show_statevector, apply_op\n",
    "#using ..quantum_circuit: qc_initialize, init_register, print_initstate"
   ]
  },
  {
   "cell_type": "markdown",
   "metadata": {},
   "source": [
    "### quantum sensor test "
   ]
  },
  {
   "cell_type": "code",
   "execution_count": 3,
   "metadata": {},
   "outputs": [
    {
     "data": {
      "text/plain": [
       "Main.quantum_circuit.qc_initstruct(3, \"big-endian\", 2, 8, [1.0, 0.0, 0.0, 0.0, 0.0, 0.0, 0.0, 0.0], [0.0 0.0 0.0; 0.0 0.0 1.0; … ; 1.0 1.0 0.0; 1.0 1.0 1.0])"
      ]
     },
     "metadata": {},
     "output_type": "display_data"
    }
   ],
   "source": [
    "qubit_control = 0\n",
    "qubit_target = 1\n",
    "nqubits = 3\n",
    "err_tol = 1e-8\n",
    "qc = qc_initialize(nqubits)\n"
   ]
  },
  {
   "cell_type": "code",
   "execution_count": 4,
   "metadata": {},
   "outputs": [
    {
     "name": "stdout",
     "output_type": "stream",
     "text": [
      "The initial state of the quantum register is: \n",
      "The initial state of the quantum register with the \n",
      "    quantum states in the computational basis is: \n",
      "1.0 * | [0, 0, 0]>\n",
      "0.0 * | [0, 0, 1]>\n",
      "0.0 * | [0, 1, 0]>\n",
      "0.0 * | [0, 1, 1]>\n",
      "0.0 * | [1, 0, 0]>\n",
      "0.0 * | [1, 0, 1]>\n",
      "0.0 * | [1, 1, 0]>\n",
      "0.0 * | [1, 1, 1]>\n"
     ]
    }
   ],
   "source": [
    "show_statevector(qc)"
   ]
  },
  {
   "cell_type": "markdown",
   "metadata": {},
   "source": [
    "#### testing the rotational gate\n",
    "$R_Z(\\phi)$.\n",
    "\n",
    "syntax for the gate is: `Rz_gate = Qgate.Rz(phi)`\n",
    "\n",
    "where `phi` is the angle of rotation."
   ]
  },
  {
   "cell_type": "code",
   "execution_count": 8,
   "metadata": {},
   "outputs": [
    {
     "data": {
      "text/plain": [
       "2×2 Matrix{ComplexF64}:\n",
       " 0.540302-0.841471im       0.0+0.0im\n",
       "      0.0+0.0im       0.540302+0.841471im"
      ]
     },
     "metadata": {},
     "output_type": "display_data"
    }
   ],
   "source": [
    "# a gate from the Qgate library implemented from the paper \n",
    "# arXiv:2209.08187v1 [quant-ph] 16 Sep 2022\n",
    "# test angle 2.0\n",
    "Rz_gate = Rz_gate1(2.0)\n"
   ]
  },
  {
   "cell_type": "code",
   "execution_count": 9,
   "metadata": {},
   "outputs": [
    {
     "name": "stdout",
     "output_type": "stream",
     "text": [
      "2×2 Matrix{ComplexF64}:\n",
      " 0.540302-0.841471im       0.0+0.0im\n",
      "      0.0+0.0im       0.540302+0.841471im"
     ]
    }
   ],
   "source": [
    "show(stdout, \"text/plain\", Rz_gate)"
   ]
  },
  {
   "cell_type": "markdown",
   "metadata": {},
   "source": [
    "### ==============================="
   ]
  },
  {
   "cell_type": "markdown",
   "metadata": {},
   "source": [
    "Now, we start with the implementation of the quantum circuit simulating the quantum sensor."
   ]
  },
  {
   "cell_type": "code",
   "execution_count": 12,
   "metadata": {},
   "outputs": [
    {
     "data": {
      "text/plain": [
       "Main.quantum_circuit.qc_initstruct(1, \"big-endian\", 2, 2, [1.0, 0.0], [0, 1])"
      ]
     },
     "metadata": {},
     "output_type": "display_data"
    }
   ],
   "source": [
    "qubit_control = 0\n",
    "qubit_target = 1\n",
    "# Start with one qubit only and one classical bit to recieve the answer\n",
    "nqubits = 1\n",
    "#err_tol = 1e-15\n",
    "qc = qc_initialize(nqubits)"
   ]
  },
  {
   "cell_type": "code",
   "execution_count": 13,
   "metadata": {},
   "outputs": [
    {
     "data": {
      "text/plain": [
       "2-element Vector{Float64}:\n",
       " 1.0\n",
       " 0.0"
      ]
     },
     "metadata": {},
     "output_type": "display_data"
    }
   ],
   "source": [
    "# check the state vector of the quantum register\n",
    "qc.state_vector"
   ]
  },
  {
   "cell_type": "code",
   "execution_count": 14,
   "metadata": {},
   "outputs": [
    {
     "data": {
      "text/plain": [
       "2-element Vector{Int64}:\n",
       " 0\n",
       " 1"
      ]
     },
     "metadata": {},
     "output_type": "display_data"
    }
   ],
   "source": [
    "# check the quantum states, the basis of the Hilbert space of the qubits\n",
    "qc.q_states"
   ]
  },
  {
   "cell_type": "code",
   "execution_count": 15,
   "metadata": {},
   "outputs": [
    {
     "name": "stdout",
     "output_type": "stream",
     "text": [
      "The initial state of the quantum register is: \n",
      "The initial state of the quantum register with the \n",
      "    quantum states in the computational basis is: \n",
      "1.0 * | [0]>\n",
      "0.0 * | [1]>\n"
     ]
    }
   ],
   "source": [
    "# print the state vector with the basis of the quantum register\n",
    "show_statevector(qc)"
   ]
  },
  {
   "cell_type": "code",
   "execution_count": 17,
   "metadata": {},
   "outputs": [
    {
     "data": {
      "text/plain": [
       "2×2 Matrix{Float64}:\n",
       " 0.707107   0.707107\n",
       " 0.707107  -0.707107"
      ]
     },
     "metadata": {},
     "output_type": "display_data"
    }
   ],
   "source": [
    "# Get the Hadamard gate\n",
    " Hgate = Qgate.H\n",
    "# Hgate'*Hgate   \n",
    "# Qgate_dim = size(Hgate)\n",
    "# U2_mat::Matrix{Union{ComplexF64, Float64}} = Hgate'*Hgate\n",
    "# #UU::Matrix{Union} = Hgate'*Hgate\n",
    "# err_tol = 1e-15\n",
    "# II = Matrix(I, Qgate_dim[1], Qgate_dim[2])\n",
    "#     if isapprox(U2_mat, II,rtol=err_tol) == false\n",
    "#         error(\"The gate is not unitary\")\n",
    "#     end"
   ]
  },
  {
   "cell_type": "code",
   "execution_count": 18,
   "metadata": {},
   "outputs": [
    {
     "data": {
      "text/plain": [
       "Main.quantum_circuit.qc_initstruct(1, \"big-endian\", 2, 2, [0.7071067811865475, 0.7071067811865475], [0, 1])"
      ]
     },
     "metadata": {},
     "output_type": "display_data"
    }
   ],
   "source": [
    "# Apply the Hadamard gate to the quantum register\n",
    "apply_op(qc, Hgate)"
   ]
  },
  {
   "cell_type": "code",
   "execution_count": 19,
   "metadata": {},
   "outputs": [
    {
     "name": "stdout",
     "output_type": "stream",
     "text": [
      "The initial state of the quantum register is: \n",
      "The initial state of the quantum register with the \n",
      "    quantum states in the computational basis is: \n",
      "0.7071067811865475 * | [0]>\n",
      "0.7071067811865475 * | [1]>\n"
     ]
    }
   ],
   "source": [
    "# Show the state vector of the quantum register\n",
    "show_statevector(qc)"
   ]
  },
  {
   "cell_type": "code",
   "execution_count": 20,
   "metadata": {},
   "outputs": [
    {
     "data": {
      "text/plain": [
       "Main.quantum_circuit.qc_initstruct(1, \"big-endian\", 2, 2, ComplexF64[0.6123724356957945 - 0.3535533905932737im, 0.6123724356957945 + 0.3535533905932737im], [0, 1])"
      ]
     },
     "metadata": {},
     "output_type": "display_data"
    }
   ],
   "source": [
    "# Apply the Rz gate as defined in the paper arXiv:2209.08187v1 [quant-ph] 16 Sep 2022\n",
    "# a gate from the Qgate library implemented from the paper \n",
    "# arXiv:2209.08187v1 [quant-ph] 16 Sep 2022\n",
    "# angle is phi = pi/3\n",
    "Rz_gate = Rz_gate1(pi/3)\n",
    "apply_op(qc, Rz_gate)"
   ]
  },
  {
   "cell_type": "code",
   "execution_count": 28,
   "metadata": {},
   "outputs": [
    {
     "name": "stdout",
     "output_type": "stream",
     "text": [
      "The initial state of the quantum register is: \n",
      "The initial state of the quantum register with the \n",
      "    quantum states in the computational basis is: \n",
      "0.8660254037844385 - 3.1116426608676864e-19im * | [0]>\n",
      "-3.875697631374195e-18 - 0.49999999999999983im * | [1]>\n"
     ]
    }
   ],
   "source": [
    "# Show the state vector of the quantum register\n",
    "show_statevector(qc)"
   ]
  },
  {
   "cell_type": "code",
   "execution_count": 23,
   "metadata": {},
   "outputs": [
    {
     "data": {
      "text/plain": [
       "Main.quantum_circuit.qc_initstruct(1, \"big-endian\", 2, 2, ComplexF64[0.8660254037844385 - 3.1116426608676864e-19im, -3.875697631374195e-18 - 0.49999999999999983im], [0, 1])"
      ]
     },
     "metadata": {},
     "output_type": "display_data"
    }
   ],
   "source": [
    "# Apply the Hadamard gate to the quantum register\n",
    "apply_op(qc, Hgate)"
   ]
  },
  {
   "cell_type": "code",
   "execution_count": 24,
   "metadata": {},
   "outputs": [
    {
     "name": "stdout",
     "output_type": "stream",
     "text": [
      "The initial state of the quantum register is: \n",
      "The initial state of the quantum register with the \n",
      "    quantum states in the computational basis is: \n",
      "0.8660254037844385 - 3.1116426608676864e-19im * | [0]>\n",
      "-3.875697631374195e-18 - 0.49999999999999983im * | [1]>\n"
     ]
    }
   ],
   "source": [
    "show_statevector(qc)"
   ]
  },
  {
   "cell_type": "markdown",
   "metadata": {},
   "source": [
    "The final state is expressed as \n",
    "$$\n",
    "|\\psi\\rangle=H R_Z(\\phi) H|0\\rangle\n",
    "$$\n",
    "\n",
    "In matrix notation: \n",
    "$$\n",
    "|\\psi\\rangle=\\frac{1}{2}\\left[\\begin{array}{l}\n",
    "e^{-i \\phi / 2}+e^{i \\phi / 2} \\\\\n",
    "e^{-i \\phi / 2}-e^{i \\phi / 2}\n",
    "\\end{array}\\right]=\\left[\\begin{array}{c}\n",
    "\\cos (\\phi / 2) \\\\\n",
    "-i \\sin (\\phi / 2)\n",
    "\\end{array}\\right]\n",
    "$$\n",
    "\n",
    "Here, the probabilities of measuring the final state of the circuit as $|0\\rangle$ and $|1\\rangle$ are given by $p_0=\\cos ^2(\\phi / 2)$ and $p_1=\\sin ^2(\\phi / 2)$, respectively."
   ]
  },
  {
   "cell_type": "markdown",
   "metadata": {},
   "source": [
    "We summarize the result of this measurement by defining the polarization operator $\\hat{P}$ such that the polarization is equal to -1 if we measure $|0\\rangle$ and equal to 1 if we measure $|1\\rangle$. Up to the overall sign, this is the $z$ coordinate of the Bloch vector. In matrix form, the polarization operator is\n",
    "$$\n",
    "\\hat{P}=\\left[\\begin{array}{cc}\n",
    "-1 & 0 \\\\\n",
    "0 & 1\n",
    "\\end{array}\\right] .\n",
    "$$\n",
    "For the final state $|\\psi\\rangle$ from Eq. (7), the expectation value of the polarization operator is\n",
    "$$\n",
    "\\langle\\psi|\\hat{P}| \\psi\\rangle=p_1-p_0=\\frac{1}{2} \\sin ^2(\\phi / 2)-\\frac{1}{2} \\cos ^2(\\phi / 2)=-\\cos \\phi\n",
    "$$"
   ]
  },
  {
   "cell_type": "markdown",
   "metadata": {},
   "source": [
    "The coefficients of state $|\\psi\\rangle$ expressed in the computational basis of a single qubit gives the probability of measuring the state $|0\\rangle$ or $|1\\rangle$.\n",
    "The average polarization is given by \n",
    "$$\n",
    "P = p_1 - p_0 \n",
    "$$ \n",
    "with each measurement outcome.  "
   ]
  },
  {
   "cell_type": "code",
   "execution_count": 25,
   "metadata": {},
   "outputs": [
    {
     "data": {
      "text/plain": [
       "5-element Vector{Float64}:\n",
       " 0.0\n",
       " 1.5707963267948966\n",
       " 3.141592653589793\n",
       " 4.71238898038469\n",
       " 6.283185307179586"
      ]
     },
     "metadata": {},
     "output_type": "display_data"
    }
   ],
   "source": [
    "phi_vec = [0,pi/2,pi,3*pi/2,2*pi]"
   ]
  },
  {
   "cell_type": "markdown",
   "metadata": {},
   "source": [
    "Use the exact simulator approach, we can calculate the average polarization for a given $\\phi$."
   ]
  },
  {
   "cell_type": "code",
   "execution_count": 26,
   "metadata": {},
   "outputs": [],
   "source": [
    "# calculate the polarization P for the phi_vec \n",
    "P = zeros(length(phi_vec))\n",
    "for iphi = 1:length(phi_vec)\n",
    "    phi = phi_vec[iphi]\n",
    "    p0 = cos(phi/2)^2\n",
    "    p1 = sin(phi/2)^2\n",
    "    P[iphi] = p0 - p1\n",
    "end"
   ]
  },
  {
   "cell_type": "code",
   "execution_count": 27,
   "metadata": {},
   "outputs": [
    {
     "data": {
      "image/png": "[encoded data removed]",
      "image/svg+xml": [
       "<?xml version=\"1.0\" encoding=\"utf-8\"?>\n",
       "<svg xmlns=\"http://www.w3.org/2000/svg\" xmlns:xlink=\"http://www.w3.org/1999/xlink\" width=\"600\" height=\"400\" viewBox=\"0 0 2400 1600\">\n",
       "<defs>\n",
       "  <clipPath id=\"clip470\">\n",
       "    <rect x=\"0\" y=\"0\" width=\"2400\" height=\"1600\"/>\n",
       "  </clipPath>\n",
       "</defs>\n",
       "<path clip-path=\"url(#clip470)\" d=\"M0 1600 L2400 1600 L2400 0 L0 0  Z\" fill=\"#ffffff\" fill-rule=\"evenodd\" fill-opacity=\"1\"/>\n",
       "<defs>\n",
       "  <clipPath id=\"clip471\">\n",
       "    <rect x=\"480\" y=\"0\" width=\"1681\" height=\"1600\"/>\n",
       "  </clipPath>\n",
       "</defs>\n",
       "<path clip-path=\"url(#clip470)\" d=\"M257.204 1423.18 L2352.76 1423.18 L2352.76 123.472 L257.204 123.472  Z\" fill=\"#ffffff\" fill-rule=\"evenodd\" fill-opacity=\"1\"/>\n",
       "<defs>\n",
       "  <clipPath id=\"clip472\">\n",
       "    <rect x=\"257\" y=\"123\" width=\"2097\" height=\"1301\"/>\n",
       "  </clipPath>\n",
       "</defs>\n",
       "<polyline clip-path=\"url(#clip472)\" style=\"stroke:#000000; stroke-linecap:round; stroke-linejoin:round; stroke-width:2; stroke-opacity:0.1; fill:none\" points=\"316.512,1423.18 316.512,123.472 \"/>\n",
       "<polyline clip-path=\"url(#clip472)\" style=\"stroke:#000000; stroke-linecap:round; stroke-linejoin:round; stroke-width:2; stroke-opacity:0.1; fill:none\" points=\"631.151,1423.18 631.151,123.472 \"/>\n",
       "<polyline clip-path=\"url(#clip472)\" style=\"stroke:#000000; stroke-linecap:round; stroke-linejoin:round; stroke-width:2; stroke-opacity:0.1; fill:none\" points=\"945.79,1423.18 945.79,123.472 \"/>\n",
       "<polyline clip-path=\"url(#clip472)\" style=\"stroke:#000000; stroke-linecap:round; stroke-linejoin:round; stroke-width:2; stroke-opacity:0.1; fill:none\" points=\"1260.43,1423.18 1260.43,123.472 \"/>\n",
       "<polyline clip-path=\"url(#clip472)\" style=\"stroke:#000000; stroke-linecap:round; stroke-linejoin:round; stroke-width:2; stroke-opacity:0.1; fill:none\" points=\"1575.07,1423.18 1575.07,123.472 \"/>\n",
       "<polyline clip-path=\"url(#clip472)\" style=\"stroke:#000000; stroke-linecap:round; stroke-linejoin:round; stroke-width:2; stroke-opacity:0.1; fill:none\" points=\"1889.71,1423.18 1889.71,123.472 \"/>\n",
       "<polyline clip-path=\"url(#clip472)\" style=\"stroke:#000000; stroke-linecap:round; stroke-linejoin:round; stroke-width:2; stroke-opacity:0.1; fill:none\" points=\"2204.35,1423.18 2204.35,123.472 \"/>\n",
       "<polyline clip-path=\"url(#clip470)\" style=\"stroke:#000000; stroke-linecap:round; stroke-linejoin:round; stroke-width:4; stroke-opacity:1; fill:none\" points=\"257.204,1423.18 2352.76,1423.18 \"/>\n",
       "<polyline clip-path=\"url(#clip470)\" style=\"stroke:#000000; stroke-linecap:round; stroke-linejoin:round; stroke-width:4; stroke-opacity:1; fill:none\" points=\"316.512,1423.18 316.512,1404.28 \"/>\n",
       "<polyline clip-path=\"url(#clip470)\" style=\"stroke:#000000; stroke-linecap:round; stroke-linejoin:round; stroke-width:4; stroke-opacity:1; fill:none\" points=\"631.151,1423.18 631.151,1404.28 \"/>\n",
       "<polyline clip-path=\"url(#clip470)\" style=\"stroke:#000000; stroke-linecap:round; stroke-linejoin:round; stroke-width:4; stroke-opacity:1; fill:none\" points=\"945.79,1423.18 945.79,1404.28 \"/>\n",
       "<polyline clip-path=\"url(#clip470)\" style=\"stroke:#000000; stroke-linecap:round; stroke-linejoin:round; stroke-width:4; stroke-opacity:1; fill:none\" points=\"1260.43,1423.18 1260.43,1404.28 \"/>\n",
       "<polyline clip-path=\"url(#clip470)\" style=\"stroke:#000000; stroke-linecap:round; stroke-linejoin:round; stroke-width:4; stroke-opacity:1; fill:none\" points=\"1575.07,1423.18 1575.07,1404.28 \"/>\n",
       "<polyline clip-path=\"url(#clip470)\" style=\"stroke:#000000; stroke-linecap:round; stroke-linejoin:round; stroke-width:4; stroke-opacity:1; fill:none\" points=\"1889.71,1423.18 1889.71,1404.28 \"/>\n",
       "<polyline clip-path=\"url(#clip470)\" style=\"stroke:#000000; stroke-linecap:round; stroke-linejoin:round; stroke-width:4; stroke-opacity:1; fill:none\" points=\"2204.35,1423.18 2204.35,1404.28 \"/>\n",
       "<path clip-path=\"url(#clip470)\" d=\"M316.512 1454.1 Q312.901 1454.1 311.072 1457.66 Q309.267 1461.2 309.267 1468.33 Q309.267 1475.44 311.072 1479.01 Q312.901 1482.55 316.512 1482.55 Q320.146 1482.55 321.952 1479.01 Q323.781 1475.44 323.781 1468.33 Q323.781 1461.2 321.952 1457.66 Q320.146 1454.1 316.512 1454.1 M316.512 1450.39 Q322.322 1450.39 325.378 1455 Q328.456 1459.58 328.456 1468.33 Q328.456 1477.06 325.378 1481.67 Q322.322 1486.25 316.512 1486.25 Q310.702 1486.25 307.623 1481.67 Q304.568 1477.06 304.568 1468.33 Q304.568 1459.58 307.623 1455 Q310.702 1450.39 316.512 1450.39 Z\" fill=\"#000000\" fill-rule=\"nonzero\" fill-opacity=\"1\" /><path clip-path=\"url(#clip470)\" d=\"M621.533 1481.64 L629.172 1481.64 L629.172 1455.28 L620.862 1456.95 L620.862 1452.69 L629.126 1451.02 L633.802 1451.02 L633.802 1481.64 L641.44 1481.64 L641.44 1485.58 L621.533 1485.58 L621.533 1481.64 Z\" fill=\"#000000\" fill-rule=\"nonzero\" fill-opacity=\"1\" /><path clip-path=\"url(#clip470)\" d=\"M940.443 1481.64 L956.762 1481.64 L956.762 1485.58 L934.818 1485.58 L934.818 1481.64 Q937.48 1478.89 942.063 1474.26 Q946.67 1469.61 947.85 1468.27 Q950.096 1465.74 950.975 1464.01 Q951.878 1462.25 951.878 1460.56 Q951.878 1457.8 949.934 1456.07 Q948.012 1454.33 944.911 1454.33 Q942.712 1454.33 940.258 1455.09 Q937.827 1455.86 935.05 1457.41 L935.05 1452.69 Q937.874 1451.55 940.327 1450.97 Q942.781 1450.39 944.818 1450.39 Q950.188 1450.39 953.383 1453.08 Q956.577 1455.77 956.577 1460.26 Q956.577 1462.39 955.767 1464.31 Q954.98 1466.2 952.874 1468.8 Q952.295 1469.47 949.193 1472.69 Q946.091 1475.88 940.443 1481.64 Z\" fill=\"#000000\" fill-rule=\"nonzero\" fill-opacity=\"1\" /><path clip-path=\"url(#clip470)\" d=\"M1264.68 1466.95 Q1268.03 1467.66 1269.91 1469.93 Q1271.81 1472.2 1271.81 1475.53 Q1271.81 1480.65 1268.29 1483.45 Q1264.77 1486.25 1258.29 1486.25 Q1256.11 1486.25 1253.8 1485.81 Q1251.51 1485.39 1249.05 1484.54 L1249.05 1480.02 Q1251 1481.16 1253.31 1481.74 Q1255.63 1482.32 1258.15 1482.32 Q1262.55 1482.32 1264.84 1480.58 Q1267.15 1478.84 1267.15 1475.53 Q1267.15 1472.48 1265 1470.77 Q1262.87 1469.03 1259.05 1469.03 L1255.02 1469.03 L1255.02 1465.19 L1259.24 1465.19 Q1262.69 1465.19 1264.52 1463.82 Q1266.34 1462.43 1266.34 1459.84 Q1266.34 1457.18 1264.45 1455.77 Q1262.57 1454.33 1259.05 1454.33 Q1257.13 1454.33 1254.93 1454.75 Q1252.73 1455.16 1250.09 1456.04 L1250.09 1451.88 Q1252.76 1451.14 1255.07 1450.77 Q1257.41 1450.39 1259.47 1450.39 Q1264.79 1450.39 1267.89 1452.83 Q1271 1455.23 1271 1459.35 Q1271 1462.22 1269.35 1464.21 Q1267.71 1466.18 1264.68 1466.95 Z\" fill=\"#000000\" fill-rule=\"nonzero\" fill-opacity=\"1\" /><path clip-path=\"url(#clip470)\" d=\"M1578.08 1455.09 L1566.27 1473.54 L1578.08 1473.54 L1578.08 1455.09 M1576.85 1451.02 L1582.73 1451.02 L1582.73 1473.54 L1587.66 1473.54 L1587.66 1477.43 L1582.73 1477.43 L1582.73 1485.58 L1578.08 1485.58 L1578.08 1477.43 L1562.48 1477.43 L1562.48 1472.92 L1576.85 1451.02 Z\" fill=\"#000000\" fill-rule=\"nonzero\" fill-opacity=\"1\" /><path clip-path=\"url(#clip470)\" d=\"M1879.99 1451.02 L1898.34 1451.02 L1898.34 1454.96 L1884.27 1454.96 L1884.27 1463.43 Q1885.29 1463.08 1886.3 1462.92 Q1887.32 1462.73 1888.34 1462.73 Q1894.13 1462.73 1897.51 1465.9 Q1900.89 1469.08 1900.89 1474.49 Q1900.89 1480.07 1897.42 1483.17 Q1893.94 1486.25 1887.62 1486.25 Q1885.45 1486.25 1883.18 1485.88 Q1880.93 1485.51 1878.53 1484.77 L1878.53 1480.07 Q1880.61 1481.2 1882.83 1481.76 Q1885.05 1482.32 1887.53 1482.32 Q1891.54 1482.32 1893.87 1480.21 Q1896.21 1478.1 1896.21 1474.49 Q1896.21 1470.88 1893.87 1468.77 Q1891.54 1466.67 1887.53 1466.67 Q1885.66 1466.67 1883.78 1467.08 Q1881.93 1467.5 1879.99 1468.38 L1879.99 1451.02 Z\" fill=\"#000000\" fill-rule=\"nonzero\" fill-opacity=\"1\" /><path clip-path=\"url(#clip470)\" d=\"M2204.75 1466.44 Q2201.6 1466.44 2199.75 1468.59 Q2197.92 1470.74 2197.92 1474.49 Q2197.92 1478.22 2199.75 1480.39 Q2201.6 1482.55 2204.75 1482.55 Q2207.9 1482.55 2209.73 1480.39 Q2211.58 1478.22 2211.58 1474.49 Q2211.58 1470.74 2209.73 1468.59 Q2207.9 1466.44 2204.75 1466.44 M2214.03 1451.78 L2214.03 1456.04 Q2212.27 1455.21 2210.47 1454.77 Q2208.69 1454.33 2206.93 1454.33 Q2202.3 1454.33 2199.84 1457.45 Q2197.41 1460.58 2197.07 1466.9 Q2198.43 1464.89 2200.49 1463.82 Q2202.55 1462.73 2205.03 1462.73 Q2210.24 1462.73 2213.25 1465.9 Q2216.28 1469.05 2216.28 1474.49 Q2216.28 1479.82 2213.13 1483.03 Q2209.98 1486.25 2204.75 1486.25 Q2198.76 1486.25 2195.59 1481.67 Q2192.41 1477.06 2192.41 1468.33 Q2192.41 1460.14 2196.3 1455.28 Q2200.19 1450.39 2206.74 1450.39 Q2208.5 1450.39 2210.28 1450.74 Q2212.09 1451.09 2214.03 1451.78 Z\" fill=\"#000000\" fill-rule=\"nonzero\" fill-opacity=\"1\" /><path clip-path=\"url(#clip470)\" d=\"M1266.48 1562.7 L1266.48 1581.6 L1260.6 1581.6 L1260.6 1532.4 L1266.48 1532.4 L1266.48 1537.81 Q1268.33 1534.62 1271.13 1533.1 Q1273.96 1531.54 1277.88 1531.54 Q1284.37 1531.54 1288.41 1536.69 Q1292.49 1541.85 1292.49 1550.25 Q1292.49 1558.65 1288.41 1563.81 Q1284.37 1568.97 1277.88 1568.97 Q1273.96 1568.97 1271.13 1567.44 Q1268.33 1565.88 1266.48 1562.7 M1286.41 1550.25 Q1286.41 1543.79 1283.73 1540.13 Q1281.09 1536.44 1276.45 1536.44 Q1271.8 1536.44 1269.13 1540.13 Q1266.48 1543.79 1266.48 1550.25 Q1266.48 1556.71 1269.13 1560.4 Q1271.8 1564.07 1276.45 1564.07 Q1281.09 1564.07 1283.73 1560.4 Q1286.41 1556.71 1286.41 1550.25 Z\" fill=\"#000000\" fill-rule=\"nonzero\" fill-opacity=\"1\" /><path clip-path=\"url(#clip470)\" d=\"M1331.83 1546.53 L1331.83 1568.04 L1325.97 1568.04 L1325.97 1546.72 Q1325.97 1541.66 1324 1539.14 Q1322.02 1536.63 1318.08 1536.63 Q1313.33 1536.63 1310.6 1539.65 Q1307.86 1542.68 1307.86 1547.9 L1307.86 1568.04 L1301.97 1568.04 L1301.97 1518.52 L1307.86 1518.52 L1307.86 1537.93 Q1309.96 1534.72 1312.79 1533.13 Q1315.66 1531.54 1319.38 1531.54 Q1325.53 1531.54 1328.68 1535.36 Q1331.83 1539.14 1331.83 1546.53 Z\" fill=\"#000000\" fill-rule=\"nonzero\" fill-opacity=\"1\" /><path clip-path=\"url(#clip470)\" d=\"M1343.51 1532.4 L1349.36 1532.4 L1349.36 1568.04 L1343.51 1568.04 L1343.51 1532.4 M1343.51 1518.52 L1349.36 1518.52 L1349.36 1525.93 L1343.51 1525.93 L1343.51 1518.52 Z\" fill=\"#000000\" fill-rule=\"nonzero\" fill-opacity=\"1\" /><polyline clip-path=\"url(#clip472)\" style=\"stroke:#000000; stroke-linecap:round; stroke-linejoin:round; stroke-width:2; stroke-opacity:0.1; fill:none\" points=\"257.204,1386.4 2352.76,1386.4 \"/>\n",
       "<polyline clip-path=\"url(#clip472)\" style=\"stroke:#000000; stroke-linecap:round; stroke-linejoin:round; stroke-width:2; stroke-opacity:0.1; fill:none\" points=\"257.204,1079.86 2352.76,1079.86 \"/>\n",
       "<polyline clip-path=\"url(#clip472)\" style=\"stroke:#000000; stroke-linecap:round; stroke-linejoin:round; stroke-width:2; stroke-opacity:0.1; fill:none\" points=\"257.204,773.326 2352.76,773.326 \"/>\n",
       "<polyline clip-path=\"url(#clip472)\" style=\"stroke:#000000; stroke-linecap:round; stroke-linejoin:round; stroke-width:2; stroke-opacity:0.1; fill:none\" points=\"257.204,466.791 2352.76,466.791 \"/>\n",
       "<polyline clip-path=\"url(#clip472)\" style=\"stroke:#000000; stroke-linecap:round; stroke-linejoin:round; stroke-width:2; stroke-opacity:0.1; fill:none\" points=\"257.204,160.256 2352.76,160.256 \"/>\n",
       "<polyline clip-path=\"url(#clip470)\" style=\"stroke:#000000; stroke-linecap:round; stroke-linejoin:round; stroke-width:4; stroke-opacity:1; fill:none\" points=\"257.204,1423.18 257.204,123.472 \"/>\n",
       "<polyline clip-path=\"url(#clip470)\" style=\"stroke:#000000; stroke-linecap:round; stroke-linejoin:round; stroke-width:4; stroke-opacity:1; fill:none\" points=\"257.204,1386.4 276.102,1386.4 \"/>\n",
       "<polyline clip-path=\"url(#clip470)\" style=\"stroke:#000000; stroke-linecap:round; stroke-linejoin:round; stroke-width:4; stroke-opacity:1; fill:none\" points=\"257.204,1079.86 276.102,1079.86 \"/>\n",
       "<polyline clip-path=\"url(#clip470)\" style=\"stroke:#000000; stroke-linecap:round; stroke-linejoin:round; stroke-width:4; stroke-opacity:1; fill:none\" points=\"257.204,773.326 276.102,773.326 \"/>\n",
       "<polyline clip-path=\"url(#clip470)\" style=\"stroke:#000000; stroke-linecap:round; stroke-linejoin:round; stroke-width:4; stroke-opacity:1; fill:none\" points=\"257.204,466.791 276.102,466.791 \"/>\n",
       "<polyline clip-path=\"url(#clip470)\" style=\"stroke:#000000; stroke-linecap:round; stroke-linejoin:round; stroke-width:4; stroke-opacity:1; fill:none\" points=\"257.204,160.256 276.102,160.256 \"/>\n",
       "<path clip-path=\"url(#clip470)\" d=\"M114.26 1386.85 L143.936 1386.85 L143.936 1390.78 L114.26 1390.78 L114.26 1386.85 Z\" fill=\"#000000\" fill-rule=\"nonzero\" fill-opacity=\"1\" /><path clip-path=\"url(#clip470)\" d=\"M154.839 1399.74 L162.477 1399.74 L162.477 1373.37 L154.167 1375.04 L154.167 1370.78 L162.431 1369.12 L167.107 1369.12 L167.107 1399.74 L174.746 1399.74 L174.746 1403.68 L154.839 1403.68 L154.839 1399.74 Z\" fill=\"#000000\" fill-rule=\"nonzero\" fill-opacity=\"1\" /><path clip-path=\"url(#clip470)\" d=\"M184.19 1397.8 L189.075 1397.8 L189.075 1403.68 L184.19 1403.68 L184.19 1397.8 Z\" fill=\"#000000\" fill-rule=\"nonzero\" fill-opacity=\"1\" /><path clip-path=\"url(#clip470)\" d=\"M209.26 1372.19 Q205.649 1372.19 203.82 1375.76 Q202.014 1379.3 202.014 1386.43 Q202.014 1393.54 203.82 1397.1 Q205.649 1400.64 209.26 1400.64 Q212.894 1400.64 214.699 1397.1 Q216.528 1393.54 216.528 1386.43 Q216.528 1379.3 214.699 1375.76 Q212.894 1372.19 209.26 1372.19 M209.26 1368.49 Q215.07 1368.49 218.125 1373.1 Q221.204 1377.68 221.204 1386.43 Q221.204 1395.16 218.125 1399.76 Q215.07 1404.35 209.26 1404.35 Q203.449 1404.35 200.371 1399.76 Q197.315 1395.16 197.315 1386.43 Q197.315 1377.68 200.371 1373.1 Q203.449 1368.49 209.26 1368.49 Z\" fill=\"#000000\" fill-rule=\"nonzero\" fill-opacity=\"1\" /><path clip-path=\"url(#clip470)\" d=\"M115.256 1080.31 L144.931 1080.31 L144.931 1084.25 L115.256 1084.25 L115.256 1080.31 Z\" fill=\"#000000\" fill-rule=\"nonzero\" fill-opacity=\"1\" /><path clip-path=\"url(#clip470)\" d=\"M165.024 1065.66 Q161.413 1065.66 159.584 1069.22 Q157.778 1072.77 157.778 1079.9 Q157.778 1087 159.584 1090.57 Q161.413 1094.11 165.024 1094.11 Q168.658 1094.11 170.464 1090.57 Q172.292 1087 172.292 1079.9 Q172.292 1072.77 170.464 1069.22 Q168.658 1065.66 165.024 1065.66 M165.024 1061.96 Q170.834 1061.96 173.889 1066.56 Q176.968 1071.15 176.968 1079.9 Q176.968 1088.62 173.889 1093.23 Q170.834 1097.81 165.024 1097.81 Q159.214 1097.81 156.135 1093.23 Q153.079 1088.62 153.079 1079.9 Q153.079 1071.15 156.135 1066.56 Q159.214 1061.96 165.024 1061.96 Z\" fill=\"#000000\" fill-rule=\"nonzero\" fill-opacity=\"1\" /><path clip-path=\"url(#clip470)\" d=\"M185.186 1091.26 L190.07 1091.26 L190.07 1097.14 L185.186 1097.14 L185.186 1091.26 Z\" fill=\"#000000\" fill-rule=\"nonzero\" fill-opacity=\"1\" /><path clip-path=\"url(#clip470)\" d=\"M200.301 1062.58 L218.658 1062.58 L218.658 1066.52 L204.584 1066.52 L204.584 1074.99 Q205.602 1074.64 206.621 1074.48 Q207.639 1074.29 208.658 1074.29 Q214.445 1074.29 217.824 1077.47 Q221.204 1080.64 221.204 1086.05 Q221.204 1091.63 217.732 1094.73 Q214.26 1097.81 207.94 1097.81 Q205.764 1097.81 203.496 1097.44 Q201.25 1097.07 198.843 1096.33 L198.843 1091.63 Q200.926 1092.77 203.149 1093.32 Q205.371 1093.88 207.848 1093.88 Q211.852 1093.88 214.19 1091.77 Q216.528 1089.66 216.528 1086.05 Q216.528 1082.44 214.19 1080.34 Q211.852 1078.23 207.848 1078.23 Q205.973 1078.23 204.098 1078.65 Q202.246 1079.06 200.301 1079.94 L200.301 1062.58 Z\" fill=\"#000000\" fill-rule=\"nonzero\" fill-opacity=\"1\" /><path clip-path=\"url(#clip470)\" d=\"M164.028 759.125 Q160.417 759.125 158.589 762.689 Q156.783 766.231 156.783 773.361 Q156.783 780.467 158.589 784.032 Q160.417 787.574 164.028 787.574 Q167.663 787.574 169.468 784.032 Q171.297 780.467 171.297 773.361 Q171.297 766.231 169.468 762.689 Q167.663 759.125 164.028 759.125 M164.028 755.421 Q169.839 755.421 172.894 760.027 Q175.973 764.611 175.973 773.361 Q175.973 782.088 172.894 786.694 Q169.839 791.277 164.028 791.277 Q158.218 791.277 155.14 786.694 Q152.084 782.088 152.084 773.361 Q152.084 764.611 155.14 760.027 Q158.218 755.421 164.028 755.421 Z\" fill=\"#000000\" fill-rule=\"nonzero\" fill-opacity=\"1\" /><path clip-path=\"url(#clip470)\" d=\"M184.19 784.726 L189.075 784.726 L189.075 790.606 L184.19 790.606 L184.19 784.726 Z\" fill=\"#000000\" fill-rule=\"nonzero\" fill-opacity=\"1\" /><path clip-path=\"url(#clip470)\" d=\"M209.26 759.125 Q205.649 759.125 203.82 762.689 Q202.014 766.231 202.014 773.361 Q202.014 780.467 203.82 784.032 Q205.649 787.574 209.26 787.574 Q212.894 787.574 214.699 784.032 Q216.528 780.467 216.528 773.361 Q216.528 766.231 214.699 762.689 Q212.894 759.125 209.26 759.125 M209.26 755.421 Q215.07 755.421 218.125 760.027 Q221.204 764.611 221.204 773.361 Q221.204 782.088 218.125 786.694 Q215.07 791.277 209.26 791.277 Q203.449 791.277 200.371 786.694 Q197.315 782.088 197.315 773.361 Q197.315 764.611 200.371 760.027 Q203.449 755.421 209.26 755.421 Z\" fill=\"#000000\" fill-rule=\"nonzero\" fill-opacity=\"1\" /><path clip-path=\"url(#clip470)\" d=\"M165.024 452.59 Q161.413 452.59 159.584 456.155 Q157.778 459.696 157.778 466.826 Q157.778 473.932 159.584 477.497 Q161.413 481.039 165.024 481.039 Q168.658 481.039 170.464 477.497 Q172.292 473.932 172.292 466.826 Q172.292 459.696 170.464 456.155 Q168.658 452.59 165.024 452.59 M165.024 448.886 Q170.834 448.886 173.889 453.493 Q176.968 458.076 176.968 466.826 Q176.968 475.553 173.889 480.159 Q170.834 484.742 165.024 484.742 Q159.214 484.742 156.135 480.159 Q153.079 475.553 153.079 466.826 Q153.079 458.076 156.135 453.493 Q159.214 448.886 165.024 448.886 Z\" fill=\"#000000\" fill-rule=\"nonzero\" fill-opacity=\"1\" /><path clip-path=\"url(#clip470)\" d=\"M185.186 478.192 L190.07 478.192 L190.07 484.071 L185.186 484.071 L185.186 478.192 Z\" fill=\"#000000\" fill-rule=\"nonzero\" fill-opacity=\"1\" /><path clip-path=\"url(#clip470)\" d=\"M200.301 449.511 L218.658 449.511 L218.658 453.446 L204.584 453.446 L204.584 461.918 Q205.602 461.571 206.621 461.409 Q207.639 461.224 208.658 461.224 Q214.445 461.224 217.824 464.395 Q221.204 467.567 221.204 472.983 Q221.204 478.562 217.732 481.664 Q214.26 484.742 207.94 484.742 Q205.764 484.742 203.496 484.372 Q201.25 484.002 198.843 483.261 L198.843 478.562 Q200.926 479.696 203.149 480.252 Q205.371 480.807 207.848 480.807 Q211.852 480.807 214.19 478.701 Q216.528 476.594 216.528 472.983 Q216.528 469.372 214.19 467.266 Q211.852 465.159 207.848 465.159 Q205.973 465.159 204.098 465.576 Q202.246 465.993 200.301 466.872 L200.301 449.511 Z\" fill=\"#000000\" fill-rule=\"nonzero\" fill-opacity=\"1\" /><path clip-path=\"url(#clip470)\" d=\"M154.839 173.601 L162.477 173.601 L162.477 147.236 L154.167 148.902 L154.167 144.643 L162.431 142.976 L167.107 142.976 L167.107 173.601 L174.746 173.601 L174.746 177.536 L154.839 177.536 L154.839 173.601 Z\" fill=\"#000000\" fill-rule=\"nonzero\" fill-opacity=\"1\" /><path clip-path=\"url(#clip470)\" d=\"M184.19 171.657 L189.075 171.657 L189.075 177.536 L184.19 177.536 L184.19 171.657 Z\" fill=\"#000000\" fill-rule=\"nonzero\" fill-opacity=\"1\" /><path clip-path=\"url(#clip470)\" d=\"M209.26 146.055 Q205.649 146.055 203.82 149.62 Q202.014 153.161 202.014 160.291 Q202.014 167.397 203.82 170.962 Q205.649 174.504 209.26 174.504 Q212.894 174.504 214.699 170.962 Q216.528 167.397 216.528 160.291 Q216.528 153.161 214.699 149.62 Q212.894 146.055 209.26 146.055 M209.26 142.351 Q215.07 142.351 218.125 146.958 Q221.204 151.541 221.204 160.291 Q221.204 169.018 218.125 173.624 Q215.07 178.208 209.26 178.208 Q203.449 178.208 200.371 173.624 Q197.315 169.018 197.315 160.291 Q197.315 151.541 200.371 146.958 Q203.449 142.351 209.26 142.351 Z\" fill=\"#000000\" fill-rule=\"nonzero\" fill-opacity=\"1\" /><path clip-path=\"url(#clip470)\" d=\"M21.7677 782.238 L39.6235 782.238 L39.6235 774.154 Q39.6235 769.666 37.3 767.215 Q34.9765 764.764 30.6797 764.764 Q26.4147 764.764 24.0912 767.215 Q21.7677 769.666 21.7677 774.154 L21.7677 782.238 M16.4842 788.667 L16.4842 774.154 Q16.4842 766.165 20.1126 762.091 Q23.7092 757.985 30.6797 757.985 Q37.7138 757.985 41.3104 762.091 Q44.907 766.165 44.907 774.154 L44.907 782.238 L64.0042 782.238 L64.0042 788.667 L16.4842 788.667 Z\" fill=\"#000000\" fill-rule=\"nonzero\" fill-opacity=\"1\" /><path clip-path=\"url(#clip470)\" d=\"M668.077 18.8205 L668.077 41.5461 L678.366 41.5461 Q684.078 41.5461 687.197 38.5889 Q690.316 35.6318 690.316 30.163 Q690.316 24.7348 687.197 21.7777 Q684.078 18.8205 678.366 18.8205 L668.077 18.8205 M659.894 12.096 L678.366 12.096 Q688.534 12.096 693.719 16.714 Q698.944 21.2916 698.944 30.163 Q698.944 39.1155 693.719 43.6931 Q688.534 48.2706 678.366 48.2706 L668.077 48.2706 L668.077 72.576 L659.894 72.576 L659.894 12.096 Z\" fill=\"#000000\" fill-rule=\"nonzero\" fill-opacity=\"1\" /><path clip-path=\"url(#clip470)\" d=\"M724.222 32.4315 Q718.227 32.4315 714.743 37.1306 Q711.259 41.7891 711.259 49.9314 Q711.259 58.0738 714.702 62.7728 Q718.186 67.4314 724.222 67.4314 Q730.177 67.4314 733.661 62.7323 Q737.144 58.0333 737.144 49.9314 Q737.144 41.8701 733.661 37.1711 Q730.177 32.4315 724.222 32.4315 M724.222 26.1121 Q733.944 26.1121 739.494 32.4315 Q745.044 38.7509 745.044 49.9314 Q745.044 61.0714 739.494 67.4314 Q733.944 73.7508 724.222 73.7508 Q714.459 73.7508 708.91 67.4314 Q703.4 61.0714 703.4 49.9314 Q703.4 38.7509 708.91 32.4315 Q714.459 26.1121 724.222 26.1121 Z\" fill=\"#000000\" fill-rule=\"nonzero\" fill-opacity=\"1\" /><path clip-path=\"url(#clip470)\" d=\"M757.399 9.54393 L764.853 9.54393 L764.853 72.576 L757.399 72.576 L757.399 9.54393 Z\" fill=\"#000000\" fill-rule=\"nonzero\" fill-opacity=\"1\" /><path clip-path=\"url(#clip470)\" d=\"M801.068 49.7694 Q792.034 49.7694 788.55 51.8354 Q785.067 53.9013 785.067 58.8839 Q785.067 62.8538 787.659 65.2034 Q790.292 67.5124 794.789 67.5124 Q800.987 67.5124 804.714 63.1374 Q808.481 58.7219 808.481 51.4303 L808.481 49.7694 L801.068 49.7694 M815.935 46.6907 L815.935 72.576 L808.481 72.576 L808.481 65.6895 Q805.929 69.8214 802.121 71.8063 Q798.313 73.7508 792.804 73.7508 Q785.836 73.7508 781.704 69.8619 Q777.613 65.9325 777.613 59.3701 Q777.613 51.7138 782.717 47.825 Q787.862 43.9361 798.03 43.9361 L808.481 43.9361 L808.481 43.2069 Q808.481 38.0623 805.078 35.2672 Q801.716 32.4315 795.599 32.4315 Q791.71 32.4315 788.024 33.3632 Q784.338 34.295 780.935 36.1584 L780.935 29.2718 Q785.026 27.692 788.875 26.9223 Q792.723 26.1121 796.369 26.1121 Q806.212 26.1121 811.073 31.2163 Q815.935 36.3204 815.935 46.6907 Z\" fill=\"#000000\" fill-rule=\"nonzero\" fill-opacity=\"1\" /><path clip-path=\"url(#clip470)\" d=\"M857.578 34.1734 Q856.322 33.4443 854.823 33.1202 Q853.365 32.7556 851.583 32.7556 Q845.263 32.7556 841.86 36.8875 Q838.498 40.9789 838.498 48.6757 L838.498 72.576 L831.004 72.576 L831.004 27.2059 L838.498 27.2059 L838.498 34.2544 Q840.848 30.1225 844.615 28.1376 Q848.382 26.1121 853.77 26.1121 Q854.54 26.1121 855.471 26.2337 Q856.403 26.3147 857.537 26.5172 L857.578 34.1734 Z\" fill=\"#000000\" fill-rule=\"nonzero\" fill-opacity=\"1\" /><path clip-path=\"url(#clip470)\" d=\"M865.396 27.2059 L872.85 27.2059 L872.85 72.576 L865.396 72.576 L865.396 27.2059 M865.396 9.54393 L872.85 9.54393 L872.85 18.9825 L865.396 18.9825 L865.396 9.54393 Z\" fill=\"#000000\" fill-rule=\"nonzero\" fill-opacity=\"1\" /><path clip-path=\"url(#clip470)\" d=\"M885.205 27.2059 L920.61 27.2059 L920.61 34.0114 L892.578 66.6212 L920.61 66.6212 L920.61 72.576 L884.192 72.576 L884.192 65.7705 L912.225 33.1607 L885.205 33.1607 L885.205 27.2059 Z\" fill=\"#000000\" fill-rule=\"nonzero\" fill-opacity=\"1\" /><path clip-path=\"url(#clip470)\" d=\"M952.612 49.7694 Q943.579 49.7694 940.095 51.8354 Q936.611 53.9013 936.611 58.8839 Q936.611 62.8538 939.204 65.2034 Q941.837 67.5124 946.333 67.5124 Q952.531 67.5124 956.258 63.1374 Q960.025 58.7219 960.025 51.4303 L960.025 49.7694 L952.612 49.7694 M967.479 46.6907 L967.479 72.576 L960.025 72.576 L960.025 65.6895 Q957.473 69.8214 953.665 71.8063 Q949.857 73.7508 944.348 73.7508 Q937.381 73.7508 933.249 69.8619 Q929.157 65.9325 929.157 59.3701 Q929.157 51.7138 934.261 47.825 Q939.406 43.9361 949.574 43.9361 L960.025 43.9361 L960.025 43.2069 Q960.025 38.0623 956.622 35.2672 Q953.26 32.4315 947.143 32.4315 Q943.254 32.4315 939.568 33.3632 Q935.882 34.295 932.479 36.1584 L932.479 29.2718 Q936.57 27.692 940.419 26.9223 Q944.267 26.1121 947.913 26.1121 Q957.757 26.1121 962.618 31.2163 Q967.479 36.3204 967.479 46.6907 Z\" fill=\"#000000\" fill-rule=\"nonzero\" fill-opacity=\"1\" /><path clip-path=\"url(#clip470)\" d=\"M990.204 14.324 L990.204 27.2059 L1005.56 27.2059 L1005.56 32.9987 L990.204 32.9987 L990.204 57.6282 Q990.204 63.1779 991.703 64.7578 Q993.243 66.3376 997.901 66.3376 L1005.56 66.3376 L1005.56 72.576 L997.901 72.576 Q989.273 72.576 985.992 69.3758 Q982.71 66.1351 982.71 57.6282 L982.71 32.9987 L977.242 32.9987 L977.242 27.2059 L982.71 27.2059 L982.71 14.324 L990.204 14.324 Z\" fill=\"#000000\" fill-rule=\"nonzero\" fill-opacity=\"1\" /><path clip-path=\"url(#clip470)\" d=\"M1015.36 27.2059 L1022.81 27.2059 L1022.81 72.576 L1015.36 72.576 L1015.36 27.2059 M1015.36 9.54393 L1022.81 9.54393 L1022.81 18.9825 L1015.36 18.9825 L1015.36 9.54393 Z\" fill=\"#000000\" fill-rule=\"nonzero\" fill-opacity=\"1\" /><path clip-path=\"url(#clip470)\" d=\"M1055.99 32.4315 Q1050 32.4315 1046.51 37.1306 Q1043.03 41.7891 1043.03 49.9314 Q1043.03 58.0738 1046.47 62.7728 Q1049.96 67.4314 1055.99 67.4314 Q1061.95 67.4314 1065.43 62.7323 Q1068.91 58.0333 1068.91 49.9314 Q1068.91 41.8701 1065.43 37.1711 Q1061.95 32.4315 1055.99 32.4315 M1055.99 26.1121 Q1065.71 26.1121 1071.26 32.4315 Q1076.81 38.7509 1076.81 49.9314 Q1076.81 61.0714 1071.26 67.4314 Q1065.71 73.7508 1055.99 73.7508 Q1046.23 73.7508 1040.68 67.4314 Q1035.17 61.0714 1035.17 49.9314 Q1035.17 38.7509 1040.68 32.4315 Q1046.23 26.1121 1055.99 26.1121 Z\" fill=\"#000000\" fill-rule=\"nonzero\" fill-opacity=\"1\" /><path clip-path=\"url(#clip470)\" d=\"M1126.88 45.1919 L1126.88 72.576 L1119.43 72.576 L1119.43 45.4349 Q1119.43 38.994 1116.92 35.7938 Q1114.41 32.5936 1109.38 32.5936 Q1103.35 32.5936 1099.86 36.4419 Q1096.38 40.2903 1096.38 46.9338 L1096.38 72.576 L1088.88 72.576 L1088.88 27.2059 L1096.38 27.2059 L1096.38 34.2544 Q1099.05 30.163 1102.66 28.1376 Q1106.3 26.1121 1111.04 26.1121 Q1118.86 26.1121 1122.87 30.9732 Q1126.88 35.7938 1126.88 45.1919 Z\" fill=\"#000000\" fill-rule=\"nonzero\" fill-opacity=\"1\" /><path clip-path=\"url(#clip470)\" d=\"M1188.74 49.7694 Q1179.71 49.7694 1176.22 51.8354 Q1172.74 53.9013 1172.74 58.8839 Q1172.74 62.8538 1175.33 65.2034 Q1177.96 67.5124 1182.46 67.5124 Q1188.66 67.5124 1192.39 63.1374 Q1196.15 58.7219 1196.15 51.4303 L1196.15 49.7694 L1188.74 49.7694 M1203.61 46.6907 L1203.61 72.576 L1196.15 72.576 L1196.15 65.6895 Q1193.6 69.8214 1189.79 71.8063 Q1185.98 73.7508 1180.48 73.7508 Q1173.51 73.7508 1169.38 69.8619 Q1165.28 65.9325 1165.28 59.3701 Q1165.28 51.7138 1170.39 47.825 Q1175.53 43.9361 1185.7 43.9361 L1196.15 43.9361 L1196.15 43.2069 Q1196.15 38.0623 1192.75 35.2672 Q1189.39 32.4315 1183.27 32.4315 Q1179.38 32.4315 1175.7 33.3632 Q1172.01 34.295 1168.61 36.1584 L1168.61 29.2718 Q1172.7 27.692 1176.55 26.9223 Q1180.39 26.1121 1184.04 26.1121 Q1193.88 26.1121 1198.75 31.2163 Q1203.61 36.3204 1203.61 46.6907 Z\" fill=\"#000000\" fill-rule=\"nonzero\" fill-opacity=\"1\" /><path clip-path=\"url(#clip470)\" d=\"M1247.88 28.5427 L1247.88 35.5912 Q1244.72 33.9709 1241.32 33.1607 Q1237.92 32.3505 1234.27 32.3505 Q1228.72 32.3505 1225.93 34.0519 Q1223.17 35.7533 1223.17 39.156 Q1223.17 41.7486 1225.16 43.2475 Q1227.14 44.7058 1233.14 46.0426 L1235.69 46.6097 Q1243.63 48.3111 1246.95 51.4303 Q1250.31 54.509 1250.31 60.0587 Q1250.31 66.3781 1245.29 70.0644 Q1240.31 73.7508 1231.56 73.7508 Q1227.91 73.7508 1223.94 73.0216 Q1220.01 72.3329 1215.64 70.9151 L1215.64 63.2184 Q1219.77 65.3654 1223.78 66.4591 Q1227.79 67.5124 1231.72 67.5124 Q1236.99 67.5124 1239.82 65.73 Q1242.66 63.9071 1242.66 60.6258 Q1242.66 57.5877 1240.59 55.9673 Q1238.57 54.3469 1231.64 52.8481 L1229.05 52.2405 Q1222.12 50.7821 1219.04 47.7845 Q1215.96 44.7463 1215.96 39.4801 Q1215.96 33.0797 1220.5 29.5959 Q1225.04 26.1121 1233.38 26.1121 Q1237.51 26.1121 1241.16 26.7198 Q1244.8 27.3274 1247.88 28.5427 Z\" fill=\"#000000\" fill-rule=\"nonzero\" fill-opacity=\"1\" /><path clip-path=\"url(#clip470)\" d=\"M1309.17 49.7694 Q1300.14 49.7694 1296.66 51.8354 Q1293.17 53.9013 1293.17 58.8839 Q1293.17 62.8538 1295.76 65.2034 Q1298.4 67.5124 1302.89 67.5124 Q1309.09 67.5124 1312.82 63.1374 Q1316.59 58.7219 1316.59 51.4303 L1316.59 49.7694 L1309.17 49.7694 M1324.04 46.6907 L1324.04 72.576 L1316.59 72.576 L1316.59 65.6895 Q1314.03 69.8214 1310.23 71.8063 Q1306.42 73.7508 1300.91 73.7508 Q1293.94 73.7508 1289.81 69.8619 Q1285.72 65.9325 1285.72 59.3701 Q1285.72 51.7138 1290.82 47.825 Q1295.97 43.9361 1306.13 43.9361 L1316.59 43.9361 L1316.59 43.2069 Q1316.59 38.0623 1313.18 35.2672 Q1309.82 32.4315 1303.7 32.4315 Q1299.82 32.4315 1296.13 33.3632 Q1292.44 34.295 1289.04 36.1584 L1289.04 29.2718 Q1293.13 27.692 1296.98 26.9223 Q1300.83 26.1121 1304.47 26.1121 Q1314.32 26.1121 1319.18 31.2163 Q1324.04 36.3204 1324.04 46.6907 Z\" fill=\"#000000\" fill-rule=\"nonzero\" fill-opacity=\"1\" /><path clip-path=\"url(#clip470)\" d=\"M1388.73 9.54393 L1388.73 15.7418 L1381.6 15.7418 Q1377.59 15.7418 1376.01 17.3622 Q1374.47 18.9825 1374.47 23.1955 L1374.47 27.2059 L1386.75 27.2059 L1386.75 32.9987 L1374.47 32.9987 L1374.47 72.576 L1366.98 72.576 L1366.98 32.9987 L1359.85 32.9987 L1359.85 27.2059 L1366.98 27.2059 L1366.98 24.0462 Q1366.98 16.471 1370.5 13.0277 Q1374.03 9.54393 1381.68 9.54393 L1388.73 9.54393 Z\" fill=\"#000000\" fill-rule=\"nonzero\" fill-opacity=\"1\" /><path clip-path=\"url(#clip470)\" d=\"M1394.2 54.671 L1394.2 27.2059 L1401.65 27.2059 L1401.65 54.3874 Q1401.65 60.8284 1404.17 64.0691 Q1406.68 67.2693 1411.7 67.2693 Q1417.74 67.2693 1421.22 63.421 Q1424.74 59.5726 1424.74 52.9291 L1424.74 27.2059 L1432.2 27.2059 L1432.2 72.576 L1424.74 72.576 L1424.74 65.6084 Q1422.03 69.7404 1418.43 71.7658 Q1414.86 73.7508 1410.12 73.7508 Q1402.3 73.7508 1398.25 68.8897 Q1394.2 64.0286 1394.2 54.671 M1412.96 26.1121 L1412.96 26.1121 Z\" fill=\"#000000\" fill-rule=\"nonzero\" fill-opacity=\"1\" /><path clip-path=\"url(#clip470)\" d=\"M1485.27 45.1919 L1485.27 72.576 L1477.81 72.576 L1477.81 45.4349 Q1477.81 38.994 1475.3 35.7938 Q1472.79 32.5936 1467.77 32.5936 Q1461.73 32.5936 1458.25 36.4419 Q1454.76 40.2903 1454.76 46.9338 L1454.76 72.576 L1447.27 72.576 L1447.27 27.2059 L1454.76 27.2059 L1454.76 34.2544 Q1457.44 30.163 1461.04 28.1376 Q1464.69 26.1121 1469.43 26.1121 Q1477.24 26.1121 1481.26 30.9732 Q1485.27 35.7938 1485.27 45.1919 Z\" fill=\"#000000\" fill-rule=\"nonzero\" fill-opacity=\"1\" /><path clip-path=\"url(#clip470)\" d=\"M1532.78 28.9478 L1532.78 35.9153 Q1529.62 34.1734 1526.42 33.3227 Q1523.26 32.4315 1520.02 32.4315 Q1512.77 32.4315 1508.76 37.0496 Q1504.75 41.6271 1504.75 49.9314 Q1504.75 58.2358 1508.76 62.8538 Q1512.77 67.4314 1520.02 67.4314 Q1523.26 67.4314 1526.42 66.5807 Q1529.62 65.6895 1532.78 63.9476 L1532.78 70.8341 Q1529.66 72.2924 1526.3 73.0216 Q1522.98 73.7508 1519.21 73.7508 Q1508.96 73.7508 1502.93 67.3098 Q1496.89 60.8689 1496.89 49.9314 Q1496.89 38.832 1502.97 32.472 Q1509.08 26.1121 1519.7 26.1121 Q1523.14 26.1121 1526.42 26.8413 Q1529.7 27.5299 1532.78 28.9478 Z\" fill=\"#000000\" fill-rule=\"nonzero\" fill-opacity=\"1\" /><path clip-path=\"url(#clip470)\" d=\"M1553.12 14.324 L1553.12 27.2059 L1568.47 27.2059 L1568.47 32.9987 L1553.12 32.9987 L1553.12 57.6282 Q1553.12 63.1779 1554.62 64.7578 Q1556.16 66.3376 1560.81 66.3376 L1568.47 66.3376 L1568.47 72.576 L1560.81 72.576 Q1552.19 72.576 1548.91 69.3758 Q1545.62 66.1351 1545.62 57.6282 L1545.62 32.9987 L1540.16 32.9987 L1540.16 27.2059 L1545.62 27.2059 L1545.62 14.324 L1553.12 14.324 Z\" fill=\"#000000\" fill-rule=\"nonzero\" fill-opacity=\"1\" /><path clip-path=\"url(#clip470)\" d=\"M1578.27 27.2059 L1585.73 27.2059 L1585.73 72.576 L1578.27 72.576 L1578.27 27.2059 M1578.27 9.54393 L1585.73 9.54393 L1585.73 18.9825 L1578.27 18.9825 L1578.27 9.54393 Z\" fill=\"#000000\" fill-rule=\"nonzero\" fill-opacity=\"1\" /><path clip-path=\"url(#clip470)\" d=\"M1618.9 32.4315 Q1612.91 32.4315 1609.43 37.1306 Q1605.94 41.7891 1605.94 49.9314 Q1605.94 58.0738 1609.39 62.7728 Q1612.87 67.4314 1618.9 67.4314 Q1624.86 67.4314 1628.34 62.7323 Q1631.83 58.0333 1631.83 49.9314 Q1631.83 41.8701 1628.34 37.1711 Q1624.86 32.4315 1618.9 32.4315 M1618.9 26.1121 Q1628.63 26.1121 1634.18 32.4315 Q1639.73 38.7509 1639.73 49.9314 Q1639.73 61.0714 1634.18 67.4314 Q1628.63 73.7508 1618.9 73.7508 Q1609.14 73.7508 1603.59 67.4314 Q1598.08 61.0714 1598.08 49.9314 Q1598.08 38.7509 1603.59 32.4315 Q1609.14 26.1121 1618.9 26.1121 Z\" fill=\"#000000\" fill-rule=\"nonzero\" fill-opacity=\"1\" /><path clip-path=\"url(#clip470)\" d=\"M1689.8 45.1919 L1689.8 72.576 L1682.34 72.576 L1682.34 45.4349 Q1682.34 38.994 1679.83 35.7938 Q1677.32 32.5936 1672.3 32.5936 Q1666.26 32.5936 1662.78 36.4419 Q1659.29 40.2903 1659.29 46.9338 L1659.29 72.576 L1651.8 72.576 L1651.8 27.2059 L1659.29 27.2059 L1659.29 34.2544 Q1661.97 30.163 1665.57 28.1376 Q1669.22 26.1121 1673.96 26.1121 Q1681.77 26.1121 1685.79 30.9732 Q1689.8 35.7938 1689.8 45.1919 Z\" fill=\"#000000\" fill-rule=\"nonzero\" fill-opacity=\"1\" /><path clip-path=\"url(#clip470)\" d=\"M1748.61 32.4315 Q1742.62 32.4315 1739.14 37.1306 Q1735.65 41.7891 1735.65 49.9314 Q1735.65 58.0738 1739.1 62.7728 Q1742.58 67.4314 1748.61 67.4314 Q1754.57 67.4314 1758.05 62.7323 Q1761.54 58.0333 1761.54 49.9314 Q1761.54 41.8701 1758.05 37.1711 Q1754.57 32.4315 1748.61 32.4315 M1748.61 26.1121 Q1758.34 26.1121 1763.89 32.4315 Q1769.44 38.7509 1769.44 49.9314 Q1769.44 61.0714 1763.89 67.4314 Q1758.34 73.7508 1748.61 73.7508 Q1738.85 73.7508 1733.3 67.4314 Q1727.79 61.0714 1727.79 49.9314 Q1727.79 38.7509 1733.3 32.4315 Q1738.85 26.1121 1748.61 26.1121 Z\" fill=\"#000000\" fill-rule=\"nonzero\" fill-opacity=\"1\" /><path clip-path=\"url(#clip470)\" d=\"M1804.76 9.54393 L1804.76 15.7418 L1797.63 15.7418 Q1793.62 15.7418 1792.04 17.3622 Q1790.5 18.9825 1790.5 23.1955 L1790.5 27.2059 L1802.78 27.2059 L1802.78 32.9987 L1790.5 32.9987 L1790.5 72.576 L1783.01 72.576 L1783.01 32.9987 L1775.88 32.9987 L1775.88 27.2059 L1783.01 27.2059 L1783.01 24.0462 Q1783.01 16.471 1786.53 13.0277 Q1790.06 9.54393 1797.71 9.54393 L1804.76 9.54393 Z\" fill=\"#000000\" fill-rule=\"nonzero\" fill-opacity=\"1\" /><path clip-path=\"url(#clip470)\" d=\"M1844.58 65.7705 L1844.58 89.8329 L1837.09 89.8329 L1837.09 27.2059 L1844.58 27.2059 L1844.58 34.0924 Q1846.93 30.0415 1850.49 28.0971 Q1854.1 26.1121 1859.08 26.1121 Q1867.35 26.1121 1872.49 32.6746 Q1877.68 39.2371 1877.68 49.9314 Q1877.68 60.6258 1872.49 67.1883 Q1867.35 73.7508 1859.08 73.7508 Q1854.1 73.7508 1850.49 71.8063 Q1846.93 69.8214 1844.58 65.7705 M1869.94 49.9314 Q1869.94 41.7081 1866.54 37.0496 Q1863.17 32.3505 1857.26 32.3505 Q1851.35 32.3505 1847.94 37.0496 Q1844.58 41.7081 1844.58 49.9314 Q1844.58 58.1548 1847.94 62.8538 Q1851.35 67.5124 1857.26 67.5124 Q1863.17 67.5124 1866.54 62.8538 Q1869.94 58.1548 1869.94 49.9314 Z\" fill=\"#000000\" fill-rule=\"nonzero\" fill-opacity=\"1\" /><path clip-path=\"url(#clip470)\" d=\"M1927.75 45.1919 L1927.75 72.576 L1920.29 72.576 L1920.29 45.4349 Q1920.29 38.994 1917.78 35.7938 Q1915.27 32.5936 1910.25 32.5936 Q1904.21 32.5936 1900.73 36.4419 Q1897.24 40.2903 1897.24 46.9338 L1897.24 72.576 L1889.75 72.576 L1889.75 9.54393 L1897.24 9.54393 L1897.24 34.2544 Q1899.92 30.163 1903.52 28.1376 Q1907.17 26.1121 1911.91 26.1121 Q1919.72 26.1121 1923.74 30.9732 Q1927.75 35.7938 1927.75 45.1919 Z\" fill=\"#000000\" fill-rule=\"nonzero\" fill-opacity=\"1\" /><path clip-path=\"url(#clip470)\" d=\"M1942.61 27.2059 L1950.07 27.2059 L1950.07 72.576 L1942.61 72.576 L1942.61 27.2059 M1942.61 9.54393 L1950.07 9.54393 L1950.07 18.9825 L1942.61 18.9825 L1942.61 9.54393 Z\" fill=\"#000000\" fill-rule=\"nonzero\" fill-opacity=\"1\" /><polyline clip-path=\"url(#clip472)\" style=\"stroke:#009af9; stroke-linecap:round; stroke-linejoin:round; stroke-width:4; stroke-opacity:1; fill:none\" points=\"316.512,160.256 810.746,773.326 1304.98,1386.4 1799.21,773.326 2293.45,160.256 \"/>\n",
       "<path clip-path=\"url(#clip470)\" d=\"M1806.5 1379.86 L2282.9 1379.86 L2282.9 1276.18 L1806.5 1276.18  Z\" fill=\"#ffffff\" fill-rule=\"evenodd\" fill-opacity=\"1\"/>\n",
       "<polyline clip-path=\"url(#clip470)\" style=\"stroke:#000000; stroke-linecap:round; stroke-linejoin:round; stroke-width:4; stroke-opacity:1; fill:none\" points=\"1806.5,1379.86 2282.9,1379.86 2282.9,1276.18 1806.5,1276.18 1806.5,1379.86 \"/>\n",
       "<polyline clip-path=\"url(#clip470)\" style=\"stroke:#009af9; stroke-linecap:round; stroke-linejoin:round; stroke-width:4; stroke-opacity:1; fill:none\" points=\"1829.78,1328.02 1969.49,1328.02 \"/>\n",
       "<path clip-path=\"url(#clip470)\" d=\"M1997.45 1314.58 L1997.45 1327.56 L2003.33 1327.56 Q2006.59 1327.56 2008.37 1325.88 Q2010.15 1324.19 2010.15 1321.06 Q2010.15 1317.96 2008.37 1316.27 Q2006.59 1314.58 2003.33 1314.58 L1997.45 1314.58 M1992.77 1310.74 L2003.33 1310.74 Q2009.14 1310.74 2012.1 1313.38 Q2015.08 1315.99 2015.08 1321.06 Q2015.08 1326.18 2012.1 1328.79 Q2009.14 1331.41 2003.33 1331.41 L1997.45 1331.41 L1997.45 1345.3 L1992.77 1345.3 L1992.77 1310.74 Z\" fill=\"#000000\" fill-rule=\"nonzero\" fill-opacity=\"1\" /><path clip-path=\"url(#clip470)\" d=\"M2029.53 1322.36 Q2026.1 1322.36 2024.11 1325.04 Q2022.12 1327.7 2022.12 1332.36 Q2022.12 1337.01 2024.09 1339.69 Q2026.08 1342.36 2029.53 1342.36 Q2032.93 1342.36 2034.92 1339.67 Q2036.91 1336.99 2036.91 1332.36 Q2036.91 1327.75 2034.92 1325.06 Q2032.93 1322.36 2029.53 1322.36 M2029.53 1318.75 Q2035.08 1318.75 2038.26 1322.36 Q2041.43 1325.97 2041.43 1332.36 Q2041.43 1338.72 2038.26 1342.36 Q2035.08 1345.97 2029.53 1345.97 Q2023.95 1345.97 2020.78 1342.36 Q2017.63 1338.72 2017.63 1332.36 Q2017.63 1325.97 2020.78 1322.36 Q2023.95 1318.75 2029.53 1318.75 Z\" fill=\"#000000\" fill-rule=\"nonzero\" fill-opacity=\"1\" /><path clip-path=\"url(#clip470)\" d=\"M2048.49 1309.28 L2052.75 1309.28 L2052.75 1345.3 L2048.49 1345.3 L2048.49 1309.28 Z\" fill=\"#000000\" fill-rule=\"nonzero\" fill-opacity=\"1\" /><path clip-path=\"url(#clip470)\" d=\"M2073.44 1332.26 Q2068.28 1332.26 2066.29 1333.44 Q2064.3 1334.63 2064.3 1337.47 Q2064.3 1339.74 2065.78 1341.08 Q2067.28 1342.4 2069.85 1342.4 Q2073.39 1342.4 2075.52 1339.9 Q2077.68 1337.38 2077.68 1333.21 L2077.68 1332.26 L2073.44 1332.26 M2081.94 1330.5 L2081.94 1345.3 L2077.68 1345.3 L2077.68 1341.36 Q2076.22 1343.72 2074.04 1344.86 Q2071.87 1345.97 2068.72 1345.97 Q2064.74 1345.97 2062.38 1343.75 Q2060.04 1341.5 2060.04 1337.75 Q2060.04 1333.38 2062.95 1331.15 Q2065.89 1328.93 2071.7 1328.93 L2077.68 1328.93 L2077.68 1328.51 Q2077.68 1325.57 2075.73 1323.98 Q2073.81 1322.36 2070.32 1322.36 Q2068.09 1322.36 2065.99 1322.89 Q2063.88 1323.42 2061.94 1324.49 L2061.94 1320.55 Q2064.27 1319.65 2066.47 1319.21 Q2068.67 1318.75 2070.76 1318.75 Q2076.38 1318.75 2079.16 1321.66 Q2081.94 1324.58 2081.94 1330.5 Z\" fill=\"#000000\" fill-rule=\"nonzero\" fill-opacity=\"1\" /><path clip-path=\"url(#clip470)\" d=\"M2105.73 1323.35 Q2105.01 1322.94 2104.16 1322.75 Q2103.32 1322.54 2102.31 1322.54 Q2098.7 1322.54 2096.75 1324.9 Q2094.83 1327.24 2094.83 1331.64 L2094.83 1345.3 L2090.55 1345.3 L2090.55 1319.37 L2094.83 1319.37 L2094.83 1323.4 Q2096.17 1321.04 2098.32 1319.9 Q2100.48 1318.75 2103.56 1318.75 Q2104 1318.75 2104.53 1318.81 Q2105.06 1318.86 2105.71 1318.98 L2105.73 1323.35 Z\" fill=\"#000000\" fill-rule=\"nonzero\" fill-opacity=\"1\" /><path clip-path=\"url(#clip470)\" d=\"M2110.2 1319.37 L2114.46 1319.37 L2114.46 1345.3 L2110.2 1345.3 L2110.2 1319.37 M2110.2 1309.28 L2114.46 1309.28 L2114.46 1314.67 L2110.2 1314.67 L2110.2 1309.28 Z\" fill=\"#000000\" fill-rule=\"nonzero\" fill-opacity=\"1\" /><path clip-path=\"url(#clip470)\" d=\"M2121.52 1319.37 L2141.75 1319.37 L2141.75 1323.26 L2125.73 1341.89 L2141.75 1341.89 L2141.75 1345.3 L2120.94 1345.3 L2120.94 1341.41 L2136.96 1322.77 L2121.52 1322.77 L2121.52 1319.37 Z\" fill=\"#000000\" fill-rule=\"nonzero\" fill-opacity=\"1\" /><path clip-path=\"url(#clip470)\" d=\"M2160.04 1332.26 Q2154.88 1332.26 2152.88 1333.44 Q2150.89 1334.63 2150.89 1337.47 Q2150.89 1339.74 2152.38 1341.08 Q2153.88 1342.4 2156.45 1342.4 Q2159.99 1342.4 2162.12 1339.9 Q2164.27 1337.38 2164.27 1333.21 L2164.27 1332.26 L2160.04 1332.26 M2168.53 1330.5 L2168.53 1345.3 L2164.27 1345.3 L2164.27 1341.36 Q2162.82 1343.72 2160.64 1344.86 Q2158.46 1345.97 2155.32 1345.97 Q2151.33 1345.97 2148.97 1343.75 Q2146.63 1341.5 2146.63 1337.75 Q2146.63 1333.38 2149.55 1331.15 Q2152.49 1328.93 2158.3 1328.93 L2164.27 1328.93 L2164.27 1328.51 Q2164.27 1325.57 2162.33 1323.98 Q2160.41 1322.36 2156.91 1322.36 Q2154.69 1322.36 2152.58 1322.89 Q2150.48 1323.42 2148.53 1324.49 L2148.53 1320.55 Q2150.87 1319.65 2153.07 1319.21 Q2155.27 1318.75 2157.35 1318.75 Q2162.98 1318.75 2165.76 1321.66 Q2168.53 1324.58 2168.53 1330.5 Z\" fill=\"#000000\" fill-rule=\"nonzero\" fill-opacity=\"1\" /><path clip-path=\"url(#clip470)\" d=\"M2181.52 1312.01 L2181.52 1319.37 L2190.29 1319.37 L2190.29 1322.68 L2181.52 1322.68 L2181.52 1336.75 Q2181.52 1339.93 2182.38 1340.83 Q2183.25 1341.73 2185.92 1341.73 L2190.29 1341.73 L2190.29 1345.3 L2185.92 1345.3 Q2180.99 1345.3 2179.11 1343.47 Q2177.24 1341.62 2177.24 1336.75 L2177.24 1322.68 L2174.11 1322.68 L2174.11 1319.37 L2177.24 1319.37 L2177.24 1312.01 L2181.52 1312.01 Z\" fill=\"#000000\" fill-rule=\"nonzero\" fill-opacity=\"1\" /><path clip-path=\"url(#clip470)\" d=\"M2195.89 1319.37 L2200.15 1319.37 L2200.15 1345.3 L2195.89 1345.3 L2195.89 1319.37 M2195.89 1309.28 L2200.15 1309.28 L2200.15 1314.67 L2195.89 1314.67 L2195.89 1309.28 Z\" fill=\"#000000\" fill-rule=\"nonzero\" fill-opacity=\"1\" /><path clip-path=\"url(#clip470)\" d=\"M2219.11 1322.36 Q2215.69 1322.36 2213.69 1325.04 Q2211.7 1327.7 2211.7 1332.36 Q2211.7 1337.01 2213.67 1339.69 Q2215.66 1342.36 2219.11 1342.36 Q2222.51 1342.36 2224.5 1339.67 Q2226.5 1336.99 2226.5 1332.36 Q2226.5 1327.75 2224.5 1325.06 Q2222.51 1322.36 2219.11 1322.36 M2219.11 1318.75 Q2224.67 1318.75 2227.84 1322.36 Q2231.01 1325.97 2231.01 1332.36 Q2231.01 1338.72 2227.84 1342.36 Q2224.67 1345.97 2219.11 1345.97 Q2213.53 1345.97 2210.36 1342.36 Q2207.21 1338.72 2207.21 1332.36 Q2207.21 1325.97 2210.36 1322.36 Q2213.53 1318.75 2219.11 1318.75 Z\" fill=\"#000000\" fill-rule=\"nonzero\" fill-opacity=\"1\" /><path clip-path=\"url(#clip470)\" d=\"M2259.62 1329.65 L2259.62 1345.3 L2255.36 1345.3 L2255.36 1329.79 Q2255.36 1326.11 2253.93 1324.28 Q2252.49 1322.45 2249.62 1322.45 Q2246.17 1322.45 2244.18 1324.65 Q2242.19 1326.85 2242.19 1330.64 L2242.19 1345.3 L2237.91 1345.3 L2237.91 1319.37 L2242.19 1319.37 L2242.19 1323.4 Q2243.72 1321.06 2245.78 1319.9 Q2247.86 1318.75 2250.57 1318.75 Q2255.04 1318.75 2257.33 1321.52 Q2259.62 1324.28 2259.62 1329.65 Z\" fill=\"#000000\" fill-rule=\"nonzero\" fill-opacity=\"1\" /></svg>\n"
      ],
      "text/html": [
       "<?xml version=\"1.0\" encoding=\"utf-8\"?>\n",
       "<svg xmlns=\"http://www.w3.org/2000/svg\" xmlns:xlink=\"http://www.w3.org/1999/xlink\" width=\"600\" height=\"400\" viewBox=\"0 0 2400 1600\">\n",
       "<defs>\n",
       "  <clipPath id=\"clip520\">\n",
       "    <rect x=\"0\" y=\"0\" width=\"2400\" height=\"1600\"/>\n",
       "  </clipPath>\n",
       "</defs>\n",
       "<path clip-path=\"url(#clip520)\" d=\"M0 1600 L2400 1600 L2400 0 L0 0  Z\" fill=\"#ffffff\" fill-rule=\"evenodd\" fill-opacity=\"1\"/>\n",
       "<defs>\n",
       "  <clipPath id=\"clip521\">\n",
       "    <rect x=\"480\" y=\"0\" width=\"1681\" height=\"1600\"/>\n",
       "  </clipPath>\n",
       "</defs>\n",
       "<path clip-path=\"url(#clip520)\" d=\"M257.204 1423.18 L2352.76 1423.18 L2352.76 123.472 L257.204 123.472  Z\" fill=\"#ffffff\" fill-rule=\"evenodd\" fill-opacity=\"1\"/>\n",
       "<defs>\n",
       "  <clipPath id=\"clip522\">\n",
       "    <rect x=\"257\" y=\"123\" width=\"2097\" height=\"1301\"/>\n",
       "  </clipPath>\n",
       "</defs>\n",
       "<polyline clip-path=\"url(#clip522)\" style=\"stroke:#000000; stroke-linecap:round; stroke-linejoin:round; stroke-width:2; stroke-opacity:0.1; fill:none\" points=\"316.512,1423.18 316.512,123.472 \"/>\n",
       "<polyline clip-path=\"url(#clip522)\" style=\"stroke:#000000; stroke-linecap:round; stroke-linejoin:round; stroke-width:2; stroke-opacity:0.1; fill:none\" points=\"631.151,1423.18 631.151,123.472 \"/>\n",
       "<polyline clip-path=\"url(#clip522)\" style=\"stroke:#000000; stroke-linecap:round; stroke-linejoin:round; stroke-width:2; stroke-opacity:0.1; fill:none\" points=\"945.79,1423.18 945.79,123.472 \"/>\n",
       "<polyline clip-path=\"url(#clip522)\" style=\"stroke:#000000; stroke-linecap:round; stroke-linejoin:round; stroke-width:2; stroke-opacity:0.1; fill:none\" points=\"1260.43,1423.18 1260.43,123.472 \"/>\n",
       "<polyline clip-path=\"url(#clip522)\" style=\"stroke:#000000; stroke-linecap:round; stroke-linejoin:round; stroke-width:2; stroke-opacity:0.1; fill:none\" points=\"1575.07,1423.18 1575.07,123.472 \"/>\n",
       "<polyline clip-path=\"url(#clip522)\" style=\"stroke:#000000; stroke-linecap:round; stroke-linejoin:round; stroke-width:2; stroke-opacity:0.1; fill:none\" points=\"1889.71,1423.18 1889.71,123.472 \"/>\n",
       "<polyline clip-path=\"url(#clip522)\" style=\"stroke:#000000; stroke-linecap:round; stroke-linejoin:round; stroke-width:2; stroke-opacity:0.1; fill:none\" points=\"2204.35,1423.18 2204.35,123.472 \"/>\n",
       "<polyline clip-path=\"url(#clip520)\" style=\"stroke:#000000; stroke-linecap:round; stroke-linejoin:round; stroke-width:4; stroke-opacity:1; fill:none\" points=\"257.204,1423.18 2352.76,1423.18 \"/>\n",
       "<polyline clip-path=\"url(#clip520)\" style=\"stroke:#000000; stroke-linecap:round; stroke-linejoin:round; stroke-width:4; stroke-opacity:1; fill:none\" points=\"316.512,1423.18 316.512,1404.28 \"/>\n",
       "<polyline clip-path=\"url(#clip520)\" style=\"stroke:#000000; stroke-linecap:round; stroke-linejoin:round; stroke-width:4; stroke-opacity:1; fill:none\" points=\"631.151,1423.18 631.151,1404.28 \"/>\n",
       "<polyline clip-path=\"url(#clip520)\" style=\"stroke:#000000; stroke-linecap:round; stroke-linejoin:round; stroke-width:4; stroke-opacity:1; fill:none\" points=\"945.79,1423.18 945.79,1404.28 \"/>\n",
       "<polyline clip-path=\"url(#clip520)\" style=\"stroke:#000000; stroke-linecap:round; stroke-linejoin:round; stroke-width:4; stroke-opacity:1; fill:none\" points=\"1260.43,1423.18 1260.43,1404.28 \"/>\n",
       "<polyline clip-path=\"url(#clip520)\" style=\"stroke:#000000; stroke-linecap:round; stroke-linejoin:round; stroke-width:4; stroke-opacity:1; fill:none\" points=\"1575.07,1423.18 1575.07,1404.28 \"/>\n",
       "<polyline clip-path=\"url(#clip520)\" style=\"stroke:#000000; stroke-linecap:round; stroke-linejoin:round; stroke-width:4; stroke-opacity:1; fill:none\" points=\"1889.71,1423.18 1889.71,1404.28 \"/>\n",
       "<polyline clip-path=\"url(#clip520)\" style=\"stroke:#000000; stroke-linecap:round; stroke-linejoin:round; stroke-width:4; stroke-opacity:1; fill:none\" points=\"2204.35,1423.18 2204.35,1404.28 \"/>\n",
       "<path clip-path=\"url(#clip520)\" d=\"M316.512 1454.1 Q312.901 1454.1 311.072 1457.66 Q309.267 1461.2 309.267 1468.33 Q309.267 1475.44 311.072 1479.01 Q312.901 1482.55 316.512 1482.55 Q320.146 1482.55 321.952 1479.01 Q323.781 1475.44 323.781 1468.33 Q323.781 1461.2 321.952 1457.66 Q320.146 1454.1 316.512 1454.1 M316.512 1450.39 Q322.322 1450.39 325.378 1455 Q328.456 1459.58 328.456 1468.33 Q328.456 1477.06 325.378 1481.67 Q322.322 1486.25 316.512 1486.25 Q310.702 1486.25 307.623 1481.67 Q304.568 1477.06 304.568 1468.33 Q304.568 1459.58 307.623 1455 Q310.702 1450.39 316.512 1450.39 Z\" fill=\"#000000\" fill-rule=\"nonzero\" fill-opacity=\"1\" /><path clip-path=\"url(#clip520)\" d=\"M621.533 1481.64 L629.172 1481.64 L629.172 1455.28 L620.862 1456.95 L620.862 1452.69 L629.126 1451.02 L633.802 1451.02 L633.802 1481.64 L641.44 1481.64 L641.44 1485.58 L621.533 1485.58 L621.533 1481.64 Z\" fill=\"#000000\" fill-rule=\"nonzero\" fill-opacity=\"1\" /><path clip-path=\"url(#clip520)\" d=\"M940.443 1481.64 L956.762 1481.64 L956.762 1485.58 L934.818 1485.58 L934.818 1481.64 Q937.48 1478.89 942.063 1474.26 Q946.67 1469.61 947.85 1468.27 Q950.096 1465.74 950.975 1464.01 Q951.878 1462.25 951.878 1460.56 Q951.878 1457.8 949.934 1456.07 Q948.012 1454.33 944.911 1454.33 Q942.712 1454.33 940.258 1455.09 Q937.827 1455.86 935.05 1457.41 L935.05 1452.69 Q937.874 1451.55 940.327 1450.97 Q942.781 1450.39 944.818 1450.39 Q950.188 1450.39 953.383 1453.08 Q956.577 1455.77 956.577 1460.26 Q956.577 1462.39 955.767 1464.31 Q954.98 1466.2 952.874 1468.8 Q952.295 1469.47 949.193 1472.69 Q946.091 1475.88 940.443 1481.64 Z\" fill=\"#000000\" fill-rule=\"nonzero\" fill-opacity=\"1\" /><path clip-path=\"url(#clip520)\" d=\"M1264.68 1466.95 Q1268.03 1467.66 1269.91 1469.93 Q1271.81 1472.2 1271.81 1475.53 Q1271.81 1480.65 1268.29 1483.45 Q1264.77 1486.25 1258.29 1486.25 Q1256.11 1486.25 1253.8 1485.81 Q1251.51 1485.39 1249.05 1484.54 L1249.05 1480.02 Q1251 1481.16 1253.31 1481.74 Q1255.63 1482.32 1258.15 1482.32 Q1262.55 1482.32 1264.84 1480.58 Q1267.15 1478.84 1267.15 1475.53 Q1267.15 1472.48 1265 1470.77 Q1262.87 1469.03 1259.05 1469.03 L1255.02 1469.03 L1255.02 1465.19 L1259.24 1465.19 Q1262.69 1465.19 1264.52 1463.82 Q1266.34 1462.43 1266.34 1459.84 Q1266.34 1457.18 1264.45 1455.77 Q1262.57 1454.33 1259.05 1454.33 Q1257.13 1454.33 1254.93 1454.75 Q1252.73 1455.16 1250.09 1456.04 L1250.09 1451.88 Q1252.76 1451.14 1255.07 1450.77 Q1257.41 1450.39 1259.47 1450.39 Q1264.79 1450.39 1267.89 1452.83 Q1271 1455.23 1271 1459.35 Q1271 1462.22 1269.35 1464.21 Q1267.71 1466.18 1264.68 1466.95 Z\" fill=\"#000000\" fill-rule=\"nonzero\" fill-opacity=\"1\" /><path clip-path=\"url(#clip520)\" d=\"M1578.08 1455.09 L1566.27 1473.54 L1578.08 1473.54 L1578.08 1455.09 M1576.85 1451.02 L1582.73 1451.02 L1582.73 1473.54 L1587.66 1473.54 L1587.66 1477.43 L1582.73 1477.43 L1582.73 1485.58 L1578.08 1485.58 L1578.08 1477.43 L1562.48 1477.43 L1562.48 1472.92 L1576.85 1451.02 Z\" fill=\"#000000\" fill-rule=\"nonzero\" fill-opacity=\"1\" /><path clip-path=\"url(#clip520)\" d=\"M1879.99 1451.02 L1898.34 1451.02 L1898.34 1454.96 L1884.27 1454.96 L1884.27 1463.43 Q1885.29 1463.08 1886.3 1462.92 Q1887.32 1462.73 1888.34 1462.73 Q1894.13 1462.73 1897.51 1465.9 Q1900.89 1469.08 1900.89 1474.49 Q1900.89 1480.07 1897.42 1483.17 Q1893.94 1486.25 1887.62 1486.25 Q1885.45 1486.25 1883.18 1485.88 Q1880.93 1485.51 1878.53 1484.77 L1878.53 1480.07 Q1880.61 1481.2 1882.83 1481.76 Q1885.05 1482.32 1887.53 1482.32 Q1891.54 1482.32 1893.87 1480.21 Q1896.21 1478.1 1896.21 1474.49 Q1896.21 1470.88 1893.87 1468.77 Q1891.54 1466.67 1887.53 1466.67 Q1885.66 1466.67 1883.78 1467.08 Q1881.93 1467.5 1879.99 1468.38 L1879.99 1451.02 Z\" fill=\"#000000\" fill-rule=\"nonzero\" fill-opacity=\"1\" /><path clip-path=\"url(#clip520)\" d=\"M2204.75 1466.44 Q2201.6 1466.44 2199.75 1468.59 Q2197.92 1470.74 2197.92 1474.49 Q2197.92 1478.22 2199.75 1480.39 Q2201.6 1482.55 2204.75 1482.55 Q2207.9 1482.55 2209.73 1480.39 Q2211.58 1478.22 2211.58 1474.49 Q2211.58 1470.74 2209.73 1468.59 Q2207.9 1466.44 2204.75 1466.44 M2214.03 1451.78 L2214.03 1456.04 Q2212.27 1455.21 2210.47 1454.77 Q2208.69 1454.33 2206.93 1454.33 Q2202.3 1454.33 2199.84 1457.45 Q2197.41 1460.58 2197.07 1466.9 Q2198.43 1464.89 2200.49 1463.82 Q2202.55 1462.73 2205.03 1462.73 Q2210.24 1462.73 2213.25 1465.9 Q2216.28 1469.05 2216.28 1474.49 Q2216.28 1479.82 2213.13 1483.03 Q2209.98 1486.25 2204.75 1486.25 Q2198.76 1486.25 2195.59 1481.67 Q2192.41 1477.06 2192.41 1468.33 Q2192.41 1460.14 2196.3 1455.28 Q2200.19 1450.39 2206.74 1450.39 Q2208.5 1450.39 2210.28 1450.74 Q2212.09 1451.09 2214.03 1451.78 Z\" fill=\"#000000\" fill-rule=\"nonzero\" fill-opacity=\"1\" /><path clip-path=\"url(#clip520)\" d=\"M1266.48 1562.7 L1266.48 1581.6 L1260.6 1581.6 L1260.6 1532.4 L1266.48 1532.4 L1266.48 1537.81 Q1268.33 1534.62 1271.13 1533.1 Q1273.96 1531.54 1277.88 1531.54 Q1284.37 1531.54 1288.41 1536.69 Q1292.49 1541.85 1292.49 1550.25 Q1292.49 1558.65 1288.41 1563.81 Q1284.37 1568.97 1277.88 1568.97 Q1273.96 1568.97 1271.13 1567.44 Q1268.33 1565.88 1266.48 1562.7 M1286.41 1550.25 Q1286.41 1543.79 1283.73 1540.13 Q1281.09 1536.44 1276.45 1536.44 Q1271.8 1536.44 1269.13 1540.13 Q1266.48 1543.79 1266.48 1550.25 Q1266.48 1556.71 1269.13 1560.4 Q1271.8 1564.07 1276.45 1564.07 Q1281.09 1564.07 1283.73 1560.4 Q1286.41 1556.71 1286.41 1550.25 Z\" fill=\"#000000\" fill-rule=\"nonzero\" fill-opacity=\"1\" /><path clip-path=\"url(#clip520)\" d=\"M1331.83 1546.53 L1331.83 1568.04 L1325.97 1568.04 L1325.97 1546.72 Q1325.97 1541.66 1324 1539.14 Q1322.02 1536.63 1318.08 1536.63 Q1313.33 1536.63 1310.6 1539.65 Q1307.86 1542.68 1307.86 1547.9 L1307.86 1568.04 L1301.97 1568.04 L1301.97 1518.52 L1307.86 1518.52 L1307.86 1537.93 Q1309.96 1534.72 1312.79 1533.13 Q1315.66 1531.54 1319.38 1531.54 Q1325.53 1531.54 1328.68 1535.36 Q1331.83 1539.14 1331.83 1546.53 Z\" fill=\"#000000\" fill-rule=\"nonzero\" fill-opacity=\"1\" /><path clip-path=\"url(#clip520)\" d=\"M1343.51 1532.4 L1349.36 1532.4 L1349.36 1568.04 L1343.51 1568.04 L1343.51 1532.4 M1343.51 1518.52 L1349.36 1518.52 L1349.36 1525.93 L1343.51 1525.93 L1343.51 1518.52 Z\" fill=\"#000000\" fill-rule=\"nonzero\" fill-opacity=\"1\" /><polyline clip-path=\"url(#clip522)\" style=\"stroke:#000000; stroke-linecap:round; stroke-linejoin:round; stroke-width:2; stroke-opacity:0.1; fill:none\" points=\"257.204,1386.4 2352.76,1386.4 \"/>\n",
       "<polyline clip-path=\"url(#clip522)\" style=\"stroke:#000000; stroke-linecap:round; stroke-linejoin:round; stroke-width:2; stroke-opacity:0.1; fill:none\" points=\"257.204,1079.86 2352.76,1079.86 \"/>\n",
       "<polyline clip-path=\"url(#clip522)\" style=\"stroke:#000000; stroke-linecap:round; stroke-linejoin:round; stroke-width:2; stroke-opacity:0.1; fill:none\" points=\"257.204,773.326 2352.76,773.326 \"/>\n",
       "<polyline clip-path=\"url(#clip522)\" style=\"stroke:#000000; stroke-linecap:round; stroke-linejoin:round; stroke-width:2; stroke-opacity:0.1; fill:none\" points=\"257.204,466.791 2352.76,466.791 \"/>\n",
       "<polyline clip-path=\"url(#clip522)\" style=\"stroke:#000000; stroke-linecap:round; stroke-linejoin:round; stroke-width:2; stroke-opacity:0.1; fill:none\" points=\"257.204,160.256 2352.76,160.256 \"/>\n",
       "<polyline clip-path=\"url(#clip520)\" style=\"stroke:#000000; stroke-linecap:round; stroke-linejoin:round; stroke-width:4; stroke-opacity:1; fill:none\" points=\"257.204,1423.18 257.204,123.472 \"/>\n",
       "<polyline clip-path=\"url(#clip520)\" style=\"stroke:#000000; stroke-linecap:round; stroke-linejoin:round; stroke-width:4; stroke-opacity:1; fill:none\" points=\"257.204,1386.4 276.102,1386.4 \"/>\n",
       "<polyline clip-path=\"url(#clip520)\" style=\"stroke:#000000; stroke-linecap:round; stroke-linejoin:round; stroke-width:4; stroke-opacity:1; fill:none\" points=\"257.204,1079.86 276.102,1079.86 \"/>\n",
       "<polyline clip-path=\"url(#clip520)\" style=\"stroke:#000000; stroke-linecap:round; stroke-linejoin:round; stroke-width:4; stroke-opacity:1; fill:none\" points=\"257.204,773.326 276.102,773.326 \"/>\n",
       "<polyline clip-path=\"url(#clip520)\" style=\"stroke:#000000; stroke-linecap:round; stroke-linejoin:round; stroke-width:4; stroke-opacity:1; fill:none\" points=\"257.204,466.791 276.102,466.791 \"/>\n",
       "<polyline clip-path=\"url(#clip520)\" style=\"stroke:#000000; stroke-linecap:round; stroke-linejoin:round; stroke-width:4; stroke-opacity:1; fill:none\" points=\"257.204,160.256 276.102,160.256 \"/>\n",
       "<path clip-path=\"url(#clip520)\" d=\"M114.26 1386.85 L143.936 1386.85 L143.936 1390.78 L114.26 1390.78 L114.26 1386.85 Z\" fill=\"#000000\" fill-rule=\"nonzero\" fill-opacity=\"1\" /><path clip-path=\"url(#clip520)\" d=\"M154.839 1399.74 L162.477 1399.74 L162.477 1373.37 L154.167 1375.04 L154.167 1370.78 L162.431 1369.12 L167.107 1369.12 L167.107 1399.74 L174.746 1399.74 L174.746 1403.68 L154.839 1403.68 L154.839 1399.74 Z\" fill=\"#000000\" fill-rule=\"nonzero\" fill-opacity=\"1\" /><path clip-path=\"url(#clip520)\" d=\"M184.19 1397.8 L189.075 1397.8 L189.075 1403.68 L184.19 1403.68 L184.19 1397.8 Z\" fill=\"#000000\" fill-rule=\"nonzero\" fill-opacity=\"1\" /><path clip-path=\"url(#clip520)\" d=\"M209.26 1372.19 Q205.649 1372.19 203.82 1375.76 Q202.014 1379.3 202.014 1386.43 Q202.014 1393.54 203.82 1397.1 Q205.649 1400.64 209.26 1400.64 Q212.894 1400.64 214.699 1397.1 Q216.528 1393.54 216.528 1386.43 Q216.528 1379.3 214.699 1375.76 Q212.894 1372.19 209.26 1372.19 M209.26 1368.49 Q215.07 1368.49 218.125 1373.1 Q221.204 1377.68 221.204 1386.43 Q221.204 1395.16 218.125 1399.76 Q215.07 1404.35 209.26 1404.35 Q203.449 1404.35 200.371 1399.76 Q197.315 1395.16 197.315 1386.43 Q197.315 1377.68 200.371 1373.1 Q203.449 1368.49 209.26 1368.49 Z\" fill=\"#000000\" fill-rule=\"nonzero\" fill-opacity=\"1\" /><path clip-path=\"url(#clip520)\" d=\"M115.256 1080.31 L144.931 1080.31 L144.931 1084.25 L115.256 1084.25 L115.256 1080.31 Z\" fill=\"#000000\" fill-rule=\"nonzero\" fill-opacity=\"1\" /><path clip-path=\"url(#clip520)\" d=\"M165.024 1065.66 Q161.413 1065.66 159.584 1069.22 Q157.778 1072.77 157.778 1079.9 Q157.778 1087 159.584 1090.57 Q161.413 1094.11 165.024 1094.11 Q168.658 1094.11 170.464 1090.57 Q172.292 1087 172.292 1079.9 Q172.292 1072.77 170.464 1069.22 Q168.658 1065.66 165.024 1065.66 M165.024 1061.96 Q170.834 1061.96 173.889 1066.56 Q176.968 1071.15 176.968 1079.9 Q176.968 1088.62 173.889 1093.23 Q170.834 1097.81 165.024 1097.81 Q159.214 1097.81 156.135 1093.23 Q153.079 1088.62 153.079 1079.9 Q153.079 1071.15 156.135 1066.56 Q159.214 1061.96 165.024 1061.96 Z\" fill=\"#000000\" fill-rule=\"nonzero\" fill-opacity=\"1\" /><path clip-path=\"url(#clip520)\" d=\"M185.186 1091.26 L190.07 1091.26 L190.07 1097.14 L185.186 1097.14 L185.186 1091.26 Z\" fill=\"#000000\" fill-rule=\"nonzero\" fill-opacity=\"1\" /><path clip-path=\"url(#clip520)\" d=\"M200.301 1062.58 L218.658 1062.58 L218.658 1066.52 L204.584 1066.52 L204.584 1074.99 Q205.602 1074.64 206.621 1074.48 Q207.639 1074.29 208.658 1074.29 Q214.445 1074.29 217.824 1077.47 Q221.204 1080.64 221.204 1086.05 Q221.204 1091.63 217.732 1094.73 Q214.26 1097.81 207.94 1097.81 Q205.764 1097.81 203.496 1097.44 Q201.25 1097.07 198.843 1096.33 L198.843 1091.63 Q200.926 1092.77 203.149 1093.32 Q205.371 1093.88 207.848 1093.88 Q211.852 1093.88 214.19 1091.77 Q216.528 1089.66 216.528 1086.05 Q216.528 1082.44 214.19 1080.34 Q211.852 1078.23 207.848 1078.23 Q205.973 1078.23 204.098 1078.65 Q202.246 1079.06 200.301 1079.94 L200.301 1062.58 Z\" fill=\"#000000\" fill-rule=\"nonzero\" fill-opacity=\"1\" /><path clip-path=\"url(#clip520)\" d=\"M164.028 759.125 Q160.417 759.125 158.589 762.689 Q156.783 766.231 156.783 773.361 Q156.783 780.467 158.589 784.032 Q160.417 787.574 164.028 787.574 Q167.663 787.574 169.468 784.032 Q171.297 780.467 171.297 773.361 Q171.297 766.231 169.468 762.689 Q167.663 759.125 164.028 759.125 M164.028 755.421 Q169.839 755.421 172.894 760.027 Q175.973 764.611 175.973 773.361 Q175.973 782.088 172.894 786.694 Q169.839 791.277 164.028 791.277 Q158.218 791.277 155.14 786.694 Q152.084 782.088 152.084 773.361 Q152.084 764.611 155.14 760.027 Q158.218 755.421 164.028 755.421 Z\" fill=\"#000000\" fill-rule=\"nonzero\" fill-opacity=\"1\" /><path clip-path=\"url(#clip520)\" d=\"M184.19 784.726 L189.075 784.726 L189.075 790.606 L184.19 790.606 L184.19 784.726 Z\" fill=\"#000000\" fill-rule=\"nonzero\" fill-opacity=\"1\" /><path clip-path=\"url(#clip520)\" d=\"M209.26 759.125 Q205.649 759.125 203.82 762.689 Q202.014 766.231 202.014 773.361 Q202.014 780.467 203.82 784.032 Q205.649 787.574 209.26 787.574 Q212.894 787.574 214.699 784.032 Q216.528 780.467 216.528 773.361 Q216.528 766.231 214.699 762.689 Q212.894 759.125 209.26 759.125 M209.26 755.421 Q215.07 755.421 218.125 760.027 Q221.204 764.611 221.204 773.361 Q221.204 782.088 218.125 786.694 Q215.07 791.277 209.26 791.277 Q203.449 791.277 200.371 786.694 Q197.315 782.088 197.315 773.361 Q197.315 764.611 200.371 760.027 Q203.449 755.421 209.26 755.421 Z\" fill=\"#000000\" fill-rule=\"nonzero\" fill-opacity=\"1\" /><path clip-path=\"url(#clip520)\" d=\"M165.024 452.59 Q161.413 452.59 159.584 456.155 Q157.778 459.696 157.778 466.826 Q157.778 473.932 159.584 477.497 Q161.413 481.039 165.024 481.039 Q168.658 481.039 170.464 477.497 Q172.292 473.932 172.292 466.826 Q172.292 459.696 170.464 456.155 Q168.658 452.59 165.024 452.59 M165.024 448.886 Q170.834 448.886 173.889 453.493 Q176.968 458.076 176.968 466.826 Q176.968 475.553 173.889 480.159 Q170.834 484.742 165.024 484.742 Q159.214 484.742 156.135 480.159 Q153.079 475.553 153.079 466.826 Q153.079 458.076 156.135 453.493 Q159.214 448.886 165.024 448.886 Z\" fill=\"#000000\" fill-rule=\"nonzero\" fill-opacity=\"1\" /><path clip-path=\"url(#clip520)\" d=\"M185.186 478.192 L190.07 478.192 L190.07 484.071 L185.186 484.071 L185.186 478.192 Z\" fill=\"#000000\" fill-rule=\"nonzero\" fill-opacity=\"1\" /><path clip-path=\"url(#clip520)\" d=\"M200.301 449.511 L218.658 449.511 L218.658 453.446 L204.584 453.446 L204.584 461.918 Q205.602 461.571 206.621 461.409 Q207.639 461.224 208.658 461.224 Q214.445 461.224 217.824 464.395 Q221.204 467.567 221.204 472.983 Q221.204 478.562 217.732 481.664 Q214.26 484.742 207.94 484.742 Q205.764 484.742 203.496 484.372 Q201.25 484.002 198.843 483.261 L198.843 478.562 Q200.926 479.696 203.149 480.252 Q205.371 480.807 207.848 480.807 Q211.852 480.807 214.19 478.701 Q216.528 476.594 216.528 472.983 Q216.528 469.372 214.19 467.266 Q211.852 465.159 207.848 465.159 Q205.973 465.159 204.098 465.576 Q202.246 465.993 200.301 466.872 L200.301 449.511 Z\" fill=\"#000000\" fill-rule=\"nonzero\" fill-opacity=\"1\" /><path clip-path=\"url(#clip520)\" d=\"M154.839 173.601 L162.477 173.601 L162.477 147.236 L154.167 148.902 L154.167 144.643 L162.431 142.976 L167.107 142.976 L167.107 173.601 L174.746 173.601 L174.746 177.536 L154.839 177.536 L154.839 173.601 Z\" fill=\"#000000\" fill-rule=\"nonzero\" fill-opacity=\"1\" /><path clip-path=\"url(#clip520)\" d=\"M184.19 171.657 L189.075 171.657 L189.075 177.536 L184.19 177.536 L184.19 171.657 Z\" fill=\"#000000\" fill-rule=\"nonzero\" fill-opacity=\"1\" /><path clip-path=\"url(#clip520)\" d=\"M209.26 146.055 Q205.649 146.055 203.82 149.62 Q202.014 153.161 202.014 160.291 Q202.014 167.397 203.82 170.962 Q205.649 174.504 209.26 174.504 Q212.894 174.504 214.699 170.962 Q216.528 167.397 216.528 160.291 Q216.528 153.161 214.699 149.62 Q212.894 146.055 209.26 146.055 M209.26 142.351 Q215.07 142.351 218.125 146.958 Q221.204 151.541 221.204 160.291 Q221.204 169.018 218.125 173.624 Q215.07 178.208 209.26 178.208 Q203.449 178.208 200.371 173.624 Q197.315 169.018 197.315 160.291 Q197.315 151.541 200.371 146.958 Q203.449 142.351 209.26 142.351 Z\" fill=\"#000000\" fill-rule=\"nonzero\" fill-opacity=\"1\" /><path clip-path=\"url(#clip520)\" d=\"M21.7677 782.238 L39.6235 782.238 L39.6235 774.154 Q39.6235 769.666 37.3 767.215 Q34.9765 764.764 30.6797 764.764 Q26.4147 764.764 24.0912 767.215 Q21.7677 769.666 21.7677 774.154 L21.7677 782.238 M16.4842 788.667 L16.4842 774.154 Q16.4842 766.165 20.1126 762.091 Q23.7092 757.985 30.6797 757.985 Q37.7138 757.985 41.3104 762.091 Q44.907 766.165 44.907 774.154 L44.907 782.238 L64.0042 782.238 L64.0042 788.667 L16.4842 788.667 Z\" fill=\"#000000\" fill-rule=\"nonzero\" fill-opacity=\"1\" /><path clip-path=\"url(#clip520)\" d=\"M668.077 18.8205 L668.077 41.5461 L678.366 41.5461 Q684.078 41.5461 687.197 38.5889 Q690.316 35.6318 690.316 30.163 Q690.316 24.7348 687.197 21.7777 Q684.078 18.8205 678.366 18.8205 L668.077 18.8205 M659.894 12.096 L678.366 12.096 Q688.534 12.096 693.719 16.714 Q698.944 21.2916 698.944 30.163 Q698.944 39.1155 693.719 43.6931 Q688.534 48.2706 678.366 48.2706 L668.077 48.2706 L668.077 72.576 L659.894 72.576 L659.894 12.096 Z\" fill=\"#000000\" fill-rule=\"nonzero\" fill-opacity=\"1\" /><path clip-path=\"url(#clip520)\" d=\"M724.222 32.4315 Q718.227 32.4315 714.743 37.1306 Q711.259 41.7891 711.259 49.9314 Q711.259 58.0738 714.702 62.7728 Q718.186 67.4314 724.222 67.4314 Q730.177 67.4314 733.661 62.7323 Q737.144 58.0333 737.144 49.9314 Q737.144 41.8701 733.661 37.1711 Q730.177 32.4315 724.222 32.4315 M724.222 26.1121 Q733.944 26.1121 739.494 32.4315 Q745.044 38.7509 745.044 49.9314 Q745.044 61.0714 739.494 67.4314 Q733.944 73.7508 724.222 73.7508 Q714.459 73.7508 708.91 67.4314 Q703.4 61.0714 703.4 49.9314 Q703.4 38.7509 708.91 32.4315 Q714.459 26.1121 724.222 26.1121 Z\" fill=\"#000000\" fill-rule=\"nonzero\" fill-opacity=\"1\" /><path clip-path=\"url(#clip520)\" d=\"M757.399 9.54393 L764.853 9.54393 L764.853 72.576 L757.399 72.576 L757.399 9.54393 Z\" fill=\"#000000\" fill-rule=\"nonzero\" fill-opacity=\"1\" /><path clip-path=\"url(#clip520)\" d=\"M801.068 49.7694 Q792.034 49.7694 788.55 51.8354 Q785.067 53.9013 785.067 58.8839 Q785.067 62.8538 787.659 65.2034 Q790.292 67.5124 794.789 67.5124 Q800.987 67.5124 804.714 63.1374 Q808.481 58.7219 808.481 51.4303 L808.481 49.7694 L801.068 49.7694 M815.935 46.6907 L815.935 72.576 L808.481 72.576 L808.481 65.6895 Q805.929 69.8214 802.121 71.8063 Q798.313 73.7508 792.804 73.7508 Q785.836 73.7508 781.704 69.8619 Q777.613 65.9325 777.613 59.3701 Q777.613 51.7138 782.717 47.825 Q787.862 43.9361 798.03 43.9361 L808.481 43.9361 L808.481 43.2069 Q808.481 38.0623 805.078 35.2672 Q801.716 32.4315 795.599 32.4315 Q791.71 32.4315 788.024 33.3632 Q784.338 34.295 780.935 36.1584 L780.935 29.2718 Q785.026 27.692 788.875 26.9223 Q792.723 26.1121 796.369 26.1121 Q806.212 26.1121 811.073 31.2163 Q815.935 36.3204 815.935 46.6907 Z\" fill=\"#000000\" fill-rule=\"nonzero\" fill-opacity=\"1\" /><path clip-path=\"url(#clip520)\" d=\"M857.578 34.1734 Q856.322 33.4443 854.823 33.1202 Q853.365 32.7556 851.583 32.7556 Q845.263 32.7556 841.86 36.8875 Q838.498 40.9789 838.498 48.6757 L838.498 72.576 L831.004 72.576 L831.004 27.2059 L838.498 27.2059 L838.498 34.2544 Q840.848 30.1225 844.615 28.1376 Q848.382 26.1121 853.77 26.1121 Q854.54 26.1121 855.471 26.2337 Q856.403 26.3147 857.537 26.5172 L857.578 34.1734 Z\" fill=\"#000000\" fill-rule=\"nonzero\" fill-opacity=\"1\" /><path clip-path=\"url(#clip520)\" d=\"M865.396 27.2059 L872.85 27.2059 L872.85 72.576 L865.396 72.576 L865.396 27.2059 M865.396 9.54393 L872.85 9.54393 L872.85 18.9825 L865.396 18.9825 L865.396 9.54393 Z\" fill=\"#000000\" fill-rule=\"nonzero\" fill-opacity=\"1\" /><path clip-path=\"url(#clip520)\" d=\"M885.205 27.2059 L920.61 27.2059 L920.61 34.0114 L892.578 66.6212 L920.61 66.6212 L920.61 72.576 L884.192 72.576 L884.192 65.7705 L912.225 33.1607 L885.205 33.1607 L885.205 27.2059 Z\" fill=\"#000000\" fill-rule=\"nonzero\" fill-opacity=\"1\" /><path clip-path=\"url(#clip520)\" d=\"M952.612 49.7694 Q943.579 49.7694 940.095 51.8354 Q936.611 53.9013 936.611 58.8839 Q936.611 62.8538 939.204 65.2034 Q941.837 67.5124 946.333 67.5124 Q952.531 67.5124 956.258 63.1374 Q960.025 58.7219 960.025 51.4303 L960.025 49.7694 L952.612 49.7694 M967.479 46.6907 L967.479 72.576 L960.025 72.576 L960.025 65.6895 Q957.473 69.8214 953.665 71.8063 Q949.857 73.7508 944.348 73.7508 Q937.381 73.7508 933.249 69.8619 Q929.157 65.9325 929.157 59.3701 Q929.157 51.7138 934.261 47.825 Q939.406 43.9361 949.574 43.9361 L960.025 43.9361 L960.025 43.2069 Q960.025 38.0623 956.622 35.2672 Q953.26 32.4315 947.143 32.4315 Q943.254 32.4315 939.568 33.3632 Q935.882 34.295 932.479 36.1584 L932.479 29.2718 Q936.57 27.692 940.419 26.9223 Q944.267 26.1121 947.913 26.1121 Q957.757 26.1121 962.618 31.2163 Q967.479 36.3204 967.479 46.6907 Z\" fill=\"#000000\" fill-rule=\"nonzero\" fill-opacity=\"1\" /><path clip-path=\"url(#clip520)\" d=\"M990.204 14.324 L990.204 27.2059 L1005.56 27.2059 L1005.56 32.9987 L990.204 32.9987 L990.204 57.6282 Q990.204 63.1779 991.703 64.7578 Q993.243 66.3376 997.901 66.3376 L1005.56 66.3376 L1005.56 72.576 L997.901 72.576 Q989.273 72.576 985.992 69.3758 Q982.71 66.1351 982.71 57.6282 L982.71 32.9987 L977.242 32.9987 L977.242 27.2059 L982.71 27.2059 L982.71 14.324 L990.204 14.324 Z\" fill=\"#000000\" fill-rule=\"nonzero\" fill-opacity=\"1\" /><path clip-path=\"url(#clip520)\" d=\"M1015.36 27.2059 L1022.81 27.2059 L1022.81 72.576 L1015.36 72.576 L1015.36 27.2059 M1015.36 9.54393 L1022.81 9.54393 L1022.81 18.9825 L1015.36 18.9825 L1015.36 9.54393 Z\" fill=\"#000000\" fill-rule=\"nonzero\" fill-opacity=\"1\" /><path clip-path=\"url(#clip520)\" d=\"M1055.99 32.4315 Q1050 32.4315 1046.51 37.1306 Q1043.03 41.7891 1043.03 49.9314 Q1043.03 58.0738 1046.47 62.7728 Q1049.96 67.4314 1055.99 67.4314 Q1061.95 67.4314 1065.43 62.7323 Q1068.91 58.0333 1068.91 49.9314 Q1068.91 41.8701 1065.43 37.1711 Q1061.95 32.4315 1055.99 32.4315 M1055.99 26.1121 Q1065.71 26.1121 1071.26 32.4315 Q1076.81 38.7509 1076.81 49.9314 Q1076.81 61.0714 1071.26 67.4314 Q1065.71 73.7508 1055.99 73.7508 Q1046.23 73.7508 1040.68 67.4314 Q1035.17 61.0714 1035.17 49.9314 Q1035.17 38.7509 1040.68 32.4315 Q1046.23 26.1121 1055.99 26.1121 Z\" fill=\"#000000\" fill-rule=\"nonzero\" fill-opacity=\"1\" /><path clip-path=\"url(#clip520)\" d=\"M1126.88 45.1919 L1126.88 72.576 L1119.43 72.576 L1119.43 45.4349 Q1119.43 38.994 1116.92 35.7938 Q1114.41 32.5936 1109.38 32.5936 Q1103.35 32.5936 1099.86 36.4419 Q1096.38 40.2903 1096.38 46.9338 L1096.38 72.576 L1088.88 72.576 L1088.88 27.2059 L1096.38 27.2059 L1096.38 34.2544 Q1099.05 30.163 1102.66 28.1376 Q1106.3 26.1121 1111.04 26.1121 Q1118.86 26.1121 1122.87 30.9732 Q1126.88 35.7938 1126.88 45.1919 Z\" fill=\"#000000\" fill-rule=\"nonzero\" fill-opacity=\"1\" /><path clip-path=\"url(#clip520)\" d=\"M1188.74 49.7694 Q1179.71 49.7694 1176.22 51.8354 Q1172.74 53.9013 1172.74 58.8839 Q1172.74 62.8538 1175.33 65.2034 Q1177.96 67.5124 1182.46 67.5124 Q1188.66 67.5124 1192.39 63.1374 Q1196.15 58.7219 1196.15 51.4303 L1196.15 49.7694 L1188.74 49.7694 M1203.61 46.6907 L1203.61 72.576 L1196.15 72.576 L1196.15 65.6895 Q1193.6 69.8214 1189.79 71.8063 Q1185.98 73.7508 1180.48 73.7508 Q1173.51 73.7508 1169.38 69.8619 Q1165.28 65.9325 1165.28 59.3701 Q1165.28 51.7138 1170.39 47.825 Q1175.53 43.9361 1185.7 43.9361 L1196.15 43.9361 L1196.15 43.2069 Q1196.15 38.0623 1192.75 35.2672 Q1189.39 32.4315 1183.27 32.4315 Q1179.38 32.4315 1175.7 33.3632 Q1172.01 34.295 1168.61 36.1584 L1168.61 29.2718 Q1172.7 27.692 1176.55 26.9223 Q1180.39 26.1121 1184.04 26.1121 Q1193.88 26.1121 1198.75 31.2163 Q1203.61 36.3204 1203.61 46.6907 Z\" fill=\"#000000\" fill-rule=\"nonzero\" fill-opacity=\"1\" /><path clip-path=\"url(#clip520)\" d=\"M1247.88 28.5427 L1247.88 35.5912 Q1244.72 33.9709 1241.32 33.1607 Q1237.92 32.3505 1234.27 32.3505 Q1228.72 32.3505 1225.93 34.0519 Q1223.17 35.7533 1223.17 39.156 Q1223.17 41.7486 1225.16 43.2475 Q1227.14 44.7058 1233.14 46.0426 L1235.69 46.6097 Q1243.63 48.3111 1246.95 51.4303 Q1250.31 54.509 1250.31 60.0587 Q1250.31 66.3781 1245.29 70.0644 Q1240.31 73.7508 1231.56 73.7508 Q1227.91 73.7508 1223.94 73.0216 Q1220.01 72.3329 1215.64 70.9151 L1215.64 63.2184 Q1219.77 65.3654 1223.78 66.4591 Q1227.79 67.5124 1231.72 67.5124 Q1236.99 67.5124 1239.82 65.73 Q1242.66 63.9071 1242.66 60.6258 Q1242.66 57.5877 1240.59 55.9673 Q1238.57 54.3469 1231.64 52.8481 L1229.05 52.2405 Q1222.12 50.7821 1219.04 47.7845 Q1215.96 44.7463 1215.96 39.4801 Q1215.96 33.0797 1220.5 29.5959 Q1225.04 26.1121 1233.38 26.1121 Q1237.51 26.1121 1241.16 26.7198 Q1244.8 27.3274 1247.88 28.5427 Z\" fill=\"#000000\" fill-rule=\"nonzero\" fill-opacity=\"1\" /><path clip-path=\"url(#clip520)\" d=\"M1309.17 49.7694 Q1300.14 49.7694 1296.66 51.8354 Q1293.17 53.9013 1293.17 58.8839 Q1293.17 62.8538 1295.76 65.2034 Q1298.4 67.5124 1302.89 67.5124 Q1309.09 67.5124 1312.82 63.1374 Q1316.59 58.7219 1316.59 51.4303 L1316.59 49.7694 L1309.17 49.7694 M1324.04 46.6907 L1324.04 72.576 L1316.59 72.576 L1316.59 65.6895 Q1314.03 69.8214 1310.23 71.8063 Q1306.42 73.7508 1300.91 73.7508 Q1293.94 73.7508 1289.81 69.8619 Q1285.72 65.9325 1285.72 59.3701 Q1285.72 51.7138 1290.82 47.825 Q1295.97 43.9361 1306.13 43.9361 L1316.59 43.9361 L1316.59 43.2069 Q1316.59 38.0623 1313.18 35.2672 Q1309.82 32.4315 1303.7 32.4315 Q1299.82 32.4315 1296.13 33.3632 Q1292.44 34.295 1289.04 36.1584 L1289.04 29.2718 Q1293.13 27.692 1296.98 26.9223 Q1300.83 26.1121 1304.47 26.1121 Q1314.32 26.1121 1319.18 31.2163 Q1324.04 36.3204 1324.04 46.6907 Z\" fill=\"#000000\" fill-rule=\"nonzero\" fill-opacity=\"1\" /><path clip-path=\"url(#clip520)\" d=\"M1388.73 9.54393 L1388.73 15.7418 L1381.6 15.7418 Q1377.59 15.7418 1376.01 17.3622 Q1374.47 18.9825 1374.47 23.1955 L1374.47 27.2059 L1386.75 27.2059 L1386.75 32.9987 L1374.47 32.9987 L1374.47 72.576 L1366.98 72.576 L1366.98 32.9987 L1359.85 32.9987 L1359.85 27.2059 L1366.98 27.2059 L1366.98 24.0462 Q1366.98 16.471 1370.5 13.0277 Q1374.03 9.54393 1381.68 9.54393 L1388.73 9.54393 Z\" fill=\"#000000\" fill-rule=\"nonzero\" fill-opacity=\"1\" /><path clip-path=\"url(#clip520)\" d=\"M1394.2 54.671 L1394.2 27.2059 L1401.65 27.2059 L1401.65 54.3874 Q1401.65 60.8284 1404.17 64.0691 Q1406.68 67.2693 1411.7 67.2693 Q1417.74 67.2693 1421.22 63.421 Q1424.74 59.5726 1424.74 52.9291 L1424.74 27.2059 L1432.2 27.2059 L1432.2 72.576 L1424.74 72.576 L1424.74 65.6084 Q1422.03 69.7404 1418.43 71.7658 Q1414.86 73.7508 1410.12 73.7508 Q1402.3 73.7508 1398.25 68.8897 Q1394.2 64.0286 1394.2 54.671 M1412.96 26.1121 L1412.96 26.1121 Z\" fill=\"#000000\" fill-rule=\"nonzero\" fill-opacity=\"1\" /><path clip-path=\"url(#clip520)\" d=\"M1485.27 45.1919 L1485.27 72.576 L1477.81 72.576 L1477.81 45.4349 Q1477.81 38.994 1475.3 35.7938 Q1472.79 32.5936 1467.77 32.5936 Q1461.73 32.5936 1458.25 36.4419 Q1454.76 40.2903 1454.76 46.9338 L1454.76 72.576 L1447.27 72.576 L1447.27 27.2059 L1454.76 27.2059 L1454.76 34.2544 Q1457.44 30.163 1461.04 28.1376 Q1464.69 26.1121 1469.43 26.1121 Q1477.24 26.1121 1481.26 30.9732 Q1485.27 35.7938 1485.27 45.1919 Z\" fill=\"#000000\" fill-rule=\"nonzero\" fill-opacity=\"1\" /><path clip-path=\"url(#clip520)\" d=\"M1532.78 28.9478 L1532.78 35.9153 Q1529.62 34.1734 1526.42 33.3227 Q1523.26 32.4315 1520.02 32.4315 Q1512.77 32.4315 1508.76 37.0496 Q1504.75 41.6271 1504.75 49.9314 Q1504.75 58.2358 1508.76 62.8538 Q1512.77 67.4314 1520.02 67.4314 Q1523.26 67.4314 1526.42 66.5807 Q1529.62 65.6895 1532.78 63.9476 L1532.78 70.8341 Q1529.66 72.2924 1526.3 73.0216 Q1522.98 73.7508 1519.21 73.7508 Q1508.96 73.7508 1502.93 67.3098 Q1496.89 60.8689 1496.89 49.9314 Q1496.89 38.832 1502.97 32.472 Q1509.08 26.1121 1519.7 26.1121 Q1523.14 26.1121 1526.42 26.8413 Q1529.7 27.5299 1532.78 28.9478 Z\" fill=\"#000000\" fill-rule=\"nonzero\" fill-opacity=\"1\" /><path clip-path=\"url(#clip520)\" d=\"M1553.12 14.324 L1553.12 27.2059 L1568.47 27.2059 L1568.47 32.9987 L1553.12 32.9987 L1553.12 57.6282 Q1553.12 63.1779 1554.62 64.7578 Q1556.16 66.3376 1560.81 66.3376 L1568.47 66.3376 L1568.47 72.576 L1560.81 72.576 Q1552.19 72.576 1548.91 69.3758 Q1545.62 66.1351 1545.62 57.6282 L1545.62 32.9987 L1540.16 32.9987 L1540.16 27.2059 L1545.62 27.2059 L1545.62 14.324 L1553.12 14.324 Z\" fill=\"#000000\" fill-rule=\"nonzero\" fill-opacity=\"1\" /><path clip-path=\"url(#clip520)\" d=\"M1578.27 27.2059 L1585.73 27.2059 L1585.73 72.576 L1578.27 72.576 L1578.27 27.2059 M1578.27 9.54393 L1585.73 9.54393 L1585.73 18.9825 L1578.27 18.9825 L1578.27 9.54393 Z\" fill=\"#000000\" fill-rule=\"nonzero\" fill-opacity=\"1\" /><path clip-path=\"url(#clip520)\" d=\"M1618.9 32.4315 Q1612.91 32.4315 1609.43 37.1306 Q1605.94 41.7891 1605.94 49.9314 Q1605.94 58.0738 1609.39 62.7728 Q1612.87 67.4314 1618.9 67.4314 Q1624.86 67.4314 1628.34 62.7323 Q1631.83 58.0333 1631.83 49.9314 Q1631.83 41.8701 1628.34 37.1711 Q1624.86 32.4315 1618.9 32.4315 M1618.9 26.1121 Q1628.63 26.1121 1634.18 32.4315 Q1639.73 38.7509 1639.73 49.9314 Q1639.73 61.0714 1634.18 67.4314 Q1628.63 73.7508 1618.9 73.7508 Q1609.14 73.7508 1603.59 67.4314 Q1598.08 61.0714 1598.08 49.9314 Q1598.08 38.7509 1603.59 32.4315 Q1609.14 26.1121 1618.9 26.1121 Z\" fill=\"#000000\" fill-rule=\"nonzero\" fill-opacity=\"1\" /><path clip-path=\"url(#clip520)\" d=\"M1689.8 45.1919 L1689.8 72.576 L1682.34 72.576 L1682.34 45.4349 Q1682.34 38.994 1679.83 35.7938 Q1677.32 32.5936 1672.3 32.5936 Q1666.26 32.5936 1662.78 36.4419 Q1659.29 40.2903 1659.29 46.9338 L1659.29 72.576 L1651.8 72.576 L1651.8 27.2059 L1659.29 27.2059 L1659.29 34.2544 Q1661.97 30.163 1665.57 28.1376 Q1669.22 26.1121 1673.96 26.1121 Q1681.77 26.1121 1685.79 30.9732 Q1689.8 35.7938 1689.8 45.1919 Z\" fill=\"#000000\" fill-rule=\"nonzero\" fill-opacity=\"1\" /><path clip-path=\"url(#clip520)\" d=\"M1748.61 32.4315 Q1742.62 32.4315 1739.14 37.1306 Q1735.65 41.7891 1735.65 49.9314 Q1735.65 58.0738 1739.1 62.7728 Q1742.58 67.4314 1748.61 67.4314 Q1754.57 67.4314 1758.05 62.7323 Q1761.54 58.0333 1761.54 49.9314 Q1761.54 41.8701 1758.05 37.1711 Q1754.57 32.4315 1748.61 32.4315 M1748.61 26.1121 Q1758.34 26.1121 1763.89 32.4315 Q1769.44 38.7509 1769.44 49.9314 Q1769.44 61.0714 1763.89 67.4314 Q1758.34 73.7508 1748.61 73.7508 Q1738.85 73.7508 1733.3 67.4314 Q1727.79 61.0714 1727.79 49.9314 Q1727.79 38.7509 1733.3 32.4315 Q1738.85 26.1121 1748.61 26.1121 Z\" fill=\"#000000\" fill-rule=\"nonzero\" fill-opacity=\"1\" /><path clip-path=\"url(#clip520)\" d=\"M1804.76 9.54393 L1804.76 15.7418 L1797.63 15.7418 Q1793.62 15.7418 1792.04 17.3622 Q1790.5 18.9825 1790.5 23.1955 L1790.5 27.2059 L1802.78 27.2059 L1802.78 32.9987 L1790.5 32.9987 L1790.5 72.576 L1783.01 72.576 L1783.01 32.9987 L1775.88 32.9987 L1775.88 27.2059 L1783.01 27.2059 L1783.01 24.0462 Q1783.01 16.471 1786.53 13.0277 Q1790.06 9.54393 1797.71 9.54393 L1804.76 9.54393 Z\" fill=\"#000000\" fill-rule=\"nonzero\" fill-opacity=\"1\" /><path clip-path=\"url(#clip520)\" d=\"M1844.58 65.7705 L1844.58 89.8329 L1837.09 89.8329 L1837.09 27.2059 L1844.58 27.2059 L1844.58 34.0924 Q1846.93 30.0415 1850.49 28.0971 Q1854.1 26.1121 1859.08 26.1121 Q1867.35 26.1121 1872.49 32.6746 Q1877.68 39.2371 1877.68 49.9314 Q1877.68 60.6258 1872.49 67.1883 Q1867.35 73.7508 1859.08 73.7508 Q1854.1 73.7508 1850.49 71.8063 Q1846.93 69.8214 1844.58 65.7705 M1869.94 49.9314 Q1869.94 41.7081 1866.54 37.0496 Q1863.17 32.3505 1857.26 32.3505 Q1851.35 32.3505 1847.94 37.0496 Q1844.58 41.7081 1844.58 49.9314 Q1844.58 58.1548 1847.94 62.8538 Q1851.35 67.5124 1857.26 67.5124 Q1863.17 67.5124 1866.54 62.8538 Q1869.94 58.1548 1869.94 49.9314 Z\" fill=\"#000000\" fill-rule=\"nonzero\" fill-opacity=\"1\" /><path clip-path=\"url(#clip520)\" d=\"M1927.75 45.1919 L1927.75 72.576 L1920.29 72.576 L1920.29 45.4349 Q1920.29 38.994 1917.78 35.7938 Q1915.27 32.5936 1910.25 32.5936 Q1904.21 32.5936 1900.73 36.4419 Q1897.24 40.2903 1897.24 46.9338 L1897.24 72.576 L1889.75 72.576 L1889.75 9.54393 L1897.24 9.54393 L1897.24 34.2544 Q1899.92 30.163 1903.52 28.1376 Q1907.17 26.1121 1911.91 26.1121 Q1919.72 26.1121 1923.74 30.9732 Q1927.75 35.7938 1927.75 45.1919 Z\" fill=\"#000000\" fill-rule=\"nonzero\" fill-opacity=\"1\" /><path clip-path=\"url(#clip520)\" d=\"M1942.61 27.2059 L1950.07 27.2059 L1950.07 72.576 L1942.61 72.576 L1942.61 27.2059 M1942.61 9.54393 L1950.07 9.54393 L1950.07 18.9825 L1942.61 18.9825 L1942.61 9.54393 Z\" fill=\"#000000\" fill-rule=\"nonzero\" fill-opacity=\"1\" /><polyline clip-path=\"url(#clip522)\" style=\"stroke:#009af9; stroke-linecap:round; stroke-linejoin:round; stroke-width:4; stroke-opacity:1; fill:none\" points=\"316.512,160.256 810.746,773.326 1304.98,1386.4 1799.21,773.326 2293.45,160.256 \"/>\n",
       "<path clip-path=\"url(#clip520)\" d=\"M1806.5 1379.86 L2282.9 1379.86 L2282.9 1276.18 L1806.5 1276.18  Z\" fill=\"#ffffff\" fill-rule=\"evenodd\" fill-opacity=\"1\"/>\n",
       "<polyline clip-path=\"url(#clip520)\" style=\"stroke:#000000; stroke-linecap:round; stroke-linejoin:round; stroke-width:4; stroke-opacity:1; fill:none\" points=\"1806.5,1379.86 2282.9,1379.86 2282.9,1276.18 1806.5,1276.18 1806.5,1379.86 \"/>\n",
       "<polyline clip-path=\"url(#clip520)\" style=\"stroke:#009af9; stroke-linecap:round; stroke-linejoin:round; stroke-width:4; stroke-opacity:1; fill:none\" points=\"1829.78,1328.02 1969.49,1328.02 \"/>\n",
       "<path clip-path=\"url(#clip520)\" d=\"M1997.45 1314.58 L1997.45 1327.56 L2003.33 1327.56 Q2006.59 1327.56 2008.37 1325.88 Q2010.15 1324.19 2010.15 1321.06 Q2010.15 1317.96 2008.37 1316.27 Q2006.59 1314.58 2003.33 1314.58 L1997.45 1314.58 M1992.77 1310.74 L2003.33 1310.74 Q2009.14 1310.74 2012.1 1313.38 Q2015.08 1315.99 2015.08 1321.06 Q2015.08 1326.18 2012.1 1328.79 Q2009.14 1331.41 2003.33 1331.41 L1997.45 1331.41 L1997.45 1345.3 L1992.77 1345.3 L1992.77 1310.74 Z\" fill=\"#000000\" fill-rule=\"nonzero\" fill-opacity=\"1\" /><path clip-path=\"url(#clip520)\" d=\"M2029.53 1322.36 Q2026.1 1322.36 2024.11 1325.04 Q2022.12 1327.7 2022.12 1332.36 Q2022.12 1337.01 2024.09 1339.69 Q2026.08 1342.36 2029.53 1342.36 Q2032.93 1342.36 2034.92 1339.67 Q2036.91 1336.99 2036.91 1332.36 Q2036.91 1327.75 2034.92 1325.06 Q2032.93 1322.36 2029.53 1322.36 M2029.53 1318.75 Q2035.08 1318.75 2038.26 1322.36 Q2041.43 1325.97 2041.43 1332.36 Q2041.43 1338.72 2038.26 1342.36 Q2035.08 1345.97 2029.53 1345.97 Q2023.95 1345.97 2020.78 1342.36 Q2017.63 1338.72 2017.63 1332.36 Q2017.63 1325.97 2020.78 1322.36 Q2023.95 1318.75 2029.53 1318.75 Z\" fill=\"#000000\" fill-rule=\"nonzero\" fill-opacity=\"1\" /><path clip-path=\"url(#clip520)\" d=\"M2048.49 1309.28 L2052.75 1309.28 L2052.75 1345.3 L2048.49 1345.3 L2048.49 1309.28 Z\" fill=\"#000000\" fill-rule=\"nonzero\" fill-opacity=\"1\" /><path clip-path=\"url(#clip520)\" d=\"M2073.44 1332.26 Q2068.28 1332.26 2066.29 1333.44 Q2064.3 1334.63 2064.3 1337.47 Q2064.3 1339.74 2065.78 1341.08 Q2067.28 1342.4 2069.85 1342.4 Q2073.39 1342.4 2075.52 1339.9 Q2077.68 1337.38 2077.68 1333.21 L2077.68 1332.26 L2073.44 1332.26 M2081.94 1330.5 L2081.94 1345.3 L2077.68 1345.3 L2077.68 1341.36 Q2076.22 1343.72 2074.04 1344.86 Q2071.87 1345.97 2068.72 1345.97 Q2064.74 1345.97 2062.38 1343.75 Q2060.04 1341.5 2060.04 1337.75 Q2060.04 1333.38 2062.95 1331.15 Q2065.89 1328.93 2071.7 1328.93 L2077.68 1328.93 L2077.68 1328.51 Q2077.68 1325.57 2075.73 1323.98 Q2073.81 1322.36 2070.32 1322.36 Q2068.09 1322.36 2065.99 1322.89 Q2063.88 1323.42 2061.94 1324.49 L2061.94 1320.55 Q2064.27 1319.65 2066.47 1319.21 Q2068.67 1318.75 2070.76 1318.75 Q2076.38 1318.75 2079.16 1321.66 Q2081.94 1324.58 2081.94 1330.5 Z\" fill=\"#000000\" fill-rule=\"nonzero\" fill-opacity=\"1\" /><path clip-path=\"url(#clip520)\" d=\"M2105.73 1323.35 Q2105.01 1322.94 2104.16 1322.75 Q2103.32 1322.54 2102.31 1322.54 Q2098.7 1322.54 2096.75 1324.9 Q2094.83 1327.24 2094.83 1331.64 L2094.83 1345.3 L2090.55 1345.3 L2090.55 1319.37 L2094.83 1319.37 L2094.83 1323.4 Q2096.17 1321.04 2098.32 1319.9 Q2100.48 1318.75 2103.56 1318.75 Q2104 1318.75 2104.53 1318.81 Q2105.06 1318.86 2105.71 1318.98 L2105.73 1323.35 Z\" fill=\"#000000\" fill-rule=\"nonzero\" fill-opacity=\"1\" /><path clip-path=\"url(#clip520)\" d=\"M2110.2 1319.37 L2114.46 1319.37 L2114.46 1345.3 L2110.2 1345.3 L2110.2 1319.37 M2110.2 1309.28 L2114.46 1309.28 L2114.46 1314.67 L2110.2 1314.67 L2110.2 1309.28 Z\" fill=\"#000000\" fill-rule=\"nonzero\" fill-opacity=\"1\" /><path clip-path=\"url(#clip520)\" d=\"M2121.52 1319.37 L2141.75 1319.37 L2141.75 1323.26 L2125.73 1341.89 L2141.75 1341.89 L2141.75 1345.3 L2120.94 1345.3 L2120.94 1341.41 L2136.96 1322.77 L2121.52 1322.77 L2121.52 1319.37 Z\" fill=\"#000000\" fill-rule=\"nonzero\" fill-opacity=\"1\" /><path clip-path=\"url(#clip520)\" d=\"M2160.04 1332.26 Q2154.88 1332.26 2152.88 1333.44 Q2150.89 1334.63 2150.89 1337.47 Q2150.89 1339.74 2152.38 1341.08 Q2153.88 1342.4 2156.45 1342.4 Q2159.99 1342.4 2162.12 1339.9 Q2164.27 1337.38 2164.27 1333.21 L2164.27 1332.26 L2160.04 1332.26 M2168.53 1330.5 L2168.53 1345.3 L2164.27 1345.3 L2164.27 1341.36 Q2162.82 1343.72 2160.64 1344.86 Q2158.46 1345.97 2155.32 1345.97 Q2151.33 1345.97 2148.97 1343.75 Q2146.63 1341.5 2146.63 1337.75 Q2146.63 1333.38 2149.55 1331.15 Q2152.49 1328.93 2158.3 1328.93 L2164.27 1328.93 L2164.27 1328.51 Q2164.27 1325.57 2162.33 1323.98 Q2160.41 1322.36 2156.91 1322.36 Q2154.69 1322.36 2152.58 1322.89 Q2150.48 1323.42 2148.53 1324.49 L2148.53 1320.55 Q2150.87 1319.65 2153.07 1319.21 Q2155.27 1318.75 2157.35 1318.75 Q2162.98 1318.75 2165.76 1321.66 Q2168.53 1324.58 2168.53 1330.5 Z\" fill=\"#000000\" fill-rule=\"nonzero\" fill-opacity=\"1\" /><path clip-path=\"url(#clip520)\" d=\"M2181.52 1312.01 L2181.52 1319.37 L2190.29 1319.37 L2190.29 1322.68 L2181.52 1322.68 L2181.52 1336.75 Q2181.52 1339.93 2182.38 1340.83 Q2183.25 1341.73 2185.92 1341.73 L2190.29 1341.73 L2190.29 1345.3 L2185.92 1345.3 Q2180.99 1345.3 2179.11 1343.47 Q2177.24 1341.62 2177.24 1336.75 L2177.24 1322.68 L2174.11 1322.68 L2174.11 1319.37 L2177.24 1319.37 L2177.24 1312.01 L2181.52 1312.01 Z\" fill=\"#000000\" fill-rule=\"nonzero\" fill-opacity=\"1\" /><path clip-path=\"url(#clip520)\" d=\"M2195.89 1319.37 L2200.15 1319.37 L2200.15 1345.3 L2195.89 1345.3 L2195.89 1319.37 M2195.89 1309.28 L2200.15 1309.28 L2200.15 1314.67 L2195.89 1314.67 L2195.89 1309.28 Z\" fill=\"#000000\" fill-rule=\"nonzero\" fill-opacity=\"1\" /><path clip-path=\"url(#clip520)\" d=\"M2219.11 1322.36 Q2215.69 1322.36 2213.69 1325.04 Q2211.7 1327.7 2211.7 1332.36 Q2211.7 1337.01 2213.67 1339.69 Q2215.66 1342.36 2219.11 1342.36 Q2222.51 1342.36 2224.5 1339.67 Q2226.5 1336.99 2226.5 1332.36 Q2226.5 1327.75 2224.5 1325.06 Q2222.51 1322.36 2219.11 1322.36 M2219.11 1318.75 Q2224.67 1318.75 2227.84 1322.36 Q2231.01 1325.97 2231.01 1332.36 Q2231.01 1338.72 2227.84 1342.36 Q2224.67 1345.97 2219.11 1345.97 Q2213.53 1345.97 2210.36 1342.36 Q2207.21 1338.72 2207.21 1332.36 Q2207.21 1325.97 2210.36 1322.36 Q2213.53 1318.75 2219.11 1318.75 Z\" fill=\"#000000\" fill-rule=\"nonzero\" fill-opacity=\"1\" /><path clip-path=\"url(#clip520)\" d=\"M2259.62 1329.65 L2259.62 1345.3 L2255.36 1345.3 L2255.36 1329.79 Q2255.36 1326.11 2253.93 1324.28 Q2252.49 1322.45 2249.62 1322.45 Q2246.17 1322.45 2244.18 1324.65 Q2242.19 1326.85 2242.19 1330.64 L2242.19 1345.3 L2237.91 1345.3 L2237.91 1319.37 L2242.19 1319.37 L2242.19 1323.4 Q2243.72 1321.06 2245.78 1319.9 Q2247.86 1318.75 2250.57 1318.75 Q2255.04 1318.75 2257.33 1321.52 Q2259.62 1324.28 2259.62 1329.65 Z\" fill=\"#000000\" fill-rule=\"nonzero\" fill-opacity=\"1\" /></svg>\n"
      ]
     },
     "metadata": {},
     "output_type": "display_data"
    }
   ],
   "source": [
    "# plot P as a function of phi \n",
    "plot(phi_vec, P, label=\"Polarization\", xlabel=\"phi\", \n",
    "ylabel=\"P\", title=\"Polarization as a function of phi\")\n",
    "\n",
    "# Apply the Rz gate as defined in the paper arXiv:2209.08187v1 [quant-ph] 16 Sep 2022"
   ]
  },
  {
   "cell_type": "code",
   "execution_count": null,
   "metadata": {},
   "outputs": [],
   "source": [
    "## Emulate the sinusoidal behavior of the polarization P as a function of phi\n",
    "P_polarization "
   ]
  },
  {
   "cell_type": "markdown",
   "metadata": {},
   "source": [
    "#### refs\n",
    "\n",
    "https://quantumcomputing.stackexchange.com/questions/14066/how-do-i-apply-the-hadamard-gate-to-one-qubit-in-a-two-qubit-pure-state\n"
   ]
  },
  {
   "cell_type": "markdown",
   "metadata": {},
   "source": []
  }
 ],
 "metadata": {
  "kernelspec": {
   "display_name": "Julia 1.9.1",
   "language": "julia",
   "name": "julia-1.9"
  },
  "language_info": {
   "file_extension": ".jl",
   "mimetype": "application/julia",
   "name": "julia",
   "version": "1.9.1"
  },
  "orig_nbformat": 4
 },
 "nbformat": 4,
 "nbformat_minor": 2
}
