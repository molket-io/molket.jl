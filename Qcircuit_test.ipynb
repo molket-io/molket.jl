{
 "cells": [
  {
   "cell_type": "code",
   "execution_count": 1,
   "metadata": {},
   "outputs": [],
   "source": [
    "\n",
    "using LinearAlgebra\n",
    "using SpecialFunctions\n",
    "using AssociatedLegendrePolynomials"
   ]
  },
  {
   "cell_type": "code",
   "execution_count": 2,
   "metadata": {},
   "outputs": [
    {
     "name": "stdout",
     "output_type": "stream",
     "text": [
      "Load quantum gates constructor\n"
     ]
    }
   ],
   "source": [
    "\n",
    "# import conventions\n",
    "include(\"conventions.jl\")\n",
    "  using .conventions: big_endian\n",
    "# import quantum gates\n",
    "include(\"quantum_gates.jl\")\n",
    "using ..quantum_gates: Qgate"
   ]
  },
  {
   "cell_type": "code",
   "execution_count": null,
   "metadata": {},
   "outputs": [],
   "source": [
    "#include(\"lib_qcircuit/MK_qcircuit.jl\")\n"
   ]
  },
  {
   "cell_type": "code",
   "execution_count": 3,
   "metadata": {},
   "outputs": [
    {
     "name": "stdout",
     "output_type": "stream",
     "text": [
      "Load quantum gates constructor\n",
      "Load quantum gates constructor\n"
     ]
    }
   ],
   "source": [
    "include(\"quantum_circuit.jl\")\n",
    "using ..quantum_circuit: qc_initialize, init_register\n",
    "#using ..quantum_circuit: qc_initialize, init_register, print_initstate"
   ]
  },
  {
   "cell_type": "code",
   "execution_count": 4,
   "metadata": {},
   "outputs": [
    {
     "data": {
      "text/plain": [
       "1.0e-8"
      ]
     },
     "metadata": {},
     "output_type": "display_data"
    }
   ],
   "source": [
    "Ugate2 = [0 1; 1 0]\n",
    "qubit_control = 0\n",
    "qubit_target = 1\n",
    "nqubits = 2\n",
    "err_tol = 1e-8\n"
   ]
  },
  {
   "cell_type": "code",
   "execution_count": null,
   "metadata": {},
   "outputs": [],
   "source": []
  },
  {
   "cell_type": "code",
   "execution_count": 6,
   "metadata": {},
   "outputs": [
    {
     "data": {
      "text/plain": [
       "([0.0, 0.0, 0.0, 0.0], [0.0 0.0; 0.0 1.0; 1.0 0.0; 1.0 1.0], 2, 4, \"big-endian\")"
      ]
     },
     "metadata": {},
     "output_type": "display_data"
    }
   ],
   "source": [
    "register, q_states, n_bas, n_dim, q_order  = init_register(nqubits)"
   ]
  },
  {
   "cell_type": "code",
   "execution_count": 7,
   "metadata": {},
   "outputs": [
    {
     "data": {
      "text/plain": [
       "Main.quantum_circuit.qc_initstruct(2, \"big-endian\", 2, 4, [1.0, 0.0, 0.0, 0.0], [0.0 0.0; 0.0 1.0; 1.0 0.0; 1.0 1.0])"
      ]
     },
     "metadata": {},
     "output_type": "display_data"
    }
   ],
   "source": [
    "qc = qc_initialize(nqubits)"
   ]
  },
  {
   "cell_type": "code",
   "execution_count": 8,
   "metadata": {},
   "outputs": [
    {
     "data": {
      "text/plain": [
       "4-element Vector{Float64}:\n",
       " 1.0\n",
       " 0.0\n",
       " 0.0\n",
       " 0.0"
      ]
     },
     "metadata": {},
     "output_type": "display_data"
    }
   ],
   "source": [
    "qc.state_vector"
   ]
  },
  {
   "cell_type": "code",
   "execution_count": 11,
   "metadata": {},
   "outputs": [
    {
     "data": {
      "text/plain": [
       "2"
      ]
     },
     "metadata": {},
     "output_type": "display_data"
    }
   ],
   "source": [
    "qc.q_states\n",
    "qc.n_qubits"
   ]
  },
  {
   "cell_type": "code",
   "execution_count": 31,
   "metadata": {},
   "outputs": [
    {
     "data": {
      "text/plain": [
       "print_initstate (generic function with 1 method)"
      ]
     },
     "metadata": {},
     "output_type": "display_data"
    }
   ],
   "source": [
    "# print the initial state of the quantum register\n",
    "function print_initstate(qc)\n",
    "    # print the initial state of the quantum register\n",
    "    # qc::qc_initstruct: quantum register\n",
    "    # return: print the initial state of the quantum register\n",
    "    println(\"The initial state of the quantum register is: \")\n",
    "    println(qc.state_vector)\n",
    "    # print the initial state of the quantum register with the quantum \n",
    "    # states in the computational basis\n",
    "    println(\"The initial state of the quantum register with the \n",
    "    quantum states in the computational basis is: \")\n",
    "    q_table = zeros(Int, qc.n_dim, qc.n_qubits)\n",
    "    for iq=1:qc.n_qubits\n",
    "        for i in 1:qc.n_dim\n",
    "            q_table[i,iq] = trunc(Int, qc.q_states[i,iq])\n",
    "        end # end for\n",
    "    end # end for\n",
    "\n",
    "\n",
    "    for i in 1:qc.n_dim\n",
    "        println( qc.q_states[i], \" | \", string(q_table[i,:]), \">\")\n",
    "    end # end for\n",
    "    #show(stdout, \"text/plain\", [qc.state_vector trunc(Int,qc.q_states)])\n",
    "end # end print_initstate"
   ]
  },
  {
   "cell_type": "code",
   "execution_count": 32,
   "metadata": {},
   "outputs": [
    {
     "name": "stdout",
     "output_type": "stream",
     "text": [
      "The initial state of the quantum register is: \n",
      "[1.0, 0.0, 0.0, 0.0]\n",
      "The initial state of the quantum register with the \n",
      "    quantum states in the computational basis is: \n",
      "0.0 | [0, 0]>\n",
      "0.0 | [0, 1]>\n",
      "1.0 | [1, 0]>\n",
      "1.0 | [1, 1]>\n"
     ]
    }
   ],
   "source": [
    "print_initstate(qc)"
   ]
  },
  {
   "cell_type": "code",
   "execution_count": null,
   "metadata": {},
   "outputs": [],
   "source": [
    "Base.@kwdef mutable struct qc_initstruct\n",
    "    # Initialize the quantum register\n",
    "    n::Int64\n",
    "    q_order::String\n",
    "    n_bas::Int64\n",
    "    n_dim::Int64\n",
    "    state_vector::Array{Float64,1}\n",
    "    q_states::Array{Float64,2}\n",
    "end # end qc_initialize"
   ]
  },
  {
   "cell_type": "code",
   "execution_count": null,
   "metadata": {},
   "outputs": [],
   "source": [
    "\n",
    "function qc_initialize(n::Int64, \n",
    "    c_sv= nothing, \n",
    "#     c_sv::Union{Vector{Float64}, Vector{Int64}, Vector{ComplexF64}} = nothing,     \n",
    "    err_tol::Float64=err_tol,\n",
    "    q_order::String=\"big-endian\")\n",
    "    # Initialize the quantum register\n",
    "    # n::Int64: number of qubits\n",
    "    # q_order::String: order of the qubits in the quantum register\n",
    "    # return: quantum register of n qubits\n",
    "    # q_order == \"big-endian\"\n",
    "    # q_order == \"little-endian\"\n",
    "\n",
    "    ## notes:\n",
    "    # the minimum number of qubits is 2 \n",
    "\n",
    "    # start the function\n",
    "    n_bas = 2 # number of basis states\n",
    "    n_qubits = n # number of qubits\n",
    "    n_dim = 2^n # dimensions of the quantum register/Hilbert space\n",
    "    state_vector = zeros(2^n) # initialize the state_vector\n",
    "    # create the default statevector of the quantum register: \n",
    "    state_vector[1] = 1 # set the initial state to |000 ...0>\n",
    "    q_states = zeros(2^n, n) # initialize the quantum states\n",
    "    q_tab = [0;1] # initialize the basis vectors quantum table\n",
    "   \n",
    "    n_count = n_bas\n",
    "    for i = 2:n_qubits\n",
    "        q_tab = [zeros(n_count,1) q_tab\n",
    "                ones(n_count,1) q_tab]\n",
    "        n_count = n_count*2\n",
    "    end\n",
    "    q_states = q_tab # basis vectors \n",
    "\n",
    "    # check if the user has provided a custom statevector\n",
    "    # err_tol = 1e-16 # error tolerance for checking the unitary condition\n",
    "    if c_sv != nothing\n",
    "        # check if the custom statevector has the correct dimensions\n",
    "        if length(c_sv) != n_dim\n",
    "            error(\"The custom statevector has the wrong dimensions\")\n",
    "        end\n",
    "        if isapprox(norm(c_sv), 1, rtol=err_tol) == false\n",
    "            error(\"The custom statevector is not normalized\")\n",
    "        end\n",
    "        state_vector = c_sv\n",
    "    end\n",
    "\n",
    "    # one final check for the statevector\n",
    "    if isapprox(norm(state_vector), 1, rtol=err_tol) == false\n",
    "        error(\"The statevector is not normalized\")\n",
    "    end\n",
    "\n",
    "    return qc_initstruct(n, q_order, n_bas, n_dim, state_vector, q_states)\n",
    "end # end qc_initialize  "
   ]
  },
  {
   "cell_type": "code",
   "execution_count": null,
   "metadata": {},
   "outputs": [],
   "source": [
    "qc = qc_initialize(2)"
   ]
  },
  {
   "cell_type": "code",
   "execution_count": null,
   "metadata": {},
   "outputs": [],
   "source": [
    "qc.state_vector"
   ]
  },
  {
   "cell_type": "code",
   "execution_count": null,
   "metadata": {},
   "outputs": [],
   "source": []
  }
 ],
 "metadata": {
  "kernelspec": {
   "display_name": "Julia 1.9.1",
   "language": "julia",
   "name": "julia-1.9"
  },
  "language_info": {
   "file_extension": ".jl",
   "mimetype": "application/julia",
   "name": "julia",
   "version": "1.9.1"
  },
  "orig_nbformat": 4
 },
 "nbformat": 4,
 "nbformat_minor": 2
}
