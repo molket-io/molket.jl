{
 "cells": [
  {
   "cell_type": "markdown",
   "id": "6f80b4af",
   "metadata": {},
   "source": [
    "#  Iterative phase estimation\n",
    "\n",
    "|||\n",
    "|-|-|\n",
    "|**Authors:** |Taha Selim, Alain Chancé|\n",
    "|**Date:** |October 21, 2023|\n",
    "|**Version:** |**1.00**<br/>*Details see at the end of this notebook*|\n",
    "|**References:**|\n",
    "[Prof. Gerrit C. Groenenboom, Quantum theoretical chemistry (NWI-MOL112), May 26, 2023](https://www.theochem.ru.nl/ctc2/pdf/qtclecture.pdf)\n",
    "[Prof. Gerrit C. Groenenboom, Computational and Theoretical Chemistry 2, NWI-MOL176 (3EC)](https://www.theochem.ru.nl/ctc2/)\n",
    "[Keeper L. Sharkey, Alain Chancé, Quantum Chemistry and Computing for the Curious: Illustrated with Python and Qiskit® code, ISBN-13: 978-1803243900](https://www.amazon.com/Quantum-Chemistry-Computing-Curious-Illustrated/dp/1803243902/)"
   ]
  },
  {
   "cell_type": "markdown",
   "id": "8661c6af",
   "metadata": {},
   "source": [
    "The following MIT license only applies to the code, and not to the text and images.\n",
    "\n",
    "# MIT License\n",
    "\n",
    "Copyright (c) 2023 Taha Selim, Alain Chancé\n",
    "\n",
    "Permission is hereby granted, free of charge, to any person obtaining a copy\n",
    "of this software and associated documentation files (the \"Software\"), to deal\n",
    "in the Software without restriction, including without limitation the rights\n",
    "to use, copy, modify, merge, publish, distribute, sublicense, and/or sell\n",
    "copies of the Software, and to permit persons to whom the Software is\n",
    "furnished to do so, subject to the following conditions:\n",
    "\n",
    "The above copyright notice and this permission notice shall be included in all\n",
    "copies or substantial portions of the Software.\n",
    "\n",
    "THE SOFTWARE IS PROVIDED \"AS IS\", WITHOUT WARRANTY OF ANY KIND, EXPRESS OR\n",
    "IMPLIED, INCLUDING BUT NOT LIMITED TO THE WARRANTIES OF MERCHANTABILITY,\n",
    "FITNESS FOR A PARTICULAR PURPOSE AND NONINFRINGEMENT. IN NO EVENT SHALL THE\n",
    "AUTHORS OR COPYRIGHT HOLDERS BE LIABLE FOR ANY CLAIM, DAMAGES OR OTHER\n",
    "LIABILITY, WHETHER IN AN ACTION OF CONTRACT, TORT OR OTHERWISE, ARISING FROM,\n",
    "OUT OF OR IN CONNECTION WITH THE SOFTWARE OR THE USE OR OTHER DEALINGS IN THE\n",
    "SOFTWARE."
   ]
  },
  {
   "cell_type": "code",
   "execution_count": 1,
   "id": "32df75be",
   "metadata": {},
   "outputs": [],
   "source": [
    "using Plots # or StatsPlots\n",
    "using LinearAlgebra\n",
    "using SpecialFunctions\n",
    "using AssociatedLegendrePolynomials\n",
    "using LaTeXStrings\n",
    "using Quantikz"
   ]
  },
  {
   "cell_type": "markdown",
   "id": "e5d9259d",
   "metadata": {},
   "source": [
    "## Include files\n",
    "### Include lib_load.jl which loads common modules with includes"
   ]
  },
  {
   "cell_type": "code",
   "execution_count": 1,
   "id": "9c18067e",
   "metadata": {},
   "outputs": [
    {
     "ename": "UndefVarError",
     "evalue": "UndefVarError: `little_endian` not defined",
     "output_type": "error",
     "traceback": [
      "UndefVarError: `little_endian` not defined\n",
      "\n",
      "Stacktrace:\n",
      "  [1] eval\n",
      "    @ ./boot.jl:370 [inlined]\n",
      "  [2] include_string(mapexpr::typeof(REPL.softscope), mod::Module, code::String, filename::String)\n",
      "    @ Base ./loading.jl:1899\n",
      "  [3] #invokelatest#2\n",
      "    @ ./essentials.jl:816 [inlined]\n",
      "  [4] invokelatest\n",
      "    @ ./essentials.jl:813 [inlined]\n",
      "  [5] (::VSCodeServer.var\"#202#203\"{VSCodeServer.NotebookRunCellArguments, String})()\n",
      "    @ VSCodeServer ~/.vscode/extensions/julialang.language-julia-1.54.2/scripts/packages/VSCodeServer/src/serve_notebook.jl:19\n",
      "  [6] withpath(f::VSCodeServer.var\"#202#203\"{VSCodeServer.NotebookRunCellArguments, String}, path::String)\n",
      "    @ VSCodeServer ~/.vscode/extensions/julialang.language-julia-1.54.2/scripts/packages/VSCodeServer/src/repl.jl:274\n",
      "  [7] notebook_runcell_request(conn::VSCodeServer.JSONRPC.JSONRPCEndpoint{Base.PipeEndpoint, Base.PipeEndpoint}, params::VSCodeServer.NotebookRunCellArguments)\n",
      "    @ VSCodeServer ~/.vscode/extensions/julialang.language-julia-1.54.2/scripts/packages/VSCodeServer/src/serve_notebook.jl:13\n",
      "  [8] dispatch_msg(x::VSCodeServer.JSONRPC.JSONRPCEndpoint{Base.PipeEndpoint, Base.PipeEndpoint}, dispatcher::VSCodeServer.JSONRPC.MsgDispatcher, msg::Dict{String, Any})\n",
      "    @ VSCodeServer.JSONRPC ~/.vscode/extensions/julialang.language-julia-1.54.2/scripts/packages/JSONRPC/src/typed.jl:67\n",
      "  [9] serve_notebook(pipename::String, outputchannel_logger::Base.CoreLogging.SimpleLogger; crashreporting_pipename::String)\n",
      "    @ VSCodeServer ~/.vscode/extensions/julialang.language-julia-1.54.2/scripts/packages/VSCodeServer/src/serve_notebook.jl:139\n",
      " [10] top-level scope\n",
      "    @ ~/.vscode/extensions/julialang.language-julia-1.54.2/scripts/notebook/notebook.jl:32"
     ]
    }
   ],
   "source": [
    "# import conventions\n",
    "include(\"conventions.jl\")\n",
    "using .conventions: big_endian, qubit_begin, little_endian\n",
    "\n",
    "# import quantum gates\n",
    "include(\"quantum_gates.jl\")\n",
    "using ..quantum_gates: Qgate, Rz_gate1\n",
    "\n",
    "include(\"lib_tensor/QTensor.jl\")\n",
    "using ..QTensor: Qgate_T2D\n",
    "\n",
    "include(\"lib_useful/custom_functions.jl\")\n",
    "using ..custom_functions: MK_sortrows\n",
    "\n",
    "include(\"quantum_circuit.jl\")\n",
    "using ..quantum_circuit: qc_init, init_register, show_statevector, op\n",
    "#using ..quantum_circuit: qc_init, init_register, print_initstate"
   ]
  },
  {
   "cell_type": "markdown",
   "id": "6d6a351a",
   "metadata": {},
   "source": [
    "# Qubits and quantum gates\n",
    "## Qubits\n",
    "A qubit is a quantum unit of information that represents a two-level quantum system and lives in a two-dimensional Hilbert space $\\mathbb C^2$. The computational basis states of the quantum space are denoted as $\\{|0\\rangle,|1\\rangle\\}$:\n",
    "\n",
    "$$|0\\rangle=\\left(\\begin{array}{l}\n",
    "1 \\\\\n",
    "0\n",
    "\\end{array}\\right) \n",
    "|1\\rangle=\\left(\\begin{array}{l}\n",
    "0 \\\\\n",
    "1\n",
    "\\end{array}\\right)$$\n",
    "\n",
    "Any single-qubit state is described by a linear superposition of the computational basis with complex coefficients:  \n",
    "$$|\\psi\\rangle=\\alpha|0\\rangle+\\beta|1\\rangle=\\left(\\begin{array}{l}\n",
    "\\alpha \\\\\n",
    "\\beta\n",
    "\\end{array}\\right) \\in \\mathbb{C}^{2}$$\n",
    "\n",
    "where 𝛼 and 𝛽 satisfy:\n",
    "$$|\\alpha|^{2}+|\\beta|^{2}=1$$\n",
    "\n",
    "A qubit is in a quantum superposition during the execution of an algorithm.  When it is measured in the computational basis, a qubit will be found in either state $|0\\rangle$ or in state $|1\\rangle$ with probability $|\\alpha|^{2}$ and $|\\beta|^{2}$ respectively. If there are $n$ qubits in the system, the state is described by a vector in the $2^n$ dimensional Hilbert space $(\\mathbb{C}^2)^{⊗n}$ formed by taking the tensor product of the Hilbert spaces of the individual qubits. For example, for 10 qubits, the state is described by a vector in a 1024-dimensional Hilbert space. \n",
    "\n",
    "## Tensor ordering of qubits\n",
    "The physics community typically orders a tensor product of $n$ qubits with the first qubit on the left-most side of the tensor product: \n",
    "\n",
    "$$|q\\rangle=\\left|q_{0}\\right\\rangle\\left|q_{1}\\right\\rangle \\ldots\\left|q_{n-1}\\right\\rangle=\\left|q_{0}, q_{1}, \\ldots, q_{n-1}\\right\\rangle=\\bigotimes_{i=0}^{n-1}\\left|q_{i}\\right\\rangle$$\n",
    "\n",
    "However, Qiskit uses an ordering in which the $n^{th}$ qubit is first in the order and the $0^{th}$ qubit is last:\n",
    "\n",
    "$$|q\\rangle=\n",
    "\\left|q_{n-1}\\right\\rangle\\ldots\\left|q_{1}\\right\\rangle\\left|q_{0}\\right\\rangle\n",
    "=\\left|q_{n-1}, \\ldots, q_{1}, q_{0}\\right\\rangle\n",
    "=\\bigotimes_{i=n-1}^{0}\\left|q_{i}\\right\\rangle$$\n",
    "\n",
    "In other words, if qubit $0$ is in state $|0\\rangle$, qubit $1$ is in state $|0\\rangle$, and qubit 2 is in state $|1\\rangle$, the state represented in many physics textbooks as $|001\\rangle$ is represented by Qiskit as $|100\\rangle$. This difference affects the way multi-qubit operations are represented as matrices.\n",
    "\n",
    "## Single qubit quantum gates\n",
    "A single qubit quantum gate $U$ has a $(2\\times2)$ unitary matrix form: $U^\\dagger U=UU^\\dagger= 1$.\n",
    "\n",
    "### X Gate\n",
    "An X gate maps $|0\\rangle$ to $|1\\rangle$ and $|1\\rangle$ to $|0\\rangle$. For classical computing, the NOT gate changes a 0 to a 1 and a 1 to a 0.\n",
    "\n",
    "$$X = \\begin{pmatrix}\n",
    "0 & 1 \\\\\n",
    "1 & 0 \\\\\n",
    "\\end{pmatrix}$$\n",
    "\n",
    "### H Gate\n",
    "A Hadamard gate maps the basis state $|0\\rangle$ to $\\frac{|0\\rangle + |1\\rangle}{\\sqrt{2}}$ which is also written as $|+\\rangle$ and $|1\\rangle$ to $\\frac{|0\\rangle - |1\\rangle}{\\sqrt{2}}$ which is also written as $|-\\rangle$. A measurement of the state $|+\\rangle$ or of the state $|-\\rangle$ will have equal probabilities of being $0$ or $1$, creating a superposition of states.\n",
    "\n",
    "$$H = \\frac{1}{\\sqrt{2}}\\begin{pmatrix}\n",
    "1 & 1 \\\\\n",
    "1 & -1 \\\\\n",
    "\\end{pmatrix}$$\n",
    "\n",
    "## Two qubits quantum gates\n",
    "A two qubits gate $U$ has a 4x4 unitary matrix form, $U^\\dagger U=UU^\\dagger= 1$.\n",
    "\n",
    "### Controlled Not (CNOT, CX) Gate\n",
    "\n",
    "If the first qubit is |1⟩ it performs the Pauli-X (NOT) operation on the second qubit, otherwise it leaves it unchanged\n",
    "\n",
    "With the tensor ordering of qubits used in most physics textbooks:\n",
    "\n",
    "$$CX = \\begin{pmatrix}\n",
    "1 & 0 & 0 & 0 \\\\\n",
    "0 & 1 & 0 & 0 \\\\\n",
    "0 & 0 & 0 & 1 \\\\\n",
    "0 & 0 & 1 & 0 \\end{pmatrix}$$\n",
    "\n",
    "With Qiskit tensor ordering of qubits:\n",
    "\n",
    "$$CX = \\begin{pmatrix}\n",
    "1 & 0 & 0 & 0 \\\\\n",
    "0 & 0 & 0 & 1 \\\\\n",
    "0 & 0 & 1 & 0 \\\\\n",
    "0 & 1 & 0 & 0 \\\\\n",
    "\\end{pmatrix}$$"
   ]
  },
  {
   "cell_type": "markdown",
   "id": "c753ad2d",
   "metadata": {},
   "source": [
    "## Quantum Phase Estimation (QPE)\n",
    "In quantum chemistry we need very accurate calculations of the total electronic energy of each molecule species involved in a chemical reaction [Burg]. The Quantum Phase Estimation (QPE) algorithm has a unique feature that it allows a bounded-error simulation of quantum systems which makes it one of the most promising application of future fault tolerant quantum computing. Given a unitary operator $U$, its eigenstate and eigenvalues, $U|\\psi\\rangle=e^{2 \\pi i \\theta}|\\psi\\rangle$, the ability to prepare a state $|\\psi\\rangle$ and the ability to apply $U$ itself, the QPE algorithm calculates $2^n θ$ where $n$ is the number of qubits used to estimate $\\theta$ thereby allowing measurement of $\\theta$ as precise as we want.\n",
    "\n",
    "Recall that in Section 2.5, Postulate 5 – Time evolution dynamics, we saw that time evolution dynamics of a quantum system is described by the Schrödinger’s equation:\n",
    "\n",
    "$$i \\hbar \\frac{d}{d t}|\\psi\\rangle=\\hat{H}|\\psi\\rangle$$\n",
    "\n",
    "For a time independent Hamiltonian $\\hat{H}$ with initial condition$\\left|\\psi\\left(t_{0}\\right)\\right\\rangle$ the solution is:\n",
    "\n",
    "$$|\\psi(t)\\rangle=U(t)\\left|\\psi\\left(t_{0}\\right)\\right\\rangle$$\n",
    "\n",
    "where $U(t)=\\exp \\left(-i \\frac{t}{\\hbar} \\hat{H}\\right)$ is the unitary time-evolution operator. Further recall that any unitary matrix has eigenvalues of the form $e^{i \\theta}$. An eigenvalue of $U(t)$ is also an eigenvalue of $\\hat{H}$.\n",
    "\n",
    "First we define a function $U(\\theta)$ which creates a quantum circuit with a single qubit $\\left|q_{0}\\right\\rangle$ and applies the following unitary:\n",
    "\n",
    "$$U(\\theta)\\left|q_{0}\\right\\rangle=e^{2 \\pi i \\theta}\\left|q_{0}\\right\\rangle=p(2 \\pi \\theta)\\left|q_{0}\\right\\rangle$$\n",
    "\n",
    "where $p(\\lambda)$ is the gate which has the matrix form:\n",
    "\n",
    "$$p(λ)= \\begin{pmatrix}\n",
    "1 & 0 \\\\\n",
    "0 & e^{i\\lambda} \\\\\n",
    "\\end{pmatrix}$$"
   ]
  },
  {
   "cell_type": "markdown",
   "id": "55e27dce",
   "metadata": {},
   "source": [
    "### Define the function U_op() which applies the unitary operator whose eigenvalue will be measured"
   ]
  },
  {
   "cell_type": "code",
   "execution_count": 2,
   "id": "2288e4df",
   "metadata": {},
   "outputs": [
    {
     "data": {
      "text/plain": [
       "U_op (generic function with 2 methods)"
      ]
     },
     "metadata": {},
     "output_type": "display_data"
    }
   ],
   "source": [
    "function U_op(theta::Float64, endian=little_endian)\n",
    "    qc = qc_init(2, endian)\n",
    "    p = Qgate.P(pi*2*theta)\n",
    "    p = Qgate_T2D(p, 0, 2, endian)\n",
    "    op(qc,p)\n",
    "    return qc\n",
    "end"
   ]
  },
  {
   "cell_type": "code",
   "execution_count": 7,
   "id": "dad96c4a",
   "metadata": {},
   "outputs": [
    {
     "data": {
      "text/plain": [
       "4×4 Matrix{ComplexF64}:\n",
       " 1.0+0.0im  0.0+0.0im       0.0+0.0im            0.0+0.0im\n",
       " 0.0+0.0im  1.0+0.0im       0.0+0.0im            0.0+0.0im\n",
       " 0.0+0.0im  0.0+0.0im  0.707107-0.707107im       0.0-0.0im\n",
       " 0.0+0.0im  0.0+0.0im       0.0-0.0im       0.707107-0.707107im"
      ]
     },
     "metadata": {},
     "output_type": "display_data"
    }
   ],
   "source": [
    "p = Qgate.P(pi*2*theta)\n",
    "p = Qgate_T2D(p, 0, 2, little_endian)"
   ]
  },
  {
   "cell_type": "code",
   "execution_count": 8,
   "id": "6bee3455",
   "metadata": {},
   "outputs": [
    {
     "data": {
      "text/plain": [
       "Main.quantum_circuit.qc_initstruct(2, \"little-endian\", 2, 4, ComplexF64[1.0 + 0.0im, 0.0 + 0.0im, 0.0 + 0.0im, 0.0 + 0.0im], [0.0 0.0; 1.0 0.0; 0.0 1.0; 1.0 1.0], false, false)"
      ]
     },
     "metadata": {},
     "output_type": "display_data"
    }
   ],
   "source": [
    "theta = 1/2 + 1/4 + 1/8\n",
    "u = U_op(theta)"
   ]
  },
  {
   "cell_type": "code",
   "execution_count": 9,
   "id": "b7e382d3",
   "metadata": {},
   "outputs": [
    {
     "name": "stdout",
     "output_type": "stream",
     "text": [
      "1.0 + 0.0im * | [0, 0]>\n",
      "0.0 + 0.0im * | [0, 1]>\n",
      "0.0 + 0.0im * | [1, 0]>\n",
      "0.0 + 0.0im * | [1, 1]>\n"
     ]
    }
   ],
   "source": [
    "show_statevector(u)"
   ]
  },
  {
   "cell_type": "markdown",
   "id": "dd86e4c6",
   "metadata": {},
   "source": [
    "### Define the function construct_circuit() which builds the $k^{th}$ iteration Quantum Phase Estimation circuit.\n",
    "\n",
    "Arguments:\n",
    "- u: The circuit representing the unitary operator whose eigenvalue (via phase) will be measured and one auxiliary qubit\n",
    "- k: the iteration index.\n",
    "- omega: the feedback angle.\n",
    "- endian: big_endian or little_endian\n",
    "\n",
    "Returns:\n",
    "- u: the quantum circuit per iteration"
   ]
  },
  {
   "cell_type": "code",
   "execution_count": 6,
   "id": "8330c4e2",
   "metadata": {},
   "outputs": [
    {
     "data": {
      "text/plain": [
       "construct_circuit (generic function with 2 methods)"
      ]
     },
     "execution_count": 6,
     "metadata": {},
     "output_type": "execute_result"
    }
   ],
   "source": [
    "function construct_circuit(u::Main.quantum_circuit.qc_initstruct, k::Int64, omega::Float64, endian=little_endian)\n",
    "    \n",
    "    Hgate = Qgate.H\n",
    "    Hgate = Qgate_T2D(Hgate, 1, 2, endian)\n",
    "    \n",
    "    p = Qgate.U(0.0, 0.0, omega)\n",
    "    p = Qgate_T2D(p, 0, 2, endian)\n",
    "    \n",
    "    C_U = Qgate.C_U(1, 0, 0.0, 0.0, 0.0, omega, endian)\n",
    "    \n",
    "    # Hadamard on circuit u qubit 1\n",
    "    op(u, Hgate)\n",
    "    \n",
    "    # Apply 2^(k-1) times the Controlled-U operators\n",
    "    r = 2^(k-1)\n",
    "    println(\"r: \",r)\n",
    "    \n",
    "    for i in 1:r\n",
    "        op(u, C_U)\n",
    "    end\n",
    "    \n",
    "    # Apply phase gate with angle omega\n",
    "    op(u, p)\n",
    "    \n",
    "    # Hadamard on circuit u qubit 1\n",
    "    op(u, Hgate)\n",
    "    \n",
    "    return u\n",
    "end"
   ]
  },
  {
   "cell_type": "markdown",
   "id": "e1eb794d",
   "metadata": {},
   "source": [
    "### Define the function estimate() which iteratively estimates the eigenphase of the input unitary and initial-state\n",
    "\n",
    "Arguments:\n",
    "- n_iter: The number of iterations\n",
    "- u: The circuit representing the unitary operator whose eigenvalue (via phase) will be measured and one auxiliary qubit\n",
    "\n",
    "Returns:\n",
    "- Estimated phase"
   ]
  },
  {
   "cell_type": "code",
   "execution_count": 7,
   "id": "309b9716",
   "metadata": {},
   "outputs": [
    {
     "data": {
      "text/plain": [
       "estimate (generic function with 2 methods)"
      ]
     },
     "execution_count": 7,
     "metadata": {},
     "output_type": "execute_result"
    }
   ],
   "source": [
    "function estimate(n_iter::Int64, u::Main.quantum_circuit.qc_initstruct, endian=little_endian)\n",
    "    \n",
    "    Xgate = Qgate.X\n",
    "    Xgate = Qgate_T2D(Xgate, 0, 2, endian)\n",
    "    \n",
    "    # X on circuit u qubit 0\n",
    "    op(u, Xgate)\n",
    "    \n",
    "    omega_coef = 0\n",
    "    \n",
    "    for k in n_iter:-1:1\n",
    "        omega_coef /= 2\n",
    "        u = construct_circuit(u, k, -2*pi*omega_coef)\n",
    "        \n",
    "        # Simulate measurement \n",
    "        x = 1\n",
    "        \n",
    "        omega_coef = omega_coef + x/2\n",
    "    end\n",
    "    \n",
    "    return omega_coef\n",
    "end"
   ]
  },
  {
   "cell_type": "markdown",
   "id": "fb221910",
   "metadata": {},
   "source": [
    "### Run the iterative phase estimation"
   ]
  },
  {
   "cell_type": "code",
   "execution_count": 8,
   "id": "5cd28a6f",
   "metadata": {},
   "outputs": [
    {
     "name": "stdout",
     "output_type": "stream",
     "text": [
      "r: 4\n",
      "r: 2\n",
      "r: 1\n"
     ]
    },
    {
     "data": {
      "text/plain": [
       "0.875"
      ]
     },
     "execution_count": 8,
     "metadata": {},
     "output_type": "execute_result"
    }
   ],
   "source": [
    "theta = 1/2 + 1/4 + 1/8\n",
    "u = U_op(theta)\n",
    "estimate(3, u)"
   ]
  },
  {
   "cell_type": "code",
   "execution_count": 9,
   "id": "b9be4ab5",
   "metadata": {},
   "outputs": [
    {
     "name": "stdout",
     "output_type": "stream",
     "text": [
      "r: 128\n",
      "r: 64\n",
      "r: 32\n",
      "r: 16\n",
      "r: 8\n",
      "r: 4\n",
      "r: 2\n",
      "r: 1\n"
     ]
    },
    {
     "data": {
      "text/plain": [
       "0.99609375"
      ]
     },
     "execution_count": 9,
     "metadata": {},
     "output_type": "execute_result"
    }
   ],
   "source": [
    "theta = 1/2 + 1/4 + 1/8 + 1/16 + 1/32 + 1/64 + 1/128 + 1/256\n",
    "u = U_op(theta)\n",
    "estimate(8, u)"
   ]
  },
  {
   "cell_type": "markdown",
   "id": "e6f98f05",
   "metadata": {},
   "source": [
    "## References\n",
    "\n",
    "[Groenenboom 1] Prof. Gerrit C. Groenenboom, Quantum theoretical chemistry (NWI-MOL112), May 26, 2023, https://www.theochem.ru.nl/ctc2/pdf/qtclecture.pdf\n",
    "\n",
    "[Groenenboom 2] Prof. Gerrit C. Groenenboom, Computational and Theoretical Chemistry 2, NWI-MOL176 (3EC),https://www.theochem.ru.nl/ctc2/\n",
    "\n",
    "[Sharkey] Sharkey, Keeper L., and Chancé, Alain. 2022. Quantum Chemistry and Computing for the Curious: Illustrated with Python and Qiskit Code. Packt, Pub. ISBN-13: 978-1803243900\n",
    "\n",
    "[IPE] IterativePhaseEstimation, https://qiskit.org/ecosystem/algorithms/stubs/qiskit_algorithms.IterativePhaseEstimation.html\n",
    "\n",
    "[IPE_Source] Source code for qiskit.algorithms.phase_estimators.ipe,\n",
    "https://qiskit.org/documentation/stable/0.41/_modules/qiskit/algorithms/phase_estimators/ipe.html#IterativePhaseEstimation\n",
    "\n",
    "[lab3] ibm-quantum-challenge-spring-2023, lab3.ipynb, https://github.com/qiskit-community/ibm-quantum-challenge-spring-2023/blob/main/content/lab_3/lab3.ipynb\n",
    "\n",
    "[IPE_video] Iterative Quantum Phase Estimation | Qiskit Global Summer School 2023, https://www.youtube.com/watch?v=aLSM0_H8hUE\n",
    "\n",
    "[DavitKhach] Iterative quantum phase estimation, https://github.com/DavitKhach/quantum-algorithms-tutorials/blob/master/iterative_quantum_phase_estimation.ipynb\n",
    "\n",
    "[Devesh] Implementing Quantum Phase Estimation Algorithm using Qiskit, https://medium.com/@deveshq/implementing-quantum-phase-estimation-algorithm-using-qiskit-e808e8167d32"
   ]
  },
  {
   "cell_type": "markdown",
   "id": "2449729f",
   "metadata": {},
   "source": [
    "## Display Julia version information"
   ]
  },
  {
   "cell_type": "code",
   "execution_count": 10,
   "id": "64bc467a",
   "metadata": {},
   "outputs": [
    {
     "name": "stdout",
     "output_type": "stream",
     "text": [
      "Julia Version 1.9.1\n",
      "Commit 147bdf428cd (2023-06-07 08:27 UTC)\n",
      "Platform Info:\n",
      "  OS: Linux (x86_64-linux-gnu)\n",
      "  CPU: 4 × DO-Regular\n",
      "  WORD_SIZE: 64\n",
      "  LIBM: libopenlibm\n",
      "  LLVM: libLLVM-14.0.6 (ORCJIT, haswell)\n",
      "  Threads: 2 on 4 virtual cores\n"
     ]
    }
   ],
   "source": [
    "# Display Julia version information\n",
    "versioninfo()"
   ]
  }
 ],
 "metadata": {
  "kernelspec": {
   "display_name": "Julia 1.9.1",
   "language": "julia",
   "name": "julia-1.9"
  },
  "language_info": {
   "file_extension": ".jl",
   "mimetype": "application/julia",
   "name": "julia",
   "version": "1.9.1"
  }
 },
 "nbformat": 4,
 "nbformat_minor": 5
}
