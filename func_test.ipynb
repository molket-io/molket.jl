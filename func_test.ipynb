{
 "cells": [
  {
   "cell_type": "code",
   "execution_count": 2,
   "metadata": {},
   "outputs": [],
   "source": [
    "\n",
    "using LinearAlgebra\n",
    "using SpecialFunctions\n",
    "using AssociatedLegendrePolynomials\n"
   ]
  },
  {
   "cell_type": "code",
   "execution_count": 7,
   "metadata": {},
   "outputs": [
    {
     "name": "stderr",
     "output_type": "stream",
     "text": [
      "WARNING: replacing module MK_SphericalHarmonics.\n"
     ]
    }
   ],
   "source": [
    "\n",
    "include(\"lib_SphericalHarmonics/MK_SphericalHarmonics.jl\")\n",
    "using ..MK_SphericalHarmonics: Ylm, Clm, Slm"
   ]
  },
  {
   "cell_type": "code",
   "execution_count": 8,
   "metadata": {},
   "outputs": [
    {
     "name": "stderr",
     "output_type": "stream",
     "text": [
      "WARNING: replacing module MK_SpecialPolynomials.\n",
      "WARNING: ignoring conflicting import of MK_SpecialPolynomials.laguerre into Main\n",
      "WARNING: ignoring conflicting import of MK_SpecialPolynomials.glaguerre into Main\n"
     ]
    }
   ],
   "source": [
    "include(\"lib_specialpolynomials/MK_SpecialPolynomials.jl\")\n",
    "using ..MK_SpecialPolynomials: laguerre, glaguerre"
   ]
  },
  {
   "cell_type": "code",
   "execution_count": 11,
   "metadata": {},
   "outputs": [
    {
     "name": "stderr",
     "output_type": "stream",
     "text": [
      "WARNING: replacing module hydrogen3D.\n"
     ]
    }
   ],
   "source": [
    "include(\"lib_wavefunctions/hydrogen3D.jl\")\n",
    "using ..hydrogen3D: psi_2Dhydrogen, psi_3Dhydrogen"
   ]
  },
  {
   "cell_type": "code",
   "execution_count": 12,
   "metadata": {},
   "outputs": [
    {
     "data": {
      "text/plain": [
       "(-0.0009322073715157083 - 0.001451826961378806im, -0.01652892561983471)"
      ]
     },
     "metadata": {},
     "output_type": "display_data"
    }
   ],
   "source": [
    "psi3, e3 = hydrogen3D.psi_3Dhydrogen(5,3, 1, 10.0, 1.0, 1.0)"
   ]
  },
  {
   "cell_type": "code",
   "execution_count": null,
   "metadata": {},
   "outputs": [],
   "source": [
    "using LinearAlgebra\n"
   ]
  },
  {
   "cell_type": "code",
   "execution_count": null,
   "metadata": {},
   "outputs": [],
   "source": [
    "mu = 1\n",
    "omega = 1\n",
    "n = 4\n",
    "re = 0.0\n",
    "alpha = sqrt(mu*omega)\n",
    "x     = diagm(1 => sqrt.(0.5*(1:n-1)))\n",
    "xt, U     = eigen(x+x')\n",
    "# calculating the weights\n",
    "wt      = sqrt(pi)*(U[1,:]).^2 .* exp.(xt.^2)\n",
    "# scaling and shifting\n",
    "# sum re and xt\n",
    "xt2     = re .+ xt\n",
    "wt2     = wt/alpha\n"
   ]
  },
  {
   "cell_type": "code",
   "execution_count": 20,
   "metadata": {},
   "outputs": [
    {
     "name": "stderr",
     "output_type": "stream",
     "text": [
      "WARNING: replacing module MK_GaussQuadratures.\n",
      "WARNING: ignoring conflicting import of MK_GaussQuadratures.guass_hermite_quadratures into Main\n"
     ]
    }
   ],
   "source": [
    "include(\"lib_quadrature/MK_GaussQuadratures.jl\")\n",
    "using ..MK_GaussQuadratures: guass_hermite_quadratures"
   ]
  },
  {
   "cell_type": "code",
   "execution_count": 24,
   "metadata": {},
   "outputs": [
    {
     "data": {
      "text/plain": [
       "([-1.65068012388578, -0.5246476232752897, 0.5246476232752919, 1.6506801238857844], [1.2402258176957994, 1.05996448289497, 1.05996448289497, 1.2402258176958127], [-1.65068012388578, -0.5246476232752897, 0.5246476232752919, 1.6506801238857844], [1.2402258176957994, 1.05996448289497, 1.05996448289497, 1.2402258176958127], 1.0)"
      ]
     },
     "metadata": {},
     "output_type": "display_data"
    }
   ],
   "source": [
    "xt, wt, xt2, wt2= guass_hermite_quadratures(4)"
   ]
  },
  {
   "cell_type": "code",
   "execution_count": 25,
   "metadata": {},
   "outputs": [
    {
     "data": {
      "text/plain": [
       "4-element Vector{Float64}:\n",
       " -1.65068012388578\n",
       " -0.5246476232752897\n",
       "  0.5246476232752919\n",
       "  1.6506801238857844"
      ]
     },
     "metadata": {},
     "output_type": "display_data"
    }
   ],
   "source": [
    "xt"
   ]
  },
  {
   "cell_type": "code",
   "execution_count": 1,
   "metadata": {},
   "outputs": [
    {
     "data": {
      "text/plain": [
       "Qgate_CU_T4D (generic function with 4 methods)"
      ]
     },
     "metadata": {},
     "output_type": "display_data"
    }
   ],
   "source": []
  },
  {
   "cell_type": "code",
   "execution_count": 2,
   "metadata": {},
   "outputs": [
    {
     "ename": "MethodError",
     "evalue": "MethodError: objects of type Matrix{Int64} are not callable\nUse square brackets [] for indexing an Array.",
     "output_type": "error",
     "traceback": [
      "MethodError: objects of type Matrix{Int64} are not callable\n",
      "Use square brackets [] for indexing an Array.\n",
      "\n",
      "Stacktrace:\n",
      " [1] Qgate_CU_T4D(Ugate::Matrix{Int64}, qubit_control::Int64, qubit_target::Int64, nqubits::Int64, qubit_start_1::Bool, big_endian::Bool, err_tol::Float64)\n",
      "   @ Main ~/Documents/TSprime/master_work/MolKet/showcases/molket_pkg/func_test.ipynb:16\n",
      " [2] top-level scope\n",
      "   @ ~/Documents/TSprime/master_work/MolKet/showcases/molket_pkg/func_test.ipynb:8"
     ]
    }
   ],
   "source": []
  },
  {
   "cell_type": "code",
   "execution_count": null,
   "metadata": {},
   "outputs": [],
   "source": []
  }
 ],
 "metadata": {
  "kernelspec": {
   "display_name": "Julia 1.9.1",
   "language": "julia",
   "name": "julia-1.9"
  },
  "language_info": {
   "file_extension": ".jl",
   "mimetype": "application/julia",
   "name": "julia",
   "version": "1.9.1"
  },
  "orig_nbformat": 4
 },
 "nbformat": 4,
 "nbformat_minor": 2
}
