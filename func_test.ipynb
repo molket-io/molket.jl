{
 "cells": [
  {
   "cell_type": "code",
   "execution_count": 7,
   "metadata": {},
   "outputs": [],
   "source": [
    "\n",
    "using LinearAlgebra\n",
    "using SpecialFunctions\n",
    "using AssociatedLegendrePolynomials\n"
   ]
  },
  {
   "cell_type": "code",
   "execution_count": 34,
   "metadata": {},
   "outputs": [
    {
     "name": "stderr",
     "output_type": "stream",
     "text": [
      "WARNING: replacing module MKsphericalharmonics.\n",
      "WARNING: ignoring conflicting import of MKsphericalharmonics.Ylm into Main\n",
      "WARNING: ignoring conflicting import of MKsphericalharmonics.Clm into Main\n",
      "WARNING: ignoring conflicting import of MKsphericalharmonics.Slm into Main\n"
     ]
    }
   ],
   "source": [
    "\n",
    "include(\"lib_sphericalharmonics/MKsphericalharmonics.jl\")\n",
    "using ..MKsphericalharmonics: Ylm, Clm, Slm"
   ]
  },
  {
   "cell_type": "code",
   "execution_count": 36,
   "metadata": {},
   "outputs": [
    {
     "data": {
      "text/plain": [
       "-0.3862742020231896 - 4.730494651008972e-17im"
      ]
     },
     "metadata": {},
     "output_type": "display_data"
    }
   ],
   "source": [
    "phi = 90\n",
    "theta = 90\n",
    "theta_rad = theta*pi/180\n",
    "phi_rad = phi*pi/180\n",
    "l = 2\n",
    "m = -2\n",
    "PP = legendre(LegendreSphereNorm(), l, abs(m), cos(theta_rad))*exp(1im*m*phi_rad)\n",
    "# spherical harmonics version \n"
   ]
  },
  {
   "cell_type": "code",
   "execution_count": 37,
   "metadata": {},
   "outputs": [
    {
     "data": {
      "text/plain": [
       "-0.3862742020231896 - 4.730494651008972e-17im"
      ]
     },
     "metadata": {},
     "output_type": "display_data"
    }
   ],
   "source": [
    "Y_lm = MKsphericalharmonics.Ylm(l,m,theta_rad,phi_rad)"
   ]
  },
  {
   "cell_type": "code",
   "execution_count": 35,
   "metadata": {},
   "outputs": [
    {
     "ename": "UndefVarError",
     "evalue": "UndefVarError: `l` not defined",
     "output_type": "error",
     "traceback": [
      "UndefVarError: `l` not defined\n",
      "\n",
      "Stacktrace:\n",
      " [1] top-level scope\n",
      "   @ ~/Documents/TSprime/master_work/MolKet/showcases/molket_pkg/func_test.ipynb:1"
     ]
    }
   ],
   "source": [
    "C_lm = MKsphericalharmonics.Clm(l,m,theta_rad,phi_rad)"
   ]
  },
  {
   "cell_type": "code",
   "execution_count": 46,
   "metadata": {},
   "outputs": [
    {
     "data": {
      "text/plain": [
       "glaguerre (generic function with 2 methods)"
      ]
     },
     "metadata": {},
     "output_type": "display_data"
    }
   ],
   "source": [
    "\n",
    "\n",
    "function glaguerre(n::Int64,alpha::Int64,x::Union{Float64,Int64})\n",
    "  # Generalized Gauss-Laguerre polynomials\n",
    "  # Function to evaluate associate Laguerre polynomials and \n",
    "  # binomial coefficients\n",
    "  # L_n^(alpha)(x)\n",
    "  # Inputs\n",
    "  # n     : degree\n",
    "  # alpha : arbitrary real\n",
    "  # x     : the point\n",
    "  # Outputs\n",
    "  # L_n^(alpha)(x)\n",
    "  # Reference:\n",
    "  # Abramowitz, M. and Stegun, I. A. (Eds.). \"Orthogonal Polynomials.\" Ch. 22\n",
    "  # in Handbook of Mathematical Functions\n",
    "  # with Formulas, Graphs, and Mathematical Tables,\n",
    "  # 9th printing. New York: Dover, pp. 771-802, 1972.\n",
    "  # Reference:\n",
    "  # https://en.wikipedia.org/wiki/Laguerre_polynomials\n",
    "  LL = 0\n",
    "  for m in 0:n\n",
    "    fac1 = (-1)^m\n",
    "    fac2 = gamma(n+alpha+1) / (gamma(n-m+1) * gamma(n+alpha-n+m+1))\n",
    "    fac3 = 1 / factorial(m)\n",
    "    LL += fac1 * fac2 * fac3 * x^m\n",
    "  end\n",
    "  return LL\n",
    "end # function glaguerre  "
   ]
  },
  {
   "cell_type": "code",
   "execution_count": 9,
   "metadata": {},
   "outputs": [
    {
     "ename": "MethodError",
     "evalue": "MethodError: no method matching glaguerre(::Int64, ::Int64, ::Int64)\n\nClosest candidates are:\n  glaguerre(::Int64, ::Int64, !Matched::Float64)\n   @ Main.MK_SpecialPolynomials ~/Documents/TSprime/master_work/MolKet/showcases/molket_pkg/lib_specialpolynomials/MK_SpecialPolynomials.jl:12\n",
     "output_type": "error",
     "traceback": [
      "MethodError: no method matching glaguerre(::Int64, ::Int64, ::Int64)\n",
      "\n",
      "Closest candidates are:\n",
      "  glaguerre(::Int64, ::Int64, !Matched::Float64)\n",
      "   @ Main.MK_SpecialPolynomials ~/Documents/TSprime/master_work/MolKet/showcases/molket_pkg/lib_specialpolynomials/MK_SpecialPolynomials.jl:12\n",
      "\n",
      "\n",
      "Stacktrace:\n",
      " [1] top-level scope\n",
      "   @ ~/Documents/TSprime/master_work/MolKet/showcases/molket_pkg/func_test.ipynb:1"
     ]
    }
   ],
   "source": [
    "Ln = glaguerre(10, 10,10)"
   ]
  },
  {
   "cell_type": "code",
   "execution_count": 10,
   "metadata": {},
   "outputs": [
    {
     "name": "stderr",
     "output_type": "stream",
     "text": [
      "WARNING: replacing module MK_SpecialPolynomials.\n",
      "WARNING: ignoring conflicting import of MK_SpecialPolynomials.laguerre into Main\n",
      "WARNING: ignoring conflicting import of MK_SpecialPolynomials.glaguerre into Main\n"
     ]
    }
   ],
   "source": [
    "include(\"lib_specialpolynomials/MK_SpecialPolynomials.jl\")\n",
    "using ..MK_SpecialPolynomials: laguerre, glaguerre"
   ]
  },
  {
   "cell_type": "code",
   "execution_count": 11,
   "metadata": {},
   "outputs": [
    {
     "data": {
      "text/plain": [
       "-210.843033507781"
      ]
     },
     "metadata": {},
     "output_type": "display_data"
    }
   ],
   "source": [
    "Ln = MK_SpecialPolynomials.glaguerre(10, 10,10.0)"
   ]
  },
  {
   "cell_type": "code",
   "execution_count": 33,
   "metadata": {},
   "outputs": [
    {
     "data": {
      "text/plain": [
       "27.984126984161776"
      ]
     },
     "metadata": {},
     "output_type": "display_data"
    }
   ],
   "source": [
    "Ln = MK_SpecialPolynomials.laguerre(10, 10.0)"
   ]
  },
  {
   "cell_type": "code",
   "execution_count": 49,
   "metadata": {},
   "outputs": [
    {
     "name": "stderr",
     "output_type": "stream",
     "text": [
      "WARNING: replacing module hydrogen3D.\n",
      "WARNING: ignoring conflicting import of hydrogen3D.psi_2Dhydrogen into Main\n",
      "WARNING: ignoring conflicting import of hydrogen3D.psi_3Dhydrogen into Main\n"
     ]
    }
   ],
   "source": [
    "include(\"lib_wavefunctions/hydrogen3D.jl\")\n",
    "using ..hydrogen3D: psi_2Dhydrogen, psi_3Dhydrogen"
   ]
  },
  {
   "cell_type": "code",
   "execution_count": 54,
   "metadata": {},
   "outputs": [
    {
     "data": {
      "text/plain": [
       "(-0.0009322073715157083 - 0.001451826961378806im, -0.01652892561983471)"
      ]
     },
     "metadata": {},
     "output_type": "display_data"
    }
   ],
   "source": [
    "psi3, e3 = hydrogen3D.psi_3Dhydrogen(5,3, 1, 10.0, 1.0, 1.0)"
   ]
  },
  {
   "cell_type": "code",
   "execution_count": 55,
   "metadata": {},
   "outputs": [
    {
     "data": {
      "text/plain": [
       "-0.01652892561983471"
      ]
     },
     "metadata": {},
     "output_type": "display_data"
    }
   ],
   "source": [
    "e3"
   ]
  },
  {
   "cell_type": "code",
   "execution_count": null,
   "metadata": {},
   "outputs": [],
   "source": []
  }
 ],
 "metadata": {
  "kernelspec": {
   "display_name": "Julia 1.9.1",
   "language": "julia",
   "name": "julia-1.9"
  },
  "language_info": {
   "file_extension": ".jl",
   "mimetype": "application/julia",
   "name": "julia",
   "version": "1.9.1"
  },
  "orig_nbformat": 4
 },
 "nbformat": 4,
 "nbformat_minor": 2
}
