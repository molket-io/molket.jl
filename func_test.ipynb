{
 "cells": [
  {
   "cell_type": "code",
   "execution_count": 1,
   "metadata": {},
   "outputs": [],
   "source": [
    "\n",
    "using LinearAlgebra\n",
    "using SpecialFunctions\n",
    "using AssociatedLegendrePolynomials\n"
   ]
  },
  {
   "cell_type": "code",
   "execution_count": 19,
   "metadata": {},
   "outputs": [
    {
     "name": "stderr",
     "output_type": "stream",
     "text": [
      "WARNING: replacing module MKsphericalharmonics.\n",
      "WARNING: ignoring conflicting import of MKsphericalharmonics.Ylm into Main\n",
      "WARNING: ignoring conflicting import of MKsphericalharmonics.Clm into Main\n",
      "WARNING: ignoring conflicting import of MKsphericalharmonics.Slm into Main\n"
     ]
    }
   ],
   "source": [
    "\n",
    "include(\"lib_sphericalharmonics/MKsphericalharmonics.jl\")\n",
    "using ..MKsphericalharmonics: Ylm, Clm, Slm"
   ]
  },
  {
   "cell_type": "code",
   "execution_count": 20,
   "metadata": {},
   "outputs": [
    {
     "data": {
      "text/plain": [
       "-0.3862742020231896 - 4.730494651008972e-17im"
      ]
     },
     "metadata": {},
     "output_type": "display_data"
    }
   ],
   "source": [
    "phi = 90\n",
    "theta = 90\n",
    "theta_rad = theta*pi/180\n",
    "phi_rad = phi*pi/180\n",
    "l = 2\n",
    "m = -2\n",
    "PP = legendre(LegendreSphereNorm(), l, abs(m), cos(theta_rad))*exp(1im*m*phi_rad)\n",
    "# spherical harmonics version \n"
   ]
  },
  {
   "cell_type": "code",
   "execution_count": 21,
   "metadata": {},
   "outputs": [
    {
     "data": {
      "text/plain": [
       "-0.3862742020231896 - 4.730494651008972e-17im"
      ]
     },
     "metadata": {},
     "output_type": "display_data"
    }
   ],
   "source": [
    "Y_lm = MKsphericalharmonics.Ylm(l,m,theta_rad,phi_rad)"
   ]
  },
  {
   "cell_type": "code",
   "execution_count": 22,
   "metadata": {},
   "outputs": [
    {
     "data": {
      "text/plain": [
       "-0.6123724356957945 - 7.499399432609231e-17im"
      ]
     },
     "metadata": {},
     "output_type": "display_data"
    }
   ],
   "source": [
    "C_lm = MKsphericalharmonics.Clm(l,m,theta_rad,phi_rad)"
   ]
  },
  {
   "cell_type": "code",
   "execution_count": null,
   "metadata": {},
   "outputs": [],
   "source": []
  }
 ],
 "metadata": {
  "kernelspec": {
   "display_name": "Julia 1.9.1",
   "language": "julia",
   "name": "julia-1.9"
  },
  "language_info": {
   "file_extension": ".jl",
   "mimetype": "application/julia",
   "name": "julia",
   "version": "1.9.1"
  },
  "orig_nbformat": 4
 },
 "nbformat": 4,
 "nbformat_minor": 2
}
