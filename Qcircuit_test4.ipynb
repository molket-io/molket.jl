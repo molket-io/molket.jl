{
 "cells": [
  {
   "cell_type": "code",
   "execution_count": 7,
   "metadata": {},
   "outputs": [],
   "source": [
    "using Plots # or StatsPlots\n",
    "using LinearAlgebra\n",
    "using SpecialFunctions\n",
    "using AssociatedLegendrePolynomials\n",
    "using LaTeXStrings\n",
    "using Quantikz\n",
    "using SparseArrays # https://docs.julialang.org/en/v1/stdlib/SparseArrays/\n"
   ]
  },
  {
   "cell_type": "code",
   "execution_count": 11,
   "metadata": {},
   "outputs": [
    {
     "name": "stdout",
     "output_type": "stream",
     "text": [
      "Load quantum gates constructor\n"
     ]
    },
    {
     "name": "stderr",
     "output_type": "stream",
     "text": [
      "WARNING: replacing module conventions.\n",
      "WARNING: ignoring conflicting import of conventions.little_endian into Main\n",
      "WARNING: ignoring conflicting import of conventions.big_endian into Main\n",
      "WARNING: ignoring conflicting import of conventions.qubit_begin into Main\n",
      "WARNING: ignoring conflicting import of conventions.err_tol into Main\n",
      "WARNING: replacing module quantum_gates.\n"
     ]
    },
    {
     "name": "stdout",
     "output_type": "stream",
     "text": [
      "Load Tensor module: QTensor.jl\n",
      "Load quantum gates constructor\n",
      "Load quantum_circuit constructor\n",
      "Load quantum_circuit constructor\n"
     ]
    },
    {
     "name": "stderr",
     "output_type": "stream",
     "text": [
      "WARNING: ignoring conflicting import of quantum_gates.q into Main\n",
      "WARNING: ignoring conflicting import of quantum_gates.Rz_gate1 into Main\n",
      "WARNING: replacing module QTensor.\n",
      "WARNING: ignoring conflicting import of QTensor.q_T2D into Main\n",
      "WARNING: ignoring conflicting import of QTensor.q_T4D into Main\n",
      "WARNING: replacing module custom_functions.\n",
      "WARNING: ignoring conflicting import of custom_functions.MK_sortrows into Main\n",
      "WARNING: replacing module quantum_circuit.\n"
     ]
    },
    {
     "name": "stdout",
     "output_type": "stream",
     "text": [
      "Load quantum gates constructor\n",
      "Load quantum_circuit constructor\n"
     ]
    },
    {
     "name": "stderr",
     "output_type": "stream",
     "text": [
      "WARNING: ignoring conflicting import of quantum_circuit.qc_init into Main\n",
      "WARNING: ignoring conflicting import of quantum_circuit.init_register into Main\n",
      "WARNING: ignoring conflicting import of quantum_circuit.show_statevector into Main\n",
      "WARNING: ignoring conflicting import of quantum_circuit.op into Main\n"
     ]
    }
   ],
   "source": [
    "\n",
    "# import conventions\n",
    "include(\"conventions.jl\")\n",
    "  using .conventions: little_endian, big_endian, qubit_begin, err_tol, show_op_mat, show_qc_mat\n",
    "\n",
    "  # import quantum gates\n",
    "include(\"quantum_gates.jl\")\n",
    "using ..quantum_gates: q, Rz_gate1\n",
    "\n",
    "include(\"lib_tensor/QTensor.jl\")\n",
    "using ..QTensor: q_T2D, q_T4D\n",
    "\n",
    "\n",
    "include(\"lib_useful/custom_functions.jl\")\n",
    "using ..custom_functions: MK_sortrows\n",
    "\n",
    "include(\"quantum_circuit.jl\")\n",
    "using ..quantum_circuit: qc_init, init_register, show_statevector, op\n",
    "#using ..quantum_circuit: qc_init, init_register, print_initstate"
   ]
  },
  {
   "cell_type": "code",
   "execution_count": 2,
   "metadata": {},
   "outputs": [
    {
     "data": {
      "text/plain": [
       "qc_initstruct1"
      ]
     },
     "metadata": {},
     "output_type": "display_data"
    }
   ],
   "source": [
    "Base.@kwdef mutable struct qc_initstruct1\n",
    "    # Initialize the quantum register\n",
    "    n_qubits::Int64\n",
    "    q_order::String\n",
    "    n_bas::Int64\n",
    "    n_dim::Int64\n",
    "    state_vector\n",
    "#    state_vector::Array{Float64,1}\n",
    "    q_states\n",
    "# table of quantum gates and the operations on the quantum register    \n",
    "    op_table::Matrix\n",
    "# Store the quantum circuit matrix representation\n",
    "    qc_matrix\n",
    "# big_endian is used to enforce a default convention \n",
    "    big_endian::Bool \n",
    "# show_matrix is used to print the matrix or the quantum gates by default    \n",
    "    show_op_mat::Bool\n",
    "# show the matrix representation of the quantum circuit\n",
    "    show_qc_mat::Bool\n",
    "#    q_states::Array{Float64,2}\n",
    "end # end qc_initialize\n"
   ]
  },
  {
   "cell_type": "code",
   "execution_count": 17,
   "metadata": {},
   "outputs": [
    {
     "data": {
      "text/plain": [
       "init_op_tab (generic function with 1 method)"
      ]
     },
     "metadata": {},
     "output_type": "display_data"
    }
   ],
   "source": [
    "# initialize a table with first row of [action gate/operator control1_qubit,   control2_qubit, target_qubit theta     phi     lambda; gate_object]\n",
    "function init_op_tab()\n",
    "    # initialize the first row of the table q_tab \n",
    "    # Op_ind is the index of the operation in the quantum circuit\n",
    "    # Op is the name of the operation\n",
    "    # q1_control is the first control qubit\n",
    "    # q2_control is the second control qubit\n",
    "    # q_target is the target qubit\n",
    "    # theta is the angle of rotation theta \n",
    "    # phi is the angle of rotation phi\n",
    "    # lambda is the angle of rotation lambda\n",
    "    # object is the object of the operation, could be a gate function or a matrix\n",
    "    # op_mat is the matrix representation of the operation\n",
    "#    op_tab[2,1:9]=[\"init\" \"init\" 0 0 0 0 0 0 0]\n",
    "    op_tab = Matrix(undef, 1,10)\n",
    "    op_tab[1,1:10]=[\"Op_ind\",\"Op\",\"q1_control\",\"q2_control\",\"q_target\", \n",
    "                \"theta\",\"phi\",\"lambda\",\"object\",\"op_mat\"]\n",
    "    return op_tab\n",
    "end # end init_op_tab\n"
   ]
  },
  {
   "cell_type": "code",
   "execution_count": 18,
   "metadata": {},
   "outputs": [
    {
     "data": {
      "text/plain": [
       "1×10 Matrix{Any}:\n",
       " \"Op_ind\"  \"Op\"  \"q1_control\"  …  \"phi\"  \"lambda\"  \"object\"  \"op_mat\""
      ]
     },
     "metadata": {},
     "output_type": "display_data"
    }
   ],
   "source": [
    "op_tab=init_op_tab()"
   ]
  },
  {
   "cell_type": "code",
   "execution_count": 38,
   "metadata": {},
   "outputs": [
    {
     "data": {
      "text/plain": [
       "qc_init_test (generic function with 1 method)"
      ]
     },
     "metadata": {},
     "output_type": "display_data"
    }
   ],
   "source": [
    "\n",
    "\n",
    "function qc_init_test(n::Int64;\n",
    "    big_endian::Bool=conventions.big_endian,\n",
    "    c_sv= nothing, \n",
    "#     c_sv::Union{Vector{Float64}, Vector{Int64}, Vector{ComplexF64}} = nothing,     \n",
    "    err_tol::Float64=conventions.err_tol,\n",
    "    show_op_mat::Bool=conventions.show_op_mat,\n",
    "    show_qc_mat::Bool=conventions.show_qc_mat)\n",
    "    # Initialize the quantum register\n",
    "    # n::Int64: number of qubits\n",
    "    # q_order::String: order of the qubits in the quantum register\n",
    "    # return: quantum register of n qubits\n",
    "    # q_order == \"big-endian\"\n",
    "    # q_order == \"little-endian\"\n",
    "\n",
    "    # start the function\n",
    "    n_bas = 2 # number of basis states\n",
    "    n_qubits = n # number of qubits\n",
    "    n_dim = 2^n # dimensions of the quantum register/Hilbert space\n",
    "    state_vector = zeros(2^n) # initialize the state_vector\n",
    "    # create the default statevector of the quantum register: \n",
    "    state_vector[1] = 1 # set the initial state to |000 ...0>\n",
    "    q_states = zeros(2^n, n) # initialize the quantum states\n",
    "    q_tab = [0;1] # initialize the basis vectors quantum table\n",
    "   \n",
    "    # store the order of the qubits, big-endian or little-endian\n",
    "    # for printing purpose only \n",
    "    if big_endian\n",
    "        q_order = \"big-endian\"\n",
    "    else\n",
    "        q_order = \"little-endian\"\n",
    "    end\n",
    "\n",
    "    ## notes:\n",
    "    # the minimum number of qubits is 2 \n",
    "    if n_qubits == 1\n",
    "        q_states = q_tab # basis vectors\n",
    "        # check if the user has provided a custom statevector\n",
    "        # err_tol = 1e-16 # error tolerance for checking the unitary condition\n",
    "        if c_sv != nothing\n",
    "            # check if the custom statevector has the correct dimensions\n",
    "            if length(c_sv) != n_dim\n",
    "                error(\"The custom statevector has the wrong dimensions\")\n",
    "            end\n",
    "            if isapprox(norm(c_sv), 1, rtol=err_tol) == false\n",
    "                error(\"The custom statevector is not normalized\")\n",
    "            end\n",
    "            state_vector = c_sv\n",
    "        end \n",
    "   else\n",
    "        n_count = n_bas\n",
    "        if !big_endian\n",
    "            for i = 2:n_qubits\n",
    "                q_tab = [ q_tab zeros(n_count,1)\n",
    "                       q_tab  ones(n_count,1) ]\n",
    "                n_count = n_count*2\n",
    "            end\n",
    "        else\n",
    "            for i = 2:n_qubits\n",
    "                q_tab = [zeros(n_count,1) q_tab\n",
    "                        ones(n_count,1) q_tab]\n",
    "                n_count = n_count*2\n",
    "            end\n",
    "        end\n",
    "        # for i = 2:n_qubits\n",
    "        #     q_tab = [zeros(n_count,1) q_tab\n",
    "        #             ones(n_count,1) q_tab]\n",
    "        #     n_count = n_count*2\n",
    "        # end\n",
    "        q_states = q_tab # basis vectors \n",
    "    end # end if n_qubits == 1\n",
    "\n",
    "    # check if the user has provided a custom statevector\n",
    "    # err_tol = 1e-16 # error tolerance for checking the unitary condition\n",
    "    if c_sv != nothing\n",
    "        # check if the custom statevector has the correct dimensions\n",
    "        if length(c_sv) != n_dim\n",
    "            error(\"The custom statevector has the wrong dimensions\")\n",
    "        end\n",
    "        if isapprox(norm(c_sv), 1, rtol=err_tol) == false\n",
    "            error(\"The custom statevector is not normalized\")\n",
    "        end\n",
    "        state_vector = c_sv\n",
    "    end\n",
    "    # one final check for the statevector\n",
    "    if isapprox(norm(state_vector), 1, rtol=err_tol) == false\n",
    "        error(\"The statevector is not normalized\")\n",
    "    end\n",
    "    # Initialize the matrix representation of the quantum circuit to \n",
    "    # the identity matrix of size n_dim\n",
    "    qc_matrix = Matrix(I, n_dim, n_dim)\n",
    "\n",
    "    # initiate the table of quantum gates and operations\n",
    "    op_table = init_op_tab()\n",
    "#    return qc_initstruct(n_qubits, q_order, n_bas, n_dim, 1.0, [1.0 1.0])\n",
    "    return qc_initstruct1(n_qubits, q_order, n_bas, n_dim, state_vector, \n",
    "                        q_states, op_table, qc_matrix,big_endian,show_op_mat,show_qc_mat)\n",
    "\n",
    "#    return 1\n",
    "\n",
    "end # end qc_initialize  \n"
   ]
  },
  {
   "cell_type": "code",
   "execution_count": 20,
   "metadata": {},
   "outputs": [
    {
     "data": {
      "text/plain": [
       "2×2 Matrix{Bool}:\n",
       " 1  0\n",
       " 0  1"
      ]
     },
     "metadata": {},
     "output_type": "display_data"
    }
   ],
   "source": [
    "qc_matrix = Matrix(I, 2, 2)\n"
   ]
  },
  {
   "cell_type": "code",
   "execution_count": 39,
   "metadata": {},
   "outputs": [
    {
     "data": {
      "text/plain": [
       "qc_initstruct1(2, \"big-endian\", 2, 4, [1.0, 0.0, 0.0, 0.0], [0.0 0.0; 0.0 1.0; 1.0 0.0; 1.0 1.0], Any[\"Op_ind\" \"Op\" … \"object\" \"op_mat\"], Bool[1 0 0 0; 0 1 0 0; 0 0 1 0; 0 0 0 1], true, false, false)"
      ]
     },
     "metadata": {},
     "output_type": "display_data"
    }
   ],
   "source": [
    "qc = qc_init_test(2)"
   ]
  },
  {
   "cell_type": "code",
   "execution_count": 22,
   "metadata": {},
   "outputs": [
    {
     "data": {
      "text/plain": [
       "1×10 Matrix{Any}:\n",
       " \"Op_ind\"  \"Op\"  \"q1_control\"  …  \"phi\"  \"lambda\"  \"object\"  \"op_mat\""
      ]
     },
     "metadata": {},
     "output_type": "display_data"
    }
   ],
   "source": [
    "qc.op_table"
   ]
  },
  {
   "cell_type": "code",
   "execution_count": 23,
   "metadata": {},
   "outputs": [
    {
     "data": {
      "text/plain": [
       "qU_prep (generic function with 1 method)"
      ]
     },
     "metadata": {},
     "output_type": "display_data"
    }
   ],
   "source": [
    "# prepare the gate in case of being parametrized, i.e. rotational gate \n",
    "# or a phase gate\n",
    "function qU_prep(Qgate;\n",
    "    theta=nothing,phi=nothing,lambda =nothing)\n",
    "# some functions from the quantum_gates.jl file are \n",
    "# are not or this function is not adapted to. \n",
    "# We have to check them case by case \n",
    "if theta == nothing && phi == nothing && lambda == nothing\n",
    "return Qgate\n",
    "\n",
    "elseif theta != nothing && phi != nothing && lambda != nothing\n",
    "Qgate = Qgate(theta=theta,phi=phi,lambda=lambda)\n",
    "return Qgate\n",
    "\n",
    "elseif theta != nothing && phi != nothing\n",
    "Qgate = Qgate(theta=theta,phi=phi)\n",
    "return Qgate\n",
    "\n",
    "elseif theta != nothing && lambda != nothing\n",
    "Qgate = Qgate(theta=theta,lambda=lambda)\n",
    "return Qgate\n",
    "\n",
    "elseif phi != nothing && lambda != nothing\n",
    "Qgate = Qgate(phi=phi,lambda=lambda)\n",
    "return Qgate\n",
    "\n",
    "elseif theta != nothing\n",
    "Qgate = Qgate(theta=theta)\n",
    "return Qgate\n",
    "\n",
    "elseif phi != nothing\n",
    "Qgate = Qgate(phi=phi)\n",
    "return Qgate\n",
    "\n",
    "elseif lambda != nothing\n",
    "Qgate = Qgate(lambda=lambda)\n",
    "return Qgate\n",
    "\n",
    "else\n",
    "return error(\"Error in Qgate_rot_prep\")\n",
    "end # end if\n",
    "\n",
    "end # end Qgate_prep"
   ]
  },
  {
   "cell_type": "code",
   "execution_count": 25,
   "metadata": {},
   "outputs": [
    {
     "data": {
      "text/plain": [
       "phase_gate (generic function with 1 method)"
      ]
     },
     "metadata": {},
     "output_type": "display_data"
    }
   ],
   "source": [
    "Ugate = q.P"
   ]
  },
  {
   "cell_type": "code",
   "execution_count": 26,
   "metadata": {},
   "outputs": [
    {
     "data": {
      "text/plain": [
       "2×2 Matrix{ComplexF64}:\n",
       " 1.0+0.0im         -0.0-0.0im\n",
       " 0.0+0.0im  6.12323e-17+1.0im"
      ]
     },
     "metadata": {},
     "output_type": "display_data"
    }
   ],
   "source": [
    "Qgate_test = qU_prep(Ugate,lambda=pi/2)"
   ]
  },
  {
   "cell_type": "code",
   "execution_count": null,
   "metadata": {},
   "outputs": [],
   "source": [
    "#Qgate_test = qU_prep(Ugate,theta=pi/2,phi=pi/2,lambda=pi/2)"
   ]
  },
  {
   "cell_type": "code",
   "execution_count": 27,
   "metadata": {},
   "outputs": [
    {
     "data": {
      "text/plain": [
       "2×2 Matrix{ComplexF64}:\n",
       " 1.0+0.0im         -0.0-0.0im\n",
       " 0.0+0.0im  6.12323e-17+1.0im"
      ]
     },
     "metadata": {},
     "output_type": "display_data"
    }
   ],
   "source": [
    "Ugate(lambda=pi/2)"
   ]
  },
  {
   "cell_type": "code",
   "execution_count": 28,
   "metadata": {},
   "outputs": [
    {
     "data": {
      "text/plain": [
       "2×2 Matrix{ComplexF64}:\n",
       " 1.0+0.0im         -0.0-0.0im\n",
       " 0.0+0.0im  6.12323e-17+1.0im"
      ]
     },
     "metadata": {},
     "output_type": "display_data"
    }
   ],
   "source": [
    "Qgate_test = qU_prep(Ugate,lambda=pi/2)"
   ]
  },
  {
   "cell_type": "code",
   "execution_count": 29,
   "metadata": {},
   "outputs": [
    {
     "data": {
      "text/plain": [
       "Op_tensor (generic function with 1 method)"
      ]
     },
     "metadata": {},
     "output_type": "display_data"
    }
   ],
   "source": [
    "# function to choose the corresponding tensor library \n",
    "function Op_tensor(Qgate;nqubits::Int64, \n",
    "                   q1control=nothing,q2control=nothing,qtarget::Int64,\n",
    "                   big_endian::Bool=conventions.big_endian)\n",
    "# get the size of Qgate matrix \n",
    "# get the size of Qgate\n",
    "    n_rows, n_cols = size(Qgate)   \n",
    "# test if the size of the gate is 2x2\n",
    "    if n_rows != 2 && n_cols != 2\n",
    "        error(\"The size of the gate is not 2x2\")\n",
    "    end \n",
    "\n",
    "# once passing the previous check, we can check the size of the gate\n",
    "# if the size is 2x2, then it is a single qubit gate\n",
    "# if the size is 4x4, then it is a two qubit gate\n",
    "# if the size is 8x8, then it is a three qubit gate\n",
    "# This helps us to determine the tensor library to use   \n",
    "# in most cases, the one qubit gate is sufficient to determine \n",
    "# the tensor library to use with the information about \n",
    "# the control qubits and the target qubit \n",
    "    # single qubit gate\n",
    "    # check if the user has provided a control qubit\n",
    "    if q1control == nothing && q2control == nothing\n",
    "        # no control qubit1 and qubit2, only target qubit\n",
    "        # return the qubit gate in the Hilbert space of a \n",
    "        # quantum register size \n",
    "        Qgate = q_T2D(Qgate, qtarget=qtarget, nqubits=nqubits, \n",
    "                      big_endian=big_endian)\n",
    "        return Qgate\n",
    "    elseif q2control == nothing\n",
    "        # only control qubit1 and target qubit\n",
    "        # return the qubit gate in the Hilbert space of a\n",
    "        # quantum register size\n",
    "        Qgate = q_T4D(Qgate, qcontrol=q1control, qtarget=qtarget, \n",
    "                        nqubits=nqubits, big_endian=big_endian)\n",
    "        return Qgate\n",
    "    end # end if q1control == nothing && q2control == nothing\n",
    "# now, let's export the gate represented in the Hilbert space of a\n",
    "# quantum register size\n",
    "end # end Op_tensor"
   ]
  },
  {
   "cell_type": "code",
   "execution_count": 30,
   "metadata": {},
   "outputs": [
    {
     "data": {
      "text/plain": [
       "2×2 Matrix{ComplexF64}:\n",
       " 1.0+0.0im         -0.0-0.0im\n",
       " 0.0+0.0im  6.12323e-17+1.0im"
      ]
     },
     "metadata": {},
     "output_type": "display_data"
    }
   ],
   "source": [
    "Ugate(lambda=pi/2)"
   ]
  },
  {
   "cell_type": "code",
   "execution_count": 31,
   "metadata": {},
   "outputs": [
    {
     "data": {
      "text/plain": [
       "2×2 Matrix{ComplexF64}:\n",
       " 1.0+0.0im         -0.0-0.0im\n",
       " 0.0+0.0im  6.12323e-17+1.0im"
      ]
     },
     "metadata": {},
     "output_type": "display_data"
    }
   ],
   "source": [
    "# check if the user has provided a rotational/phase gate \n",
    "# the check is done by checking if the user has provided the\n",
    "# theta, phi, and lambda parameters\n",
    "# if so the gate is evaluated and the corresponding matrix is returned\n",
    "Qgate = qU_prep(Ugate,lambda=pi/2)\n"
   ]
  },
  {
   "cell_type": "code",
   "execution_count": 32,
   "metadata": {},
   "outputs": [
    {
     "data": {
      "text/plain": [
       "4×4 Matrix{ComplexF64}:\n",
       " 1.0+0.0im  0.0+0.0im         -0.0-0.0im         -0.0-0.0im\n",
       " 0.0+0.0im  1.0+0.0im         -0.0-0.0im         -0.0-0.0im\n",
       " 0.0+0.0im  0.0+0.0im  6.12323e-17+1.0im          0.0+0.0im\n",
       " 0.0+0.0im  0.0+0.0im          0.0+0.0im  6.12323e-17+1.0im"
      ]
     },
     "metadata": {},
     "output_type": "display_data"
    }
   ],
   "source": [
    "Qgate = q_T2D(Qgate, qtarget=0, nqubits=2, \n",
    "                      big_endian=big_endian)"
   ]
  },
  {
   "cell_type": "code",
   "execution_count": 33,
   "metadata": {},
   "outputs": [
    {
     "data": {
      "text/plain": [
       "4×4 Matrix{ComplexF64}:\n",
       " 1.0+0.0im  0.0+0.0im         -0.0-0.0im         -0.0-0.0im\n",
       " 0.0+0.0im  1.0+0.0im         -0.0-0.0im         -0.0-0.0im\n",
       " 0.0+0.0im  0.0+0.0im  6.12323e-17+1.0im          0.0+0.0im\n",
       " 0.0+0.0im  0.0+0.0im          0.0+0.0im  6.12323e-17+1.0im"
      ]
     },
     "metadata": {},
     "output_type": "display_data"
    }
   ],
   "source": [
    "# test the function Op_tensor\n",
    "# check if the user has provided a rotational/phase gate \n",
    "# the check is done by checking if the user has provided the\n",
    "# theta, phi, and lambda parameters\n",
    "# if so the gate is evaluated and the corresponding matrix is returned\n",
    "gate_tensor = Op_tensor(q.U(lambda=pi/2), nqubits=2, qtarget=0)"
   ]
  },
  {
   "cell_type": "code",
   "execution_count": 52,
   "metadata": {},
   "outputs": [
    {
     "data": {
      "text/plain": [
       "qctab_update (generic function with 1 method)"
      ]
     },
     "metadata": {},
     "output_type": "display_data"
    }
   ],
   "source": [
    "# function to update the table of quantum gates and operations\n",
    "function qctab_update(;qctab, Qgate, \n",
    "    q1control=nothing,q2control=nothing,qtarget::Int64,\n",
    "    theta=nothing,phi=nothing,lambda=nothing, \n",
    "    op_name=nothing,op_mat=nothing,\n",
    "    big_endian::Bool=conventions.big_endian)\n",
    "\n",
    "    # get the size of the rows of the table\n",
    "    n_rows, n_cols = size(qctab)\n",
    "    qctab1 = qctab\n",
    "    if n_rows==1\n",
    "        op_ind = 1\n",
    "    else\n",
    "        op_ind = op_ind+1\n",
    "    end\n",
    "    # table is \n",
    "    #op_tab[1,1:10]=[\"Op_ind\",\"Op\",\"q1_control\",\"q2_control\",\"q_target\", \n",
    "    #\"theta\",\"phi\",\"lambda\",\"object\",\"op_mat\"]\n",
    "    qctab2 = [op_ind, op_name, q1control, q2control, qtarget, \n",
    "        theta, phi, lambda, Qgate, op_mat]\n",
    "        return vcat(qctab1, qctab2)\n",
    "end # end qctab_update\n",
    "    "
   ]
  },
  {
   "cell_type": "code",
   "execution_count": null,
   "metadata": {},
   "outputs": [],
   "source": [
    "# test updating the table of quantum gates and operations\n"
   ]
  },
  {
   "cell_type": "code",
   "execution_count": 59,
   "metadata": {},
   "outputs": [
    {
     "data": {
      "text/plain": [
       "op_test1 (generic function with 1 method)"
      ]
     },
     "metadata": {},
     "output_type": "display_data"
    }
   ],
   "source": [
    "\n",
    "# Apply a quantum gate to the quantum register\n",
    "function op_test1(qc, Qgate; q1_control=nothing, q2_control=nothing, \n",
    "    q_target::Int64, theta=nothing, phi=nothing, lambda=nothing, \n",
    "    err_tol::Float64=conventions.err_tol)\n",
    "    # Apply a quantum gate to the quantum register\n",
    "    # qc::quantum register\n",
    "    # gate::Qgate: quantum gate, 2x2 matrix representing a single qubit gate\n",
    "    # return: quantum register with the quantum gate applied\n",
    "    # reading the data from the quantum register qc\n",
    "    Nqubits = qc.n_qubits\n",
    "    Nstates = qc.n_dim\n",
    "    state_vector = qc.state_vector\n",
    "    \n",
    "    # first record the name of the function\n",
    "    Qgate_name = string(Qgate)\n",
    "    # Evaluate the gate and prepare the gate for the tensor product\n",
    "    # First, check if the function is a rotational/phase gate \n",
    "    # and if so Evaluate it over the theta, phi, and lambda parameters\n",
    "    # if not, then the function is a single qubit gate\n",
    "    # check if the user has provided a rotational/phase gate \n",
    "    # the check is done by checking if the user has provided the\n",
    "    # theta, phi, and lambda parameters\n",
    "    # if so the gate is evaluated and the corresponding matrix is returned\n",
    "    Qgate = qU_prep(Qgate,theta=theta,phi=phi,lambda=lambda)\n",
    "\n",
    "    # test the gate \n",
    "    # First check if the dimensions of the quantum gate are the same \n",
    "    Qgate_dim = size(Qgate)\n",
    "    if Qgate_dim[1] != Qgate_dim[2]\n",
    "        error(\"The quantum gate is not square\")\n",
    "    end # end if\n",
    "    # check if the quantum gate is unitary\n",
    "    #if ishermitian(Qgate) == false\n",
    "    #    error(\"The quantum gate is not unitary\")\n",
    "    #end # end if\n",
    "    # check the unitary condition\n",
    "    UU = Qgate'*Qgate\n",
    "    II = Matrix(I, Qgate_dim[1], Qgate_dim[2])\n",
    "    if isapprox(UU, II,rtol=err_tol) == false\n",
    "        error(\"The gate is not unitary\")\n",
    "    end\n",
    "    # check if the dimensions of the quantum gate \n",
    "    # ... and the quantum register do match \n",
    "    if Qgate_dim[1] != Nstates\n",
    "        error(\"The quantum gate and the quantum register do not match\")\n",
    "    end # end if\n",
    "\n",
    "    gate_tensor = Op_tensor(Qgate, nqubits=Nqubits,q1control=q1_control, \n",
    "                            q2control=q2_control,qtarget=q_target,\n",
    "                            big_endian=big_endian)\n",
    "    # and the gate is evaluated directly\n",
    "    # in the Hilbert space\n",
    "    \n",
    "    # Apply the quantum gate to the quantum register\n",
    "    state_vector = gate_tensor * state_vector\n",
    "    qc.state_vector = state_vector\n",
    "\n",
    "    # update the matrix representation of the quantum circuit\n",
    "    qc.qc_matrix = gate_tensor * qc.qc_matrix\n",
    "\n",
    "    # update the op_table\n",
    "    qctab = qc.op_table\n",
    "    #qc.op_table = qctab_update(qctab=qctab, Qgate=Qgate, \n",
    "    #q1control=q1_control,q2control=q2_control,qtarget=q_target,\n",
    "    #theta=theta,phi=phi,lambda=lambda, \n",
    "    #op_name=Qgate_name,op_mat= qc.qc_matrix)\n",
    "\n",
    "    return qc\n",
    "end # end apply_gate!\n"
   ]
  },
  {
   "cell_type": "code",
   "execution_count": 56,
   "metadata": {},
   "outputs": [
    {
     "data": {
      "text/plain": [
       "qc_initstruct1(1, \"big-endian\", 2, 2, [1.0, 0.0], [0, 1], Any[\"Op_ind\" \"Op\" … \"object\" \"op_mat\"], Bool[1 0; 0 1], true, false, false)"
      ]
     },
     "metadata": {},
     "output_type": "display_data"
    }
   ],
   "source": [
    "qc = qc_init_test(1)"
   ]
  },
  {
   "cell_type": "code",
   "execution_count": 45,
   "metadata": {},
   "outputs": [
    {
     "data": {
      "text/plain": [
       "2×2 Matrix{Bool}:\n",
       " 1  0\n",
       " 0  1"
      ]
     },
     "metadata": {},
     "output_type": "display_data"
    }
   ],
   "source": [
    "qc.qc_matrix"
   ]
  },
  {
   "cell_type": "code",
   "execution_count": 44,
   "metadata": {},
   "outputs": [
    {
     "data": {
      "text/plain": [
       "2×2 Matrix{Float64}:\n",
       " 0.0  1.0\n",
       " 1.0  0.0"
      ]
     },
     "metadata": {},
     "output_type": "display_data"
    }
   ],
   "source": [
    "q.X"
   ]
  },
  {
   "cell_type": "code",
   "execution_count": 60,
   "metadata": {},
   "outputs": [
    {
     "data": {
      "text/plain": [
       "qc_initstruct1(1, \"big-endian\", 2, 2, [0.7071067811865474, 0.7071067811865474], [0, 1], Any[\"Op_ind\" \"Op\" … \"object\" \"op_mat\"], [0.7071067811865474 0.7071067811865474; 0.7071067811865474 -0.7071067811865474], true, false, false)"
      ]
     },
     "metadata": {},
     "output_type": "display_data"
    }
   ],
   "source": [
    "op_test1(qc, q.H, q_target=0)"
   ]
  },
  {
   "cell_type": "code",
   "execution_count": 49,
   "metadata": {},
   "outputs": [
    {
     "data": {
      "text/plain": [
       "2×2 Matrix{Float64}:\n",
       "  0.707107  0.707107\n",
       " -0.707107  0.707107"
      ]
     },
     "metadata": {},
     "output_type": "display_data"
    }
   ],
   "source": [
    "qc.qc_matrix"
   ]
  },
  {
   "cell_type": "code",
   "execution_count": null,
   "metadata": {},
   "outputs": [],
   "source": [
    "\n",
    "# Apply a quantum gate to the quantum register\n",
    "function op_test(qc, Qgate)\n",
    "    # Apply a quantum gate to the quantum register\n",
    "    # qc::quantum register\n",
    "    # gate::Qgate: quantum gate\n",
    "    # return: quantum register with the quantum gate applied\n",
    "    Nqubits = qc.n_qubits\n",
    "    Nstates = qc.n_dim\n",
    "    state_vector = qc.state_vector\n",
    "    # First check if the dimensions of the quantum gate are the same \n",
    "    Qgate_dim = size(Qgate)\n",
    "    if Qgate_dim[1] != Qgate_dim[2]\n",
    "        error(\"The quantum gate is not square\")\n",
    "    end # end if\n",
    "    # check if the quantum gate is unitary\n",
    "    #if ishermitian(Qgate) == false\n",
    "    #    error(\"The quantum gate is not unitary\")\n",
    "    #end # end if\n",
    "    # check the unitary condition\n",
    "    UU = Qgate'*Qgate\n",
    "    II = Matrix(I, Qgate_dim[1], Qgate_dim[2])\n",
    "    if isapprox(UU, II,rtol=err_tol) == false\n",
    "        error(\"The gate is not unitary\")\n",
    "    end\n",
    "    # check if the dimensions of the quantum gate \n",
    "    # ... and the quantum register do match \n",
    "    if Qgate_dim[1] != Nstates\n",
    "        error(\"The quantum gate and the quantum register do not match\")\n",
    "    end # end if\n",
    "    # Apply the quantum gate to the quantum register\n",
    "    state_vector = Qgate * state_vector\n",
    "    qc.state_vector = state_vector\n",
    "    return qc\n",
    "end # end apply_gate!\n"
   ]
  },
  {
   "cell_type": "code",
   "execution_count": null,
   "metadata": {},
   "outputs": [],
   "source": [
    "H = Qgate.H\n",
    "op_test(qc, Qgate)"
   ]
  },
  {
   "cell_type": "code",
   "execution_count": null,
   "metadata": {},
   "outputs": [],
   "source": [
    "function Unitary(theta)\n",
    "    qc = qc_init(1, false)\n",
    "    p = Qgate.P(pi*2*theta)\n",
    "    op(qc,p)\n",
    "    return qc\n",
    "end"
   ]
  },
  {
   "cell_type": "code",
   "execution_count": null,
   "metadata": {},
   "outputs": [],
   "source": [
    "theta = 1/2 + 1/4 + 1/8\n",
    "unitary = Unitary(theta)"
   ]
  },
  {
   "cell_type": "code",
   "execution_count": null,
   "metadata": {},
   "outputs": [],
   "source": [
    "qc = qc_init(2)"
   ]
  },
  {
   "cell_type": "code",
   "execution_count": null,
   "metadata": {},
   "outputs": [],
   "source": [
    "show_statevector(unitary)"
   ]
  },
  {
   "cell_type": "code",
   "execution_count": null,
   "metadata": {},
   "outputs": [],
   "source": [
    "CtrlU_be = Qgate.ctrl_gate"
   ]
  },
  {
   "cell_type": "code",
   "execution_count": null,
   "metadata": {},
   "outputs": [],
   "source": [
    "function f_test(H_op; nqubits=1, convention=big_endian)\n",
    "    qc = qc_init(nqubits, convention)\n",
    "    op(qc, H_op)\n",
    "    show_statevector(qc)\n",
    "end"
   ]
  },
  {
   "cell_type": "code",
   "execution_count": null,
   "metadata": {},
   "outputs": [],
   "source": [
    "H_op = Rz_gate1(π/2)"
   ]
  },
  {
   "cell_type": "code",
   "execution_count": null,
   "metadata": {},
   "outputs": [],
   "source": [
    "f_test(H_op; nqubits=1, convention=big_endian)"
   ]
  },
  {
   "cell_type": "code",
   "execution_count": null,
   "metadata": {},
   "outputs": [],
   "source": [
    "f_test(H_op; convention=big_endian, nqubits=1)"
   ]
  },
  {
   "cell_type": "code",
   "execution_count": null,
   "metadata": {},
   "outputs": [],
   "source": [
    "# define a function that takes string as input for the name of the gates\n",
    "function f_test1(H::String; nqubits=2, convention=big_endian)\n",
    "    if H == \"H\"\n",
    "        H_op = [1 1; 1 -1]/sqrt(2)\n",
    "    elseif H == \"X\"\n",
    "        H_op = [0 1; 1 0]\n",
    "    elseif H == \"Y\"\n",
    "        H_op = [0 -im; im 0]\n",
    "    end \n",
    "    qc = qc_init(nqubits, convention)\n",
    "    op(qc, H_op)\n",
    "    show_statevector(qc)\n",
    "end\n"
   ]
  },
  {
   "cell_type": "code",
   "execution_count": null,
   "metadata": {},
   "outputs": [],
   "source": [
    "f_test1(\"H\"; nqubits=1, convention=big_endian)"
   ]
  },
  {
   "cell_type": "code",
   "execution_count": null,
   "metadata": {},
   "outputs": [],
   "source": [
    "qc = qc_init(2, big_endian)\n",
    "\n",
    "# current format of the state vector\n",
    "H = q.H\n",
    "H_tensor = q_T2D(H, 0, 2)\n",
    "qc = qc_init(2, big_endian)\n",
    "op(qc, H_tensor)\n",
    "\n",
    "\n"
   ]
  },
  {
   "cell_type": "code",
   "execution_count": null,
   "metadata": {},
   "outputs": [],
   "source": [
    "function op(qc, XX ,qtarget = 0)\n",
    "\n",
    "    # prepare the quantum gate in the Hilbert space\n",
    "    if size(H) == (2,2) && qtarget == 0 && qcontrol == nothing \n",
    "        H_tensor = q_T2D(H, qtarget, qc.n_qubits)\n",
    "    H_tensor = q_T2D(H, qtarget, qc.n_qubits)   \n",
    "\n",
    "  # H_tensor \n",
    "    string(XX)\n",
    "\n",
    "    \n",
    "    qc.statevector\n",
    "    qc.table \n",
    "    # update the table everytime \n",
    "\n",
    "  # table \n",
    "\n",
    "\n"
   ]
  },
  {
   "cell_type": "code",
   "execution_count": null,
   "metadata": {},
   "outputs": [],
   "source": [
    "\n",
    "q."
   ]
  },
  {
   "cell_type": "code",
   "execution_count": null,
   "metadata": {},
   "outputs": [],
   "source": [
    "## create a table \n",
    "# data structure \n",
    "# converting our simulator to other simulators: TKET, QASM, Qiskit, ...etc. \n",
    "# array \n",
    "[action gate/operator control1_qubit,   control2_qubit, target_qubit theta     phi     lambda; gate_object\n",
    "    1     \"H\"           nothing               nothing         0    nothing  nothing  nothing;    name of function or matrix   \n",
    "    2     \"CX\"        0                     nothing         1    nothing  nothing  nothing;\n",
    "    3     \"CX\"        1                     nothing         2    nothing  nothing  nothing;\n",
    "    4      \"X\"          nothing               nothing         1                             ;\n",
    "    5      \"Y\"          nothing               nothing         2                             ;\n",
    "    6      \"Z\"          nothing               nothing         3                             ;\n",
    "    7      \"S\"          nothing               nothing         4                             ;\n",
    "   8      \"CU\"         0                     nothing         2     pi/2      pi/3      pi/4;\n",
    "    ]\n",
    "   # n_qubits\n",
    "    # barrier gate: indentity with the tag plotted on the circuit 1, when drawing the circuit \n",
    "    # it should appear in the plot. \n",
    "    # **************************\n",
    "    # convention\n",
    "    # op: taget qubit, control1 qubit, control2 qubit, ...\n",
    "\n",
    "\n",
    "\n",
    "    function plot_circuit(qc; nqubits )\n",
    "        # plot the circuit\n",
    "        # plot the statevector\n",
    "        nqubits = qc.n_qubits\n",
    "        convention = qc.convention\n",
    "        gate_table = qc.gate_table\n",
    "\n",
    "\n",
    "    end\n",
    "\n",
    "    # references \n",
    "    # https://typedtables.juliadata.org/stable/man/table/"
   ]
  },
  {
   "cell_type": "code",
   "execution_count": null,
   "metadata": {},
   "outputs": [],
   "source": [
    "\n",
    "H = Qgate.H\n",
    "X = Qgate.X\n",
    "Y = Qgate.Y\n",
    "Z = Qgate.Z\n",
    "S = Qgate.S\n",
    "\n",
    "op(qc, Qgate.H(qtarget = 0))\n",
    "\n"
   ]
  },
  {
   "cell_type": "code",
   "execution_count": null,
   "metadata": {},
   "outputs": [],
   "source": [
    "import Pkg; Pkg.add(\"TypedTables\")\n",
    "using TypedTables\n"
   ]
  },
  {
   "cell_type": "code",
   "execution_count": null,
   "metadata": {},
   "outputs": [],
   "source": [
    "`import Pkg; Pkg.add(\"TypedTables\")`\n",
    "using TypedTables\n",
    "\n",
    "julia> t = Table(a = [1, 2, 3], b = [2.0, 4.0, 6.0])\n",
    "Table with 2 columns and 3 rows:\n",
    "     a  b\n",
    "   ┌───────\n",
    " 1 │ 1  2.0\n",
    " 2 │ 2  4.0\n",
    " 3 │ 3  6.0\n",
    "\n",
    "julia> t[1]  # Get first row\n",
    "(a = 1, b = 2.0)\n",
    "\n",
    "julia> t.a  # Get column `a`\n",
    "3-element Array{Int64,1}:\n",
    " 1\n",
    " 2\n",
    " 3"
   ]
  },
  {
   "cell_type": "code",
   "execution_count": null,
   "metadata": {},
   "outputs": [],
   "source": []
  }
 ],
 "metadata": {
  "kernelspec": {
   "display_name": "Julia 1.9.1",
   "language": "julia",
   "name": "julia-1.9"
  },
  "language_info": {
   "file_extension": ".jl",
   "mimetype": "application/julia",
   "name": "julia",
   "version": "1.9.1"
  }
 },
 "nbformat": 4,
 "nbformat_minor": 2
}
