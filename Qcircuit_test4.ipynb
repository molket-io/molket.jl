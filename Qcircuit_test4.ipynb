{
 "cells": [
  {
   "cell_type": "code",
   "execution_count": 1,
   "metadata": {},
   "outputs": [
    {
     "name": "stdout",
     "output_type": "stream",
     "text": [
      "Load quantum gates constructor\n"
     ]
    },
    {
     "name": "stdout",
     "output_type": "stream",
     "text": [
      "Load Tensor module: QTensor.jl\n",
      "Load quantum gates constructor\n",
      "Load quantum_circuit constructor\n"
     ]
    },
    {
     "name": "stdout",
     "output_type": "stream",
     "text": [
      "Load quantum_circuit constructor\n",
      "Load quantum gates constructor\n",
      "Load quantum_circuit constructor\n"
     ]
    }
   ],
   "source": [
    "\n",
    "# import conventions\n",
    "include(\"conventions.jl\")\n",
    "  using .conventions: big_endian, qubit_begin\n",
    "\n",
    "  # import quantum gates\n",
    "include(\"quantum_gates.jl\")\n",
    "using ..quantum_gates: Qgate, Rz_gate1\n",
    "\n",
    "include(\"lib_tensor/QTensor.jl\")\n",
    "using ..QTensor: Qgate_T2D\n",
    "\n",
    "\n",
    "include(\"lib_useful/custom_functions.jl\")\n",
    "using ..custom_functions: MK_sortrows\n",
    "\n",
    "include(\"quantum_circuit.jl\")\n",
    "using ..quantum_circuit: qc_init, init_register, show_statevector, op\n",
    "#using ..quantum_circuit: qc_init, init_register, print_initstate"
   ]
  },
  {
   "cell_type": "code",
   "execution_count": 2,
   "metadata": {},
   "outputs": [
    {
     "data": {
      "text/plain": [
       "p_phase (generic function with 1 method)"
      ]
     },
     "metadata": {},
     "output_type": "display_data"
    }
   ],
   "source": [
    "function p_phase(lambda)\n",
    "    P = [1 0; 0 exp(im*lambda)]\n",
    "    return P\n",
    "end"
   ]
  },
  {
   "cell_type": "code",
   "execution_count": 3,
   "metadata": {},
   "outputs": [
    {
     "data": {
      "text/plain": [
       "2×2 Matrix{ComplexF64}:\n",
       " 1.0+0.0im        0.0+0.0im\n",
       " 0.0+0.0im  -0.416147+0.909297im"
      ]
     },
     "metadata": {},
     "output_type": "display_data"
    }
   ],
   "source": [
    "p_phase(2)"
   ]
  },
  {
   "cell_type": "code",
   "execution_count": 4,
   "metadata": {},
   "outputs": [
    {
     "data": {
      "text/plain": [
       "2×2 Matrix{ComplexF64}:\n",
       " 1.0+0.0im        0.0-0.0im\n",
       " 0.0+0.0im  -0.416147+0.909297im"
      ]
     },
     "metadata": {},
     "output_type": "display_data"
    }
   ],
   "source": [
    "Qgate.P(2)"
   ]
  },
  {
   "cell_type": "code",
   "execution_count": null,
   "metadata": {},
   "outputs": [],
   "source": [
    "function Unitary(theta)\n",
    "    qc = qc_init(1, false)\n",
    "    p = Qgate.P(pi*2*theta)\n",
    "    op(qc,p)\n",
    "    return qc\n",
    "end"
   ]
  },
  {
   "cell_type": "code",
   "execution_count": null,
   "metadata": {},
   "outputs": [],
   "source": [
    "theta = 1/2 + 1/4 + 1/8\n",
    "unitary = Unitary(theta)"
   ]
  },
  {
   "cell_type": "code",
   "execution_count": null,
   "metadata": {},
   "outputs": [],
   "source": [
    "qc = qc_init(2)"
   ]
  },
  {
   "cell_type": "code",
   "execution_count": null,
   "metadata": {},
   "outputs": [],
   "source": [
    "show_statevector(unitary)"
   ]
  },
  {
   "cell_type": "code",
   "execution_count": null,
   "metadata": {},
   "outputs": [],
   "source": [
    "CtrlU_be = Qgate.ctrl_gate"
   ]
  },
  {
   "cell_type": "code",
   "execution_count": null,
   "metadata": {},
   "outputs": [],
   "source": [
    "function f_test(H_op; nqubits=1, convention=big_endian)\n",
    "    qc = qc_init(nqubits, convention)\n",
    "    op(qc, H_op)\n",
    "    show_statevector(qc)\n",
    "end"
   ]
  },
  {
   "cell_type": "code",
   "execution_count": null,
   "metadata": {},
   "outputs": [],
   "source": [
    "H_op = Rz_gate1(π/2)"
   ]
  },
  {
   "cell_type": "code",
   "execution_count": null,
   "metadata": {},
   "outputs": [],
   "source": [
    "f_test(H_op; nqubits=1, convention=big_endian)"
   ]
  },
  {
   "cell_type": "code",
   "execution_count": null,
   "metadata": {},
   "outputs": [],
   "source": [
    "f_test(H_op; convention=big_endian, nqubits=1)"
   ]
  },
  {
   "cell_type": "code",
   "execution_count": null,
   "metadata": {},
   "outputs": [],
   "source": [
    "# define a function that takes string as input for the name of the gates\n",
    "function f_test1(H::String; nqubits=2, convention=big_endian)\n",
    "    if H == \"H\"\n",
    "        H_op = [1 1; 1 -1]/sqrt(2)\n",
    "    elseif H == \"X\"\n",
    "        H_op = [0 1; 1 0]\n",
    "    elseif H == \"Y\"\n",
    "        H_op = [0 -im; im 0]\n",
    "    end \n",
    "    qc = qc_init(nqubits, convention)\n",
    "    op(qc, H_op)\n",
    "    show_statevector(qc)\n",
    "end\n"
   ]
  },
  {
   "cell_type": "code",
   "execution_count": null,
   "metadata": {},
   "outputs": [],
   "source": [
    "f_test1(\"H\"; nqubits=1, convention=big_endian)"
   ]
  },
  {
   "cell_type": "code",
   "execution_count": null,
   "metadata": {},
   "outputs": [],
   "source": [
    "qc = qc_init(2, big_endian)\n"
   ]
  },
  {
   "cell_type": "code",
   "execution_count": null,
   "metadata": {},
   "outputs": [],
   "source": [
    "## create a table \n",
    "# data structure \n",
    "# converting our simulator to other simulators: TKET, QASM, Qiskit, ...etc. \n",
    "# array \n",
    "[action gate/operator control1_qubit,   control2_qubit, target_qubit theta     phi     lambda;\n",
    "    1     \"H\"           nothing               nothing         0    nothing  nothing  nothing;\n",
    "    2     \"CX\"        0                     nothing         1    nothing  nothing  nothing;\n",
    "    3     \"CX\"        1                     nothing         2    nothing  nothing  nothing;\n",
    "    4      \"X\"          nothing               nothing         1                             ;\n",
    "    5      \"Y\"          nothing               nothing         2                             ;\n",
    "    6      \"Z\"          nothing               nothing         3                             ;\n",
    "    7      \"S\"          nothing               nothing         4                             ;\n",
    "   8      \"CU\"         0                     nothing         2     pi/2      pi/3      pi/4;\n",
    "    ]\n",
    "   # n_qubits\n",
    "    # barrier gate: indentity with the tag plotted on the circuit 1, when drawing the circuit \n",
    "    # it should appear in the plot. \n",
    "    # **************************\n",
    "    # convention\n",
    "    # op: taget qubit, control1 qubit, control2 qubit, ...\n",
    "\n",
    "\n",
    "\n",
    "    function plot_circuit(qc; nqubits )\n",
    "        # plot the circuit\n",
    "        # plot the statevector\n",
    "        nqubits = qc.n_qubits\n",
    "        convention = qc.convention\n",
    "        gate_table = qc.gate_table\n",
    "\n",
    "\n",
    "    end\n",
    "\n",
    "    # references \n",
    "    # https://typedtables.juliadata.org/stable/man/table/"
   ]
  },
  {
   "cell_type": "code",
   "execution_count": null,
   "metadata": {},
   "outputs": [],
   "source": [
    "import Pkg; Pkg.add(\"TypedTables\")\n",
    "using TypedTables\n"
   ]
  },
  {
   "cell_type": "code",
   "execution_count": null,
   "metadata": {},
   "outputs": [],
   "source": [
    "`import Pkg; Pkg.add(\"TypedTables\")`\n",
    "using TypedTables\n",
    "\n",
    "julia> t = Table(a = [1, 2, 3], b = [2.0, 4.0, 6.0])\n",
    "Table with 2 columns and 3 rows:\n",
    "     a  b\n",
    "   ┌───────\n",
    " 1 │ 1  2.0\n",
    " 2 │ 2  4.0\n",
    " 3 │ 3  6.0\n",
    "\n",
    "julia> t[1]  # Get first row\n",
    "(a = 1, b = 2.0)\n",
    "\n",
    "julia> t.a  # Get column `a`\n",
    "3-element Array{Int64,1}:\n",
    " 1\n",
    " 2\n",
    " 3"
   ]
  },
  {
   "cell_type": "code",
   "execution_count": null,
   "metadata": {},
   "outputs": [],
   "source": []
  }
 ],
 "metadata": {
  "kernelspec": {
   "display_name": "Julia 1.9.1",
   "language": "julia",
   "name": "julia-1.9"
  },
  "language_info": {
   "file_extension": ".jl",
   "mimetype": "application/julia",
   "name": "julia",
   "version": "1.9.1"
  }
 },
 "nbformat": 4,
 "nbformat_minor": 2
}
