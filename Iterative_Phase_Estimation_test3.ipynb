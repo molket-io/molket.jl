{
 "cells": [
  {
   "cell_type": "markdown",
   "id": "6f80b4af",
   "metadata": {},
   "source": [
    "#  Iterative phase estimation\n",
    "\n",
    "|||\n",
    "|-|-|\n",
    "|**Authors:** |Taha Selim, Alain Chancé|\n",
    "|**Date:** |October 21, 2023|\n",
    "|**Version:** |**1.00**<br/>*Details see at the end of this notebook*|\n",
    "|**References:**|\n",
    "[Prof. Gerrit C. Groenenboom, Quantum theoretical chemistry (NWI-MOL112), May 26, 2023](https://www.theochem.ru.nl/ctc2/pdf/qtclecture.pdf)\n",
    "[Prof. Gerrit C. Groenenboom, Computational and Theoretical Chemistry 2, NWI-MOL176 (3EC)](https://www.theochem.ru.nl/ctc2/)\n",
    "[Keeper L. Sharkey, Alain Chancé, Quantum Chemistry and Computing for the Curious: Illustrated with Python and Qiskit® code, ISBN-13: 978-1803243900](https://www.amazon.com/Quantum-Chemistry-Computing-Curious-Illustrated/dp/1803243902/)"
   ]
  },
  {
   "cell_type": "markdown",
   "id": "8661c6af",
   "metadata": {},
   "source": [
    "The following MIT license only applies to the code, and not to the text and images.\n",
    "\n",
    "# MIT License\n",
    "\n",
    "Copyright (c) 2023 Taha Selim, Alain Chancé\n",
    "\n",
    "Permission is hereby granted, free of charge, to any person obtaining a copy\n",
    "of this software and associated documentation files (the \"Software\"), to deal\n",
    "in the Software without restriction, including without limitation the rights\n",
    "to use, copy, modify, merge, publish, distribute, sublicense, and/or sell\n",
    "copies of the Software, and to permit persons to whom the Software is\n",
    "furnished to do so, subject to the following conditions:\n",
    "\n",
    "The above copyright notice and this permission notice shall be included in all\n",
    "copies or substantial portions of the Software.\n",
    "\n",
    "THE SOFTWARE IS PROVIDED \"AS IS\", WITHOUT WARRANTY OF ANY KIND, EXPRESS OR\n",
    "IMPLIED, INCLUDING BUT NOT LIMITED TO THE WARRANTIES OF MERCHANTABILITY,\n",
    "FITNESS FOR A PARTICULAR PURPOSE AND NONINFRINGEMENT. IN NO EVENT SHALL THE\n",
    "AUTHORS OR COPYRIGHT HOLDERS BE LIABLE FOR ANY CLAIM, DAMAGES OR OTHER\n",
    "LIABILITY, WHETHER IN AN ACTION OF CONTRACT, TORT OR OTHERWISE, ARISING FROM,\n",
    "OUT OF OR IN CONNECTION WITH THE SOFTWARE OR THE USE OR OTHER DEALINGS IN THE\n",
    "SOFTWARE."
   ]
  },
  {
   "cell_type": "code",
   "execution_count": 1,
   "id": "32df75be",
   "metadata": {},
   "outputs": [],
   "source": [
    "using Plots # or StatsPlots\n",
    "using LinearAlgebra\n",
    "using SpecialFunctions\n",
    "using AssociatedLegendrePolynomials\n",
    "using LaTeXStrings\n",
    "using Quantikz"
   ]
  },
  {
   "cell_type": "markdown",
   "id": "e5d9259d",
   "metadata": {},
   "source": [
    "## Include files\n",
    "### Include lib_load.jl which loads common modules with includes"
   ]
  },
  {
   "cell_type": "code",
   "execution_count": 2,
   "id": "9c18067e",
   "metadata": {},
   "outputs": [
    {
     "name": "stdout",
     "output_type": "stream",
     "text": [
      "Load quantum gates constructor\n"
     ]
    },
    {
     "name": "stdout",
     "output_type": "stream",
     "text": [
      "Load Tensor module: QTensor.jl\n",
      "Load quantum gates constructor\n"
     ]
    },
    {
     "name": "stdout",
     "output_type": "stream",
     "text": [
      "Load quantum_circuit constructor\n",
      "Load quantum_circuit constructor\n",
      "Load quantum gates constructor\n",
      "Load quantum_circuit constructor\n"
     ]
    }
   ],
   "source": [
    "# import conventions\n",
    "include(\"conventions.jl\")\n",
    "using .conventions: big_endian, qubit_begin, little_endian\n",
    "\n",
    "# import quantum gates\n",
    "include(\"quantum_gates.jl\")\n",
    "using ..quantum_gates: q, Rz_gate1\n",
    "\n",
    "include(\"lib_tensor/QTensor.jl\")\n",
    "using ..QTensor: q_T2D\n",
    "\n",
    "include(\"lib_useful/custom_functions.jl\")\n",
    "using ..custom_functions: MK_sortrows\n",
    "\n",
    "include(\"quantum_circuit.jl\")\n",
    "using ..quantum_circuit: qc_init, init_register, show_statevector, op\n",
    "#using ..quantum_circuit: qc_init, init_register, print_initstate"
   ]
  },
  {
   "cell_type": "markdown",
   "id": "6d6a351a",
   "metadata": {},
   "source": [
    "# Qubits and quantum gates\n",
    "## Qubits\n",
    "A qubit is a quantum unit of information that represents a two-level quantum system and lives in a two-dimensional Hilbert space $\\mathbb C^2$. The computational basis states of the quantum space are denoted as $\\{|0\\rangle,|1\\rangle\\}$:\n",
    "\n",
    "$$|0\\rangle=\\left(\\begin{array}{l}\n",
    "1 \\\\\n",
    "0\n",
    "\\end{array}\\right) \n",
    "|1\\rangle=\\left(\\begin{array}{l}\n",
    "0 \\\\\n",
    "1\n",
    "\\end{array}\\right)$$\n",
    "\n",
    "Any single-qubit state is described by a linear superposition of the computational basis with complex coefficients:  \n",
    "$$|\\psi\\rangle=\\alpha|0\\rangle+\\beta|1\\rangle=\\left(\\begin{array}{l}\n",
    "\\alpha \\\\\n",
    "\\beta\n",
    "\\end{array}\\right) \\in \\mathbb{C}^{2}$$\n",
    "\n",
    "where 𝛼 and 𝛽 satisfy:\n",
    "$$|\\alpha|^{2}+|\\beta|^{2}=1$$\n",
    "\n",
    "A qubit is in a quantum superposition during the execution of an algorithm.  When it is measured in the computational basis, a qubit will be found in either state $|0\\rangle$ or in state $|1\\rangle$ with probability $|\\alpha|^{2}$ and $|\\beta|^{2}$ respectively. If there are $n$ qubits in the system, the state is described by a vector in the $2^n$ dimensional Hilbert space $(\\mathbb{C}^2)^{⊗n}$ formed by taking the tensor product of the Hilbert spaces of the individual qubits. For example, for 10 qubits, the state is described by a vector in a 1024-dimensional Hilbert space. \n",
    "\n",
    "## Tensor ordering of qubits\n",
    "The physics community typically orders a tensor product of $n$ qubits with the first qubit on the left-most side of the tensor product: \n",
    "\n",
    "$$|q\\rangle=\\left|q_{0}\\right\\rangle\\left|q_{1}\\right\\rangle \\ldots\\left|q_{n-1}\\right\\rangle=\\left|q_{0}, q_{1}, \\ldots, q_{n-1}\\right\\rangle=\\bigotimes_{i=0}^{n-1}\\left|q_{i}\\right\\rangle$$\n",
    "\n",
    "However, Qiskit uses an ordering in which the $n^{th}$ qubit is first in the order and the $0^{th}$ qubit is last:\n",
    "\n",
    "$$|q\\rangle=\n",
    "\\left|q_{n-1}\\right\\rangle\\ldots\\left|q_{1}\\right\\rangle\\left|q_{0}\\right\\rangle\n",
    "=\\left|q_{n-1}, \\ldots, q_{1}, q_{0}\\right\\rangle\n",
    "=\\bigotimes_{i=n-1}^{0}\\left|q_{i}\\right\\rangle$$\n",
    "\n",
    "In other words, if qubit $0$ is in state $|0\\rangle$, qubit $1$ is in state $|0\\rangle$, and qubit 2 is in state $|1\\rangle$, the state represented in many physics textbooks as $|001\\rangle$ is represented by Qiskit as $|100\\rangle$. This difference affects the way multi-qubit operations are represented as matrices.\n",
    "\n",
    "## Single qubit quantum gates\n",
    "A single qubit quantum gate $U$ has a $(2\\times2)$ unitary matrix form: $U^\\dagger U=UU^\\dagger= 1$.\n",
    "\n",
    "### X Gate\n",
    "An X gate maps $|0\\rangle$ to $|1\\rangle$ and $|1\\rangle$ to $|0\\rangle$. For classical computing, the NOT gate changes a 0 to a 1 and a 1 to a 0.\n",
    "\n",
    "$$X = \\begin{pmatrix}\n",
    "0 & 1 \\\\\n",
    "1 & 0 \\\\\n",
    "\\end{pmatrix}$$\n",
    "\n",
    "### H Gate\n",
    "A Hadamard gate maps the basis state $|0\\rangle$ to $\\frac{|0\\rangle + |1\\rangle}{\\sqrt{2}}$ which is also written as $|+\\rangle$ and $|1\\rangle$ to $\\frac{|0\\rangle - |1\\rangle}{\\sqrt{2}}$ which is also written as $|-\\rangle$. A measurement of the state $|+\\rangle$ or of the state $|-\\rangle$ will have equal probabilities of being $0$ or $1$, creating a superposition of states.\n",
    "\n",
    "$$H = \\frac{1}{\\sqrt{2}}\\begin{pmatrix}\n",
    "1 & 1 \\\\\n",
    "1 & -1 \\\\\n",
    "\\end{pmatrix}$$\n",
    "\n",
    "## Two qubits quantum gates\n",
    "A two qubits gate $U$ has a 4x4 unitary matrix form, $U^\\dagger U=UU^\\dagger= 1$.\n",
    "\n",
    "### Controlled Not (CNOT, CX) Gate\n",
    "\n",
    "If the first qubit is |1⟩ it performs the Pauli-X (NOT) operation on the second qubit, otherwise it leaves it unchanged\n",
    "\n",
    "With the tensor ordering of qubits used in most physics textbooks:\n",
    "\n",
    "$$CX = \\begin{pmatrix}\n",
    "1 & 0 & 0 & 0 \\\\\n",
    "0 & 1 & 0 & 0 \\\\\n",
    "0 & 0 & 0 & 1 \\\\\n",
    "0 & 0 & 1 & 0 \\end{pmatrix}$$\n",
    "\n",
    "With Qiskit tensor ordering of qubits:\n",
    "\n",
    "$$CX = \\begin{pmatrix}\n",
    "1 & 0 & 0 & 0 \\\\\n",
    "0 & 0 & 0 & 1 \\\\\n",
    "0 & 0 & 1 & 0 \\\\\n",
    "0 & 1 & 0 & 0 \\\\\n",
    "\\end{pmatrix}$$"
   ]
  },
  {
   "cell_type": "markdown",
   "id": "c753ad2d",
   "metadata": {},
   "source": [
    "## Quantum Phase Estimation (QPE)\n",
    "In quantum chemistry we need very accurate calculations of the total electronic energy of each molecule species involved in a chemical reaction [Burg]. The Quantum Phase Estimation (QPE) algorithm has a unique feature that it allows a bounded-error simulation of quantum systems which makes it one of the most promising application of future fault tolerant quantum computing. Given a unitary operator $U$, its eigenstate and eigenvalues, $U|\\psi\\rangle=e^{2 \\pi i \\theta}|\\psi\\rangle$, the ability to prepare a state $|\\psi\\rangle$ and the ability to apply $U$ itself, the QPE algorithm calculates $2^n θ$ where $n$ is the number of qubits used to estimate $\\theta$ thereby allowing measurement of $\\theta$ as precise as we want.\n",
    "\n",
    "Recall that in Section 2.5, Postulate 5 – Time evolution dynamics, we saw that time evolution dynamics of a quantum system is described by the Schrödinger’s equation:\n",
    "\n",
    "$$i \\hbar \\frac{d}{d t}|\\psi\\rangle=\\hat{H}|\\psi\\rangle$$\n",
    "\n",
    "For a time independent Hamiltonian $\\hat{H}$ with initial condition$\\left|\\psi\\left(t_{0}\\right)\\right\\rangle$ the solution is:\n",
    "\n",
    "$$|\\psi(t)\\rangle=U(t)\\left|\\psi\\left(t_{0}\\right)\\right\\rangle$$\n",
    "\n",
    "where $U(t)=\\exp \\left(-i \\frac{t}{\\hbar} \\hat{H}\\right)$ is the unitary time-evolution operator. Further recall that any unitary matrix has eigenvalues of the form $e^{i \\theta}$. An eigenvalue of $U(t)$ is also an eigenvalue of $\\hat{H}$.\n",
    "\n",
    "First we define a function $U(\\theta)$ which creates a quantum circuit with a single qubit $\\left|q_{0}\\right\\rangle$ and applies the following unitary:\n",
    "\n",
    "$$U(\\theta)\\left|q_{0}\\right\\rangle=e^{2 \\pi i \\theta}\\left|q_{0}\\right\\rangle=p(2 \\pi \\theta)\\left|q_{0}\\right\\rangle$$\n",
    "\n",
    "where $p(\\lambda)$ is the gate which has the matrix form:\n",
    "\n",
    "$$p(λ)= \\begin{pmatrix}\n",
    "1 & 0 \\\\\n",
    "0 & e^{i\\lambda} \\\\\n",
    "\\end{pmatrix}$$"
   ]
  },
  {
   "cell_type": "markdown",
   "id": "bae7ff59",
   "metadata": {},
   "source": [
    "### Define the function P_gate which returns the phase gate whose eigenvalue will be measured\n",
    "Arguments:\n",
    "- theta: the angle.\n",
    "- endian: big_endian or little_endian\n",
    "\n",
    "Returns:\n",
    "- p: The matrix of the phase gate with angle $lambda = pi*2*theta$"
   ]
  },
  {
   "cell_type": "code",
   "execution_count": null,
   "id": "773e2922",
   "metadata": {},
   "outputs": [],
   "source": []
  },
  {
   "cell_type": "code",
   "execution_count": 10,
   "id": "ffd5ff2e",
   "metadata": {},
   "outputs": [
    {
     "data": {
      "text/plain": [
       "P_gate (generic function with 2 methods)"
      ]
     },
     "metadata": {},
     "output_type": "display_data"
    }
   ],
   "source": [
    "function P_gate(theta::Float64, endian=big_endian)\n",
    "    \n",
    "    # Phase gate on the system to be measured qubit 0\n",
    "    #p = Qgate.U(0.0, 0.0, pi*2*theta)\n",
    "    \n",
    "    lambda = theta\n",
    "    p = [[1,0] [0, cos(lambda) + 1im*sin(lambda)]]\n",
    "    \n",
    "    return p\n",
    "end"
   ]
  },
  {
   "cell_type": "code",
   "execution_count": 29,
   "id": "a518a6a7",
   "metadata": {},
   "outputs": [
    {
     "data": {
      "text/plain": [
       "5×5 Matrix{Any}:\n",
       " #undef  #undef  #undef  #undef  #undef\n",
       " #undef  #undef  #undef  #undef  #undef\n",
       " #undef  #undef  #undef  #undef  #undef\n",
       " #undef  #undef  #undef  #undef  #undef\n",
       " #undef  #undef  #undef  #undef  #undef"
      ]
     },
     "metadata": {},
     "output_type": "display_data"
    }
   ],
   "source": [
    "table = Matrix(undef, 5, 5)"
   ]
  },
  {
   "cell_type": "code",
   "execution_count": 30,
   "id": "ef25b3d7",
   "metadata": {},
   "outputs": [
    {
     "data": {
      "text/plain": [
       "1"
      ]
     },
     "metadata": {},
     "output_type": "display_data"
    }
   ],
   "source": [
    "table[1,1] = 1"
   ]
  },
  {
   "cell_type": "code",
   "execution_count": 31,
   "id": "a945ea08",
   "metadata": {},
   "outputs": [
    {
     "data": {
      "text/plain": [
       "P_gate (generic function with 2 methods)"
      ]
     },
     "metadata": {},
     "output_type": "display_data"
    }
   ],
   "source": [
    "table[1,2] = P_gate"
   ]
  },
  {
   "cell_type": "code",
   "execution_count": 34,
   "id": "aaa63482",
   "metadata": {},
   "outputs": [
    {
     "data": {
      "text/plain": [
       "\"P_gate\""
      ]
     },
     "metadata": {},
     "output_type": "display_data"
    }
   ],
   "source": [
    "table[1,3] = \"P_gate\""
   ]
  },
  {
   "cell_type": "code",
   "execution_count": 35,
   "id": "19c5e8dd",
   "metadata": {},
   "outputs": [
    {
     "data": {
      "text/plain": [
       "3×3 Matrix{Float64}:\n",
       " 0.904279  0.146309  0.522186\n",
       " 0.865622  0.138954  0.95615\n",
       " 0.85688   0.711311  0.93522"
      ]
     },
     "metadata": {},
     "output_type": "display_data"
    }
   ],
   "source": [
    "table[1,5] = rand(3,3)"
   ]
  },
  {
   "cell_type": "code",
   "execution_count": 38,
   "id": "7ce6f1b2",
   "metadata": {},
   "outputs": [
    {
     "data": {
      "text/plain": [
       "\"extend\""
      ]
     },
     "metadata": {},
     "output_type": "display_data"
    }
   ],
   "source": [
    "table[1,5] = \"extend\""
   ]
  },
  {
   "cell_type": "code",
   "execution_count": 52,
   "id": "6fb64445",
   "metadata": {},
   "outputs": [
    {
     "data": {
      "text/plain": [
       "5×5 Matrix{Any}:\n",
       " #undef  #undef  #undef  #undef  #undef\n",
       " #undef  #undef  #undef  #undef  #undef\n",
       " #undef  #undef  #undef  #undef  #undef\n",
       " #undef  #undef  #undef  #undef  #undef\n",
       " #undef  #undef  #undef  #undef  #undef"
      ]
     },
     "metadata": {},
     "output_type": "display_data"
    }
   ],
   "source": [
    "table[2,5] = \"extend\"\n",
    "\n",
    "table1 = Matrix(undef, 5, 5)\n",
    "table2 = Matrix(undef, 5, 5)"
   ]
  },
  {
   "cell_type": "code",
   "execution_count": 53,
   "id": "d2034b28",
   "metadata": {},
   "outputs": [
    {
     "ename": "UndefRefError",
     "evalue": "UndefRefError: access to undefined reference",
     "output_type": "error",
     "traceback": [
      "UndefRefError: access to undefined reference\n",
      "\n",
      "Stacktrace:\n",
      " [1] getindex\n",
      "   @ ./essentials.jl:13 [inlined]\n",
      " [2] iterate (repeats 2 times)\n",
      "   @ ./array.jl:893 [inlined]\n",
      " [3] _unsafe_setindex!(::IndexLinear, ::Matrix{Any}, ::Matrix{Any}, ::UnitRange{Int64}, ::Base.Slice{Base.OneTo{Int64}})\n",
      "   @ Base ./multidimensional.jl:926\n",
      " [4] _setindex!\n",
      "   @ ./multidimensional.jl:916 [inlined]\n",
      " [5] setindex!\n",
      "   @ ./abstractarray.jl:1397 [inlined]\n",
      " [6] _typed_vcat(#unused#::Type{Any}, A::Tuple{Matrix{Any}, Matrix{Any}})\n",
      "   @ Base ./abstractarray.jl:1695\n",
      " [7] typed_vcat\n",
      "   @ ./abstractarray.jl:1701 [inlined]\n",
      " [8] vcat(::Matrix{Any}, ::Matrix{Any})\n",
      "   @ Base ./array.jl:1958\n",
      " [9] top-level scope\n",
      "   @ ~/Documents/TSprime/master_work/MolKet/showcases/molket_pkg/Iterative_Phase_Estimation_test3.ipynb:1"
     ]
    }
   ],
   "source": [
    "[table1;table2]"
   ]
  },
  {
   "cell_type": "code",
   "execution_count": 60,
   "id": "acee0a4f",
   "metadata": {},
   "outputs": [
    {
     "data": {
      "text/plain": [
       "5×5 Matrix{Any}:\n",
       " #undef  #undef  #undef  #undef  #undef\n",
       " #undef  #undef  #undef  #undef  #undef\n",
       " #undef  #undef  #undef  #undef  #undef\n",
       " #undef  #undef  #undef  #undef  #undef\n",
       " #undef  #undef  #undef  #undef  #undef"
      ]
     },
     "metadata": {},
     "output_type": "display_data"
    }
   ],
   "source": [
    "table1 = Matrix(undef, 5, 5)"
   ]
  },
  {
   "cell_type": "code",
   "execution_count": 61,
   "id": "53cf453a",
   "metadata": {},
   "outputs": [
    {
     "data": {
      "text/plain": [
       "1×5 Matrix{Int64}:\n",
       " 1  2  3  4  5"
      ]
     },
     "metadata": {},
     "output_type": "display_data"
    }
   ],
   "source": [
    "A = [1 2 3 4 5]"
   ]
  },
  {
   "cell_type": "code",
   "execution_count": 57,
   "id": "2813ae83",
   "metadata": {},
   "outputs": [
    {
     "data": {
      "text/plain": [
       "5×5 Matrix{Float64}:\n",
       " 0.0  0.0  0.0  0.0  0.0\n",
       " 0.0  0.0  0.0  0.0  0.0\n",
       " 0.0  0.0  0.0  0.0  0.0\n",
       " 0.0  0.0  0.0  0.0  0.0\n",
       " 0.0  0.0  0.0  0.0  0.0"
      ]
     },
     "metadata": {},
     "output_type": "display_data"
    }
   ],
   "source": [
    "table1 = zeros(5,5)"
   ]
  },
  {
   "cell_type": "code",
   "execution_count": 62,
   "id": "5fdc468a",
   "metadata": {},
   "outputs": [
    {
     "ename": "UndefRefError",
     "evalue": "UndefRefError: access to undefined reference",
     "output_type": "error",
     "traceback": [
      "UndefRefError: access to undefined reference\n",
      "\n",
      "Stacktrace:\n",
      "  [1] getindex\n",
      "    @ ./essentials.jl:13 [inlined]\n",
      "  [2] iterate (repeats 2 times)\n",
      "    @ ./array.jl:893 [inlined]\n",
      "  [3] _unsafe_setindex!(::IndexLinear, ::Matrix{Any}, ::Matrix{Any}, ::UnitRange{Int64}, ::UnitRange{Int64})\n",
      "    @ Base ./multidimensional.jl:926\n",
      "  [4] _setindex!\n",
      "    @ ./multidimensional.jl:916 [inlined]\n",
      "  [5] setindex!\n",
      "    @ ./abstractarray.jl:1397 [inlined]\n",
      "  [6] __cat_offset1!\n",
      "    @ ./abstractarray.jl:1811 [inlined]\n",
      "  [7] __cat_offset!(A::Matrix{Any}, shape::Tuple{Int64, Int64}, catdims::Tuple{Bool}, offsets::Tuple{Int64, Int64}, x::Matrix{Any}, X::Matrix{Int64})\n",
      "    @ Base ./abstractarray.jl:1801\n",
      "  [8] __cat\n",
      "    @ ./abstractarray.jl:1797 [inlined]\n",
      "  [9] _cat_t\n",
      "    @ ./abstractarray.jl:1790 [inlined]\n",
      " [10] _cat\n",
      "    @ /Applications/Julia-1.9.app/Contents/Resources/julia/share/julia/stdlib/v1.9/LinearAlgebra/src/special.jl:410 [inlined]\n",
      " [11] #cat#153\n",
      "    @ ./abstractarray.jl:1979 [inlined]\n",
      " [12] cat\n",
      "    @ ./abstractarray.jl:1979 [inlined]\n",
      " [13] vcat(::Matrix{Any}, ::Matrix{Int64})\n",
      "    @ Base ./array.jl:1957\n",
      " [14] top-level scope\n",
      "    @ ~/Documents/TSprime/master_work/MolKet/showcases/molket_pkg/Iterative_Phase_Estimation_test3.ipynb:1"
     ]
    }
   ],
   "source": [
    "[table1;A]"
   ]
  },
  {
   "cell_type": "code",
   "execution_count": 59,
   "id": "2a6237ec",
   "metadata": {},
   "outputs": [
    {
     "ename": "MethodError",
     "evalue": "MethodError: Cannot `convert` an object of type String to an object of type Float64\n\nClosest candidates are:\n  convert(::Type{T}, !Matched::T) where T<:Number\n   @ Base number.jl:6\n  convert(::Type{T}, !Matched::Number) where T<:Number\n   @ Base number.jl:7\n  convert(::Type{T}, !Matched::Base.TwicePrecision) where T<:Number\n   @ Base twiceprecision.jl:273\n  ...\n",
     "output_type": "error",
     "traceback": [
      "MethodError: Cannot `convert` an object of type String to an object of type Float64\n",
      "\n",
      "Closest candidates are:\n",
      "  convert(::Type{T}, !Matched::T) where T<:Number\n",
      "   @ Base number.jl:6\n",
      "  convert(::Type{T}, !Matched::Number) where T<:Number\n",
      "   @ Base number.jl:7\n",
      "  convert(::Type{T}, !Matched::Base.TwicePrecision) where T<:Number\n",
      "   @ Base twiceprecision.jl:273\n",
      "  ...\n",
      "\n",
      "\n",
      "Stacktrace:\n",
      " [1] setindex!(::Matrix{Float64}, ::String, ::Int64, ::Int64)\n",
      "   @ Base ./array.jl:971\n",
      " [2] top-level scope\n",
      "   @ ~/Documents/TSprime/master_work/MolKet/showcases/molket_pkg/Iterative_Phase_Estimation_test3.ipynb:1"
     ]
    }
   ],
   "source": [
    "table1[1,1] = \"1\""
   ]
  },
  {
   "cell_type": "code",
   "execution_count": 11,
   "id": "7bac57d2",
   "metadata": {},
   "outputs": [
    {
     "data": {
      "text/plain": [
       "2×2 Matrix{ComplexF64}:\n",
       " 1.0+0.0im       0.0+0.0im\n",
       " 0.0+0.0im  0.968912+0.247404im"
      ]
     },
     "metadata": {},
     "output_type": "display_data"
    }
   ],
   "source": [
    "PP = P_gate(0.25)\n",
    "P_tensor = q_T2D(PP, 0, 2)"
   ]
  },
  {
   "cell_type": "code",
   "execution_count": 12,
   "id": "e320a68d",
   "metadata": {},
   "outputs": [
    {
     "data": {
      "text/plain": [
       "2×2 Matrix{ComplexF64}:\n",
       " 1.0+0.0im      -0.0-0.0im\n",
       " 0.0+0.0im  0.968912+0.247404im"
      ]
     },
     "metadata": {},
     "output_type": "display_data"
    }
   ],
   "source": [
    "Phase_test = q.P(0.25)\n"
   ]
  },
  {
   "cell_type": "code",
   "execution_count": null,
   "id": "ce1266b9",
   "metadata": {},
   "outputs": [],
   "source": [
    "gate1 = q.H # Hadamard gate\n",
    "gate2 = q.I # Identity gate"
   ]
  },
  {
   "cell_type": "markdown",
   "id": "b3b8bb6a",
   "metadata": {},
   "source": [
    "### Define the function construct_circuit() which builds the $k^{th}$ iteration Quantum Phase Estimation circuit.\n",
    "\n",
    "Arguments:\n",
    "- u: The circuit representing the unitary operator whose eigenvalue (via phase) will be measured and one auxiliary qubit\n",
    "- p: The unitary 2x2 matrix whose eigenvalue (via phase) will be measured\n",
    "- k: the iteration index.\n",
    "- omega: the feedback angle.\n",
    "- verbose: set to true to activate trace\n",
    "- endian: big_endian or little_endian\n",
    "\n",
    "Returns:\n",
    "- u: the quantum circuit per iteration"
   ]
  },
  {
   "cell_type": "code",
   "execution_count": 17,
   "id": "895a27b6",
   "metadata": {},
   "outputs": [
    {
     "data": {
      "text/plain": [
       "4×4 Matrix{Float64}:\n",
       " 0.707107  0.0        0.707107   0.0\n",
       " 0.0       0.707107   0.0        0.707107\n",
       " 0.707107  0.0       -0.707107  -0.0\n",
       " 0.0       0.707107  -0.0       -0.707107"
      ]
     },
     "metadata": {},
     "output_type": "display_data"
    }
   ],
   "source": [
    "# step 1\n",
    "H = q.H\n",
    "H = q_T2D(H, 1, 2) # H gate on the auxiliary qubit 1\n"
   ]
  },
  {
   "cell_type": "code",
   "execution_count": 18,
   "id": "17a2b2f2",
   "metadata": {},
   "outputs": [
    {
     "data": {
      "text/plain": [
       "4×4 Matrix{Float64}:\n",
       " 0.707107  0.0        0.707107   0.0\n",
       " 0.0       0.707107   0.0        0.707107\n",
       " 0.707107  0.0       -0.707107  -0.0\n",
       " 0.0       0.707107  -0.0       -0.707107"
      ]
     },
     "metadata": {},
     "output_type": "display_data"
    }
   ],
   "source": [
    "display(H)"
   ]
  },
  {
   "cell_type": "code",
   "execution_count": 19,
   "id": "5d965842",
   "metadata": {},
   "outputs": [
    {
     "data": {
      "text/plain": [
       "construct_circuit (generic function with 1 method)"
      ]
     },
     "metadata": {},
     "output_type": "display_data"
    }
   ],
   "source": [
    "function construct_circuit(u::Main.quantum_circuit.qc_initstruct, p::Matrix{ComplexF64}, k::Int64, omega::Float64; \n",
    "        verbose=false, endian=big_endian)\n",
    "    \n",
    "    if verbose\n",
    "        println(\"\\nconstruct_circuit k: \", k)\n",
    "    end\n",
    "    \n",
    "    H = Qgate.H\n",
    "    H = Qgate_T2D(H, 1, 2, endian) # H gate on the auxiliary qubit 1\n",
    "    display(H)\n",
    "    # Hadamard on the auxiliary qubit 1\n",
    "    u = op(u, H)\n",
    "    \n",
    "    # Compute px = p to the power 2^(k-1)\n",
    "    r = 2^(k-1)\n",
    "    if verbose\n",
    "        println(\"r: \",r)\n",
    "    end\n",
    "    \n",
    "    II::Array{Float64,2} = Matrix(I,2,2)\n",
    "    px = II\n",
    "    \n",
    "    for i in 1:r\n",
    "        px = px * p\n",
    "    end\n",
    "    \n",
    "    if verbose\n",
    "        println(\"\\nconstruct_circuit px\")\n",
    "        show(stdout, \"text/plain\", px)\n",
    "        println(\" \")\n",
    "    end\n",
    "    \n",
    "    # Apply the controlled gate of px\n",
    "    C_U = Qgate.ctrl_gate(px)\n",
    "    u = op(u, C_U)\n",
    "    # Apply phase gate p with angle omega on the auxiliary qubit 1\n",
    "    #po = Qgate.U(0.0, 0.0, omega)\n",
    "    po = [[1,0] [0, cos(omega) + 1im*sin(omega)]]\n",
    "    po = Qgate_T2D(po, 1, 2, endian) # Phase gate on the auxiliary qubit 1\n",
    "    display(po)\n",
    "\n",
    "    u = op(u, po)\n",
    "    \n",
    "    # Hadamard on the auxiliary qubit 1\n",
    "    u = op(u, H)\n",
    "    \n",
    "    if verbose\n",
    "        #show(stdout, \"text/plain\", u)\n",
    "        println(\"\\nconstruct_circuit\")\n",
    "        show(stdout, \"text/plain\", u)\n",
    "        println(\" \")\n",
    "        println(\"u.state_vector: \", u.state_vector)\n",
    "    end\n",
    "    \n",
    "    return u\n",
    "end"
   ]
  },
  {
   "cell_type": "markdown",
   "id": "2964544b",
   "metadata": {},
   "source": [
    "### Define the function estimate() which iteratively estimates the eigenphase of the input unitary and initial-state\n",
    "\n",
    "Arguments:\n",
    "- n_iter: The number of iterations\n",
    "- p: The unitary 2x2 matrix whose eigenvalue (via phase) will be measured\n",
    "- verbose: set to true to activate trace\n",
    "- endian: big_endian or little_endian\n",
    "\n",
    "Returns:\n",
    "- Estimated phase"
   ]
  },
  {
   "cell_type": "code",
   "execution_count": 20,
   "id": "d014a20c",
   "metadata": {
    "scrolled": true
   },
   "outputs": [
    {
     "data": {
      "text/plain": [
       "estimate (generic function with 1 method)"
      ]
     },
     "metadata": {},
     "output_type": "display_data"
    }
   ],
   "source": [
    "function estimate(n_iter::Int64, p::Matrix{ComplexF64}; verbose=false, endian=big_endian)\n",
    "    \n",
    "    v = qc_init(2; big_endian=endian, c_sv=nothing, err_tol=1e-14, show_matrix=true)\n",
    "    \n",
    "    # Apply phase gate on the system to be measured qubit 0\n",
    "    p2 = Qgate_T2D(p, 0, 2, endian)\n",
    "    v = op(v, p2)\n",
    "    \n",
    "    # Apply X gate on the system to be measured qubit 0\n",
    "    X = Qgate.X\n",
    "    X = Qgate_T2D(X, 0, 2, endian)\n",
    "    v = op(v, X)\n",
    "    \n",
    "    #println(\"\\nestimate - matrix v: \")\n",
    "    #show(stdout, \"text/plain\", v)\n",
    "    \n",
    "    omega_coef = 0\n",
    "    \n",
    "    for k in n_iter:-1:1\n",
    "        omega_coef /= 2\n",
    "        \n",
    "        u = construct_circuit(v, p, k, -2*pi*omega_coef; verbose=verbose)\n",
    "        \n",
    "        # Simulate measurement of the auxiliary qubit 1\n",
    "        prob_01 = abs2(u.state_vector[3])\n",
    "        prob_00 = abs2(u.state_vector[1])\n",
    "        \n",
    "        x = (prob_01 > prob_00 || prob_00 - prob_01 < 1e-7)\n",
    "        \n",
    "        if x\n",
    "            omega_coef = omega_coef + 1/2\n",
    "        end\n",
    "        \n",
    "        if verbose\n",
    "            println(\"\\nestimate - k: \", k, \" measurement: \", x, \" omega_coef: \", omega_coef)\n",
    "        end\n",
    "        \n",
    "    end\n",
    "    \n",
    "    return omega_coef\n",
    "end"
   ]
  },
  {
   "cell_type": "markdown",
   "id": "1282f12b",
   "metadata": {},
   "source": [
    "### Run the iterative phase estimation"
   ]
  },
  {
   "cell_type": "code",
   "execution_count": 21,
   "id": "60a6a972",
   "metadata": {},
   "outputs": [
    {
     "data": {
      "text/plain": [
       "2×2 Matrix{ComplexF64}:\n",
       " 1.0+0.0im  0.0+0.0im\n",
       " 0.0+0.0im  1.0+0.0im"
      ]
     },
     "metadata": {},
     "output_type": "display_data"
    }
   ],
   "source": [
    "theta = 0.0\n",
    "p = P_gate(theta)"
   ]
  },
  {
   "cell_type": "code",
   "execution_count": null,
   "id": "9e6673d3",
   "metadata": {},
   "outputs": [],
   "source": [
    "estimate(0, p, verbose=true)"
   ]
  },
  {
   "cell_type": "code",
   "execution_count": null,
   "id": "06bb96cb",
   "metadata": {},
   "outputs": [],
   "source": [
    "theta = 1/4\n",
    "p = P_gate(theta)"
   ]
  },
  {
   "cell_type": "code",
   "execution_count": null,
   "id": "8439b8b8",
   "metadata": {},
   "outputs": [],
   "source": [
    "P2 = "
   ]
  },
  {
   "cell_type": "code",
   "execution_count": null,
   "id": "50119394",
   "metadata": {},
   "outputs": [],
   "source": [
    "estimate(1, p, verbose=true)"
   ]
  },
  {
   "cell_type": "code",
   "execution_count": null,
   "id": "c0f9665d",
   "metadata": {},
   "outputs": [],
   "source": [
    "theta = 1/2\n",
    "p = P_gate(theta)"
   ]
  },
  {
   "cell_type": "code",
   "execution_count": null,
   "id": "1bf86321",
   "metadata": {},
   "outputs": [],
   "source": [
    "estimate(1, p)"
   ]
  },
  {
   "cell_type": "code",
   "execution_count": null,
   "id": "fdc5c2e8",
   "metadata": {},
   "outputs": [],
   "source": [
    "theta = 1/2 + 1/4\n",
    "p = P_gate(theta)"
   ]
  },
  {
   "cell_type": "code",
   "execution_count": null,
   "id": "ac550d7e",
   "metadata": {},
   "outputs": [],
   "source": [
    "estimate(2, p)"
   ]
  },
  {
   "cell_type": "code",
   "execution_count": null,
   "id": "2d9754fc",
   "metadata": {},
   "outputs": [],
   "source": [
    "theta = 1/2 + 1/8\n",
    "p = P_gate(theta)"
   ]
  },
  {
   "cell_type": "code",
   "execution_count": null,
   "id": "dfe1c98d",
   "metadata": {},
   "outputs": [],
   "source": [
    "estimate(2, p)"
   ]
  },
  {
   "cell_type": "code",
   "execution_count": null,
   "id": "a930f375",
   "metadata": {},
   "outputs": [],
   "source": [
    "theta = 1/2 + 1/4 + 1/8\n",
    "p = P_gate(theta)"
   ]
  },
  {
   "cell_type": "code",
   "execution_count": null,
   "id": "e17fcc3e",
   "metadata": {},
   "outputs": [],
   "source": [
    "estimate(5, p)"
   ]
  },
  {
   "cell_type": "code",
   "execution_count": null,
   "id": "ccd3eb32",
   "metadata": {},
   "outputs": [],
   "source": [
    "theta = 1/2 + 1/4 + 1/8 + 1/16\n",
    "p = P_gate(theta)"
   ]
  },
  {
   "cell_type": "code",
   "execution_count": null,
   "id": "ef6c43e9",
   "metadata": {},
   "outputs": [],
   "source": [
    "estimate(5, p)"
   ]
  },
  {
   "cell_type": "code",
   "execution_count": null,
   "id": "106835a9",
   "metadata": {},
   "outputs": [],
   "source": [
    "theta = 1/2 + 1/4 + 1/8 + 1/16 + 1/32\n",
    "p = P_gate(theta)"
   ]
  },
  {
   "cell_type": "code",
   "execution_count": null,
   "id": "2007464c",
   "metadata": {},
   "outputs": [],
   "source": [
    "estimate(5, p)"
   ]
  },
  {
   "cell_type": "code",
   "execution_count": null,
   "id": "a7483d26",
   "metadata": {},
   "outputs": [],
   "source": [
    "theta = 1/2 + 1/4 + 1/8 + 1/16 + 1/32 + 1/64 + 1/128\n",
    "p = P_gate(theta)"
   ]
  },
  {
   "cell_type": "code",
   "execution_count": null,
   "id": "77d57bdd",
   "metadata": {},
   "outputs": [],
   "source": [
    "estimate(5, p)"
   ]
  },
  {
   "cell_type": "code",
   "execution_count": null,
   "id": "7ab60a27",
   "metadata": {},
   "outputs": [],
   "source": [
    "estimate(7, p)"
   ]
  },
  {
   "cell_type": "markdown",
   "id": "e6f98f05",
   "metadata": {},
   "source": [
    "## References\n",
    "\n",
    "[Groenenboom 1] Prof. Gerrit C. Groenenboom, Quantum theoretical chemistry (NWI-MOL112), May 26, 2023, https://www.theochem.ru.nl/ctc2/pdf/qtclecture.pdf\n",
    "\n",
    "[Groenenboom 2] Prof. Gerrit C. Groenenboom, Computational and Theoretical Chemistry 2, NWI-MOL176 (3EC),https://www.theochem.ru.nl/ctc2/\n",
    "\n",
    "[Sharkey] Sharkey, Keeper L., and Chancé, Alain. 2022. Quantum Chemistry and Computing for the Curious: Illustrated with Python and Qiskit Code. Packt, Pub. ISBN-13: 978-1803243900\n",
    "\n",
    "[IPE] IterativePhaseEstimation, https://qiskit.org/ecosystem/algorithms/stubs/qiskit_algorithms.IterativePhaseEstimation.html\n",
    "\n",
    "[IPE_Source] Source code for qiskit.algorithms.phase_estimators.ipe,\n",
    "https://qiskit.org/documentation/stable/0.41/_modules/qiskit/algorithms/phase_estimators/ipe.html#IterativePhaseEstimation\n",
    "\n",
    "[lab3] ibm-quantum-challenge-spring-2023, lab3.ipynb, https://github.com/qiskit-community/ibm-quantum-challenge-spring-2023/blob/main/content/lab_3/lab3.ipynb\n",
    "\n",
    "[IPE_video] Iterative Quantum Phase Estimation | Qiskit Global Summer School 2023, https://www.youtube.com/watch?v=aLSM0_H8hUE\n",
    "\n",
    "[DavitKhach] Iterative quantum phase estimation, https://github.com/DavitKhach/quantum-algorithms-tutorials/blob/master/iterative_quantum_phase_estimation.ipynb\n",
    "\n",
    "[Devesh] Implementing Quantum Phase Estimation Algorithm using Qiskit, https://medium.com/@deveshq/implementing-quantum-phase-estimation-algorithm-using-qiskit-e808e8167d32"
   ]
  },
  {
   "cell_type": "markdown",
   "id": "2449729f",
   "metadata": {},
   "source": [
    "## Display Julia version information"
   ]
  },
  {
   "cell_type": "code",
   "execution_count": null,
   "id": "64bc467a",
   "metadata": {},
   "outputs": [],
   "source": [
    "# Display Julia version information\n",
    "versioninfo()"
   ]
  }
 ],
 "metadata": {
  "kernelspec": {
   "display_name": "Julia 1.9.1",
   "language": "julia",
   "name": "julia-1.9"
  },
  "language_info": {
   "file_extension": ".jl",
   "mimetype": "application/julia",
   "name": "julia",
   "version": "1.9.1"
  }
 },
 "nbformat": 4,
 "nbformat_minor": 5
}
