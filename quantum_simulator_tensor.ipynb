{
 "cells": [
  {
   "cell_type": "markdown",
   "metadata": {},
   "source": [
    "#### Notes, \n",
    "\n",
    "This is to test the library of quantum simulations and to have the tensor multiplication library to execute Jordan Wigner transformation. "
   ]
  },
  {
   "cell_type": "code",
   "execution_count": 1,
   "metadata": {},
   "outputs": [],
   "source": [
    "using Plots\n",
    "using LinearAlgebra\n",
    "using SparseArrays\n",
    "using Printf"
   ]
  },
  {
   "cell_type": "code",
   "execution_count": 2,
   "metadata": {},
   "outputs": [
    {
     "data": {
      "text/plain": [
       "ctrl_gate (generic function with 1 method)"
      ]
     },
     "metadata": {},
     "output_type": "display_data"
    }
   ],
   "source": [
    "# Controlled gates constructor \n",
    "function ctrl_gate(gate)\n",
    "    # Controlled gate consutructor  \n",
    "        r_mat = size(gate)[1]\n",
    "        c_mat = size(gate)[2]\n",
    "        # First check the gate is 2x2 or square matrix \n",
    "        if r_mat != c_mat\n",
    "            error(\"The gate is not a square matrix\")\n",
    "        end\n",
    "        # Construct Controlled gate\n",
    "        # Define Identity matrix\n",
    "        II = Matrix(I, r_mat, c_mat)\n",
    "        M0 = zeros(r_mat, c_mat)\n",
    "        return [I M0; M0 gate]\n",
    "    end\n",
    "        "
   ]
  },
  {
   "cell_type": "code",
   "execution_count": 3,
   "metadata": {},
   "outputs": [
    {
     "name": "stdout",
     "output_type": "stream",
     "text": [
      "Hadamard gate\n"
     ]
    },
    {
     "name": "stdout",
     "output_type": "stream",
     "text": [
      "4×4 Matrix{Float64}:\n",
      " 1.0  0.0  0.0   0.0\n",
      " 0.0  1.0  0.0   0.0\n",
      " 0.0  0.0  1.0   1.0\n",
      " 0.0  0.0  1.0  -1.0"
     ]
    }
   ],
   "source": [
    "println(\"Hadamard gate\")\n",
    "Ctest = ctrl_gate([1 1; 1 -1])\n",
    "show(stdout, \"text/plain\", Ctest)"
   ]
  },
  {
   "cell_type": "code",
   "execution_count": 4,
   "metadata": {},
   "outputs": [
    {
     "data": {
      "text/plain": [
       "Qgate"
      ]
     },
     "metadata": {},
     "output_type": "display_data"
    }
   ],
   "source": [
    "Base.@kwdef mutable struct Qgate\n",
    "    # Identity gate\n",
    "    II  :: Matrix{Float64}\n",
    "#    II  :: Float64\n",
    "\n",
    " #   tt = Matrix(I,2,2)\n",
    "    # Hadamard gate\n",
    "   # HH = [1 1; 1 -1] \n",
    "    # Pauli-X gate\n",
    "    #X::Matrix{Real{Float64},2,2} = [0 1; 1 0]\n",
    "    # Pauli-Y gate\n",
    "    #Y::Matrix{Complex{Float64},2,2} = [0 -im; im 0]\n",
    "    # Pauli-Z gate\n",
    "    #Z::Matrix{Real{Float64},2,2} = [1 0; 0 -1]\n",
    "    # Phase gate\n",
    "    #S::Matrix{Complex{Float64},2,2} = [1 0; 0 im]\n",
    "    # Pi/8 gate\n",
    "    #T::Matrix{Complex{Float64},2,2} = [1 0; 0 exp(im*pi/4.0)]\n",
    "    # Controlled Not gate\n",
    "    #CNOT::Matrix{Real{Float64},4,4} = ctrl_gate(X)\n",
    "    # Controlled Z gate\n",
    "    \n",
    "end"
   ]
  },
  {
   "cell_type": "code",
   "execution_count": 5,
   "metadata": {},
   "outputs": [
    {
     "data": {
      "text/plain": [
       "Qgate([1.0 0.0; 0.0 1.0])"
      ]
     },
     "metadata": {},
     "output_type": "display_data"
    }
   ],
   "source": [
    "#II = Matrix(I,2,2)\n",
    "III = Matrix(I,2,2)\n",
    "Qc = Qgate(II = III)"
   ]
  },
  {
   "cell_type": "code",
   "execution_count": 9,
   "metadata": {},
   "outputs": [
    {
     "data": {
      "text/plain": [
       "2×2 Matrix{Float64}:\n",
       " 1.0  0.0\n",
       " 0.0  1.0"
      ]
     },
     "metadata": {},
     "output_type": "display_data"
    }
   ],
   "source": [
    "Qc.II"
   ]
  },
  {
   "cell_type": "code",
   "execution_count": 7,
   "metadata": {},
   "outputs": [],
   "source": []
  },
  {
   "cell_type": "code",
   "execution_count": 8,
   "metadata": {},
   "outputs": [],
   "source": []
  }
 ],
 "metadata": {
  "kernelspec": {
   "display_name": "Julia 1.9.1",
   "language": "julia",
   "name": "julia-1.9"
  },
  "language_info": {
   "file_extension": ".jl",
   "mimetype": "application/julia",
   "name": "julia",
   "version": "1.9.1"
  },
  "orig_nbformat": 4
 },
 "nbformat": 4,
 "nbformat_minor": 2
}
